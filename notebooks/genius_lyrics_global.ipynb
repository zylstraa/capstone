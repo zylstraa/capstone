{
 "cells": [
  {
   "cell_type": "code",
   "execution_count": 1,
   "metadata": {},
   "outputs": [],
   "source": [
    "import billboard as bb\n",
    "import pandas as pd"
   ]
  },
  {
   "cell_type": "markdown",
   "metadata": {},
   "source": [
    "## Spotify secrets"
   ]
  },
  {
   "cell_type": "code",
   "execution_count": 2,
   "metadata": {},
   "outputs": [
    {
     "data": {
      "text/plain": [
       "True"
      ]
     },
     "execution_count": 2,
     "metadata": {},
     "output_type": "execute_result"
    }
   ],
   "source": [
    "from dotenv import load_dotenv\n",
    "import os\n",
    "load_dotenv()\n",
    "# did this work? commenting out so secrets are safe\n",
    "# print(os.getenv('SPOTIFY_CLIENT_ID'))\n",
    "# print(os.getenv('SPOTIFY_CLIENT_SECRET'))"
   ]
  },
  {
   "cell_type": "code",
   "execution_count": 3,
   "metadata": {},
   "outputs": [],
   "source": [
    "spotify_client_id  = os.getenv('SPOTIFY_CLIENT_ID')\n",
    "spotify_client_secret  = os.getenv('SPOTIFY_CLIENT_SECRET')\n",
    "genius_client_id = os.getenv('GENIUS_CLIENT_SECRET')\n",
    "genius_client_secret = os.getenv('GENIUS_CLIENT_SECRET')\n",
    "genius_access_token = os.getenv('GENIUS_ACCESS_TOKEN')"
   ]
  },
  {
   "cell_type": "markdown",
   "metadata": {},
   "source": [
    "# Billboard test dataset"
   ]
  },
  {
   "cell_type": "code",
   "execution_count": 4,
   "metadata": {},
   "outputs": [],
   "source": [
    "# bb.charts(year_end=True)"
   ]
  },
  {
   "cell_type": "code",
   "execution_count": 5,
   "metadata": {},
   "outputs": [
    {
     "ename": "AttributeError",
     "evalue": "'ChartData' object has no attribute 'nextDate'",
     "output_type": "error",
     "traceback": [
      "\u001b[1;31m---------------------------------------------------------------------------\u001b[0m",
      "\u001b[1;31mAttributeError\u001b[0m                            Traceback (most recent call last)",
      "\u001b[1;32m<ipython-input-5-6cb7362ea719>\u001b[0m in \u001b[0;36m<module>\u001b[1;34m\u001b[0m\n\u001b[0;32m     14\u001b[0m         \u001b[0martist\u001b[0m\u001b[1;33m.\u001b[0m\u001b[0mappend\u001b[0m\u001b[1;33m(\u001b[0m\u001b[0ma\u001b[0m\u001b[1;33m)\u001b[0m\u001b[1;33m\u001b[0m\u001b[1;33m\u001b[0m\u001b[0m\n\u001b[0;32m     15\u001b[0m \u001b[1;33m\u001b[0m\u001b[0m\n\u001b[1;32m---> 16\u001b[1;33m     \u001b[0mchart\u001b[0m \u001b[1;33m=\u001b[0m \u001b[0mbb\u001b[0m\u001b[1;33m.\u001b[0m\u001b[0mChartData\u001b[0m\u001b[1;33m(\u001b[0m\u001b[0mchart_type\u001b[0m\u001b[1;33m,\u001b[0m \u001b[0mdate\u001b[0m\u001b[1;33m=\u001b[0m\u001b[0mchart\u001b[0m\u001b[1;33m.\u001b[0m\u001b[0mnextDate\u001b[0m\u001b[1;33m)\u001b[0m \u001b[1;31m#lets figure out the erroring out later as this still gives me what i want\u001b[0m\u001b[1;33m\u001b[0m\u001b[1;33m\u001b[0m\u001b[0m\n\u001b[0m",
      "\u001b[1;31mAttributeError\u001b[0m: 'ChartData' object has no attribute 'nextDate'"
     ]
    }
   ],
   "source": [
    "track = []\n",
    "artist = []\n",
    "chart_type = 'billboard-global-200' # weekly charts\n",
    "date = '2021-03-01' # start date. anything prior to this in 2021 was all Christmas\n",
    "\n",
    "chart = bb.ChartData(chart_type, date=date)\n",
    "    \n",
    "\n",
    "for date in chart:\n",
    "    for i in range(len(chart)):\n",
    "        t = chart[i].title\n",
    "        a = chart[i].artist\n",
    "        track.append(t)\n",
    "        artist.append(a)\n",
    "\n",
    "    chart = bb.ChartData(chart_type, date=chart.nextDate) #lets figure out the erroring out later as this still gives me what i want"
   ]
  },
  {
   "cell_type": "code",
   "execution_count": 42,
   "metadata": {},
   "outputs": [],
   "source": [
    "f = pd.DataFrame()\n",
    "f['track'] = pd.Series(track)\n",
    "f['artist'] = pd.Series(artist)"
   ]
  },
  {
   "cell_type": "code",
   "execution_count": 43,
   "metadata": {},
   "outputs": [],
   "source": [
    "f = f.drop_duplicates()\n",
    "\n",
    "track = f.track.tolist()\n",
    "artist = f.artist.tolist()"
   ]
  },
  {
   "cell_type": "markdown",
   "metadata": {},
   "source": [
    "## lyricsgenius search_song method\n",
    "https://pypi.org/project/lyricsgenius/"
   ]
  },
  {
   "cell_type": "code",
   "execution_count": 44,
   "metadata": {},
   "outputs": [],
   "source": [
    "import lyricsgenius\n",
    "genius = lyricsgenius.Genius(genius_access_token, skip_non_songs=True, remove_section_headers=True)\n",
    "genius.verbose = False"
   ]
  },
  {
   "cell_type": "code",
   "execution_count": 45,
   "metadata": {},
   "outputs": [],
   "source": [
    "#Genius search doesn't utilize an artist featuring another artist, so I want to drop everything after 'Featuring'\n",
    "sep = 'Featuring'\n",
    "artist = [x.split(sep,1)[0] for x in artist]\n",
    "#spotify also don't like artists like H.E.R. but prefers 'her'\n",
    "artist = [x.replace('.','') for x in artist]"
   ]
  },
  {
   "cell_type": "code",
   "execution_count": 46,
   "metadata": {},
   "outputs": [],
   "source": [
    "d = {'track':track,'artist':artist}"
   ]
  },
  {
   "cell_type": "code",
   "execution_count": 47,
   "metadata": {
    "scrolled": false
   },
   "outputs": [],
   "source": [
    "search = []\n",
    "\n",
    "for i in range(len(track)):\n",
    "    hit = track[i]+ ' ' + artist[i]\n",
    "    search.append(hit)"
   ]
  },
  {
   "cell_type": "code",
   "execution_count": 48,
   "metadata": {},
   "outputs": [
    {
     "data": {
      "text/plain": [
       "434"
      ]
     },
     "execution_count": 48,
     "metadata": {},
     "output_type": "execute_result"
    }
   ],
   "source": [
    "len(search)"
   ]
  },
  {
   "cell_type": "code",
   "execution_count": 49,
   "metadata": {},
   "outputs": [
    {
     "data": {
      "text/plain": [
       "Song(id, artist, ...)"
      ]
     },
     "execution_count": 49,
     "metadata": {},
     "output_type": "execute_result"
    }
   ],
   "source": [
    "genius.search_song(search[0])"
   ]
  },
  {
   "cell_type": "code",
   "execution_count": 50,
   "metadata": {
    "scrolled": false
   },
   "outputs": [
    {
     "name": "stdout",
     "output_type": "stream",
     "text": [
      "womp womp\n",
      "womp womp\n",
      "womp womp\n",
      "womp womp\n",
      "womp womp\n",
      "womp womp\n",
      "womp womp\n",
      "womp womp\n",
      "womp womp\n",
      "womp womp\n",
      "womp womp\n",
      "womp womp\n"
     ]
    }
   ],
   "source": [
    "genius_lyrics = []\n",
    "errored_songs = []\n",
    "tracks = []\n",
    "artists = []\n",
    "\n",
    "for i in range(len(search)):\n",
    "    try:\n",
    "        test_song = genius.search_song(search[i])\n",
    "        words = test_song.lyrics\n",
    "        t = track[i]\n",
    "        a = artist[i]\n",
    "    except: \n",
    "        errored_songs.append(search[i])\n",
    "        print('womp womp')\n",
    "    else:\n",
    "        genius_lyrics.append(words)\n",
    "        tracks.append(t)\n",
    "        artists.append(a)\n"
   ]
  },
  {
   "cell_type": "code",
   "execution_count": 51,
   "metadata": {},
   "outputs": [
    {
     "data": {
      "text/plain": [
       "'Drivers License Olivia Rodrigo'"
      ]
     },
     "execution_count": 51,
     "metadata": {},
     "output_type": "execute_result"
    }
   ],
   "source": [
    "search[0]"
   ]
  },
  {
   "cell_type": "code",
   "execution_count": 52,
   "metadata": {
    "scrolled": true
   },
   "outputs": [
    {
     "data": {
      "text/plain": [
       "422"
      ]
     },
     "execution_count": 52,
     "metadata": {},
     "output_type": "execute_result"
    }
   ],
   "source": [
    "type(genius_lyrics)\n",
    "len(genius_lyrics)"
   ]
  },
  {
   "cell_type": "code",
   "execution_count": 53,
   "metadata": {},
   "outputs": [
    {
     "data": {
      "text/plain": [
       "\"Ooh\\nNa-na, yeah\\n\\nI saw you dancing in a crowded room (Uh)\\nYou look so happy when I'm not with you\\nBut then you saw me, caught you by surprise\\nA single teardrop falling from your eye\\n\\nI don't know why I run away\\nI make you cry when I run away\\n\\nYou could've asked me why I broke your heart\\nYou could've told me that you fell apart\\nBut you walked past me like I wasn't there\\nAnd just pretended like you didn't care\\n\\nI don't know why I run away\\nI make you cry when I run away\\n\\nTake me back 'cause I wanna stay\\nSave your tears for another\\nSave your tears for another day\\nSave your tears for another day (So)\\n\\nI made you think that I would always stay\\nI said some things that I should never say\\nYeah, I broke your heart like someone did to mine\\nAnd now you won't love me for a second time\\n\\nI don't know why I run away, oh, girl\\nSaid, I make you cry when I run away\\n\\nGirl, take me back 'cause I wanna stay\\nSave your tears for another\\nI realize that I'm much too late\\nAnd you deserve someone better\\n\\nSave your tears for another day (Oh yeah)\\nSave your tears for another day (Yeah)\\n\\nI don't know why I run away\\nI'll make you cry when I run away\\nSave your tears for another day\\nOoh, girl, I said (Ah)\\nSave your tears for another day (Ah)\\n\\nSave your tears for another day (Ah)\\nSave your tears for another day (Ah)\""
      ]
     },
     "execution_count": 53,
     "metadata": {},
     "output_type": "execute_result"
    }
   ],
   "source": [
    "str(genius_lyrics[1])"
   ]
  },
  {
   "cell_type": "code",
   "execution_count": 54,
   "metadata": {},
   "outputs": [],
   "source": [
    "# type(track_artist)\n",
    "# len(track_artist)"
   ]
  },
  {
   "cell_type": "code",
   "execution_count": 55,
   "metadata": {
    "scrolled": false
   },
   "outputs": [],
   "source": [
    "genius_lyrics = pd.Series((genius_lyrics[x] for x in range(len(genius_lyrics))))\n",
    "\n",
    "track = pd.Series((tracks[x] for x in range(0,len(tracks))))\n",
    "\n",
    "artist = pd.Series((artists[x] for x in range(0,len(artists))))"
   ]
  },
  {
   "cell_type": "code",
   "execution_count": 56,
   "metadata": {},
   "outputs": [],
   "source": [
    "# track"
   ]
  },
  {
   "cell_type": "code",
   "execution_count": 57,
   "metadata": {},
   "outputs": [],
   "source": [
    "# genius_lyrics"
   ]
  },
  {
   "cell_type": "code",
   "execution_count": 58,
   "metadata": {},
   "outputs": [],
   "source": [
    "data = {'track':track,\n",
    "        'artist':artist,\n",
    "        'lyrics':genius_lyrics}\n",
    "final_df = pd.concat(data, axis = 1)"
   ]
  },
  {
   "cell_type": "code",
   "execution_count": 59,
   "metadata": {},
   "outputs": [
    {
     "data": {
      "text/html": [
       "<div>\n",
       "<style scoped>\n",
       "    .dataframe tbody tr th:only-of-type {\n",
       "        vertical-align: middle;\n",
       "    }\n",
       "\n",
       "    .dataframe tbody tr th {\n",
       "        vertical-align: top;\n",
       "    }\n",
       "\n",
       "    .dataframe thead th {\n",
       "        text-align: right;\n",
       "    }\n",
       "</style>\n",
       "<table border=\"1\" class=\"dataframe\">\n",
       "  <thead>\n",
       "    <tr style=\"text-align: right;\">\n",
       "      <th></th>\n",
       "      <th>track</th>\n",
       "      <th>artist</th>\n",
       "      <th>lyrics</th>\n",
       "    </tr>\n",
       "  </thead>\n",
       "  <tbody>\n",
       "    <tr>\n",
       "      <th>0</th>\n",
       "      <td>Drivers License</td>\n",
       "      <td>Olivia Rodrigo</td>\n",
       "      <td>I got my driver's license last week\\nJust like...</td>\n",
       "    </tr>\n",
       "    <tr>\n",
       "      <th>1</th>\n",
       "      <td>Save Your Tears</td>\n",
       "      <td>The Weeknd</td>\n",
       "      <td>Ooh\\nNa-na, yeah\\n\\nI saw you dancing in a cro...</td>\n",
       "    </tr>\n",
       "    <tr>\n",
       "      <th>2</th>\n",
       "      <td>Blinding Lights</td>\n",
       "      <td>The Weeknd</td>\n",
       "      <td>Yeah\\n\\nI've been tryna call\\nI've been on my ...</td>\n",
       "    </tr>\n",
       "    <tr>\n",
       "      <th>3</th>\n",
       "      <td>Calling My Phone</td>\n",
       "      <td>Lil Tjay</td>\n",
       "      <td>Steady callin' my phone\\nI done told you befor...</td>\n",
       "    </tr>\n",
       "    <tr>\n",
       "      <th>4</th>\n",
       "      <td>Up</td>\n",
       "      <td>Cardi B</td>\n",
       "      <td>Up, up, up (Ayy), up (Uh), up, look (This is f...</td>\n",
       "    </tr>\n",
       "    <tr>\n",
       "      <th>...</th>\n",
       "      <td>...</td>\n",
       "      <td>...</td>\n",
       "      <td>...</td>\n",
       "    </tr>\n",
       "    <tr>\n",
       "      <th>417</th>\n",
       "      <td>Saturday</td>\n",
       "      <td>twenty one pilots</td>\n",
       "      <td>Slow down on Monday\\nNot a sound on Wednesday,...</td>\n",
       "    </tr>\n",
       "    <tr>\n",
       "      <th>418</th>\n",
       "      <td>24 Hours</td>\n",
       "      <td>A Boogie Wit da Hoodie</td>\n",
       "      <td>How you gon' treat me like I'm see-through?\\nS...</td>\n",
       "    </tr>\n",
       "    <tr>\n",
       "      <th>419</th>\n",
       "      <td>Malibu</td>\n",
       "      <td>Sangiovanni</td>\n",
       "      <td>Son le parole tue, no?\\nTu non bisticci mai?\\n...</td>\n",
       "    </tr>\n",
       "    <tr>\n",
       "      <th>420</th>\n",
       "      <td>512</td>\n",
       "      <td>Mora &amp; Jhay Cortez</td>\n",
       "      <td>Hoy dice que llega despué' de la' doce\\nDespué...</td>\n",
       "    </tr>\n",
       "    <tr>\n",
       "      <th>421</th>\n",
       "      <td>Phantom Thief</td>\n",
       "      <td>back number</td>\n",
       "      <td>じゃあちょっと目を閉じて\\n僕の腕に掴まっておいてよ\\n君の笑顔　盗む奴から\\n君を盗むのさ...</td>\n",
       "    </tr>\n",
       "  </tbody>\n",
       "</table>\n",
       "<p>422 rows × 3 columns</p>\n",
       "</div>"
      ],
      "text/plain": [
       "                track                   artist  \\\n",
       "0     Drivers License           Olivia Rodrigo   \n",
       "1     Save Your Tears               The Weeknd   \n",
       "2     Blinding Lights               The Weeknd   \n",
       "3    Calling My Phone                Lil Tjay    \n",
       "4                  Up                  Cardi B   \n",
       "..                ...                      ...   \n",
       "417          Saturday        twenty one pilots   \n",
       "418          24 Hours  A Boogie Wit da Hoodie    \n",
       "419            Malibu              Sangiovanni   \n",
       "420               512       Mora & Jhay Cortez   \n",
       "421     Phantom Thief              back number   \n",
       "\n",
       "                                                lyrics  \n",
       "0    I got my driver's license last week\\nJust like...  \n",
       "1    Ooh\\nNa-na, yeah\\n\\nI saw you dancing in a cro...  \n",
       "2    Yeah\\n\\nI've been tryna call\\nI've been on my ...  \n",
       "3    Steady callin' my phone\\nI done told you befor...  \n",
       "4    Up, up, up (Ayy), up (Uh), up, look (This is f...  \n",
       "..                                                 ...  \n",
       "417  Slow down on Monday\\nNot a sound on Wednesday,...  \n",
       "418  How you gon' treat me like I'm see-through?\\nS...  \n",
       "419  Son le parole tue, no?\\nTu non bisticci mai?\\n...  \n",
       "420  Hoy dice que llega despué' de la' doce\\nDespué...  \n",
       "421  じゃあちょっと目を閉じて\\n僕の腕に掴まっておいてよ\\n君の笑顔　盗む奴から\\n君を盗むのさ...  \n",
       "\n",
       "[422 rows x 3 columns]"
      ]
     },
     "execution_count": 59,
     "metadata": {},
     "output_type": "execute_result"
    }
   ],
   "source": [
    "final_df"
   ]
  },
  {
   "cell_type": "code",
   "execution_count": 60,
   "metadata": {
    "scrolled": true
   },
   "outputs": [],
   "source": [
    "final_df.to_csv('../genius_lyricsglobal.csv',index=False) #commenting out so i don't accidentally rerun"
   ]
  },
  {
   "cell_type": "code",
   "execution_count": null,
   "metadata": {},
   "outputs": [],
   "source": []
  },
  {
   "cell_type": "code",
   "execution_count": 28,
   "metadata": {},
   "outputs": [],
   "source": [
    "# with open(\"../lyrics.txt\", \"w\", encoding='utf-8') as output:\n",
    "#     output.write(str(genius_lyrics))"
   ]
  },
  {
   "cell_type": "code",
   "execution_count": null,
   "metadata": {},
   "outputs": [],
   "source": []
  }
 ],
 "metadata": {
  "kernelspec": {
   "display_name": "Python 3",
   "language": "python",
   "name": "python3"
  },
  "language_info": {
   "codemirror_mode": {
    "name": "ipython",
    "version": 3
   },
   "file_extension": ".py",
   "mimetype": "text/x-python",
   "name": "python",
   "nbconvert_exporter": "python",
   "pygments_lexer": "ipython3",
   "version": "3.8.3"
  }
 },
 "nbformat": 4,
 "nbformat_minor": 4
}
