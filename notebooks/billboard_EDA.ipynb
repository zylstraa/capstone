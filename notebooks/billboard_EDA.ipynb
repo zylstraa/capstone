{
 "cells": [
  {
   "cell_type": "code",
   "execution_count": 1,
   "metadata": {},
   "outputs": [],
   "source": [
    "import billboard as bb\n",
    "import pandas as pd\n",
    "import spotipy"
   ]
  },
  {
   "cell_type": "markdown",
   "metadata": {},
   "source": [
    "## Spotify secrets"
   ]
  },
  {
   "cell_type": "code",
   "execution_count": 2,
   "metadata": {},
   "outputs": [
    {
     "data": {
      "text/plain": [
       "True"
      ]
     },
     "execution_count": 2,
     "metadata": {},
     "output_type": "execute_result"
    }
   ],
   "source": [
    "from dotenv import load_dotenv\n",
    "import os\n",
    "load_dotenv()\n",
    "# did this work? commenting out so secrets are safe\n",
    "# print(os.getenv('SPOTIFY_CLIENT_ID'))\n",
    "# print(os.getenv('SPOTIFY_CLIENT_SECRET'))"
   ]
  },
  {
   "cell_type": "code",
   "execution_count": 23,
   "metadata": {},
   "outputs": [],
   "source": [
    "client_id  = os.getenv('SPOTIFY_CLIENT_ID')\n",
    "client_secret  = os.getenv('SPOTIFY_CLIENT_SECRET')"
   ]
  },
  {
   "cell_type": "markdown",
   "metadata": {},
   "source": [
    "# Deciding which billboard chart to use"
   ]
  },
  {
   "cell_type": "code",
   "execution_count": 4,
   "metadata": {
    "scrolled": true
   },
   "outputs": [],
   "source": [
    "# bb.charts()"
   ]
  },
  {
   "cell_type": "code",
   "execution_count": 5,
   "metadata": {
    "scrolled": true
   },
   "outputs": [],
   "source": [
    "top_100 = bb.ChartData('hot-100')\n",
    "# print(chart1)"
   ]
  },
  {
   "cell_type": "code",
   "execution_count": 6,
   "metadata": {},
   "outputs": [
    {
     "data": {
      "text/plain": [
       "'Leave The Door Open'"
      ]
     },
     "execution_count": 6,
     "metadata": {},
     "output_type": "execute_result"
    }
   ],
   "source": [
    "top_100_songs = top_100[0].title\n",
    "top_100_songs"
   ]
  },
  {
   "cell_type": "markdown",
   "metadata": {},
   "source": [
    "# Starting with year end top 100 data chart for 2020. \n",
    "I want to go small and later adding in more details."
   ]
  },
  {
   "cell_type": "code",
   "execution_count": 7,
   "metadata": {},
   "outputs": [],
   "source": [
    "# bb.charts(year_end=True)"
   ]
  },
  {
   "cell_type": "code",
   "execution_count": 8,
   "metadata": {},
   "outputs": [
    {
     "data": {
      "text/plain": [
       "billboard.ChartData('hot-100-songs', year='2020')"
      ]
     },
     "execution_count": 8,
     "metadata": {},
     "output_type": "execute_result"
    }
   ],
   "source": [
    "yearend2020 = bb.ChartData('hot-100-songs',year=2020)\n",
    "yearend2020"
   ]
  },
  {
   "cell_type": "code",
   "execution_count": 9,
   "metadata": {
    "scrolled": true
   },
   "outputs": [],
   "source": [
    "# print(yearend2020)"
   ]
  },
  {
   "cell_type": "markdown",
   "metadata": {},
   "source": [
    "Billboard 2020 Year End Hot 100 playlist:\n",
    "https://open.spotify.com/playlist/1WBljFutuk7uLQtfqfmjWV?si=421973dd4721421f"
   ]
  },
  {
   "cell_type": "markdown",
   "metadata": {},
   "source": [
    "### From Spotipy documentation:"
   ]
  },
  {
   "cell_type": "code",
   "execution_count": 27,
   "metadata": {},
   "outputs": [],
   "source": [
    "import spotipy\n",
    "from spotipy.oauth2 import SpotifyClientCredentials\n",
    "\n",
    "auth_manager = SpotifyClientCredentials(client_id,client_secret)\n",
    "spotify = spotipy.Spotify(auth_manager = auth_manager)"
   ]
  },
  {
   "cell_type": "code",
   "execution_count": 30,
   "metadata": {},
   "outputs": [],
   "source": [
    "# Example to check if it's working\n",
    "# birdy_uri = 'spotify:artist:2WX2uTcsvV5OnS0inACecP'\n",
    "\n",
    "# results = spotify.artist_albums(birdy_uri, album_type='album')\n",
    "# albums = results['items']\n",
    "# while results['next']:\n",
    "#     results = spotify.next(results)\n",
    "#     albums.extend(results['items'])\n",
    "\n",
    "# for album in albums:\n",
    "#     print(album['name'])"
   ]
  },
  {
   "cell_type": "markdown",
   "metadata": {},
   "source": [
    "### The Top 100 Songs from 2020 (user playlist verified against Billboard data)"
   ]
  },
  {
   "cell_type": "code",
   "execution_count": 41,
   "metadata": {},
   "outputs": [],
   "source": [
    "hot100_2020_url =  'https://open.spotify.com/playlist/1WBljFutuk7uLQtfqfmjWV?si=421973dd4721421f'\n",
    "tracks = spotify.playlist_tracks(hot100_2020_url,limit=100)"
   ]
  },
  {
   "cell_type": "markdown",
   "metadata": {},
   "source": [
    "### Extracting id or url to run audio_features"
   ]
  },
  {
   "cell_type": "code",
   "execution_count": 114,
   "metadata": {
    "scrolled": false
   },
   "outputs": [
    {
     "data": {
      "text/plain": [
       "'0sf12qNH5qcw8qpgymFOqD'"
      ]
     },
     "execution_count": 114,
     "metadata": {},
     "output_type": "execute_result"
    }
   ],
   "source": [
    "num_1 = pd.DataFrame(pd.DataFrame.from_dict(tracks,orient='columns')['items'][0])['track']['id']\n",
    "num_1 # this is messy, let's try something else"
   ]
  },
  {
   "cell_type": "code",
   "execution_count": 60,
   "metadata": {},
   "outputs": [
    {
     "data": {
      "text/plain": [
       "[{'danceability': 0.513,\n",
       "  'energy': 0.796,\n",
       "  'key': 1,\n",
       "  'loudness': -4.075,\n",
       "  'mode': 1,\n",
       "  'speechiness': 0.0629,\n",
       "  'acousticness': 0.00147,\n",
       "  'instrumentalness': 0.000209,\n",
       "  'liveness': 0.0938,\n",
       "  'valence': 0.345,\n",
       "  'tempo': 171.017,\n",
       "  'type': 'audio_features',\n",
       "  'id': '0sf12qNH5qcw8qpgymFOqD',\n",
       "  'uri': 'spotify:track:0sf12qNH5qcw8qpgymFOqD',\n",
       "  'track_href': 'https://api.spotify.com/v1/tracks/0sf12qNH5qcw8qpgymFOqD',\n",
       "  'analysis_url': 'https://api.spotify.com/v1/audio-analysis/0sf12qNH5qcw8qpgymFOqD',\n",
       "  'duration_ms': 201573,\n",
       "  'time_signature': 4}]"
      ]
     },
     "execution_count": 60,
     "metadata": {},
     "output_type": "execute_result"
    }
   ],
   "source": [
    "# audio features for Blinding Lights\n",
    "spotify.audio_features(tracks=num_1)"
   ]
  },
  {
   "cell_type": "code",
   "execution_count": 107,
   "metadata": {
    "scrolled": false
   },
   "outputs": [
    {
     "name": "stdout",
     "output_type": "stream",
     "text": [
      "dict_keys(['href', 'items', 'limit', 'next', 'offset', 'previous', 'total'])\n"
     ]
    }
   ],
   "source": [
    "#audio features can use uri, url, or id with a max of 100\n",
    "def getList(dict):\n",
    "    return dict.keys()\n",
    "\n",
    "print(getList(tracks))"
   ]
  },
  {
   "cell_type": "code",
   "execution_count": 124,
   "metadata": {
    "scrolled": true
   },
   "outputs": [
    {
     "data": {
      "text/plain": [
       "dict"
      ]
     },
     "execution_count": 124,
     "metadata": {},
     "output_type": "execute_result"
    }
   ],
   "source": [
    "type(tracks.get('items')[0])\n",
    "type(tracks.get('items')[0])"
   ]
  },
  {
   "cell_type": "code",
   "execution_count": 125,
   "metadata": {},
   "outputs": [
    {
     "name": "stdout",
     "output_type": "stream",
     "text": [
      "dict_keys(['added_at', 'added_by', 'is_local', 'primary_color', 'track', 'video_thumbnail'])\n"
     ]
    }
   ],
   "source": [
    "print(getList(tracks.get('items')[0]))"
   ]
  },
  {
   "cell_type": "code",
   "execution_count": 127,
   "metadata": {},
   "outputs": [
    {
     "data": {
      "text/plain": [
       "dict"
      ]
     },
     "execution_count": 127,
     "metadata": {},
     "output_type": "execute_result"
    }
   ],
   "source": [
    "type(tracks.get('items')[0].get('track'))"
   ]
  },
  {
   "cell_type": "code",
   "execution_count": 128,
   "metadata": {},
   "outputs": [
    {
     "name": "stdout",
     "output_type": "stream",
     "text": [
      "dict_keys(['album', 'artists', 'available_markets', 'disc_number', 'duration_ms', 'episode', 'explicit', 'external_ids', 'external_urls', 'href', 'id', 'is_local', 'name', 'popularity', 'preview_url', 'track', 'track_number', 'type', 'uri'])\n"
     ]
    }
   ],
   "source": [
    "print(getList(tracks.get('items')[0].get('track')))"
   ]
  },
  {
   "cell_type": "code",
   "execution_count": 134,
   "metadata": {},
   "outputs": [
    {
     "data": {
      "text/plain": [
       "'0sf12qNH5qcw8qpgymFOqD'"
      ]
     },
     "execution_count": 134,
     "metadata": {},
     "output_type": "execute_result"
    }
   ],
   "source": [
    "tracks.get('items')[0].get('track')['id']"
   ]
  },
  {
   "cell_type": "markdown",
   "metadata": {},
   "source": [
    "<code>Tracks</code> is a dictionary of lists made up of a dictonary of dictionaries. Writing a function to give us a list of ids which can then be run through <code>audio_features</code>"
   ]
  },
  {
   "cell_type": "code",
   "execution_count": 143,
   "metadata": {},
   "outputs": [],
   "source": [
    "ids = []\n",
    "\n",
    "for i in range(0,100):\n",
    "    id = tracks.get('items')[i].get('track')['id']\n",
    "    ids.append(id)"
   ]
  },
  {
   "cell_type": "code",
   "execution_count": 152,
   "metadata": {},
   "outputs": [
    {
     "data": {
      "text/plain": [
       "100"
      ]
     },
     "execution_count": 152,
     "metadata": {},
     "output_type": "execute_result"
    }
   ],
   "source": [
    "len(ids)"
   ]
  },
  {
   "cell_type": "code",
   "execution_count": 156,
   "metadata": {
    "scrolled": true
   },
   "outputs": [
    {
     "data": {
      "text/html": [
       "<div>\n",
       "<style scoped>\n",
       "    .dataframe tbody tr th:only-of-type {\n",
       "        vertical-align: middle;\n",
       "    }\n",
       "\n",
       "    .dataframe tbody tr th {\n",
       "        vertical-align: top;\n",
       "    }\n",
       "\n",
       "    .dataframe thead th {\n",
       "        text-align: right;\n",
       "    }\n",
       "</style>\n",
       "<table border=\"1\" class=\"dataframe\">\n",
       "  <thead>\n",
       "    <tr style=\"text-align: right;\">\n",
       "      <th></th>\n",
       "      <th>danceability</th>\n",
       "      <th>energy</th>\n",
       "      <th>key</th>\n",
       "      <th>loudness</th>\n",
       "      <th>mode</th>\n",
       "      <th>speechiness</th>\n",
       "      <th>acousticness</th>\n",
       "      <th>instrumentalness</th>\n",
       "      <th>liveness</th>\n",
       "      <th>valence</th>\n",
       "      <th>tempo</th>\n",
       "      <th>type</th>\n",
       "      <th>id</th>\n",
       "      <th>uri</th>\n",
       "      <th>track_href</th>\n",
       "      <th>analysis_url</th>\n",
       "      <th>duration_ms</th>\n",
       "      <th>time_signature</th>\n",
       "    </tr>\n",
       "  </thead>\n",
       "  <tbody>\n",
       "    <tr>\n",
       "      <th>0</th>\n",
       "      <td>0.513</td>\n",
       "      <td>0.796</td>\n",
       "      <td>1</td>\n",
       "      <td>-4.075</td>\n",
       "      <td>1</td>\n",
       "      <td>0.0629</td>\n",
       "      <td>0.00147</td>\n",
       "      <td>0.000209</td>\n",
       "      <td>0.0938</td>\n",
       "      <td>0.345</td>\n",
       "      <td>171.017</td>\n",
       "      <td>audio_features</td>\n",
       "      <td>0sf12qNH5qcw8qpgymFOqD</td>\n",
       "      <td>spotify:track:0sf12qNH5qcw8qpgymFOqD</td>\n",
       "      <td>https://api.spotify.com/v1/tracks/0sf12qNH5qcw...</td>\n",
       "      <td>https://api.spotify.com/v1/audio-analysis/0sf1...</td>\n",
       "      <td>201573</td>\n",
       "      <td>4</td>\n",
       "    </tr>\n",
       "    <tr>\n",
       "      <th>1</th>\n",
       "      <td>0.695</td>\n",
       "      <td>0.762</td>\n",
       "      <td>0</td>\n",
       "      <td>-3.497</td>\n",
       "      <td>1</td>\n",
       "      <td>0.0395</td>\n",
       "      <td>0.19200</td>\n",
       "      <td>0.002440</td>\n",
       "      <td>0.0863</td>\n",
       "      <td>0.553</td>\n",
       "      <td>120.042</td>\n",
       "      <td>audio_features</td>\n",
       "      <td>21jGcNKet2qwijlDFuPiPb</td>\n",
       "      <td>spotify:track:21jGcNKet2qwijlDFuPiPb</td>\n",
       "      <td>https://api.spotify.com/v1/tracks/21jGcNKet2qw...</td>\n",
       "      <td>https://api.spotify.com/v1/audio-analysis/21jG...</td>\n",
       "      <td>215280</td>\n",
       "      <td>4</td>\n",
       "    </tr>\n",
       "    <tr>\n",
       "      <th>2</th>\n",
       "      <td>0.896</td>\n",
       "      <td>0.586</td>\n",
       "      <td>10</td>\n",
       "      <td>-6.687</td>\n",
       "      <td>0</td>\n",
       "      <td>0.0559</td>\n",
       "      <td>0.10400</td>\n",
       "      <td>0.000000</td>\n",
       "      <td>0.7900</td>\n",
       "      <td>0.642</td>\n",
       "      <td>116.971</td>\n",
       "      <td>audio_features</td>\n",
       "      <td>0nbXyq5TXYPCO7pr3N8S4I</td>\n",
       "      <td>spotify:track:0nbXyq5TXYPCO7pr3N8S4I</td>\n",
       "      <td>https://api.spotify.com/v1/tracks/0nbXyq5TXYPC...</td>\n",
       "      <td>https://api.spotify.com/v1/audio-analysis/0nbX...</td>\n",
       "      <td>196653</td>\n",
       "      <td>4</td>\n",
       "    </tr>\n",
       "    <tr>\n",
       "      <th>3</th>\n",
       "      <td>0.794</td>\n",
       "      <td>0.793</td>\n",
       "      <td>11</td>\n",
       "      <td>-4.521</td>\n",
       "      <td>0</td>\n",
       "      <td>0.0842</td>\n",
       "      <td>0.01250</td>\n",
       "      <td>0.000000</td>\n",
       "      <td>0.0952</td>\n",
       "      <td>0.677</td>\n",
       "      <td>123.941</td>\n",
       "      <td>audio_features</td>\n",
       "      <td>6WrI0LAC5M1Rw2MnX2ZvEg</td>\n",
       "      <td>spotify:track:6WrI0LAC5M1Rw2MnX2ZvEg</td>\n",
       "      <td>https://api.spotify.com/v1/tracks/6WrI0LAC5M1R...</td>\n",
       "      <td>https://api.spotify.com/v1/audio-analysis/6WrI...</td>\n",
       "      <td>183290</td>\n",
       "      <td>4</td>\n",
       "    </tr>\n",
       "    <tr>\n",
       "      <th>4</th>\n",
       "      <td>0.746</td>\n",
       "      <td>0.690</td>\n",
       "      <td>11</td>\n",
       "      <td>-7.956</td>\n",
       "      <td>1</td>\n",
       "      <td>0.1640</td>\n",
       "      <td>0.24700</td>\n",
       "      <td>0.000000</td>\n",
       "      <td>0.1010</td>\n",
       "      <td>0.497</td>\n",
       "      <td>89.977</td>\n",
       "      <td>audio_features</td>\n",
       "      <td>7ytR5pFWmSjzHJIeQkgog4</td>\n",
       "      <td>spotify:track:7ytR5pFWmSjzHJIeQkgog4</td>\n",
       "      <td>https://api.spotify.com/v1/tracks/7ytR5pFWmSjz...</td>\n",
       "      <td>https://api.spotify.com/v1/audio-analysis/7ytR...</td>\n",
       "      <td>181733</td>\n",
       "      <td>4</td>\n",
       "    </tr>\n",
       "  </tbody>\n",
       "</table>\n",
       "</div>"
      ],
      "text/plain": [
       "   danceability  energy  key  loudness  mode  speechiness  acousticness  \\\n",
       "0         0.513   0.796    1    -4.075     1       0.0629       0.00147   \n",
       "1         0.695   0.762    0    -3.497     1       0.0395       0.19200   \n",
       "2         0.896   0.586   10    -6.687     0       0.0559       0.10400   \n",
       "3         0.794   0.793   11    -4.521     0       0.0842       0.01250   \n",
       "4         0.746   0.690   11    -7.956     1       0.1640       0.24700   \n",
       "\n",
       "   instrumentalness  liveness  valence    tempo            type  \\\n",
       "0          0.000209    0.0938    0.345  171.017  audio_features   \n",
       "1          0.002440    0.0863    0.553  120.042  audio_features   \n",
       "2          0.000000    0.7900    0.642  116.971  audio_features   \n",
       "3          0.000000    0.0952    0.677  123.941  audio_features   \n",
       "4          0.000000    0.1010    0.497   89.977  audio_features   \n",
       "\n",
       "                       id                                   uri  \\\n",
       "0  0sf12qNH5qcw8qpgymFOqD  spotify:track:0sf12qNH5qcw8qpgymFOqD   \n",
       "1  21jGcNKet2qwijlDFuPiPb  spotify:track:21jGcNKet2qwijlDFuPiPb   \n",
       "2  0nbXyq5TXYPCO7pr3N8S4I  spotify:track:0nbXyq5TXYPCO7pr3N8S4I   \n",
       "3  6WrI0LAC5M1Rw2MnX2ZvEg  spotify:track:6WrI0LAC5M1Rw2MnX2ZvEg   \n",
       "4  7ytR5pFWmSjzHJIeQkgog4  spotify:track:7ytR5pFWmSjzHJIeQkgog4   \n",
       "\n",
       "                                          track_href  \\\n",
       "0  https://api.spotify.com/v1/tracks/0sf12qNH5qcw...   \n",
       "1  https://api.spotify.com/v1/tracks/21jGcNKet2qw...   \n",
       "2  https://api.spotify.com/v1/tracks/0nbXyq5TXYPC...   \n",
       "3  https://api.spotify.com/v1/tracks/6WrI0LAC5M1R...   \n",
       "4  https://api.spotify.com/v1/tracks/7ytR5pFWmSjz...   \n",
       "\n",
       "                                        analysis_url  duration_ms  \\\n",
       "0  https://api.spotify.com/v1/audio-analysis/0sf1...       201573   \n",
       "1  https://api.spotify.com/v1/audio-analysis/21jG...       215280   \n",
       "2  https://api.spotify.com/v1/audio-analysis/0nbX...       196653   \n",
       "3  https://api.spotify.com/v1/audio-analysis/6WrI...       183290   \n",
       "4  https://api.spotify.com/v1/audio-analysis/7ytR...       181733   \n",
       "\n",
       "   time_signature  \n",
       "0               4  \n",
       "1               4  \n",
       "2               4  \n",
       "3               4  \n",
       "4               4  "
      ]
     },
     "execution_count": 156,
     "metadata": {},
     "output_type": "execute_result"
    }
   ],
   "source": [
    "audio_features = pd.DataFrame.from_dict(spotify.audio_features(tracks=ids))\n",
    "audio_features.head()"
   ]
  },
  {
   "cell_type": "code",
   "execution_count": 157,
   "metadata": {},
   "outputs": [
    {
     "data": {
      "text/plain": [
       "array([[<matplotlib.axes._subplots.AxesSubplot object at 0x000001E47368C3D0>]],\n",
       "      dtype=object)"
      ]
     },
     "execution_count": 157,
     "metadata": {},
     "output_type": "execute_result"
    },
    {
     "data": {
      "image/png": "[encoded data removed]",
      "text/plain": [
       "<Figure size 432x288 with 1 Axes>"
      ]
     },
     "metadata": {
      "needs_background": "light"
     },
     "output_type": "display_data"
    }
   ],
   "source": [
    "audio_features.hist('danceability')"
   ]
  },
  {
   "cell_type": "code",
   "execution_count": 158,
   "metadata": {},
   "outputs": [
    {
     "data": {
      "text/plain": [
       "array([[<matplotlib.axes._subplots.AxesSubplot object at 0x000001E478AF7640>]],\n",
       "      dtype=object)"
      ]
     },
     "execution_count": 158,
     "metadata": {},
     "output_type": "execute_result"
    },
    {
     "data": {
      "image/png": "[encoded data removed]",
      "text/plain": [
       "<Figure size 432x288 with 1 Axes>"
      ]
     },
     "metadata": {
      "needs_background": "light"
     },
     "output_type": "display_data"
    }
   ],
   "source": [
    "audio_features.hist('energy')"
   ]
  },
  {
   "cell_type": "code",
   "execution_count": 159,
   "metadata": {},
   "outputs": [
    {
     "data": {
      "text/plain": [
       "array([[<matplotlib.axes._subplots.AxesSubplot object at 0x000001E478B96BB0>]],\n",
       "      dtype=object)"
      ]
     },
     "execution_count": 159,
     "metadata": {},
     "output_type": "execute_result"
    },
    {
     "data": {
      "image/png": "[encoded data removed]",
      "text/plain": [
       "<Figure size 432x288 with 1 Axes>"
      ]
     },
     "metadata": {
      "needs_background": "light"
     },
     "output_type": "display_data"
    }
   ],
   "source": [
    "audio_features.hist('key')"
   ]
  }
 ],
 "metadata": {
  "kernelspec": {
   "display_name": "Python 3",
   "language": "python",
   "name": "python3"
  },
  "language_info": {
   "codemirror_mode": {
    "name": "ipython",
    "version": 3
   },
   "file_extension": ".py",
   "mimetype": "text/x-python",
   "name": "python",
   "nbconvert_exporter": "python",
   "pygments_lexer": "ipython3",
   "version": "3.8.3"
  }
 },
 "nbformat": 4,
 "nbformat_minor": 4
}
