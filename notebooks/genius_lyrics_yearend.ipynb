{
 "cells": [
  {
   "cell_type": "code",
   "execution_count": 1,
   "metadata": {},
   "outputs": [],
   "source": [
    "import billboard as bb\n",
    "import pandas as pd"
   ]
  },
  {
   "cell_type": "markdown",
   "metadata": {},
   "source": [
    "## Spotify secrets"
   ]
  },
  {
   "cell_type": "code",
   "execution_count": 2,
   "metadata": {},
   "outputs": [
    {
     "data": {
      "text/plain": [
       "True"
      ]
     },
     "execution_count": 2,
     "metadata": {},
     "output_type": "execute_result"
    }
   ],
   "source": [
    "from dotenv import load_dotenv\n",
    "import os\n",
    "load_dotenv()\n",
    "# did this work? commenting out so secrets are safe\n",
    "# print(os.getenv('SPOTIFY_CLIENT_ID'))\n",
    "# print(os.getenv('SPOTIFY_CLIENT_SECRET'))"
   ]
  },
  {
   "cell_type": "code",
   "execution_count": 3,
   "metadata": {},
   "outputs": [],
   "source": [
    "spotify_client_id  = os.getenv('SPOTIFY_CLIENT_ID')\n",
    "spotify_client_secret  = os.getenv('SPOTIFY_CLIENT_SECRET')\n",
    "genius_client_id = os.getenv('GENIUS_CLIENT_SECRET')\n",
    "genius_client_secret = os.getenv('GENIUS_CLIENT_SECRET')\n",
    "genius_access_token = os.getenv('GENIUS_ACCESS_TOKEN')"
   ]
  },
  {
   "cell_type": "markdown",
   "metadata": {},
   "source": [
    "# Billboard test dataset"
   ]
  },
  {
   "cell_type": "code",
   "execution_count": 4,
   "metadata": {},
   "outputs": [],
   "source": [
    "# bb.charts(year_end=True)"
   ]
  },
  {
   "cell_type": "code",
   "execution_count": 5,
   "metadata": {},
   "outputs": [],
   "source": [
    "track = []\n",
    "artist = []\n",
    "chart_type = 'hot-100-songs' # year end charts\n",
    "year = 2006 #year end charts started in 2006\n",
    "\n",
    "chart = bb.ChartData(chart_type,year=year)\n",
    "    \n",
    "\n",
    "for year in range(year,2020):    \n",
    "    for i in range(len(chart)):\n",
    "        t = chart[i].title\n",
    "        a = chart[i].artist\n",
    "        track.append(t)\n",
    "        artist.append(a)\n",
    "    \n",
    "    chart = bb.ChartData(chart_type, year=chart.nextYear) #errors out because it keeps iterating until it gets to a year there isn't a chart for\n",
    "\n",
    "        \n",
    "    \n",
    "#i don't want this to error out for the i in range(0,99) bit\n",
    "#i don't want it to error out when it hits a year there's no chart for    "
   ]
  },
  {
   "cell_type": "markdown",
   "metadata": {},
   "source": [
    "## lyricsgenius search_song method\n",
    "https://pypi.org/project/lyricsgenius/"
   ]
  },
  {
   "cell_type": "code",
   "execution_count": 6,
   "metadata": {},
   "outputs": [],
   "source": [
    "import lyricsgenius\n",
    "genius = lyricsgenius.Genius(genius_access_token, skip_non_songs=True, remove_section_headers=True)\n",
    "genius.verbose = False"
   ]
  },
  {
   "cell_type": "code",
   "execution_count": 7,
   "metadata": {},
   "outputs": [],
   "source": [
    "#Genius search doesn't utilize an artist featuring another artist, so I want to drop everything after 'Featuring'\n",
    "sep = 'Featuring'\n",
    "artist = [x.split(sep,1)[0] for x in artist]\n",
    "#spotify also don't like artists like H.E.R. but prefers 'her'\n",
    "artist = [x.replace('.','') for x in artist]"
   ]
  },
  {
   "cell_type": "code",
   "execution_count": 8,
   "metadata": {},
   "outputs": [],
   "source": [
    "d = {'track':track,'artist':artist}"
   ]
  },
  {
   "cell_type": "code",
   "execution_count": 9,
   "metadata": {
    "scrolled": true
   },
   "outputs": [],
   "source": [
    "search = []\n",
    "\n",
    "for i in range(len(track)):\n",
    "    hit = track[i]+ ' ' + artist[i]\n",
    "    search.append(hit)"
   ]
  },
  {
   "cell_type": "code",
   "execution_count": 10,
   "metadata": {},
   "outputs": [
    {
     "data": {
      "text/plain": [
       "1398"
      ]
     },
     "execution_count": 10,
     "metadata": {},
     "output_type": "execute_result"
    }
   ],
   "source": [
    "len(search)"
   ]
  },
  {
   "cell_type": "code",
   "execution_count": 11,
   "metadata": {},
   "outputs": [
    {
     "data": {
      "text/plain": [
       "Song(id, artist, ...)"
      ]
     },
     "execution_count": 11,
     "metadata": {},
     "output_type": "execute_result"
    }
   ],
   "source": [
    "genius.search_song(search[0])"
   ]
  },
  {
   "cell_type": "code",
   "execution_count": 12,
   "metadata": {
    "scrolled": true
   },
   "outputs": [
    {
     "name": "stdout",
     "output_type": "stream",
     "text": [
      "womp womp\n",
      "womp womp\n",
      "womp womp\n",
      "womp womp\n",
      "womp womp\n",
      "womp womp\n",
      "womp womp\n"
     ]
    }
   ],
   "source": [
    "genius_lyrics = []\n",
    "errored_songs = []\n",
    "tracks = []\n",
    "artists = []\n",
    "\n",
    "for i in range(len(search)):\n",
    "    try:\n",
    "        test_song = genius.search_song(search[i])\n",
    "        words = test_song.lyrics\n",
    "        t = track[i]\n",
    "        a = artist[i]\n",
    "    except: \n",
    "        errored_songs.append(search[i])\n",
    "        print('womp womp')\n",
    "    else:\n",
    "        genius_lyrics.append(words)\n",
    "        tracks.append(t)\n",
    "        artists.append(a)\n"
   ]
  },
  {
   "cell_type": "code",
   "execution_count": 13,
   "metadata": {},
   "outputs": [
    {
     "data": {
      "text/plain": [
       "'Bad Day Daniel Powter'"
      ]
     },
     "execution_count": 13,
     "metadata": {},
     "output_type": "execute_result"
    }
   ],
   "source": [
    "search[0]"
   ]
  },
  {
   "cell_type": "code",
   "execution_count": 14,
   "metadata": {
    "scrolled": true
   },
   "outputs": [
    {
     "data": {
      "text/plain": [
       "1391"
      ]
     },
     "execution_count": 14,
     "metadata": {},
     "output_type": "execute_result"
    }
   ],
   "source": [
    "type(genius_lyrics)\n",
    "len(genius_lyrics)"
   ]
  },
  {
   "cell_type": "code",
   "execution_count": 20,
   "metadata": {},
   "outputs": [
    {
     "data": {
      "text/plain": [
       "\"The gyal dem Schillaci, Sean da Paul\\nSo me give it to, so me give to, so me give it to, to all girls\\nFive million and forty naughty shorty\\nBaby girl, all my girls, all my girls, Sean da Paul say\\n\\nWell, woman the way the time cold, I wanna be keepin' you warm\\nI got the right temperature fi shelter you from the storm\\nOh Lord, gyal, I got the right tactics to turn you on\\nAnd girl, I wanna be the Papa, you can be the Mom, oh, oh!\\n\\nMake I see di gyal dem breakout 'pon di floor\\nFrom you don't want no worthless performer\\nFrom you don't want no man weh can't turn you on\\nGyal, make I see your hand dem up on ya\\nCan't tan 'pon it long, nah eat no yam\\nNo steam fish, nor no green banana\\nBut down in Jamaica, we give it to you hot like a sauna\\n\\nWell, woman the way the time cold, I wanna be keepin' you warm\\nI got the right temperature fi shelter you from the storm\\nOh Lord, gyal, I got the right tactics to turn you on\\nAnd girl, I wanna be the Papa, you can be the Mom, oh, oh!\\nBumper exposed and gyal, ya got your chest out\\nBut you no wasters 'cause, gyal, ya impress out\\nAnd if ya diss out a me, ya fi test out\\n'Cause I got the remedy fi make ya de-stress out\\nMe haffi flaunt it, become a God bless out\\nAnd girl, if you want it, you haffi confess out\\nI no lie, weh we need, set speed, haffi test the mattress out\\n\\nWell, woman the way the time cold, I wanna be keepin' you warm\\nI got the right temperature fi shelter you from the storm\\nOh Lord, gyal, I got the right tactics to turn you on\\nAnd girl, I wanna be the Papa, you can be the Mom, oh, oh\\n\\nGyal, don't say me crazy now\\nThis strange love it a no Brigitte and Flavor show\\nTime fi we make baby now\\nSo stop, gwaan like you a actin' shady, yo\\nWoman, don't play me now\\n'Cause I no Fred Sanford, not Grady, yo\\nMy lovin' is the way to go, my lovin' is the way to go\\n\\nWell, woman the way the time cold, I wanna be keepin' you warm\\nI got the right temperature fi shelter you from the storm\\nOh Lord, gyal, I got the right tactics to turn you on\\nAnd girl, I wanna be the Papa, you can be the Mom, oh, oh!\\nWhen you roll with a player like me\\nWith a bredda like me, gyal, there is no other\\nNo need to talk it right here\\nJust park it right here, keep it undercover\\nFrom me love how you fit inna your blouse\\nAnd you fat inna your jeans and mi wann' discover\\nEverything 'bout you, baby girl, can't you hear when me utter?\\n\\nWell, woman the way the time cold, I wanna be keepin' you warm\\nI got the right temperature fi shelter you from the storm\\nOh Lord, gyal, I got the right tactics to turn you on\\nAnd girl, I wanna be the Papa, you can be the Mom, oh, oh!\\n\\nCallin' all wild out squadron, come report to duty\\nSexy ladies with the beauty come shake dat booty! JA girls\\nBreakout, breakout, bruk wine\\nBreakout, breakout (Miami ladies)\\nBreakout, breakout, bruk wine\\nBreakout, breakout (NYC girls)\\nBreakout, breakout, bruk wine\\nBreakout, breakout (L.A. ladies)\\nBreakout, breakout, breakout\\nBreakout, breakout, bruk wine (Yo, yo)\\nPass mi di nitro, mek mi get hype, yo\\nGyal, de ya nuff, gimme one fi di night, yo\\nDJ, keep the mix dem tight, yo\\nHennessy and Red Bull mek mi get psycho\\nDirty dancin' cah we no polite, yo\\nFeel it a bounce on mi left and mi right, yo\\nMek di girls get high like a kite, yo\\nOne thing mi waan you do right now\\nGyal move, what you waitin' for?\\nWaan fi see ten ton of phat gyal 'pon the dancefloor\\nDo your thing cah yuh know you're secure\\nGyal just bruk out cah you hard to the core\\nYo, move, what you waitin' for?\\nWaan fi see ten ton of phat gyal 'pon the dancefloor\\nDo your thing cah yuh know you're secure\\nGyal just bruk out cah you hard to the core, yo!\\nBreakout, breakout\""
      ]
     },
     "execution_count": 20,
     "metadata": {},
     "output_type": "execute_result"
    }
   ],
   "source": [
    "str(genius_lyrics[1])"
   ]
  },
  {
   "cell_type": "code",
   "execution_count": 16,
   "metadata": {},
   "outputs": [],
   "source": [
    "# type(track_artist)\n",
    "# len(track_artist)"
   ]
  },
  {
   "cell_type": "code",
   "execution_count": null,
   "metadata": {
    "scrolled": false
   },
   "outputs": [],
   "source": [
    "# genius_lyrics = pd.Series((genius_lyrics[x] for x in range(0,len(genius_lyrics))))\n",
    "\n",
    "# track = pd.Series((tracks[x] for x in range(0,len(tracks))))\n",
    "\n",
    "# artist = pd.Series((artists[x] for x in range(0,len(artists))))"
   ]
  },
  {
   "cell_type": "code",
   "execution_count": null,
   "metadata": {},
   "outputs": [],
   "source": [
    "# track"
   ]
  },
  {
   "cell_type": "code",
   "execution_count": null,
   "metadata": {},
   "outputs": [],
   "source": [
    "# genius_lyrics"
   ]
  },
  {
   "cell_type": "code",
   "execution_count": null,
   "metadata": {},
   "outputs": [],
   "source": [
    "# data = {'track':track,\n",
    "#         'artist':artist,\n",
    "#         'lyrics':genius_lyrics}\n",
    "# final_df = pd.concat(data, axis = 1)"
   ]
  },
  {
   "cell_type": "code",
   "execution_count": null,
   "metadata": {
    "scrolled": true
   },
   "outputs": [],
   "source": [
    "# final_df.to_csv('../genius_lyrics.csv',index=False) #commenting out so i don't accidentally rerun"
   ]
  },
  {
   "cell_type": "code",
   "execution_count": 26,
   "metadata": {},
   "outputs": [],
   "source": [
    "genius_lyrics = ''.join(genius_lyrics)"
   ]
  },
  {
   "cell_type": "code",
   "execution_count": 28,
   "metadata": {},
   "outputs": [],
   "source": [
    "# with open(\"../lyrics.txt\", \"w\", encoding='utf-8') as output:\n",
    "#     output.write(str(genius_lyrics))"
   ]
  },
  {
   "cell_type": "code",
   "execution_count": null,
   "metadata": {},
   "outputs": [],
   "source": []
  }
 ],
 "metadata": {
  "kernelspec": {
   "display_name": "Python 3",
   "language": "python",
   "name": "python3"
  },
  "language_info": {
   "codemirror_mode": {
    "name": "ipython",
    "version": 3
   },
   "file_extension": ".py",
   "mimetype": "text/x-python",
   "name": "python",
   "nbconvert_exporter": "python",
   "pygments_lexer": "ipython3",
   "version": "3.8.3"
  }
 },
 "nbformat": 4,
 "nbformat_minor": 4
}
