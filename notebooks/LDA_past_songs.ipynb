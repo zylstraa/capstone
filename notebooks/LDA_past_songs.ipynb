{
 "cells": [
  {
   "cell_type": "code",
   "execution_count": 1,
   "metadata": {},
   "outputs": [],
   "source": [
    "import pandas as pd\n",
    "import pprint"
   ]
  },
  {
   "cell_type": "code",
   "execution_count": 2,
   "metadata": {},
   "outputs": [],
   "source": [
    "lyrics = pd.read_csv('../genius_lyrics.csv')"
   ]
  },
  {
   "cell_type": "markdown",
   "metadata": {},
   "source": [
    "LDA Model"
   ]
  },
  {
   "cell_type": "code",
   "execution_count": 3,
   "metadata": {},
   "outputs": [],
   "source": [
    "docs = lyrics['lyrics'].tolist() #list of Unicode strings"
   ]
  },
  {
   "cell_type": "code",
   "execution_count": 4,
   "metadata": {},
   "outputs": [],
   "source": [
    "# Tokenize the documents.\n",
    "from nltk.tokenize import RegexpTokenizer\n",
    "\n",
    "# Split the documents into tokens.\n",
    "tokenizer = RegexpTokenizer(r'\\w+')\n",
    "for idx in range(len(docs)):\n",
    "    docs[idx] = docs[idx].lower()  # Convert to lowercase.\n",
    "    docs[idx] = tokenizer.tokenize(docs[idx])  # Split into words.\n",
    "\n",
    "# Remove numbers, but not words that contain numbers.\n",
    "docs = [[token for token in doc if not token.isnumeric()] for doc in docs]\n",
    "\n",
    "# Remove words that are only one character.\n",
    "docs = [[token for token in doc if len(token) > 1] for doc in docs]\n",
    "\n",
    "#Removing stopwords:\n",
    "from sklearn.feature_extraction import text\n",
    "sw = ['oh','ooh','yeah','na','la','hey','like','da', 'feat',\n",
    "      'whoa','uh','huh','doh','doo','ha','eh','ay','ayy','ll','re','ve'] #removing sounds & contractions\n",
    "stop_words= text.ENGLISH_STOP_WORDS.union(sw)\n",
    "\n",
    "docs = [[token for token in doc if token not in stop_words] for doc in docs]"
   ]
  },
  {
   "cell_type": "code",
   "execution_count": 5,
   "metadata": {},
   "outputs": [
    {
     "name": "stderr",
     "output_type": "stream",
     "text": [
      "[nltk_data] Downloading package wordnet to\n",
      "[nltk_data]     C:\\Users\\zylst\\AppData\\Roaming\\nltk_data...\n",
      "[nltk_data]   Package wordnet is already up-to-date!\n"
     ]
    },
    {
     "data": {
      "text/plain": [
       "True"
      ]
     },
     "execution_count": 5,
     "metadata": {},
     "output_type": "execute_result"
    }
   ],
   "source": [
    "import nltk\n",
    "nltk.download('wordnet')"
   ]
  },
  {
   "cell_type": "code",
   "execution_count": 6,
   "metadata": {
    "scrolled": false
   },
   "outputs": [],
   "source": [
    "# Lemmatize the documents.\n",
    "from nltk.stem.wordnet import WordNetLemmatizer\n",
    "\n",
    "lemmatizer = WordNetLemmatizer()\n",
    "docs = [[lemmatizer.lemmatize(token) for token in doc] for doc in docs]"
   ]
  },
  {
   "cell_type": "code",
   "execution_count": 7,
   "metadata": {},
   "outputs": [
    {
     "name": "stderr",
     "output_type": "stream",
     "text": [
      "C:\\Users\\zylst\\anaconda3\\lib\\site-packages\\gensim\\similarities\\__init__.py:15: UserWarning: The gensim.similarities.levenshtein submodule is disabled, because the optional Levenshtein package <https://pypi.org/project/python-Levenshtein/> is unavailable. Install Levenhstein (e.g. `pip install python-Levenshtein`) to suppress this warning.\n",
      "  warnings.warn(msg)\n"
     ]
    }
   ],
   "source": [
    "# Compute bigrams.\n",
    "from gensim.models import Phrases\n",
    "\n",
    "# Add bigrams and trigrams to docs (only ones that appear 20 times or more).\n",
    "bigram = Phrases(docs, min_count=20)\n",
    "for idx in range(len(docs)):\n",
    "    for token in bigram[docs[idx]]:\n",
    "        if '_' in token:\n",
    "            # Token is a bigram, add to document.\n",
    "            docs[idx].append(token)"
   ]
  },
  {
   "cell_type": "code",
   "execution_count": 8,
   "metadata": {},
   "outputs": [],
   "source": [
    "# Remove rare and common tokens.\n",
    "from gensim.corpora import Dictionary\n",
    "\n",
    "# Create a dictionary representation of the documents.\n",
    "dictionary = Dictionary(docs)\n",
    "\n",
    "# Filter out words that occur less than 20 documents, or more than 50% of the documents.\n",
    "dictionary.filter_extremes(no_below=15, no_above=0.7)"
   ]
  },
  {
   "cell_type": "code",
   "execution_count": 9,
   "metadata": {},
   "outputs": [],
   "source": [
    "# Bag-of-words representation of the documents.\n",
    "corpus = [dictionary.doc2bow(doc) for doc in docs]"
   ]
  },
  {
   "cell_type": "code",
   "execution_count": 10,
   "metadata": {},
   "outputs": [
    {
     "name": "stdout",
     "output_type": "stream",
     "text": [
      "Number of unique tokens: 1483\n",
      "Number of documents: 1397\n"
     ]
    }
   ],
   "source": [
    "print('Number of unique tokens: %d' % len(dictionary))\n",
    "print('Number of documents: %d' % len(corpus))"
   ]
  },
  {
   "cell_type": "code",
   "execution_count": 11,
   "metadata": {},
   "outputs": [],
   "source": [
    "import logging\n",
    "logging.basicConfig(format='%(asctime)s : %(levelname)s : %(message)s', level=logging.INFO) #enable logging"
   ]
  },
  {
   "cell_type": "code",
   "execution_count": 12,
   "metadata": {},
   "outputs": [
    {
     "name": "stderr",
     "output_type": "stream",
     "text": [
      "2021-06-05 12:54:53,437 : INFO : using autotuned alpha, starting with [0.33333334, 0.33333334, 0.33333334]\n",
      "2021-06-05 12:54:53,439 : INFO : using serial LDA version on this node\n",
      "2021-06-05 12:54:53,441 : INFO : running online (multi-pass) LDA training, 3 topics, 20 passes over the supplied corpus of 1397 documents, updating model once every 1397 documents, evaluating perplexity every 0 documents, iterating 400x with a convergence threshold of 0.001000\n",
      "2021-06-05 12:54:53,442 : INFO : PROGRESS: pass 0, at document #1397/1397\n",
      "2021-06-05 12:54:56,677 : WARNING : updated prior is not positive\n",
      "2021-06-05 12:54:56,678 : INFO : optimized alpha [0.33333334, 0.33333334, 0.33333334]\n",
      "2021-06-05 12:54:56,680 : INFO : topic #0 (0.333): 0.019*\"just\" + 0.017*\"love\" + 0.013*\"baby\" + 0.013*\"gonna\" + 0.012*\"time\" + 0.011*\"girl\" + 0.011*\"ain\" + 0.010*\"got\" + 0.010*\"want\" + 0.010*\"make\"\n",
      "2021-06-05 12:54:56,680 : INFO : topic #1 (0.333): 0.022*\"just\" + 0.018*\"love\" + 0.017*\"got\" + 0.017*\"let\" + 0.014*\"girl\" + 0.014*\"wanna\" + 0.013*\"make\" + 0.013*\"want\" + 0.013*\"say\" + 0.012*\"cause\"\n",
      "2021-06-05 12:54:56,681 : INFO : topic #2 (0.333): 0.021*\"got\" + 0.020*\"love\" + 0.019*\"baby\" + 0.013*\"just\" + 0.011*\"let\" + 0.010*\"night\" + 0.010*\"cause\" + 0.009*\"ain\" + 0.008*\"right\" + 0.008*\"say\"\n",
      "2021-06-05 12:54:56,682 : INFO : topic diff=0.969533, rho=1.000000\n",
      "2021-06-05 12:54:56,684 : INFO : PROGRESS: pass 1, at document #1397/1397\n",
      "2021-06-05 12:54:59,437 : INFO : optimized alpha [0.136036, 0.23079102, 0.1914025]\n",
      "2021-06-05 12:54:59,439 : INFO : topic #0 (0.136): 0.019*\"just\" + 0.017*\"love\" + 0.014*\"gonna\" + 0.012*\"baby\" + 0.012*\"time\" + 0.010*\"away\" + 0.010*\"girl\" + 0.010*\"life\" + 0.010*\"got\" + 0.010*\"ain\"\n",
      "2021-06-05 12:54:59,440 : INFO : topic #1 (0.231): 0.022*\"just\" + 0.019*\"love\" + 0.018*\"let\" + 0.017*\"got\" + 0.015*\"wanna\" + 0.015*\"girl\" + 0.014*\"make\" + 0.014*\"want\" + 0.014*\"say\" + 0.012*\"cause\"\n",
      "2021-06-05 12:54:59,441 : INFO : topic #2 (0.191): 0.022*\"got\" + 0.019*\"love\" + 0.019*\"baby\" + 0.013*\"just\" + 0.011*\"night\" + 0.010*\"let\" + 0.010*\"cause\" + 0.009*\"ain\" + 0.009*\"nigga\" + 0.008*\"right\"\n",
      "2021-06-05 12:54:59,442 : INFO : topic diff=0.120489, rho=0.577350\n",
      "2021-06-05 12:54:59,446 : INFO : PROGRESS: pass 2, at document #1397/1397\n",
      "2021-06-05 12:55:01,758 : INFO : optimized alpha [0.110525414, 0.19077729, 0.15454742]\n",
      "2021-06-05 12:55:01,760 : INFO : topic #0 (0.111): 0.018*\"just\" + 0.017*\"love\" + 0.015*\"gonna\" + 0.012*\"time\" + 0.012*\"baby\" + 0.012*\"away\" + 0.010*\"life\" + 0.010*\"ya\" + 0.010*\"girl\" + 0.009*\"make\"\n",
      "2021-06-05 12:55:01,761 : INFO : topic #1 (0.191): 0.023*\"just\" + 0.020*\"love\" + 0.019*\"let\" + 0.017*\"got\" + 0.016*\"wanna\" + 0.016*\"girl\" + 0.015*\"want\" + 0.014*\"make\" + 0.014*\"say\" + 0.013*\"cause\"\n",
      "2021-06-05 12:55:01,762 : INFO : topic #2 (0.155): 0.022*\"got\" + 0.018*\"baby\" + 0.018*\"love\" + 0.012*\"just\" + 0.011*\"night\" + 0.010*\"nigga\" + 0.010*\"let\" + 0.009*\"cause\" + 0.009*\"ain\" + 0.008*\"right\"\n",
      "2021-06-05 12:55:01,763 : INFO : topic diff=0.096914, rho=0.500000\n",
      "2021-06-05 12:55:01,766 : INFO : PROGRESS: pass 3, at document #1397/1397\n",
      "2021-06-05 12:55:02,766 : INFO : optimized alpha [0.0980926, 0.17470875, 0.13704817]\n",
      "2021-06-05 12:55:02,767 : INFO : topic #0 (0.098): 0.018*\"just\" + 0.017*\"love\" + 0.016*\"gonna\" + 0.013*\"away\" + 0.012*\"time\" + 0.012*\"baby\" + 0.011*\"life\" + 0.010*\"ya\" + 0.010*\"cause\" + 0.009*\"make\"\n",
      "2021-06-05 12:55:02,768 : INFO : topic #1 (0.175): 0.023*\"just\" + 0.022*\"love\" + 0.019*\"let\" + 0.017*\"wanna\" + 0.017*\"got\" + 0.016*\"girl\" + 0.015*\"want\" + 0.015*\"make\" + 0.015*\"say\" + 0.013*\"baby\"\n",
      "2021-06-05 12:55:02,769 : INFO : topic #2 (0.137): 0.022*\"got\" + 0.017*\"baby\" + 0.016*\"love\" + 0.012*\"just\" + 0.011*\"night\" + 0.011*\"nigga\" + 0.010*\"ain\" + 0.009*\"let\" + 0.009*\"cause\" + 0.008*\"bitch\"\n",
      "2021-06-05 12:55:02,770 : INFO : topic diff=0.086820, rho=0.447214\n",
      "2021-06-05 12:55:02,772 : INFO : PROGRESS: pass 4, at document #1397/1397\n",
      "2021-06-05 12:55:03,680 : INFO : optimized alpha [0.090800375, 0.16636817, 0.1253565]\n",
      "2021-06-05 12:55:03,681 : INFO : topic #0 (0.091): 0.018*\"love\" + 0.018*\"just\" + 0.017*\"gonna\" + 0.013*\"away\" + 0.012*\"time\" + 0.012*\"baby\" + 0.011*\"life\" + 0.010*\"ya\" + 0.010*\"cause\" + 0.010*\"shake\"\n",
      "2021-06-05 12:55:03,682 : INFO : topic #1 (0.166): 0.024*\"just\" + 0.023*\"love\" + 0.020*\"let\" + 0.017*\"wanna\" + 0.017*\"girl\" + 0.016*\"got\" + 0.016*\"want\" + 0.015*\"make\" + 0.015*\"baby\" + 0.015*\"say\"\n",
      "2021-06-05 12:55:03,683 : INFO : topic #2 (0.125): 0.022*\"got\" + 0.015*\"baby\" + 0.015*\"love\" + 0.012*\"just\" + 0.012*\"nigga\" + 0.011*\"night\" + 0.010*\"ain\" + 0.009*\"bitch\" + 0.008*\"cause\" + 0.008*\"let\"\n",
      "2021-06-05 12:55:03,684 : INFO : topic diff=0.081034, rho=0.408248\n",
      "2021-06-05 12:55:03,686 : INFO : PROGRESS: pass 5, at document #1397/1397\n",
      "2021-06-05 12:55:04,538 : INFO : optimized alpha [0.08642284, 0.16334383, 0.11735882]\n",
      "2021-06-05 12:55:04,539 : INFO : topic #0 (0.086): 0.018*\"love\" + 0.017*\"just\" + 0.017*\"gonna\" + 0.014*\"away\" + 0.012*\"time\" + 0.012*\"baby\" + 0.011*\"life\" + 0.010*\"shake\" + 0.010*\"cause\" + 0.010*\"ya\"\n",
      "2021-06-05 12:55:04,540 : INFO : topic #1 (0.163): 0.024*\"love\" + 0.024*\"just\" + 0.020*\"let\" + 0.018*\"wanna\" + 0.017*\"girl\" + 0.017*\"baby\" + 0.016*\"got\" + 0.016*\"want\" + 0.015*\"make\" + 0.015*\"say\"\n",
      "2021-06-05 12:55:04,541 : INFO : topic #2 (0.117): 0.022*\"got\" + 0.014*\"baby\" + 0.013*\"love\" + 0.012*\"nigga\" + 0.012*\"just\" + 0.011*\"night\" + 0.010*\"ain\" + 0.010*\"bitch\" + 0.008*\"cause\" + 0.008*\"let\"\n",
      "2021-06-05 12:55:04,542 : INFO : topic diff=0.075969, rho=0.377964\n",
      "2021-06-05 12:55:04,544 : INFO : PROGRESS: pass 6, at document #1397/1397\n",
      "2021-06-05 12:55:05,363 : INFO : optimized alpha [0.0838259, 0.16318725, 0.11186658]\n",
      "2021-06-05 12:55:05,364 : INFO : topic #0 (0.084): 0.018*\"love\" + 0.018*\"gonna\" + 0.017*\"just\" + 0.015*\"away\" + 0.012*\"time\" + 0.012*\"baby\" + 0.011*\"life\" + 0.011*\"shake\" + 0.010*\"cause\" + 0.010*\"come\"\n",
      "2021-06-05 12:55:05,365 : INFO : topic #1 (0.163): 0.026*\"love\" + 0.024*\"just\" + 0.021*\"let\" + 0.018*\"baby\" + 0.018*\"wanna\" + 0.017*\"girl\" + 0.017*\"want\" + 0.017*\"got\" + 0.015*\"say\" + 0.015*\"make\"\n",
      "2021-06-05 12:55:05,366 : INFO : topic #2 (0.112): 0.022*\"got\" + 0.013*\"nigga\" + 0.012*\"baby\" + 0.012*\"love\" + 0.011*\"just\" + 0.011*\"ain\" + 0.011*\"night\" + 0.011*\"bitch\" + 0.007*\"cause\" + 0.007*\"let\"\n",
      "2021-06-05 12:55:05,367 : INFO : topic diff=0.070285, rho=0.353553\n",
      "2021-06-05 12:55:05,369 : INFO : PROGRESS: pass 7, at document #1397/1397\n",
      "2021-06-05 12:55:07,014 : INFO : optimized alpha [0.082209736, 0.16438437, 0.107710205]\n",
      "2021-06-05 12:55:07,016 : INFO : topic #0 (0.082): 0.018*\"love\" + 0.018*\"gonna\" + 0.017*\"just\" + 0.015*\"away\" + 0.012*\"time\" + 0.011*\"baby\" + 0.011*\"life\" + 0.011*\"shake\" + 0.010*\"cause\" + 0.010*\"come\"\n",
      "2021-06-05 12:55:07,018 : INFO : topic #1 (0.164): 0.026*\"love\" + 0.024*\"just\" + 0.021*\"let\" + 0.019*\"baby\" + 0.018*\"wanna\" + 0.017*\"girl\" + 0.017*\"want\" + 0.017*\"got\" + 0.016*\"say\" + 0.016*\"make\"\n",
      "2021-06-05 12:55:07,019 : INFO : topic #2 (0.108): 0.022*\"got\" + 0.013*\"nigga\" + 0.011*\"bitch\" + 0.011*\"just\" + 0.011*\"baby\" + 0.011*\"ain\" + 0.010*\"love\" + 0.010*\"night\" + 0.007*\"shit\" + 0.007*\"man\"\n",
      "2021-06-05 12:55:07,020 : INFO : topic diff=0.064206, rho=0.333333\n",
      "2021-06-05 12:55:07,023 : INFO : PROGRESS: pass 8, at document #1397/1397\n",
      "2021-06-05 12:55:08,755 : INFO : optimized alpha [0.081120655, 0.1658917, 0.10499192]\n",
      "2021-06-05 12:55:08,758 : INFO : topic #0 (0.081): 0.018*\"gonna\" + 0.018*\"love\" + 0.017*\"just\" + 0.015*\"away\" + 0.012*\"time\" + 0.011*\"life\" + 0.011*\"shake\" + 0.011*\"baby\" + 0.010*\"cause\" + 0.010*\"come\"\n",
      "2021-06-05 12:55:08,760 : INFO : topic #1 (0.166): 0.027*\"love\" + 0.024*\"just\" + 0.021*\"let\" + 0.020*\"baby\" + 0.018*\"wanna\" + 0.018*\"girl\" + 0.017*\"want\" + 0.017*\"got\" + 0.016*\"say\" + 0.016*\"make\"\n",
      "2021-06-05 12:55:08,761 : INFO : topic #2 (0.105): 0.022*\"got\" + 0.014*\"nigga\" + 0.012*\"bitch\" + 0.011*\"ain\" + 0.011*\"just\" + 0.010*\"night\" + 0.010*\"baby\" + 0.010*\"love\" + 0.008*\"shit\" + 0.007*\"man\"\n",
      "2021-06-05 12:55:08,762 : INFO : topic diff=0.059401, rho=0.316228\n",
      "2021-06-05 12:55:08,766 : INFO : PROGRESS: pass 9, at document #1397/1397\n",
      "2021-06-05 12:55:09,982 : INFO : optimized alpha [0.080530085, 0.1682088, 0.10292087]\n",
      "2021-06-05 12:55:09,984 : INFO : topic #0 (0.081): 0.019*\"gonna\" + 0.018*\"love\" + 0.017*\"just\" + 0.016*\"away\" + 0.011*\"time\" + 0.011*\"life\" + 0.011*\"shake\" + 0.011*\"baby\" + 0.010*\"cause\" + 0.010*\"come\"\n"
     ]
    },
    {
     "name": "stderr",
     "output_type": "stream",
     "text": [
      "2021-06-05 12:55:09,985 : INFO : topic #1 (0.168): 0.028*\"love\" + 0.025*\"just\" + 0.021*\"let\" + 0.021*\"baby\" + 0.018*\"wanna\" + 0.018*\"girl\" + 0.017*\"want\" + 0.017*\"got\" + 0.016*\"say\" + 0.016*\"make\"\n",
      "2021-06-05 12:55:09,986 : INFO : topic #2 (0.103): 0.022*\"got\" + 0.014*\"nigga\" + 0.012*\"bitch\" + 0.011*\"ain\" + 0.011*\"just\" + 0.010*\"night\" + 0.009*\"baby\" + 0.009*\"love\" + 0.008*\"shit\" + 0.008*\"money\"\n",
      "2021-06-05 12:55:09,987 : INFO : topic diff=0.055619, rho=0.301511\n",
      "2021-06-05 12:55:09,989 : INFO : PROGRESS: pass 10, at document #1397/1397\n",
      "2021-06-05 12:55:10,759 : INFO : optimized alpha [0.08021256, 0.17082067, 0.10118449]\n",
      "2021-06-05 12:55:10,760 : INFO : topic #0 (0.080): 0.019*\"gonna\" + 0.018*\"love\" + 0.016*\"just\" + 0.016*\"away\" + 0.012*\"life\" + 0.011*\"time\" + 0.011*\"shake\" + 0.010*\"baby\" + 0.010*\"cause\" + 0.010*\"come\"\n",
      "2021-06-05 12:55:10,761 : INFO : topic #1 (0.171): 0.028*\"love\" + 0.025*\"just\" + 0.022*\"baby\" + 0.021*\"let\" + 0.018*\"wanna\" + 0.018*\"girl\" + 0.017*\"want\" + 0.017*\"got\" + 0.016*\"say\" + 0.016*\"make\"\n",
      "2021-06-05 12:55:10,762 : INFO : topic #2 (0.101): 0.022*\"got\" + 0.014*\"nigga\" + 0.012*\"bitch\" + 0.011*\"ain\" + 0.011*\"just\" + 0.010*\"night\" + 0.008*\"baby\" + 0.008*\"love\" + 0.008*\"shit\" + 0.008*\"money\"\n",
      "2021-06-05 12:55:10,762 : INFO : topic diff=0.052189, rho=0.288675\n",
      "2021-06-05 12:55:10,764 : INFO : PROGRESS: pass 11, at document #1397/1397\n",
      "2021-06-05 12:55:11,458 : INFO : optimized alpha [0.08020613, 0.17390214, 0.09991042]\n",
      "2021-06-05 12:55:11,459 : INFO : topic #0 (0.080): 0.019*\"gonna\" + 0.018*\"love\" + 0.016*\"just\" + 0.016*\"away\" + 0.012*\"life\" + 0.011*\"shake\" + 0.011*\"time\" + 0.010*\"cause\" + 0.010*\"come\" + 0.010*\"baby\"\n",
      "2021-06-05 12:55:11,460 : INFO : topic #1 (0.174): 0.029*\"love\" + 0.025*\"just\" + 0.022*\"baby\" + 0.021*\"let\" + 0.018*\"wanna\" + 0.018*\"girl\" + 0.017*\"want\" + 0.017*\"got\" + 0.016*\"say\" + 0.016*\"make\"\n",
      "2021-06-05 12:55:11,461 : INFO : topic #2 (0.100): 0.022*\"got\" + 0.015*\"nigga\" + 0.013*\"bitch\" + 0.012*\"ain\" + 0.010*\"just\" + 0.010*\"night\" + 0.008*\"money\" + 0.008*\"shit\" + 0.008*\"fuck\" + 0.008*\"baby\"\n",
      "2021-06-05 12:55:11,462 : INFO : topic diff=0.048905, rho=0.277350\n",
      "2021-06-05 12:55:11,464 : INFO : PROGRESS: pass 12, at document #1397/1397\n",
      "2021-06-05 12:55:12,097 : INFO : optimized alpha [0.08050854, 0.17677994, 0.09880931]\n",
      "2021-06-05 12:55:12,098 : INFO : topic #0 (0.081): 0.019*\"gonna\" + 0.017*\"love\" + 0.016*\"away\" + 0.016*\"just\" + 0.012*\"life\" + 0.012*\"shake\" + 0.011*\"time\" + 0.010*\"cause\" + 0.010*\"come\" + 0.009*\"baby\"\n",
      "2021-06-05 12:55:12,099 : INFO : topic #1 (0.177): 0.029*\"love\" + 0.025*\"just\" + 0.023*\"baby\" + 0.021*\"let\" + 0.018*\"wanna\" + 0.018*\"girl\" + 0.017*\"want\" + 0.017*\"got\" + 0.016*\"say\" + 0.016*\"make\"\n",
      "2021-06-05 12:55:12,100 : INFO : topic #2 (0.099): 0.022*\"got\" + 0.015*\"nigga\" + 0.013*\"bitch\" + 0.012*\"ain\" + 0.010*\"just\" + 0.009*\"night\" + 0.008*\"money\" + 0.008*\"shit\" + 0.008*\"fuck\" + 0.008*\"man\"\n",
      "2021-06-05 12:55:12,101 : INFO : topic diff=0.046114, rho=0.267261\n",
      "2021-06-05 12:55:12,103 : INFO : PROGRESS: pass 13, at document #1397/1397\n",
      "2021-06-05 12:55:12,740 : INFO : optimized alpha [0.08093292, 0.1793192, 0.097672254]\n",
      "2021-06-05 12:55:12,740 : INFO : topic #0 (0.081): 0.019*\"gonna\" + 0.017*\"love\" + 0.016*\"away\" + 0.016*\"just\" + 0.012*\"life\" + 0.012*\"shake\" + 0.011*\"time\" + 0.010*\"cause\" + 0.010*\"come\" + 0.009*\"baby\"\n",
      "2021-06-05 12:55:12,740 : INFO : topic #1 (0.179): 0.029*\"love\" + 0.025*\"just\" + 0.023*\"baby\" + 0.021*\"let\" + 0.018*\"wanna\" + 0.018*\"girl\" + 0.017*\"got\" + 0.017*\"want\" + 0.016*\"say\" + 0.016*\"make\"\n",
      "2021-06-05 12:55:12,741 : INFO : topic #2 (0.098): 0.022*\"got\" + 0.015*\"nigga\" + 0.013*\"bitch\" + 0.012*\"ain\" + 0.010*\"just\" + 0.009*\"night\" + 0.009*\"money\" + 0.008*\"shit\" + 0.008*\"fuck\" + 0.008*\"man\"\n",
      "2021-06-05 12:55:12,743 : INFO : topic diff=0.043438, rho=0.258199\n",
      "2021-06-05 12:55:12,745 : INFO : PROGRESS: pass 14, at document #1397/1397\n",
      "2021-06-05 12:55:13,365 : INFO : optimized alpha [0.081575274, 0.18200208, 0.096789815]\n",
      "2021-06-05 12:55:13,366 : INFO : topic #0 (0.082): 0.019*\"gonna\" + 0.017*\"love\" + 0.017*\"away\" + 0.016*\"just\" + 0.012*\"life\" + 0.012*\"shake\" + 0.011*\"time\" + 0.010*\"cause\" + 0.010*\"come\" + 0.009*\"baby\"\n",
      "2021-06-05 12:55:13,367 : INFO : topic #1 (0.182): 0.029*\"love\" + 0.025*\"just\" + 0.023*\"baby\" + 0.021*\"let\" + 0.018*\"wanna\" + 0.018*\"girl\" + 0.017*\"got\" + 0.017*\"want\" + 0.016*\"say\" + 0.015*\"make\"\n",
      "2021-06-05 12:55:13,368 : INFO : topic #2 (0.097): 0.022*\"got\" + 0.015*\"nigga\" + 0.013*\"bitch\" + 0.012*\"ain\" + 0.010*\"just\" + 0.009*\"money\" + 0.009*\"night\" + 0.008*\"shit\" + 0.008*\"fuck\" + 0.008*\"man\"\n",
      "2021-06-05 12:55:13,368 : INFO : topic diff=0.040912, rho=0.250000\n",
      "2021-06-05 12:55:13,371 : INFO : PROGRESS: pass 15, at document #1397/1397\n",
      "2021-06-05 12:55:14,036 : INFO : optimized alpha [0.082335286, 0.18504791, 0.09600223]\n",
      "2021-06-05 12:55:14,037 : INFO : topic #0 (0.082): 0.019*\"gonna\" + 0.017*\"love\" + 0.017*\"away\" + 0.016*\"just\" + 0.012*\"life\" + 0.011*\"shake\" + 0.011*\"time\" + 0.010*\"cause\" + 0.010*\"come\" + 0.009*\"make\"\n",
      "2021-06-05 12:55:14,038 : INFO : topic #1 (0.185): 0.030*\"love\" + 0.025*\"just\" + 0.024*\"baby\" + 0.021*\"let\" + 0.018*\"wanna\" + 0.018*\"girl\" + 0.017*\"got\" + 0.017*\"want\" + 0.016*\"say\" + 0.015*\"make\"\n",
      "2021-06-05 12:55:14,039 : INFO : topic #2 (0.096): 0.022*\"got\" + 0.015*\"nigga\" + 0.013*\"bitch\" + 0.012*\"ain\" + 0.010*\"just\" + 0.009*\"money\" + 0.009*\"shit\" + 0.008*\"fuck\" + 0.008*\"night\" + 0.008*\"man\"\n",
      "2021-06-05 12:55:14,040 : INFO : topic diff=0.039092, rho=0.242536\n",
      "2021-06-05 12:55:14,041 : INFO : PROGRESS: pass 16, at document #1397/1397\n",
      "2021-06-05 12:55:14,898 : INFO : optimized alpha [0.083187796, 0.18775398, 0.09531773]\n",
      "2021-06-05 12:55:14,901 : INFO : topic #0 (0.083): 0.019*\"gonna\" + 0.017*\"away\" + 0.016*\"love\" + 0.015*\"just\" + 0.012*\"life\" + 0.011*\"shake\" + 0.011*\"time\" + 0.010*\"cause\" + 0.010*\"come\" + 0.009*\"break\"\n",
      "2021-06-05 12:55:14,903 : INFO : topic #1 (0.188): 0.030*\"love\" + 0.025*\"just\" + 0.024*\"baby\" + 0.021*\"let\" + 0.018*\"wanna\" + 0.018*\"girl\" + 0.018*\"got\" + 0.017*\"want\" + 0.017*\"say\" + 0.015*\"make\"\n",
      "2021-06-05 12:55:14,904 : INFO : topic #2 (0.095): 0.022*\"got\" + 0.016*\"nigga\" + 0.013*\"bitch\" + 0.012*\"ain\" + 0.010*\"just\" + 0.009*\"money\" + 0.009*\"shit\" + 0.009*\"fuck\" + 0.008*\"night\" + 0.008*\"man\"\n",
      "2021-06-05 12:55:14,905 : INFO : topic diff=0.037079, rho=0.235702\n",
      "2021-06-05 12:55:14,908 : INFO : PROGRESS: pass 17, at document #1397/1397\n",
      "2021-06-05 12:55:16,316 : INFO : optimized alpha [0.084070325, 0.19066322, 0.09473283]\n",
      "2021-06-05 12:55:16,318 : INFO : topic #0 (0.084): 0.019*\"gonna\" + 0.017*\"away\" + 0.016*\"love\" + 0.015*\"just\" + 0.012*\"life\" + 0.011*\"shake\" + 0.011*\"time\" + 0.010*\"cause\" + 0.009*\"come\" + 0.009*\"break\"\n",
      "2021-06-05 12:55:16,320 : INFO : topic #1 (0.191): 0.030*\"love\" + 0.025*\"just\" + 0.024*\"baby\" + 0.021*\"let\" + 0.018*\"girl\" + 0.018*\"wanna\" + 0.018*\"got\" + 0.017*\"want\" + 0.017*\"say\" + 0.015*\"make\"\n",
      "2021-06-05 12:55:16,322 : INFO : topic #2 (0.095): 0.022*\"got\" + 0.016*\"nigga\" + 0.014*\"bitch\" + 0.012*\"ain\" + 0.010*\"just\" + 0.009*\"money\" + 0.009*\"shit\" + 0.009*\"fuck\" + 0.008*\"man\" + 0.008*\"night\"\n",
      "2021-06-05 12:55:16,322 : INFO : topic diff=0.035043, rho=0.229416\n",
      "2021-06-05 12:55:16,325 : INFO : PROGRESS: pass 18, at document #1397/1397\n",
      "2021-06-05 12:55:17,742 : INFO : optimized alpha [0.085027725, 0.19330306, 0.094358124]\n",
      "2021-06-05 12:55:17,743 : INFO : topic #0 (0.085): 0.019*\"gonna\" + 0.017*\"away\" + 0.016*\"love\" + 0.015*\"just\" + 0.012*\"life\" + 0.011*\"shake\" + 0.011*\"time\" + 0.010*\"cause\" + 0.009*\"come\" + 0.009*\"break\"\n",
      "2021-06-05 12:55:17,745 : INFO : topic #1 (0.193): 0.030*\"love\" + 0.025*\"just\" + 0.024*\"baby\" + 0.021*\"let\" + 0.018*\"girl\" + 0.018*\"wanna\" + 0.018*\"got\" + 0.018*\"want\" + 0.017*\"say\" + 0.015*\"make\"\n",
      "2021-06-05 12:55:17,747 : INFO : topic #2 (0.094): 0.022*\"got\" + 0.016*\"nigga\" + 0.014*\"bitch\" + 0.012*\"ain\" + 0.010*\"just\" + 0.010*\"money\" + 0.009*\"shit\" + 0.009*\"fuck\" + 0.008*\"man\" + 0.008*\"night\"\n",
      "2021-06-05 12:55:17,749 : INFO : topic diff=0.033174, rho=0.223607\n",
      "2021-06-05 12:55:17,752 : INFO : PROGRESS: pass 19, at document #1397/1397\n",
      "2021-06-05 12:55:18,818 : INFO : optimized alpha [0.08591158, 0.19570981, 0.09399852]\n",
      "2021-06-05 12:55:18,819 : INFO : topic #0 (0.086): 0.019*\"gonna\" + 0.017*\"away\" + 0.016*\"love\" + 0.015*\"just\" + 0.012*\"life\" + 0.011*\"time\" + 0.011*\"shake\" + 0.010*\"cause\" + 0.009*\"come\" + 0.009*\"break\"\n"
     ]
    },
    {
     "name": "stderr",
     "output_type": "stream",
     "text": [
      "2021-06-05 12:55:18,820 : INFO : topic #1 (0.196): 0.030*\"love\" + 0.025*\"just\" + 0.025*\"baby\" + 0.021*\"let\" + 0.018*\"girl\" + 0.018*\"wanna\" + 0.018*\"got\" + 0.018*\"want\" + 0.017*\"say\" + 0.015*\"make\"\n",
      "2021-06-05 12:55:18,821 : INFO : topic #2 (0.094): 0.022*\"got\" + 0.016*\"nigga\" + 0.014*\"bitch\" + 0.012*\"ain\" + 0.010*\"money\" + 0.010*\"just\" + 0.009*\"shit\" + 0.009*\"fuck\" + 0.008*\"man\" + 0.007*\"night\"\n",
      "2021-06-05 12:55:18,821 : INFO : topic diff=0.031365, rho=0.218218\n",
      "2021-06-05 12:55:18,823 : INFO : LdaModel lifecycle event {'msg': 'trained LdaModel(num_terms=1483, num_topics=3, decay=0.5, chunksize=2000) in 25.38s', 'datetime': '2021-06-05T12:55:18.823058', 'gensim': '4.0.1', 'python': '3.8.3 (default, Jul  2 2020, 17:30:36) [MSC v.1916 64 bit (AMD64)]', 'platform': 'Windows-10-10.0.19041-SP0', 'event': 'created'}\n"
     ]
    }
   ],
   "source": [
    "# Train LDA model.\n",
    "from gensim.models import LdaModel\n",
    "\n",
    "# Set training parameters.\n",
    "num_topics = 3\n",
    "chunksize = 2000\n",
    "passes = 20\n",
    "iterations = 400\n",
    "eval_every = None  # Don't evaluate model perplexity, takes too much time.\n",
    "\n",
    "# Make a index to word dictionary.\n",
    "temp = dictionary[0]  # This is only to \"load\" the dictionary.\n",
    "id2word = dictionary.id2token\n",
    "\n",
    "model = LdaModel(\n",
    "    corpus=corpus,\n",
    "    id2word=id2word,\n",
    "    chunksize=chunksize,\n",
    "    alpha='auto',\n",
    "    eta='auto',\n",
    "    iterations=iterations,\n",
    "    num_topics=num_topics,\n",
    "    passes=passes,\n",
    "    eval_every=eval_every\n",
    ")"
   ]
  },
  {
   "cell_type": "code",
   "execution_count": 13,
   "metadata": {
    "scrolled": false
   },
   "outputs": [
    {
     "name": "stderr",
     "output_type": "stream",
     "text": [
      "2021-06-05 12:55:18,857 : INFO : CorpusAccumulator accumulated stats from 1000 documents\n"
     ]
    },
    {
     "name": "stdout",
     "output_type": "stream",
     "text": [
      "Average topic coherence: -1.0647.\n",
      "[([(0.030440262, 'love'),\n",
      "   (0.025213324, 'just'),\n",
      "   (0.024557464, 'baby'),\n",
      "   (0.021177616, 'let'),\n",
      "   (0.017882733, 'girl'),\n",
      "   (0.017807337, 'wanna'),\n",
      "   (0.017707216, 'got'),\n",
      "   (0.01761536, 'want'),\n",
      "   (0.016698467, 'say'),\n",
      "   (0.015431519, 'make'),\n",
      "   (0.015335694, 'cause'),\n",
      "   (0.0122458385, 'time'),\n",
      "   (0.012028326, 'way'),\n",
      "   (0.011631641, 'need'),\n",
      "   (0.011394326, 'feel'),\n",
      "   (0.0108841555, 'right'),\n",
      "   (0.00963318, 'come'),\n",
      "   (0.00949793, 'ain'),\n",
      "   (0.0083824545, 'good'),\n",
      "   (0.0071659125, 'thing')],\n",
      "  -0.8351752105030299),\n",
      " ([(0.022234192, 'got'),\n",
      "   (0.01596885, 'nigga'),\n",
      "   (0.013837871, 'bitch'),\n",
      "   (0.0123980595, 'ain'),\n",
      "   (0.009765779, 'money'),\n",
      "   (0.009704002, 'just'),\n",
      "   (0.008844734, 'shit'),\n",
      "   (0.008834384, 'fuck'),\n",
      "   (0.008218589, 'man'),\n",
      "   (0.007367708, 'night'),\n",
      "   (0.0070624975, 'lil'),\n",
      "   (0.0070259366, 'em'),\n",
      "   (0.0067282226, 'look'),\n",
      "   (0.0065964675, 'girl'),\n",
      "   (0.0058549847, 'walk'),\n",
      "   (0.0056868345, 'young'),\n",
      "   (0.0054273973, 'let'),\n",
      "   (0.005406636, 'big'),\n",
      "   (0.0051991506, 'baby'),\n",
      "   (0.0051675425, 'love')],\n",
      "  -1.0184903544604254),\n",
      " ([(0.018935014, 'gonna'),\n",
      "   (0.01654589, 'away'),\n",
      "   (0.015685925, 'love'),\n",
      "   (0.015030053, 'just'),\n",
      "   (0.012064511, 'life'),\n",
      "   (0.011248474, 'time'),\n",
      "   (0.011190909, 'shake'),\n",
      "   (0.009844818, 'cause'),\n",
      "   (0.009291713, 'come'),\n",
      "   (0.008883857, 'break'),\n",
      "   (0.00833417, 'make'),\n",
      "   (0.008265314, 'heart'),\n",
      "   (0.008110841, 'run'),\n",
      "   (0.0075491704, 'work'),\n",
      "   (0.007535695, 'baby'),\n",
      "   (0.007048593, 'world'),\n",
      "   (0.0069907275, 'got'),\n",
      "   (0.006966862, 'night'),\n",
      "   (0.0067205657, 'ya'),\n",
      "   (0.0063203354, 'light')],\n",
      "  -1.3403620536738894)]\n"
     ]
    }
   ],
   "source": [
    "top_topics = model.top_topics(corpus) #, num_words=20)\n",
    "\n",
    "# Average topic coherence is the sum of topic coherences of all topics, divided by the number of topics.\n",
    "avg_topic_coherence = sum([t[1] for t in top_topics]) / num_topics\n",
    "print('Average topic coherence: %.4f.' % avg_topic_coherence)\n",
    "\n",
    "from pprint import pprint\n",
    "pprint(top_topics)"
   ]
  },
  {
   "cell_type": "code",
   "execution_count": null,
   "metadata": {},
   "outputs": [],
   "source": []
  },
  {
   "cell_type": "code",
   "execution_count": null,
   "metadata": {},
   "outputs": [],
   "source": []
  },
  {
   "cell_type": "code",
   "execution_count": null,
   "metadata": {},
   "outputs": [],
   "source": []
  },
  {
   "cell_type": "code",
   "execution_count": null,
   "metadata": {},
   "outputs": [],
   "source": []
  }
 ],
 "metadata": {
  "kernelspec": {
   "display_name": "Python 3",
   "language": "python",
   "name": "python3"
  },
  "language_info": {
   "codemirror_mode": {
    "name": "ipython",
    "version": 3
   },
   "file_extension": ".py",
   "mimetype": "text/x-python",
   "name": "python",
   "nbconvert_exporter": "python",
   "pygments_lexer": "ipython3",
   "version": "3.8.3"
  }
 },
 "nbformat": 4,
 "nbformat_minor": 4
}
