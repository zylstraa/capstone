{
 "cells": [
  {
   "cell_type": "code",
   "execution_count": 1,
   "metadata": {},
   "outputs": [],
   "source": [
    "import billboard as bb\n",
    "import pandas as pd"
   ]
  },
  {
   "cell_type": "markdown",
   "metadata": {},
   "source": [
    "## Spotify secrets"
   ]
  },
  {
   "cell_type": "code",
   "execution_count": 2,
   "metadata": {},
   "outputs": [
    {
     "data": {
      "text/plain": [
       "True"
      ]
     },
     "execution_count": 2,
     "metadata": {},
     "output_type": "execute_result"
    }
   ],
   "source": [
    "from dotenv import load_dotenv\n",
    "import os\n",
    "load_dotenv()\n",
    "# did this work? commenting out so secrets are safe\n",
    "# print(os.getenv('SPOTIFY_CLIENT_ID'))\n",
    "# print(os.getenv('SPOTIFY_CLIENT_SECRET'))"
   ]
  },
  {
   "cell_type": "code",
   "execution_count": 3,
   "metadata": {},
   "outputs": [],
   "source": [
    "spotify_client_id  = os.getenv('SPOTIFY_CLIENT_ID')\n",
    "spotify_client_secret  = os.getenv('SPOTIFY_CLIENT_SECRET')\n",
    "genius_client_id = os.getenv('GENIUS_CLIENT_SECRET')\n",
    "genius_client_secret = os.getenv('GENIUS_CLIENT_SECRET')\n",
    "genius_access_token = os.getenv('GENIUS_ACCESS_TOKEN')"
   ]
  },
  {
   "cell_type": "markdown",
   "metadata": {},
   "source": [
    "# Billboard test dataset"
   ]
  },
  {
   "cell_type": "code",
   "execution_count": 4,
   "metadata": {},
   "outputs": [],
   "source": [
    "# bb.charts(year_end=True)"
   ]
  },
  {
   "cell_type": "code",
   "execution_count": 5,
   "metadata": {},
   "outputs": [
    {
     "ename": "ValueError",
     "evalue": "Date argument is not in YYYY-MM-DD format",
     "output_type": "error",
     "traceback": [
      "\u001b[1;31m---------------------------------------------------------------------------\u001b[0m",
      "\u001b[1;31mValueError\u001b[0m                                Traceback (most recent call last)",
      "\u001b[1;32m<ipython-input-5-c1c4b4a45ba7>\u001b[0m in \u001b[0;36m<module>\u001b[1;34m\u001b[0m\n\u001b[0;32m     14\u001b[0m         \u001b[0martist\u001b[0m\u001b[1;33m.\u001b[0m\u001b[0mappend\u001b[0m\u001b[1;33m(\u001b[0m\u001b[0ma\u001b[0m\u001b[1;33m)\u001b[0m\u001b[1;33m\u001b[0m\u001b[1;33m\u001b[0m\u001b[0m\n\u001b[0;32m     15\u001b[0m \u001b[1;33m\u001b[0m\u001b[0m\n\u001b[1;32m---> 16\u001b[1;33m     \u001b[0mchart\u001b[0m \u001b[1;33m=\u001b[0m \u001b[0mbb\u001b[0m\u001b[1;33m.\u001b[0m\u001b[0mChartData\u001b[0m\u001b[1;33m(\u001b[0m\u001b[0mchart_type\u001b[0m\u001b[1;33m,\u001b[0m \u001b[0mdate\u001b[0m\u001b[1;33m=\u001b[0m\u001b[0mchart\u001b[0m\u001b[1;33m.\u001b[0m\u001b[0mnextDate\u001b[0m\u001b[1;33m)\u001b[0m \u001b[1;31m#lets figure out the erroring out later as this still gives me what i want\u001b[0m\u001b[1;33m\u001b[0m\u001b[1;33m\u001b[0m\u001b[0m\n\u001b[0m",
      "\u001b[1;32m~\\anaconda3\\lib\\site-packages\\billboard.py\u001b[0m in \u001b[0;36m__init__\u001b[1;34m(self, name, date, year, fetch, max_retries, timeout)\u001b[0m\n\u001b[0;32m    169\u001b[0m         \u001b[1;32mif\u001b[0m \u001b[0mdate\u001b[0m \u001b[1;32mis\u001b[0m \u001b[1;32mnot\u001b[0m \u001b[1;32mNone\u001b[0m\u001b[1;33m:\u001b[0m\u001b[1;33m\u001b[0m\u001b[1;33m\u001b[0m\u001b[0m\n\u001b[0;32m    170\u001b[0m             \u001b[1;32mif\u001b[0m \u001b[1;32mnot\u001b[0m \u001b[0mre\u001b[0m\u001b[1;33m.\u001b[0m\u001b[0mmatch\u001b[0m\u001b[1;33m(\u001b[0m\u001b[1;34mr\"\\d{4}-\\d{2}-\\d{2}\"\u001b[0m\u001b[1;33m,\u001b[0m \u001b[0mstr\u001b[0m\u001b[1;33m(\u001b[0m\u001b[0mdate\u001b[0m\u001b[1;33m)\u001b[0m\u001b[1;33m)\u001b[0m\u001b[1;33m:\u001b[0m\u001b[1;33m\u001b[0m\u001b[1;33m\u001b[0m\u001b[0m\n\u001b[1;32m--> 171\u001b[1;33m                 \u001b[1;32mraise\u001b[0m \u001b[0mValueError\u001b[0m\u001b[1;33m(\u001b[0m\u001b[1;34m\"Date argument is not in YYYY-MM-DD format\"\u001b[0m\u001b[1;33m)\u001b[0m\u001b[1;33m\u001b[0m\u001b[1;33m\u001b[0m\u001b[0m\n\u001b[0m\u001b[0;32m    172\u001b[0m             \u001b[1;32mtry\u001b[0m\u001b[1;33m:\u001b[0m\u001b[1;33m\u001b[0m\u001b[1;33m\u001b[0m\u001b[0m\n\u001b[0;32m    173\u001b[0m                 \u001b[0mdatetime\u001b[0m\u001b[1;33m.\u001b[0m\u001b[0mdatetime\u001b[0m\u001b[1;33m(\u001b[0m\u001b[1;33m*\u001b[0m\u001b[1;33m(\u001b[0m\u001b[0mint\u001b[0m\u001b[1;33m(\u001b[0m\u001b[0mx\u001b[0m\u001b[1;33m)\u001b[0m \u001b[1;32mfor\u001b[0m \u001b[0mx\u001b[0m \u001b[1;32min\u001b[0m \u001b[0mstr\u001b[0m\u001b[1;33m(\u001b[0m\u001b[0mdate\u001b[0m\u001b[1;33m)\u001b[0m\u001b[1;33m.\u001b[0m\u001b[0msplit\u001b[0m\u001b[1;33m(\u001b[0m\u001b[1;34m\"-\"\u001b[0m\u001b[1;33m)\u001b[0m\u001b[1;33m)\u001b[0m\u001b[1;33m)\u001b[0m\u001b[1;33m\u001b[0m\u001b[1;33m\u001b[0m\u001b[0m\n",
      "\u001b[1;31mValueError\u001b[0m: Date argument is not in YYYY-MM-DD format"
     ]
    }
   ],
   "source": [
    "track = []\n",
    "artist = []\n",
    "chart_type = 'hot-100' # weekly charts\n",
    "date = '2021-03-01' # start date. anything prior to this in 2021 was all Christmas\n",
    "\n",
    "chart = bb.ChartData(chart_type, date=date)\n",
    "    \n",
    "\n",
    "for date in chart:\n",
    "    for i in range(len(chart)):\n",
    "        t = chart[i].title\n",
    "        a = chart[i].artist\n",
    "        track.append(t)\n",
    "        artist.append(a)\n",
    "\n",
    "    chart = bb.ChartData(chart_type, date=chart.nextDate) #lets figure out the erroring out later as this still gives me what i want"
   ]
  },
  {
   "cell_type": "markdown",
   "metadata": {},
   "source": [
    "## lyricsgenius search_song method\n",
    "https://pypi.org/project/lyricsgenius/"
   ]
  },
  {
   "cell_type": "code",
   "execution_count": 7,
   "metadata": {},
   "outputs": [],
   "source": [
    "import lyricsgenius\n",
    "genius = lyricsgenius.Genius(genius_access_token, skip_non_songs=True, remove_section_headers=True)\n",
    "genius.verbose = False"
   ]
  },
  {
   "cell_type": "code",
   "execution_count": 8,
   "metadata": {},
   "outputs": [],
   "source": [
    "#Genius search doesn't utilize an artist featuring another artist, so I want to drop everything after 'Featuring'\n",
    "sep = 'Featuring'\n",
    "artist = [x.split(sep,1)[0] for x in artist]\n",
    "#spotify also don't like artists like H.E.R. but prefers 'her'\n",
    "artist = [x.replace('.','') for x in artist]"
   ]
  },
  {
   "cell_type": "code",
   "execution_count": 9,
   "metadata": {},
   "outputs": [],
   "source": [
    "d = {'track':track,'artist':artist}"
   ]
  },
  {
   "cell_type": "code",
   "execution_count": 10,
   "metadata": {
    "scrolled": true
   },
   "outputs": [],
   "source": [
    "search = []\n",
    "\n",
    "for i in range(len(track)):\n",
    "    hit = track[i]+ ' ' + artist[i]\n",
    "    search.append(hit)"
   ]
  },
  {
   "cell_type": "code",
   "execution_count": 11,
   "metadata": {},
   "outputs": [
    {
     "data": {
      "text/plain": [
       "1400"
      ]
     },
     "execution_count": 11,
     "metadata": {},
     "output_type": "execute_result"
    }
   ],
   "source": [
    "len(search)"
   ]
  },
  {
   "cell_type": "code",
   "execution_count": 12,
   "metadata": {},
   "outputs": [
    {
     "data": {
      "text/plain": [
       "Song(id, artist, ...)"
      ]
     },
     "execution_count": 12,
     "metadata": {},
     "output_type": "execute_result"
    }
   ],
   "source": [
    "genius.search_song(search[0])"
   ]
  },
  {
   "cell_type": "code",
   "execution_count": 13,
   "metadata": {
    "scrolled": false
   },
   "outputs": [
    {
     "name": "stdout",
     "output_type": "stream",
     "text": [
      "womp womp\n",
      "womp womp\n",
      "womp womp\n",
      "womp womp\n",
      "womp womp\n",
      "womp womp\n",
      "womp womp\n",
      "womp womp\n",
      "womp womp\n",
      "womp womp\n",
      "womp womp\n",
      "womp womp\n",
      "womp womp\n",
      "womp womp\n",
      "womp womp\n",
      "womp womp\n",
      "womp womp\n",
      "womp womp\n",
      "womp womp\n",
      "womp womp\n",
      "womp womp\n",
      "womp womp\n",
      "womp womp\n",
      "womp womp\n",
      "womp womp\n",
      "womp womp\n",
      "womp womp\n",
      "womp womp\n",
      "womp womp\n",
      "womp womp\n",
      "womp womp\n",
      "womp womp\n",
      "womp womp\n",
      "womp womp\n",
      "womp womp\n",
      "womp womp\n",
      "womp womp\n",
      "womp womp\n"
     ]
    }
   ],
   "source": [
    "genius_lyrics = []\n",
    "errored_songs = []\n",
    "tracks = []\n",
    "artists = []\n",
    "\n",
    "for i in range(len(search)):\n",
    "    try:\n",
    "        test_song = genius.search_song(search[i])\n",
    "        words = test_song.lyrics\n",
    "        t = track[i]\n",
    "        a = artist[i]\n",
    "    except: \n",
    "        errored_songs.append(search[i])\n",
    "        print('womp womp')\n",
    "    else:\n",
    "        genius_lyrics.append(words)\n",
    "        tracks.append(t)\n",
    "        artists.append(a)\n"
   ]
  },
  {
   "cell_type": "code",
   "execution_count": 14,
   "metadata": {},
   "outputs": [
    {
     "data": {
      "text/plain": [
       "'Drivers License Olivia Rodrigo'"
      ]
     },
     "execution_count": 14,
     "metadata": {},
     "output_type": "execute_result"
    }
   ],
   "source": [
    "search[0]"
   ]
  },
  {
   "cell_type": "code",
   "execution_count": 15,
   "metadata": {
    "scrolled": true
   },
   "outputs": [
    {
     "data": {
      "text/plain": [
       "1362"
      ]
     },
     "execution_count": 15,
     "metadata": {},
     "output_type": "execute_result"
    }
   ],
   "source": [
    "type(genius_lyrics)\n",
    "len(genius_lyrics)"
   ]
  },
  {
   "cell_type": "code",
   "execution_count": 16,
   "metadata": {},
   "outputs": [
    {
     "data": {
      "text/plain": [
       "'Up, up, up (Ayy), up (Uh), up, look (This is fire)\\nOnce upon a time, man, I heard that I was ugly\\nCame from a bitch who nigga wanna fuck on me\\n\\nI said my face bomb, ass tight\\nRacks stack up Shaq height\\nJewelry on me, flashlight\\nI been lit since last night\\nHit him with that good good\\nMake a nigga act right\\nBroke boys don\\'t deserve no pussy\\n(I know that\\'s right)\\n\\nBig bag bussin\\' out the Bentley Bentayga\\nMan, Balenciaga Bardi back and all these bitches fucked\\nIt\\'s big bags bussin\\' out the Bentley Bentayga, man\\nBirkin bag, Bardi back and all you bitches fucked\\nIf it\\'s up, then it\\'s up, then it\\'s up, then it\\'s stuck\\nIf it\\'s up, then it\\'s up, then it\\'s up, then it\\'s stuck, huh (Ayy)\\nUp, then it\\'s up, if it\\'s up, then it\\'s stuck (Huh)\\nIf it\\'s up, then it\\'s up, then it\\'s up, then it\\'s stuck, huh (Woo)\\nI could make the party hot, I could make your body rock\\nBitches say they fuckin\\' with me, chances are they probably not\\nIf I had a dick, you\\'d probably lick it like a lollipop\\nHoes speakin\\' cap-enese, hit \\'em with karate chop\\nI\\'m forever poppin\\' shit, pullin\\' up and droppin\\' shit\\nGotta argue with him \\'cause a nigga love a toxic bitch\\nNiggas out here playin\\', gotta make \\'em understand\\nIf ain\\'t no ring on my finger, you ain\\'t goin\\' on my \\'Gram\\n\\nI said my face bomb, ass tight (Yeah)\\nRacks stack up Shaq height (Yeah)\\nJewelry on me, flashlight (Huh)\\nI been lit since last night (Woo)\\nHit him with that good good\\nMake a nigga act right (Ah)\\nBroke boys don\\'t deserve no pussy\\n(I know that\\'s right)\\n\\nBig bag bussin\\' out the Bentley Bentayga\\nMan, Balenciaga Bardi back and all these bitches fucked (Woo)\\nIt\\'s big bags bussin\\' out the Bentley Bentayga, man\\nBirkin bag, Bardi back and all you bitches fucked\\nIf it\\'s up, then it\\'s up, then it\\'s up, then it\\'s stuck\\nIf it\\'s up, then it\\'s up, then it\\'s up, then it\\'s stuck, huh (Ayy)\\nUp, then it\\'s up, if it\\'s up, then it\\'s stuck\\nIf it\\'s up, then it\\'s up, then it\\'s up, then it\\'s stuck, huh (Ayy)\\n\\nBitches ain\\'t fuckin\\' with me now and I can see why\\nDirty-ass, dusty-ass bitch, you got pink eye\\nBitches want smoke until I bring it to they doorstep\\nTell that bitch back back, breath smell like horse sex (Ha)\\nPut it on him now, he will never be the same (He won\\'t)\\nTatted on my ass \\'cause I really like the pain (Ah)\\nHe nutted on my butt, I said, \"I\\'m glad that you came\"\\nIf that nigga had a twin, I would let \\'em run a train (Skrrt)\\n\\nBig bag bussin\\' out the Bentley Bentayga\\nMan, Balenciaga Bardi back and all these bitches fucked (Woo)\\nIt\\'s big bags bussin\\' out the Bentley Bentayga, man\\nBirkin bag, Bardi back and all you bitches fucked (Ooh)\\nIf it\\'s up, then it\\'s up, then it\\'s up, then it\\'s stuck\\nIf it\\'s up, then it\\'s up, then it\\'s up, then it\\'s stuck, huh (Woo)\\nUp, then it\\'s up, if it\\'s up, then it\\'s stuck (Woo)\\nIf it\\'s up, then it\\'s up, then it\\'s up, then it\\'s stuck, huh\\nLook, gotta play it safe, huh\\nNo face, no case (Hahaha)'"
      ]
     },
     "execution_count": 16,
     "metadata": {},
     "output_type": "execute_result"
    }
   ],
   "source": [
    "str(genius_lyrics[1])"
   ]
  },
  {
   "cell_type": "code",
   "execution_count": 17,
   "metadata": {},
   "outputs": [],
   "source": [
    "# type(track_artist)\n",
    "# len(track_artist)"
   ]
  },
  {
   "cell_type": "code",
   "execution_count": 20,
   "metadata": {
    "scrolled": false
   },
   "outputs": [],
   "source": [
    "genius_lyrics = pd.Series((genius_lyrics[x] for x in range(0,len(genius_lyrics))))\n",
    "\n",
    "track = pd.Series((tracks[x] for x in range(0,len(tracks))))\n",
    "\n",
    "artist = pd.Series((artists[x] for x in range(0,len(artists))))"
   ]
  },
  {
   "cell_type": "code",
   "execution_count": 21,
   "metadata": {},
   "outputs": [],
   "source": [
    "# track"
   ]
  },
  {
   "cell_type": "code",
   "execution_count": 22,
   "metadata": {},
   "outputs": [],
   "source": [
    "# genius_lyrics"
   ]
  },
  {
   "cell_type": "code",
   "execution_count": 23,
   "metadata": {},
   "outputs": [],
   "source": [
    "data = {'track':track,\n",
    "        'artist':artist,\n",
    "        'lyrics':genius_lyrics}\n",
    "final_df = pd.concat(data, axis = 1)"
   ]
  },
  {
   "cell_type": "code",
   "execution_count": 24,
   "metadata": {},
   "outputs": [
    {
     "data": {
      "text/html": [
       "<div>\n",
       "<style scoped>\n",
       "    .dataframe tbody tr th:only-of-type {\n",
       "        vertical-align: middle;\n",
       "    }\n",
       "\n",
       "    .dataframe tbody tr th {\n",
       "        vertical-align: top;\n",
       "    }\n",
       "\n",
       "    .dataframe thead th {\n",
       "        text-align: right;\n",
       "    }\n",
       "</style>\n",
       "<table border=\"1\" class=\"dataframe\">\n",
       "  <thead>\n",
       "    <tr style=\"text-align: right;\">\n",
       "      <th></th>\n",
       "      <th>track</th>\n",
       "      <th>artist</th>\n",
       "      <th>lyrics</th>\n",
       "    </tr>\n",
       "  </thead>\n",
       "  <tbody>\n",
       "    <tr>\n",
       "      <th>0</th>\n",
       "      <td>Drivers License</td>\n",
       "      <td>Olivia Rodrigo</td>\n",
       "      <td>I got my driver's license last week\\nJust like...</td>\n",
       "    </tr>\n",
       "    <tr>\n",
       "      <th>1</th>\n",
       "      <td>Up</td>\n",
       "      <td>Cardi B</td>\n",
       "      <td>Up, up, up (Ayy), up (Uh), up, look (This is f...</td>\n",
       "    </tr>\n",
       "    <tr>\n",
       "      <th>2</th>\n",
       "      <td>Go Crazy</td>\n",
       "      <td>Chris Brown &amp; Young Thug</td>\n",
       "      <td>Oh, yeah\\n(Oh, is that Kaniel again?)\\nOh\\n(Ay...</td>\n",
       "    </tr>\n",
       "    <tr>\n",
       "      <th>3</th>\n",
       "      <td>34+35</td>\n",
       "      <td>Ariana Grande Feat Doja Cat &amp; Megan Thee Stallion</td>\n",
       "      <td>Mmm\\n\\nPuedes pensar que soy loca\\nPor la form...</td>\n",
       "    </tr>\n",
       "    <tr>\n",
       "      <th>4</th>\n",
       "      <td>Blinding Lights</td>\n",
       "      <td>The Weeknd</td>\n",
       "      <td>Yeah\\n\\nI've been tryna call\\nI've been on my ...</td>\n",
       "    </tr>\n",
       "    <tr>\n",
       "      <th>...</th>\n",
       "      <td>...</td>\n",
       "      <td>...</td>\n",
       "      <td>...</td>\n",
       "    </tr>\n",
       "    <tr>\n",
       "      <th>1357</th>\n",
       "      <td>Way Less Sad</td>\n",
       "      <td>AJR</td>\n",
       "      <td>I should move\\n'Cause New York is getting mudd...</td>\n",
       "    </tr>\n",
       "    <tr>\n",
       "      <th>1358</th>\n",
       "      <td>Drankin N Smokin</td>\n",
       "      <td>Future &amp; Lil Uzi Vert</td>\n",
       "      <td>Saggin' out the malls, we do the most, oh\\nHad...</td>\n",
       "    </tr>\n",
       "    <tr>\n",
       "      <th>1359</th>\n",
       "      <td>Country Again</td>\n",
       "      <td>Thomas Rhett</td>\n",
       "      <td>I quit huntin' with my daddy, guess I didn't m...</td>\n",
       "    </tr>\n",
       "    <tr>\n",
       "      <th>1360</th>\n",
       "      <td>Wasted On You</td>\n",
       "      <td>Morgan Wallen</td>\n",
       "      <td>I don't always wake up in the mornin'\\nPour my...</td>\n",
       "    </tr>\n",
       "    <tr>\n",
       "      <th>1361</th>\n",
       "      <td>Things A Man Oughta Know</td>\n",
       "      <td>Lainey Wilson</td>\n",
       "      <td>I can hook a trailer on a two-inch hitch\\nI ca...</td>\n",
       "    </tr>\n",
       "  </tbody>\n",
       "</table>\n",
       "<p>1362 rows × 3 columns</p>\n",
       "</div>"
      ],
      "text/plain": [
       "                         track  \\\n",
       "0              Drivers License   \n",
       "1                           Up   \n",
       "2                     Go Crazy   \n",
       "3                        34+35   \n",
       "4              Blinding Lights   \n",
       "...                        ...   \n",
       "1357              Way Less Sad   \n",
       "1358          Drankin N Smokin   \n",
       "1359             Country Again   \n",
       "1360             Wasted On You   \n",
       "1361  Things A Man Oughta Know   \n",
       "\n",
       "                                                 artist  \\\n",
       "0                                        Olivia Rodrigo   \n",
       "1                                               Cardi B   \n",
       "2                              Chris Brown & Young Thug   \n",
       "3     Ariana Grande Feat Doja Cat & Megan Thee Stallion   \n",
       "4                                            The Weeknd   \n",
       "...                                                 ...   \n",
       "1357                                                AJR   \n",
       "1358                              Future & Lil Uzi Vert   \n",
       "1359                                       Thomas Rhett   \n",
       "1360                                      Morgan Wallen   \n",
       "1361                                      Lainey Wilson   \n",
       "\n",
       "                                                 lyrics  \n",
       "0     I got my driver's license last week\\nJust like...  \n",
       "1     Up, up, up (Ayy), up (Uh), up, look (This is f...  \n",
       "2     Oh, yeah\\n(Oh, is that Kaniel again?)\\nOh\\n(Ay...  \n",
       "3     Mmm\\n\\nPuedes pensar que soy loca\\nPor la form...  \n",
       "4     Yeah\\n\\nI've been tryna call\\nI've been on my ...  \n",
       "...                                                 ...  \n",
       "1357  I should move\\n'Cause New York is getting mudd...  \n",
       "1358  Saggin' out the malls, we do the most, oh\\nHad...  \n",
       "1359  I quit huntin' with my daddy, guess I didn't m...  \n",
       "1360  I don't always wake up in the mornin'\\nPour my...  \n",
       "1361  I can hook a trailer on a two-inch hitch\\nI ca...  \n",
       "\n",
       "[1362 rows x 3 columns]"
      ]
     },
     "execution_count": 24,
     "metadata": {},
     "output_type": "execute_result"
    }
   ],
   "source": [
    "final_df"
   ]
  },
  {
   "cell_type": "code",
   "execution_count": 25,
   "metadata": {
    "scrolled": true
   },
   "outputs": [],
   "source": [
    "# final_df.to_csv('../genius_lyrics21.csv',index=False) #commenting out so i don't accidentally rerun"
   ]
  },
  {
   "cell_type": "code",
   "execution_count": 26,
   "metadata": {},
   "outputs": [],
   "source": []
  },
  {
   "cell_type": "code",
   "execution_count": 28,
   "metadata": {},
   "outputs": [],
   "source": [
    "# with open(\"../lyrics.txt\", \"w\", encoding='utf-8') as output:\n",
    "#     output.write(str(genius_lyrics))"
   ]
  },
  {
   "cell_type": "code",
   "execution_count": null,
   "metadata": {},
   "outputs": [],
   "source": []
  }
 ],
 "metadata": {
  "kernelspec": {
   "display_name": "Python 3",
   "language": "python",
   "name": "python3"
  },
  "language_info": {
   "codemirror_mode": {
    "name": "ipython",
    "version": 3
   },
   "file_extension": ".py",
   "mimetype": "text/x-python",
   "name": "python",
   "nbconvert_exporter": "python",
   "pygments_lexer": "ipython3",
   "version": "3.8.3"
  }
 },
 "nbformat": 4,
 "nbformat_minor": 4
}
