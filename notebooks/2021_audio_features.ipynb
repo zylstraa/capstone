{
 "cells": [
  {
   "cell_type": "code",
   "execution_count": 1,
   "metadata": {},
   "outputs": [],
   "source": [
    "import pandas as pd"
   ]
  },
  {
   "cell_type": "code",
   "execution_count": 2,
   "metadata": {},
   "outputs": [],
   "source": [
    "import pandas as pd\n",
    "import spotipy"
   ]
  },
  {
   "cell_type": "code",
   "execution_count": 3,
   "metadata": {},
   "outputs": [],
   "source": [
    "## Spotify secrets"
   ]
  },
  {
   "cell_type": "code",
   "execution_count": 4,
   "metadata": {},
   "outputs": [
    {
     "data": {
      "text/plain": [
       "True"
      ]
     },
     "execution_count": 4,
     "metadata": {},
     "output_type": "execute_result"
    }
   ],
   "source": [
    "from dotenv import load_dotenv\n",
    "import os\n",
    "load_dotenv()\n",
    "# did this work? commenting out so secrets are safe\n",
    "# print(os.getenv('SPOTIFY_CLIENT_ID'))\n",
    "# print(os.getenv('SPOTIFY_CLIENT_SECRET'))"
   ]
  },
  {
   "cell_type": "code",
   "execution_count": 5,
   "metadata": {},
   "outputs": [],
   "source": [
    "client_id  = os.getenv('SPOTIFY_CLIENT_ID')\n",
    "client_secret  = os.getenv('SPOTIFY_CLIENT_SECRET')"
   ]
  },
  {
   "cell_type": "code",
   "execution_count": 6,
   "metadata": {},
   "outputs": [],
   "source": [
    "import spotipy\n",
    "from spotipy.oauth2 import SpotifyClientCredentials\n",
    "\n",
    "auth_manager = SpotifyClientCredentials(client_id,client_secret)\n",
    "spotify = spotipy.Spotify(auth_manager = auth_manager)"
   ]
  },
  {
   "cell_type": "code",
   "execution_count": 7,
   "metadata": {},
   "outputs": [],
   "source": [
    "## Full 2021 dataset of audio features\n"
   ]
  },
  {
   "cell_type": "code",
   "execution_count": 8,
   "metadata": {},
   "outputs": [],
   "source": [
    "with open('../spotifyids21.txt') as f:\n",
    "    links = f.readlines()"
   ]
  },
  {
   "cell_type": "code",
   "execution_count": 9,
   "metadata": {},
   "outputs": [],
   "source": [
    "#let's chunk it into 100s at a time due to Spotify API limitation\n",
    "def chunks_gen(list,n):\n",
    "    for i in range(0, len(list), n):\n",
    "        yield list[i:i+n]"
   ]
  },
  {
   "cell_type": "code",
   "execution_count": 10,
   "metadata": {},
   "outputs": [],
   "source": [
    "chunks = list(chunks_gen(links,100))\n",
    "\n",
    "for i in range(len(chunks)):\n",
    "    chunks[i] = [x.replace('\\n','') for x in chunks[i]]"
   ]
  },
  {
   "cell_type": "code",
   "execution_count": 17,
   "metadata": {},
   "outputs": [],
   "source": [
    "af = pd.concat([pd.DataFrame([x for x in spotify.audio_features(tracks=chunks[i]) if x is not None]) \n",
    "                for i in range(0,len(chunks))],ignore_index=True).drop_duplicates() #have to drop duplicates since this is a weekly chart"
   ]
  },
  {
   "cell_type": "code",
   "execution_count": 18,
   "metadata": {},
   "outputs": [
    {
     "data": {
      "text/plain": [
       "['danceability',\n",
       " 'energy',\n",
       " 'key',\n",
       " 'loudness',\n",
       " 'mode',\n",
       " 'speechiness',\n",
       " 'acousticness',\n",
       " 'instrumentalness',\n",
       " 'liveness',\n",
       " 'valence',\n",
       " 'tempo',\n",
       " 'type',\n",
       " 'id',\n",
       " 'uri',\n",
       " 'track_href',\n",
       " 'analysis_url',\n",
       " 'duration_ms',\n",
       " 'time_signature']"
      ]
     },
     "execution_count": 18,
     "metadata": {},
     "output_type": "execute_result"
    }
   ],
   "source": [
    "af.columns.tolist()"
   ]
  },
  {
   "cell_type": "code",
   "execution_count": 19,
   "metadata": {},
   "outputs": [
    {
     "data": {
      "text/html": [
       "<div>\n",
       "<style scoped>\n",
       "    .dataframe tbody tr th:only-of-type {\n",
       "        vertical-align: middle;\n",
       "    }\n",
       "\n",
       "    .dataframe tbody tr th {\n",
       "        vertical-align: top;\n",
       "    }\n",
       "\n",
       "    .dataframe thead th {\n",
       "        text-align: right;\n",
       "    }\n",
       "</style>\n",
       "<table border=\"1\" class=\"dataframe\">\n",
       "  <thead>\n",
       "    <tr style=\"text-align: right;\">\n",
       "      <th></th>\n",
       "      <th>danceability</th>\n",
       "      <th>energy</th>\n",
       "      <th>key</th>\n",
       "      <th>loudness</th>\n",
       "      <th>mode</th>\n",
       "      <th>speechiness</th>\n",
       "      <th>acousticness</th>\n",
       "      <th>instrumentalness</th>\n",
       "      <th>liveness</th>\n",
       "      <th>valence</th>\n",
       "      <th>tempo</th>\n",
       "      <th>type</th>\n",
       "      <th>id</th>\n",
       "      <th>uri</th>\n",
       "      <th>track_href</th>\n",
       "      <th>analysis_url</th>\n",
       "      <th>duration_ms</th>\n",
       "      <th>time_signature</th>\n",
       "    </tr>\n",
       "  </thead>\n",
       "  <tbody>\n",
       "    <tr>\n",
       "      <th>1197</th>\n",
       "      <td>0.582</td>\n",
       "      <td>0.537</td>\n",
       "      <td>0</td>\n",
       "      <td>-9.229</td>\n",
       "      <td>1</td>\n",
       "      <td>0.619</td>\n",
       "      <td>0.129</td>\n",
       "      <td>0.0</td>\n",
       "      <td>0.0749</td>\n",
       "      <td>0.771</td>\n",
       "      <td>82.103</td>\n",
       "      <td>audio_features</td>\n",
       "      <td>0nqhKXDjsyBMvbeWmgijD0</td>\n",
       "      <td>spotify:track:0nqhKXDjsyBMvbeWmgijD0</td>\n",
       "      <td>https://api.spotify.com/v1/tracks/0nqhKXDjsyBM...</td>\n",
       "      <td>https://api.spotify.com/v1/audio-analysis/0nqh...</td>\n",
       "      <td>180930</td>\n",
       "      <td>4</td>\n",
       "    </tr>\n",
       "  </tbody>\n",
       "</table>\n",
       "</div>"
      ],
      "text/plain": [
       "      danceability  energy  key  loudness  mode  speechiness  acousticness  \\\n",
       "1197         0.582   0.537    0    -9.229     1        0.619         0.129   \n",
       "\n",
       "      instrumentalness  liveness  valence   tempo            type  \\\n",
       "1197               0.0    0.0749    0.771  82.103  audio_features   \n",
       "\n",
       "                          id                                   uri  \\\n",
       "1197  0nqhKXDjsyBMvbeWmgijD0  spotify:track:0nqhKXDjsyBMvbeWmgijD0   \n",
       "\n",
       "                                             track_href  \\\n",
       "1197  https://api.spotify.com/v1/tracks/0nqhKXDjsyBM...   \n",
       "\n",
       "                                           analysis_url  duration_ms  \\\n",
       "1197  https://api.spotify.com/v1/audio-analysis/0nqh...       180930   \n",
       "\n",
       "      time_signature  \n",
       "1197               4  "
      ]
     },
     "execution_count": 19,
     "metadata": {},
     "output_type": "execute_result"
    }
   ],
   "source": [
    "af[af.speechiness == af.speechiness.max()] \n",
    "#anything above a 0.66 is considered to be a podcast or some sort of speaking rather than music so this seems right"
   ]
  },
  {
   "cell_type": "code",
   "execution_count": 20,
   "metadata": {},
   "outputs": [
    {
     "data": {
      "text/plain": [
       "array([[<matplotlib.axes._subplots.AxesSubplot object at 0x00000187B19F7A30>]],\n",
       "      dtype=object)"
      ]
     },
     "execution_count": 20,
     "metadata": {},
     "output_type": "execute_result"
    },
    {
     "data": {
      "image/png": "[encoded data removed]",
      "text/plain": [
       "<Figure size 432x288 with 1 Axes>"
      ]
     },
     "metadata": {
      "needs_background": "light"
     },
     "output_type": "display_data"
    }
   ],
   "source": [
    "# af.speechiness.mean()\n",
    "af.hist(column='speechiness')"
   ]
  },
  {
   "cell_type": "code",
   "execution_count": 7,
   "metadata": {},
   "outputs": [],
   "source": [
    "# from pandas_profiling import ProfileReport\n",
    "\n",
    "# profile = ProfileReport(af)\n",
    "# profile"
   ]
  },
  {
   "cell_type": "code",
   "execution_count": 8,
   "metadata": {},
   "outputs": [
    {
     "data": {
      "text/html": [
       "<div>\n",
       "<style scoped>\n",
       "    .dataframe tbody tr th:only-of-type {\n",
       "        vertical-align: middle;\n",
       "    }\n",
       "\n",
       "    .dataframe tbody tr th {\n",
       "        vertical-align: top;\n",
       "    }\n",
       "\n",
       "    .dataframe thead th {\n",
       "        text-align: right;\n",
       "    }\n",
       "</style>\n",
       "<table border=\"1\" class=\"dataframe\">\n",
       "  <thead>\n",
       "    <tr style=\"text-align: right;\">\n",
       "      <th></th>\n",
       "      <th>danceability</th>\n",
       "      <th>energy</th>\n",
       "      <th>key</th>\n",
       "      <th>loudness</th>\n",
       "      <th>mode</th>\n",
       "      <th>speechiness</th>\n",
       "      <th>acousticness</th>\n",
       "      <th>instrumentalness</th>\n",
       "      <th>liveness</th>\n",
       "      <th>valence</th>\n",
       "      <th>tempo</th>\n",
       "      <th>type</th>\n",
       "      <th>id</th>\n",
       "      <th>uri</th>\n",
       "      <th>track_href</th>\n",
       "      <th>analysis_url</th>\n",
       "      <th>duration_ms</th>\n",
       "      <th>time_signature</th>\n",
       "    </tr>\n",
       "  </thead>\n",
       "  <tbody>\n",
       "    <tr>\n",
       "      <th>972</th>\n",
       "      <td>0.213</td>\n",
       "      <td>0.0743</td>\n",
       "      <td>9</td>\n",
       "      <td>-18.071</td>\n",
       "      <td>0</td>\n",
       "      <td>0.0408</td>\n",
       "      <td>0.344</td>\n",
       "      <td>0.000034</td>\n",
       "      <td>0.212</td>\n",
       "      <td>0.145</td>\n",
       "      <td>53.863</td>\n",
       "      <td>audio_features</td>\n",
       "      <td>416MsJxvxSKY96DCmbJIRs</td>\n",
       "      <td>spotify:track:416MsJxvxSKY96DCmbJIRs</td>\n",
       "      <td>https://api.spotify.com/v1/tracks/416MsJxvxSKY...</td>\n",
       "      <td>https://api.spotify.com/v1/audio-analysis/416M...</td>\n",
       "      <td>218507</td>\n",
       "      <td>4</td>\n",
       "    </tr>\n",
       "  </tbody>\n",
       "</table>\n",
       "</div>"
      ],
      "text/plain": [
       "     danceability  energy  key  loudness  mode  speechiness  acousticness  \\\n",
       "972         0.213  0.0743    9   -18.071     0       0.0408         0.344   \n",
       "\n",
       "     instrumentalness  liveness  valence   tempo            type  \\\n",
       "972          0.000034     0.212    0.145  53.863  audio_features   \n",
       "\n",
       "                         id                                   uri  \\\n",
       "972  416MsJxvxSKY96DCmbJIRs  spotify:track:416MsJxvxSKY96DCmbJIRs   \n",
       "\n",
       "                                            track_href  \\\n",
       "972  https://api.spotify.com/v1/tracks/416MsJxvxSKY...   \n",
       "\n",
       "                                          analysis_url  duration_ms  \\\n",
       "972  https://api.spotify.com/v1/audio-analysis/416M...       218507   \n",
       "\n",
       "     time_signature  \n",
       "972               4  "
      ]
     },
     "execution_count": 8,
     "metadata": {},
     "output_type": "execute_result"
    }
   ],
   "source": [
    "af[af.loudness == af.loudness.min()] \n",
    "#okay so 0 is the loudest and -60 is quietest"
   ]
  },
  {
   "cell_type": "markdown",
   "metadata": {},
   "source": [
    "### Vibe\n",
    "        what's our vibe? a bop, upbeat, lots of bass, with some rap? (danceability, energy/tempo, loudness, speechiness)\n",
    "tutorial here: https://www.python-graph-gallery.com/390-basic-radar-chart"
   ]
  },
  {
   "cell_type": "code",
   "execution_count": 21,
   "metadata": {},
   "outputs": [],
   "source": [
    "#set up dataframe for radar chart\n",
    "rdf = af.get(['danceability', 'energy', 'speechiness', 'tempo', 'loudness'])"
   ]
  },
  {
   "cell_type": "code",
   "execution_count": 22,
   "metadata": {},
   "outputs": [
    {
     "data": {
      "text/plain": [
       "danceability     0.2010\n",
       "energy           0.2030\n",
       "speechiness      0.0236\n",
       "tempo           64.8250\n",
       "loudness       -14.6190\n",
       "dtype: float64"
      ]
     },
     "execution_count": 22,
     "metadata": {},
     "output_type": "execute_result"
    }
   ],
   "source": [
    "# y axes need to be somewhat normalized\n",
    "rdf.min(axis=0)\n",
    "# rdf.max(axis=0)"
   ]
  },
  {
   "cell_type": "code",
   "execution_count": 23,
   "metadata": {},
   "outputs": [
    {
     "name": "stdout",
     "output_type": "stream",
     "text": [
      "MinMaxScaler()\n"
     ]
    }
   ],
   "source": [
    "from sklearn.preprocessing import MinMaxScaler\n",
    "# scales each feature to fit a 0-1 scale\n",
    "data = (rdf.get(['tempo','loudness','speechiness']))\n",
    "scaler = MinMaxScaler(clip=False)\n",
    "print(scaler.fit(data))"
   ]
  },
  {
   "cell_type": "code",
   "execution_count": 24,
   "metadata": {},
   "outputs": [
    {
     "name": "stdout",
     "output_type": "stream",
     "text": [
      "[203.903  -2.491   0.619]\n"
     ]
    }
   ],
   "source": [
    "print(scaler.data_max_)"
   ]
  },
  {
   "cell_type": "code",
   "execution_count": 25,
   "metadata": {},
   "outputs": [],
   "source": [
    "scaledy = pd.DataFrame(scaler.transform(data).tolist())"
   ]
  },
  {
   "cell_type": "code",
   "execution_count": 26,
   "metadata": {},
   "outputs": [],
   "source": [
    "rdf = pd.concat([scaledy,rdf],axis=1,join='outer').drop(['tempo','loudness','speechiness'],axis=1).rename({0:'tempo',1:'loudness',2:'speechiness'},axis=1)"
   ]
  },
  {
   "cell_type": "markdown",
   "metadata": {},
   "source": [
    "### Trying radar chart with plotly instead"
   ]
  },
  {
   "cell_type": "code",
   "execution_count": 34,
   "metadata": {},
   "outputs": [],
   "source": [
    "import plotly.express as px\n",
    "categories = list(rdf)\n",
    "mean = rdf.mean()"
   ]
  },
  {
   "cell_type": "code",
   "execution_count": 49,
   "metadata": {},
   "outputs": [
    {
     "data": {
      "application/vnd.plotly.v1+json": {
       "config": {
        "plotlyServerURL": "https://plotly.com"
       },
       "data": [
        {
         "fill": "toself",
         "r": [
          0.41011951100354727,
          0.6610370574235183,
          0.1744046700378578,
          0.6586554054054051,
          0.616503378378378
         ],
         "theta": [
          "tempo",
          "loudness",
          "speechiness",
          "danceability",
          "energy"
         ],
         "type": "scatterpolar"
        }
       ],
       "layout": {
        "polar": {
         "radialaxis": {
          "range": [
           0,
           1
          ],
          "visible": true
         }
        },
        "showlegend": false,
        "template": {
         "data": {
          "bar": [
           {
            "error_x": {
             "color": "#2a3f5f"
            },
            "error_y": {
             "color": "#2a3f5f"
            },
            "marker": {
             "line": {
              "color": "#E5ECF6",
              "width": 0.5
             }
            },
            "type": "bar"
           }
          ],
          "barpolar": [
           {
            "marker": {
             "line": {
              "color": "#E5ECF6",
              "width": 0.5
             }
            },
            "type": "barpolar"
           }
          ],
          "carpet": [
           {
            "aaxis": {
             "endlinecolor": "#2a3f5f",
             "gridcolor": "white",
             "linecolor": "white",
             "minorgridcolor": "white",
             "startlinecolor": "#2a3f5f"
            },
            "baxis": {
             "endlinecolor": "#2a3f5f",
             "gridcolor": "white",
             "linecolor": "white",
             "minorgridcolor": "white",
             "startlinecolor": "#2a3f5f"
            },
            "type": "carpet"
           }
          ],
          "choropleth": [
           {
            "colorbar": {
             "outlinewidth": 0,
             "ticks": ""
            },
            "type": "choropleth"
           }
          ],
          "contour": [
           {
            "colorbar": {
             "outlinewidth": 0,
             "ticks": ""
            },
            "colorscale": [
             [
              0,
              "#0d0887"
             ],
             [
              0.1111111111111111,
              "#46039f"
             ],
             [
              0.2222222222222222,
              "#7201a8"
             ],
             [
              0.3333333333333333,
              "#9c179e"
             ],
             [
              0.4444444444444444,
              "#bd3786"
             ],
             [
              0.5555555555555556,
              "#d8576b"
             ],
             [
              0.6666666666666666,
              "#ed7953"
             ],
             [
              0.7777777777777778,
              "#fb9f3a"
             ],
             [
              0.8888888888888888,
              "#fdca26"
             ],
             [
              1,
              "#f0f921"
             ]
            ],
            "type": "contour"
           }
          ],
          "contourcarpet": [
           {
            "colorbar": {
             "outlinewidth": 0,
             "ticks": ""
            },
            "type": "contourcarpet"
           }
          ],
          "heatmap": [
           {
            "colorbar": {
             "outlinewidth": 0,
             "ticks": ""
            },
            "colorscale": [
             [
              0,
              "#0d0887"
             ],
             [
              0.1111111111111111,
              "#46039f"
             ],
             [
              0.2222222222222222,
              "#7201a8"
             ],
             [
              0.3333333333333333,
              "#9c179e"
             ],
             [
              0.4444444444444444,
              "#bd3786"
             ],
             [
              0.5555555555555556,
              "#d8576b"
             ],
             [
              0.6666666666666666,
              "#ed7953"
             ],
             [
              0.7777777777777778,
              "#fb9f3a"
             ],
             [
              0.8888888888888888,
              "#fdca26"
             ],
             [
              1,
              "#f0f921"
             ]
            ],
            "type": "heatmap"
           }
          ],
          "heatmapgl": [
           {
            "colorbar": {
             "outlinewidth": 0,
             "ticks": ""
            },
            "colorscale": [
             [
              0,
              "#0d0887"
             ],
             [
              0.1111111111111111,
              "#46039f"
             ],
             [
              0.2222222222222222,
              "#7201a8"
             ],
             [
              0.3333333333333333,
              "#9c179e"
             ],
             [
              0.4444444444444444,
              "#bd3786"
             ],
             [
              0.5555555555555556,
              "#d8576b"
             ],
             [
              0.6666666666666666,
              "#ed7953"
             ],
             [
              0.7777777777777778,
              "#fb9f3a"
             ],
             [
              0.8888888888888888,
              "#fdca26"
             ],
             [
              1,
              "#f0f921"
             ]
            ],
            "type": "heatmapgl"
           }
          ],
          "histogram": [
           {
            "marker": {
             "colorbar": {
              "outlinewidth": 0,
              "ticks": ""
             }
            },
            "type": "histogram"
           }
          ],
          "histogram2d": [
           {
            "colorbar": {
             "outlinewidth": 0,
             "ticks": ""
            },
            "colorscale": [
             [
              0,
              "#0d0887"
             ],
             [
              0.1111111111111111,
              "#46039f"
             ],
             [
              0.2222222222222222,
              "#7201a8"
             ],
             [
              0.3333333333333333,
              "#9c179e"
             ],
             [
              0.4444444444444444,
              "#bd3786"
             ],
             [
              0.5555555555555556,
              "#d8576b"
             ],
             [
              0.6666666666666666,
              "#ed7953"
             ],
             [
              0.7777777777777778,
              "#fb9f3a"
             ],
             [
              0.8888888888888888,
              "#fdca26"
             ],
             [
              1,
              "#f0f921"
             ]
            ],
            "type": "histogram2d"
           }
          ],
          "histogram2dcontour": [
           {
            "colorbar": {
             "outlinewidth": 0,
             "ticks": ""
            },
            "colorscale": [
             [
              0,
              "#0d0887"
             ],
             [
              0.1111111111111111,
              "#46039f"
             ],
             [
              0.2222222222222222,
              "#7201a8"
             ],
             [
              0.3333333333333333,
              "#9c179e"
             ],
             [
              0.4444444444444444,
              "#bd3786"
             ],
             [
              0.5555555555555556,
              "#d8576b"
             ],
             [
              0.6666666666666666,
              "#ed7953"
             ],
             [
              0.7777777777777778,
              "#fb9f3a"
             ],
             [
              0.8888888888888888,
              "#fdca26"
             ],
             [
              1,
              "#f0f921"
             ]
            ],
            "type": "histogram2dcontour"
           }
          ],
          "mesh3d": [
           {
            "colorbar": {
             "outlinewidth": 0,
             "ticks": ""
            },
            "type": "mesh3d"
           }
          ],
          "parcoords": [
           {
            "line": {
             "colorbar": {
              "outlinewidth": 0,
              "ticks": ""
             }
            },
            "type": "parcoords"
           }
          ],
          "pie": [
           {
            "automargin": true,
            "type": "pie"
           }
          ],
          "scatter": [
           {
            "marker": {
             "colorbar": {
              "outlinewidth": 0,
              "ticks": ""
             }
            },
            "type": "scatter"
           }
          ],
          "scatter3d": [
           {
            "line": {
             "colorbar": {
              "outlinewidth": 0,
              "ticks": ""
             }
            },
            "marker": {
             "colorbar": {
              "outlinewidth": 0,
              "ticks": ""
             }
            },
            "type": "scatter3d"
           }
          ],
          "scattercarpet": [
           {
            "marker": {
             "colorbar": {
              "outlinewidth": 0,
              "ticks": ""
             }
            },
            "type": "scattercarpet"
           }
          ],
          "scattergeo": [
           {
            "marker": {
             "colorbar": {
              "outlinewidth": 0,
              "ticks": ""
             }
            },
            "type": "scattergeo"
           }
          ],
          "scattergl": [
           {
            "marker": {
             "colorbar": {
              "outlinewidth": 0,
              "ticks": ""
             }
            },
            "type": "scattergl"
           }
          ],
          "scattermapbox": [
           {
            "marker": {
             "colorbar": {
              "outlinewidth": 0,
              "ticks": ""
             }
            },
            "type": "scattermapbox"
           }
          ],
          "scatterpolar": [
           {
            "marker": {
             "colorbar": {
              "outlinewidth": 0,
              "ticks": ""
             }
            },
            "type": "scatterpolar"
           }
          ],
          "scatterpolargl": [
           {
            "marker": {
             "colorbar": {
              "outlinewidth": 0,
              "ticks": ""
             }
            },
            "type": "scatterpolargl"
           }
          ],
          "scatterternary": [
           {
            "marker": {
             "colorbar": {
              "outlinewidth": 0,
              "ticks": ""
             }
            },
            "type": "scatterternary"
           }
          ],
          "surface": [
           {
            "colorbar": {
             "outlinewidth": 0,
             "ticks": ""
            },
            "colorscale": [
             [
              0,
              "#0d0887"
             ],
             [
              0.1111111111111111,
              "#46039f"
             ],
             [
              0.2222222222222222,
              "#7201a8"
             ],
             [
              0.3333333333333333,
              "#9c179e"
             ],
             [
              0.4444444444444444,
              "#bd3786"
             ],
             [
              0.5555555555555556,
              "#d8576b"
             ],
             [
              0.6666666666666666,
              "#ed7953"
             ],
             [
              0.7777777777777778,
              "#fb9f3a"
             ],
             [
              0.8888888888888888,
              "#fdca26"
             ],
             [
              1,
              "#f0f921"
             ]
            ],
            "type": "surface"
           }
          ],
          "table": [
           {
            "cells": {
             "fill": {
              "color": "#EBF0F8"
             },
             "line": {
              "color": "white"
             }
            },
            "header": {
             "fill": {
              "color": "#C8D4E3"
             },
             "line": {
              "color": "white"
             }
            },
            "type": "table"
           }
          ]
         },
         "layout": {
          "annotationdefaults": {
           "arrowcolor": "#2a3f5f",
           "arrowhead": 0,
           "arrowwidth": 1
          },
          "coloraxis": {
           "colorbar": {
            "outlinewidth": 0,
            "ticks": ""
           }
          },
          "colorscale": {
           "diverging": [
            [
             0,
             "#8e0152"
            ],
            [
             0.1,
             "#c51b7d"
            ],
            [
             0.2,
             "#de77ae"
            ],
            [
             0.3,
             "#f1b6da"
            ],
            [
             0.4,
             "#fde0ef"
            ],
            [
             0.5,
             "#f7f7f7"
            ],
            [
             0.6,
             "#e6f5d0"
            ],
            [
             0.7,
             "#b8e186"
            ],
            [
             0.8,
             "#7fbc41"
            ],
            [
             0.9,
             "#4d9221"
            ],
            [
             1,
             "#276419"
            ]
           ],
           "sequential": [
            [
             0,
             "#0d0887"
            ],
            [
             0.1111111111111111,
             "#46039f"
            ],
            [
             0.2222222222222222,
             "#7201a8"
            ],
            [
             0.3333333333333333,
             "#9c179e"
            ],
            [
             0.4444444444444444,
             "#bd3786"
            ],
            [
             0.5555555555555556,
             "#d8576b"
            ],
            [
             0.6666666666666666,
             "#ed7953"
            ],
            [
             0.7777777777777778,
             "#fb9f3a"
            ],
            [
             0.8888888888888888,
             "#fdca26"
            ],
            [
             1,
             "#f0f921"
            ]
           ],
           "sequentialminus": [
            [
             0,
             "#0d0887"
            ],
            [
             0.1111111111111111,
             "#46039f"
            ],
            [
             0.2222222222222222,
             "#7201a8"
            ],
            [
             0.3333333333333333,
             "#9c179e"
            ],
            [
             0.4444444444444444,
             "#bd3786"
            ],
            [
             0.5555555555555556,
             "#d8576b"
            ],
            [
             0.6666666666666666,
             "#ed7953"
            ],
            [
             0.7777777777777778,
             "#fb9f3a"
            ],
            [
             0.8888888888888888,
             "#fdca26"
            ],
            [
             1,
             "#f0f921"
            ]
           ]
          },
          "colorway": [
           "#636efa",
           "#EF553B",
           "#00cc96",
           "#ab63fa",
           "#FFA15A",
           "#19d3f3",
           "#FF6692",
           "#B6E880",
           "#FF97FF",
           "#FECB52"
          ],
          "font": {
           "color": "#2a3f5f"
          },
          "geo": {
           "bgcolor": "white",
           "lakecolor": "white",
           "landcolor": "#E5ECF6",
           "showlakes": true,
           "showland": true,
           "subunitcolor": "white"
          },
          "hoverlabel": {
           "align": "left"
          },
          "hovermode": "closest",
          "mapbox": {
           "style": "light"
          },
          "paper_bgcolor": "white",
          "plot_bgcolor": "#E5ECF6",
          "polar": {
           "angularaxis": {
            "gridcolor": "white",
            "linecolor": "white",
            "ticks": ""
           },
           "bgcolor": "#E5ECF6",
           "radialaxis": {
            "gridcolor": "white",
            "linecolor": "white",
            "ticks": ""
           }
          },
          "scene": {
           "xaxis": {
            "backgroundcolor": "#E5ECF6",
            "gridcolor": "white",
            "gridwidth": 2,
            "linecolor": "white",
            "showbackground": true,
            "ticks": "",
            "zerolinecolor": "white"
           },
           "yaxis": {
            "backgroundcolor": "#E5ECF6",
            "gridcolor": "white",
            "gridwidth": 2,
            "linecolor": "white",
            "showbackground": true,
            "ticks": "",
            "zerolinecolor": "white"
           },
           "zaxis": {
            "backgroundcolor": "#E5ECF6",
            "gridcolor": "white",
            "gridwidth": 2,
            "linecolor": "white",
            "showbackground": true,
            "ticks": "",
            "zerolinecolor": "white"
           }
          },
          "shapedefaults": {
           "line": {
            "color": "#2a3f5f"
           }
          },
          "ternary": {
           "aaxis": {
            "gridcolor": "white",
            "linecolor": "white",
            "ticks": ""
           },
           "baxis": {
            "gridcolor": "white",
            "linecolor": "white",
            "ticks": ""
           },
           "bgcolor": "#E5ECF6",
           "caxis": {
            "gridcolor": "white",
            "linecolor": "white",
            "ticks": ""
           }
          },
          "title": {
           "x": 0.05
          },
          "xaxis": {
           "automargin": true,
           "gridcolor": "white",
           "linecolor": "white",
           "ticks": "",
           "title": {
            "standoff": 15
           },
           "zerolinecolor": "white",
           "zerolinewidth": 2
          },
          "yaxis": {
           "automargin": true,
           "gridcolor": "white",
           "linecolor": "white",
           "ticks": "",
           "title": {
            "standoff": 15
           },
           "zerolinecolor": "white",
           "zerolinewidth": 2
          }
         }
        }
       }
      },
      "text/html": [
       "<div>                            <div id=\"5c1e994e-3642-4095-856d-409cf8dd15ef\" class=\"plotly-graph-div\" style=\"height:525px; width:100%;\"></div>            <script type=\"text/javascript\">                require([\"plotly\"], function(Plotly) {                    window.PLOTLYENV=window.PLOTLYENV || {};                                    if (document.getElementById(\"5c1e994e-3642-4095-856d-409cf8dd15ef\")) {                    Plotly.newPlot(                        \"5c1e994e-3642-4095-856d-409cf8dd15ef\",                        [{\"fill\": \"toself\", \"r\": [0.41011951100354727, 0.6610370574235183, 0.1744046700378578, 0.6586554054054051, 0.616503378378378], \"theta\": [\"tempo\", \"loudness\", \"speechiness\", \"danceability\", \"energy\"], \"type\": \"scatterpolar\"}],                        {\"polar\": {\"radialaxis\": {\"range\": [0, 1], \"visible\": true}}, \"showlegend\": false, \"template\": {\"data\": {\"bar\": [{\"error_x\": {\"color\": \"#2a3f5f\"}, \"error_y\": {\"color\": \"#2a3f5f\"}, \"marker\": {\"line\": {\"color\": \"#E5ECF6\", \"width\": 0.5}}, \"type\": \"bar\"}], \"barpolar\": [{\"marker\": {\"line\": {\"color\": \"#E5ECF6\", \"width\": 0.5}}, \"type\": \"barpolar\"}], \"carpet\": [{\"aaxis\": {\"endlinecolor\": \"#2a3f5f\", \"gridcolor\": \"white\", \"linecolor\": \"white\", \"minorgridcolor\": \"white\", \"startlinecolor\": \"#2a3f5f\"}, \"baxis\": {\"endlinecolor\": \"#2a3f5f\", \"gridcolor\": \"white\", \"linecolor\": \"white\", \"minorgridcolor\": \"white\", \"startlinecolor\": \"#2a3f5f\"}, \"type\": \"carpet\"}], \"choropleth\": [{\"colorbar\": {\"outlinewidth\": 0, \"ticks\": \"\"}, \"type\": \"choropleth\"}], \"contour\": [{\"colorbar\": {\"outlinewidth\": 0, \"ticks\": \"\"}, \"colorscale\": [[0.0, \"#0d0887\"], [0.1111111111111111, \"#46039f\"], [0.2222222222222222, \"#7201a8\"], [0.3333333333333333, \"#9c179e\"], [0.4444444444444444, \"#bd3786\"], [0.5555555555555556, \"#d8576b\"], [0.6666666666666666, \"#ed7953\"], [0.7777777777777778, \"#fb9f3a\"], [0.8888888888888888, \"#fdca26\"], [1.0, \"#f0f921\"]], \"type\": \"contour\"}], \"contourcarpet\": [{\"colorbar\": {\"outlinewidth\": 0, \"ticks\": \"\"}, \"type\": \"contourcarpet\"}], \"heatmap\": [{\"colorbar\": {\"outlinewidth\": 0, \"ticks\": \"\"}, \"colorscale\": [[0.0, \"#0d0887\"], [0.1111111111111111, \"#46039f\"], [0.2222222222222222, \"#7201a8\"], [0.3333333333333333, \"#9c179e\"], [0.4444444444444444, \"#bd3786\"], [0.5555555555555556, \"#d8576b\"], [0.6666666666666666, \"#ed7953\"], [0.7777777777777778, \"#fb9f3a\"], [0.8888888888888888, \"#fdca26\"], [1.0, \"#f0f921\"]], \"type\": \"heatmap\"}], \"heatmapgl\": [{\"colorbar\": {\"outlinewidth\": 0, \"ticks\": \"\"}, \"colorscale\": [[0.0, \"#0d0887\"], [0.1111111111111111, \"#46039f\"], [0.2222222222222222, \"#7201a8\"], [0.3333333333333333, \"#9c179e\"], [0.4444444444444444, \"#bd3786\"], [0.5555555555555556, \"#d8576b\"], [0.6666666666666666, \"#ed7953\"], [0.7777777777777778, \"#fb9f3a\"], [0.8888888888888888, \"#fdca26\"], [1.0, \"#f0f921\"]], \"type\": \"heatmapgl\"}], \"histogram\": [{\"marker\": {\"colorbar\": {\"outlinewidth\": 0, \"ticks\": \"\"}}, \"type\": \"histogram\"}], \"histogram2d\": [{\"colorbar\": {\"outlinewidth\": 0, \"ticks\": \"\"}, \"colorscale\": [[0.0, \"#0d0887\"], [0.1111111111111111, \"#46039f\"], [0.2222222222222222, \"#7201a8\"], [0.3333333333333333, \"#9c179e\"], [0.4444444444444444, \"#bd3786\"], [0.5555555555555556, \"#d8576b\"], [0.6666666666666666, \"#ed7953\"], [0.7777777777777778, \"#fb9f3a\"], [0.8888888888888888, \"#fdca26\"], [1.0, \"#f0f921\"]], \"type\": \"histogram2d\"}], \"histogram2dcontour\": [{\"colorbar\": {\"outlinewidth\": 0, \"ticks\": \"\"}, \"colorscale\": [[0.0, \"#0d0887\"], [0.1111111111111111, \"#46039f\"], [0.2222222222222222, \"#7201a8\"], [0.3333333333333333, \"#9c179e\"], [0.4444444444444444, \"#bd3786\"], [0.5555555555555556, \"#d8576b\"], [0.6666666666666666, \"#ed7953\"], [0.7777777777777778, \"#fb9f3a\"], [0.8888888888888888, \"#fdca26\"], [1.0, \"#f0f921\"]], \"type\": \"histogram2dcontour\"}], \"mesh3d\": [{\"colorbar\": {\"outlinewidth\": 0, \"ticks\": \"\"}, \"type\": \"mesh3d\"}], \"parcoords\": [{\"line\": {\"colorbar\": {\"outlinewidth\": 0, \"ticks\": \"\"}}, \"type\": \"parcoords\"}], \"pie\": [{\"automargin\": true, \"type\": \"pie\"}], \"scatter\": [{\"marker\": {\"colorbar\": {\"outlinewidth\": 0, \"ticks\": \"\"}}, \"type\": \"scatter\"}], \"scatter3d\": [{\"line\": {\"colorbar\": {\"outlinewidth\": 0, \"ticks\": \"\"}}, \"marker\": {\"colorbar\": {\"outlinewidth\": 0, \"ticks\": \"\"}}, \"type\": \"scatter3d\"}], \"scattercarpet\": [{\"marker\": {\"colorbar\": {\"outlinewidth\": 0, \"ticks\": \"\"}}, \"type\": \"scattercarpet\"}], \"scattergeo\": [{\"marker\": {\"colorbar\": {\"outlinewidth\": 0, \"ticks\": \"\"}}, \"type\": \"scattergeo\"}], \"scattergl\": [{\"marker\": {\"colorbar\": {\"outlinewidth\": 0, \"ticks\": \"\"}}, \"type\": \"scattergl\"}], \"scattermapbox\": [{\"marker\": {\"colorbar\": {\"outlinewidth\": 0, \"ticks\": \"\"}}, \"type\": \"scattermapbox\"}], \"scatterpolar\": [{\"marker\": {\"colorbar\": {\"outlinewidth\": 0, \"ticks\": \"\"}}, \"type\": \"scatterpolar\"}], \"scatterpolargl\": [{\"marker\": {\"colorbar\": {\"outlinewidth\": 0, \"ticks\": \"\"}}, \"type\": \"scatterpolargl\"}], \"scatterternary\": [{\"marker\": {\"colorbar\": {\"outlinewidth\": 0, \"ticks\": \"\"}}, \"type\": \"scatterternary\"}], \"surface\": [{\"colorbar\": {\"outlinewidth\": 0, \"ticks\": \"\"}, \"colorscale\": [[0.0, \"#0d0887\"], [0.1111111111111111, \"#46039f\"], [0.2222222222222222, \"#7201a8\"], [0.3333333333333333, \"#9c179e\"], [0.4444444444444444, \"#bd3786\"], [0.5555555555555556, \"#d8576b\"], [0.6666666666666666, \"#ed7953\"], [0.7777777777777778, \"#fb9f3a\"], [0.8888888888888888, \"#fdca26\"], [1.0, \"#f0f921\"]], \"type\": \"surface\"}], \"table\": [{\"cells\": {\"fill\": {\"color\": \"#EBF0F8\"}, \"line\": {\"color\": \"white\"}}, \"header\": {\"fill\": {\"color\": \"#C8D4E3\"}, \"line\": {\"color\": \"white\"}}, \"type\": \"table\"}]}, \"layout\": {\"annotationdefaults\": {\"arrowcolor\": \"#2a3f5f\", \"arrowhead\": 0, \"arrowwidth\": 1}, \"coloraxis\": {\"colorbar\": {\"outlinewidth\": 0, \"ticks\": \"\"}}, \"colorscale\": {\"diverging\": [[0, \"#8e0152\"], [0.1, \"#c51b7d\"], [0.2, \"#de77ae\"], [0.3, \"#f1b6da\"], [0.4, \"#fde0ef\"], [0.5, \"#f7f7f7\"], [0.6, \"#e6f5d0\"], [0.7, \"#b8e186\"], [0.8, \"#7fbc41\"], [0.9, \"#4d9221\"], [1, \"#276419\"]], \"sequential\": [[0.0, \"#0d0887\"], [0.1111111111111111, \"#46039f\"], [0.2222222222222222, \"#7201a8\"], [0.3333333333333333, \"#9c179e\"], [0.4444444444444444, \"#bd3786\"], [0.5555555555555556, \"#d8576b\"], [0.6666666666666666, \"#ed7953\"], [0.7777777777777778, \"#fb9f3a\"], [0.8888888888888888, \"#fdca26\"], [1.0, \"#f0f921\"]], \"sequentialminus\": [[0.0, \"#0d0887\"], [0.1111111111111111, \"#46039f\"], [0.2222222222222222, \"#7201a8\"], [0.3333333333333333, \"#9c179e\"], [0.4444444444444444, \"#bd3786\"], [0.5555555555555556, \"#d8576b\"], [0.6666666666666666, \"#ed7953\"], [0.7777777777777778, \"#fb9f3a\"], [0.8888888888888888, \"#fdca26\"], [1.0, \"#f0f921\"]]}, \"colorway\": [\"#636efa\", \"#EF553B\", \"#00cc96\", \"#ab63fa\", \"#FFA15A\", \"#19d3f3\", \"#FF6692\", \"#B6E880\", \"#FF97FF\", \"#FECB52\"], \"font\": {\"color\": \"#2a3f5f\"}, \"geo\": {\"bgcolor\": \"white\", \"lakecolor\": \"white\", \"landcolor\": \"#E5ECF6\", \"showlakes\": true, \"showland\": true, \"subunitcolor\": \"white\"}, \"hoverlabel\": {\"align\": \"left\"}, \"hovermode\": \"closest\", \"mapbox\": {\"style\": \"light\"}, \"paper_bgcolor\": \"white\", \"plot_bgcolor\": \"#E5ECF6\", \"polar\": {\"angularaxis\": {\"gridcolor\": \"white\", \"linecolor\": \"white\", \"ticks\": \"\"}, \"bgcolor\": \"#E5ECF6\", \"radialaxis\": {\"gridcolor\": \"white\", \"linecolor\": \"white\", \"ticks\": \"\"}}, \"scene\": {\"xaxis\": {\"backgroundcolor\": \"#E5ECF6\", \"gridcolor\": \"white\", \"gridwidth\": 2, \"linecolor\": \"white\", \"showbackground\": true, \"ticks\": \"\", \"zerolinecolor\": \"white\"}, \"yaxis\": {\"backgroundcolor\": \"#E5ECF6\", \"gridcolor\": \"white\", \"gridwidth\": 2, \"linecolor\": \"white\", \"showbackground\": true, \"ticks\": \"\", \"zerolinecolor\": \"white\"}, \"zaxis\": {\"backgroundcolor\": \"#E5ECF6\", \"gridcolor\": \"white\", \"gridwidth\": 2, \"linecolor\": \"white\", \"showbackground\": true, \"ticks\": \"\", \"zerolinecolor\": \"white\"}}, \"shapedefaults\": {\"line\": {\"color\": \"#2a3f5f\"}}, \"ternary\": {\"aaxis\": {\"gridcolor\": \"white\", \"linecolor\": \"white\", \"ticks\": \"\"}, \"baxis\": {\"gridcolor\": \"white\", \"linecolor\": \"white\", \"ticks\": \"\"}, \"bgcolor\": \"#E5ECF6\", \"caxis\": {\"gridcolor\": \"white\", \"linecolor\": \"white\", \"ticks\": \"\"}}, \"title\": {\"x\": 0.05}, \"xaxis\": {\"automargin\": true, \"gridcolor\": \"white\", \"linecolor\": \"white\", \"ticks\": \"\", \"title\": {\"standoff\": 15}, \"zerolinecolor\": \"white\", \"zerolinewidth\": 2}, \"yaxis\": {\"automargin\": true, \"gridcolor\": \"white\", \"linecolor\": \"white\", \"ticks\": \"\", \"title\": {\"standoff\": 15}, \"zerolinecolor\": \"white\", \"zerolinewidth\": 2}}}},                        {\"responsive\": true}                    ).then(function(){\n",
       "                            \n",
       "var gd = document.getElementById('5c1e994e-3642-4095-856d-409cf8dd15ef');\n",
       "var x = new MutationObserver(function (mutations, observer) {{\n",
       "        var display = window.getComputedStyle(gd).display;\n",
       "        if (!display || display === 'none') {{\n",
       "            console.log([gd, 'removed!']);\n",
       "            Plotly.purge(gd);\n",
       "            observer.disconnect();\n",
       "        }}\n",
       "}});\n",
       "\n",
       "// Listen for the removal of the full notebook cells\n",
       "var notebookContainer = gd.closest('#notebook-container');\n",
       "if (notebookContainer) {{\n",
       "    x.observe(notebookContainer, {childList: true});\n",
       "}}\n",
       "\n",
       "// Listen for the clearing of the current output cell\n",
       "var outputEl = gd.closest('.output');\n",
       "if (outputEl) {{\n",
       "    x.observe(outputEl, {childList: true});\n",
       "}}\n",
       "\n",
       "                        })                };                });            </script>        </div>"
      ]
     },
     "metadata": {},
     "output_type": "display_data"
    }
   ],
   "source": [
    "import plotly.graph_objects as go\n",
    "\n",
    "fig = go.Figure()\n",
    "\n",
    "\n",
    "fig.add_trace(go.Scatterpolar(\n",
    "  r=mean,\n",
    "  theta=categories,\n",
    "  fill='toself'\n",
    "))\n",
    "\n",
    "fig.update_layout(\n",
    "  polar=dict(\n",
    "    radialaxis=dict(\n",
    "      visible=True,\n",
    "        range=[0,1]\n",
    "    ),\n",
    "  ),\n",
    "  showlegend=False\n",
    ")\n",
    "\n",
    "fig.show()"
   ]
  },
  {
   "cell_type": "code",
   "execution_count": 40,
   "metadata": {},
   "outputs": [],
   "source": [
    "import matplotlib.pyplot as plt\n",
    "import pandas as pd\n",
    "from math import pi"
   ]
  },
  {
   "cell_type": "code",
   "execution_count": 41,
   "metadata": {},
   "outputs": [],
   "source": [
    "# number of variables\n",
    "categories = list(rdf)\n",
    "N = len(categories)"
   ]
  },
  {
   "cell_type": "code",
   "execution_count": 42,
   "metadata": {},
   "outputs": [
    {
     "data": {
      "text/plain": [
       "[0.18825407325385762,\n",
       " 0.9027044854881268,\n",
       " 0.020994289553241514,\n",
       " 0.701,\n",
       " 0.716,\n",
       " 0.18825407325385762]"
      ]
     },
     "execution_count": 42,
     "metadata": {},
     "output_type": "execute_result"
    }
   ],
   "source": [
    "# We are going to plot the first line of the data frame.\n",
    "# But we need to repeat the first value to close the circular graph:\n",
    "values=rdf.loc[0].values.flatten().tolist()\n",
    "values += values[:1]\n",
    "values"
   ]
  },
  {
   "cell_type": "code",
   "execution_count": 43,
   "metadata": {},
   "outputs": [],
   "source": [
    "# What will be the angle of each axis in the plot? (we divide the plot / number of variable)\n",
    "angles = [n / float(N) * 2 * pi for n in range(N)]\n",
    "angles += angles[:1]"
   ]
  },
  {
   "cell_type": "code",
   "execution_count": 44,
   "metadata": {},
   "outputs": [
    {
     "data": {
      "image/png": "[encoded data removed]",
      "text/plain": [
       "<Figure size 432x288 with 1 Axes>"
      ]
     },
     "metadata": {
      "needs_background": "dark"
     },
     "output_type": "display_data"
    }
   ],
   "source": [
    "# Initialise the spider plot\n",
    "ax = plt.subplot(111, polar=True)\n",
    " \n",
    "# Draw one axe per variable + add labels\n",
    "plt.xticks(angles[:-1], categories, color='grey', size=8)\n",
    " \n",
    "# Draw ylabels\n",
    "ax.set_rlabel_position(0)\n",
    "plt.yticks( color=\"grey\", size=3)\n",
    "plt.ylim(0,1)\n",
    " \n",
    "# Plot data\n",
    "ax.plot(angles, values, linewidth=1, linestyle='solid')\n",
    " \n",
    "# Fill area\n",
    "ax.fill(angles, values, 'b', alpha=0.1)\n",
    "\n",
    "# Show the graph\n",
    "plt.show()"
   ]
  },
  {
   "cell_type": "markdown",
   "metadata": {},
   "source": [
    "### Mood \n",
    "        plotting energy vs valence\n",
    "        high energy, valence = happy\n",
    "        low energy, valence = sad\n",
    "        high energy, low valence = angsty\n",
    "        low energy, high valence = chill"
   ]
  },
  {
   "cell_type": "code",
   "execution_count": 42,
   "metadata": {
    "scrolled": false
   },
   "outputs": [
    {
     "data": {
      "application/vnd.plotly.v1+json": {
       "config": {
        "plotlyServerURL": "https://plotly.com"
       },
       "data": [
        {
         "mode": "markers",
         "name": "markers",
         "type": "scatter",
         "x": [
          0.52,
          0.822,
          0.868,
          0.454,
          0.756,
          0.629,
          0.612,
          0.835,
          0.964,
          0.864,
          0.662,
          0.843,
          0.709,
          0.739,
          0.408,
          0.212,
          0.58,
          0.609,
          0.527,
          0.609,
          0.646,
          0.633,
          0.73,
          0.626,
          0.6,
          0.33,
          0.361,
          0.349,
          0.136,
          0.251,
          0.493,
          0.511,
          0.449,
          0.623,
          0.612,
          0.609,
          0.718,
          0.385,
          0.136,
          0.43,
          0.467,
          0.586,
          0.25,
          0.57,
          0.935,
          0.622,
          0.332,
          0.458,
          0.522,
          0.431,
          0.494,
          0.329,
          0.293,
          0.311,
          0.896,
          0.794,
          0.917,
          0.595,
          0.542,
          0.772,
          0.808,
          0.534,
          0.587,
          0.775,
          0.778,
          0.924,
          0.602,
          0.574,
          0.444,
          0.391,
          0.802,
          0.509,
          0.442,
          0.534,
          0.355,
          0.655,
          0.328,
          0.135,
          0.465,
          0.629,
          0.86,
          0.201,
          0.354,
          0.518,
          0.679,
          0.388,
          0.663,
          0.108,
          0.744,
          0.725,
          0.405,
          0.647,
          0.318,
          0.436,
          0.654,
          0.566,
          0.772,
          0.195,
          0.308,
          0.0772,
          0.509,
          0.575,
          0.73,
          0.253,
          0.605,
          0.29,
          0.298,
          0.368,
          0.809,
          0.623,
          0.354,
          0.669,
          0.881,
          0.784,
          0.924,
          0.485,
          0.294,
          0.765,
          0.831,
          0.803,
          0.815,
          0.432,
          0.619,
          0.361,
          0.338,
          0.808,
          0.49,
          0.461,
          0.886,
          0.706,
          0.769,
          0.408,
          0.436,
          0.645,
          0.815,
          0.693,
          0.588,
          0.287,
          0.477,
          0.703,
          0.352,
          0.974,
          0.767,
          0.562,
          0.821,
          0.251,
          0.663,
          0.816,
          0.211,
          0.674,
          0.464,
          0.714,
          0.701,
          0.313,
          0.702,
          0.828,
          0.378,
          0.236,
          0.26,
          0.136,
          0.636,
          0.964,
          0.138,
          0.781,
          0.0893,
          0.249,
          0.425,
          0.269,
          0.472,
          0.439,
          0.723,
          0.433,
          0.777,
          0.539,
          0.167,
          0.505,
          0.645,
          0.834,
          0.438,
          0.794,
          0.688,
          0.944,
          0.584,
          0.641,
          0.505,
          0.418,
          0.743,
          0.289,
          0.74,
          0.599,
          0.612,
          0.551,
          0.293,
          0.707,
          0.852,
          0.254,
          0.861,
          0.733,
          0.304,
          0.225,
          0.167,
          0.45,
          0.0893,
          0.371,
          0.573,
          0.346,
          0.655,
          0.438,
          0.926,
          0.572,
          0.417,
          0.696,
          0.789,
          0.722,
          0.542,
          0.655,
          0.551,
          0.588,
          0.249,
          0.842,
          0.767,
          0.462,
          0.861,
          0.452,
          0.718,
          0.886,
          0.807,
          0.547,
          0.8,
          0.79,
          0.251,
          0.634,
          0.485,
          0.861,
          0.478,
          0.927,
          0.512,
          0.702,
          0.539,
          0.818,
          0.773,
          0.381,
          0.199,
          0.0766,
          0.266,
          0.289,
          0.368,
          0.504,
          0.305,
          0.309,
          0.549,
          0.803,
          0.0641,
          0.529,
          0.713,
          0.382,
          0.646,
          0.541,
          0.691,
          0.732,
          0.472,
          0.447,
          0.434,
          0.653,
          0.192,
          0.272,
          0.281,
          0.872,
          0.584,
          0.902,
          0.807,
          0.112,
          0.0406,
          0.487,
          0.617,
          0.253,
          0.487,
          0.235,
          0.415,
          0.588,
          0.782,
          0.611,
          0.887,
          0.611,
          0.687,
          0.382,
          0.303,
          0.43,
          0.947,
          0.542,
          0.32,
          0.109,
          0.318,
          0.765,
          0.527,
          0.603,
          0.407,
          0.269,
          0.402,
          0.787,
          0.745,
          0.61,
          0.415,
          0.705,
          0.718,
          0.272,
          0.654,
          0.552,
          0.474,
          0.47,
          0.4,
          0.173,
          0.645,
          0.362,
          0.833,
          0.478,
          0.795,
          0.728,
          0.329,
          0.558,
          0.424,
          0.472,
          0.861,
          0.182,
          0.761,
          0.799,
          0.47,
          0.711,
          0.575,
          0.434,
          0.888,
          0.711,
          0.844,
          0.59,
          0.445,
          0.374,
          0.235,
          0.789,
          0.369,
          0.669,
          0.628,
          0.112,
          0.462,
          0.789,
          0.389,
          0.427,
          0.092,
          0.452,
          0.205,
          0.745,
          0.397,
          0.614,
          0.417,
          0.566,
          0.37,
          0.199,
          0.713,
          0.472,
          0.38,
          0.811,
          0.152,
          0.868,
          0.475,
          0.788,
          0.762,
          0.593,
          0.442,
          0.568,
          0.696,
          0.412,
          0.664,
          0.544,
          0.579,
          0.366,
          0.722,
          0.416,
          0.489,
          0.63,
          0.807,
          0.861,
          0.195,
          0.3,
          0.865,
          0.557,
          0.787,
          0.542,
          0.762,
          0.378,
          0.35,
          0.762,
          0.36,
          0.72,
          0.294,
          0.651,
          0.704,
          0.329,
          0.2,
          0.262,
          0.714,
          0.231,
          0.795,
          0.425,
          0.326,
          0.377,
          0.641,
          0.714,
          0.818,
          0.629,
          0.743,
          0.704,
          0.557,
          0.851,
          0.812,
          0.713,
          0.591,
          0.434,
          0.625,
          0.412,
          0.811,
          0.654,
          0.659,
          0.668,
          0.195,
          0.798,
          0.535,
          0.756,
          0.61,
          0.472,
          0.81,
          0.758,
          0.369,
          0.578,
          0.103,
          0.418,
          0.778,
          0.272,
          0.796,
          0.473,
          0.728,
          0.682,
          0.711,
          0.473,
          0.445,
          0.658,
          0.638,
          0.94,
          0.163,
          0.103,
          0.519,
          0.331,
          0.818,
          0.65,
          0.552,
          0.757,
          0.474,
          0.4,
          0.74,
          0.45,
          0.74,
          0.726,
          0.403,
          0.397,
          0.38,
          0.184,
          0.47,
          0.217,
          0.787,
          0.539,
          0.542,
          0.25,
          0.827,
          0.294,
          0.841,
          0.376,
          0.664,
          0.335,
          0.277,
          0.574,
          0.836,
          0.352,
          0.257,
          0.328,
          0.725,
          0.788,
          0.173,
          0.648,
          0.769,
          0.463,
          0.206,
          0.362,
          0.209,
          0.121,
          0.81,
          0.362,
          0.607,
          0.512,
          0.549,
          0.948,
          0.507,
          0.359,
          0.649,
          0.76,
          0.53,
          0.227,
          0.667,
          0.62,
          0.262,
          0.444,
          0.835,
          0.965,
          0.72,
          0.434,
          0.935,
          0.624,
          0.492,
          0.366,
          0.561,
          0.538,
          0.594,
          0.272,
          0.294,
          0.645,
          0.949,
          0.45,
          0.65,
          0.361,
          0.653,
          0.538,
          0.814,
          0.812,
          0.144,
          0.362,
          0.796,
          0.436,
          0.232,
          0.762,
          0.638,
          0.604,
          0.332,
          0.635,
          0.818,
          0.361,
          0.787,
          0.438,
          0.748,
          0.7,
          0.369,
          0.397,
          0.103,
          0.264,
          0.212,
          0.0886,
          0.602,
          0.795,
          0.357,
          0.221,
          0.389,
          0.794,
          0.877,
          0.573,
          0.331,
          0.654,
          0.358,
          0.723,
          0.152,
          0.6,
          0.9,
          0.514,
          0.778,
          0.402,
          0.286,
          0.591,
          0.257,
          0.727,
          0.664,
          0.812,
          0.609,
          0.671,
          0.311,
          0.442,
          0.782,
          0.425,
          0.297,
          0.637,
          0.555,
          0.619,
          0.918,
          0.657,
          0.498,
          0.685,
          0.543,
          0.0837,
          0.613,
          0.74,
          0.35,
          0.199,
          0.368,
          0.72,
          0.66,
          0.735,
          0.523,
          0.809,
          0.431,
          0.684,
          0.6,
          0.751,
          0.888,
          0.437,
          0.446,
          0.795,
          0.392,
          0.575,
          0.684,
          0.739,
          0.613,
          0.721,
          0.39,
          0.444,
          0.725,
          0.299,
          0.301,
          0.142,
          0.476,
          0.426,
          0.332,
          0.359,
          0.286,
          0.769,
          0.657,
          0.75,
          0.613,
          0.412,
          0.62,
          0.729,
          0.472,
          0.569,
          0.775,
          0.864,
          0.919,
          0.294,
          0.569,
          0.273,
          0.793,
          0.749,
          0.648,
          0.322,
          0.402,
          0.646,
          0.3,
          0.472,
          0.611,
          0.563,
          0.206,
          0.739,
          0.927,
          0.886,
          0.364,
          0.796,
          0.74,
          0.216,
          0.574,
          0.875,
          0.741,
          0.867,
          0.353,
          0.212,
          0.392,
          0.507,
          0.333,
          0.485,
          0.248,
          0.591,
          0.481,
          0.476,
          0.234,
          0.329,
          0.482,
          0.736,
          0.785,
          0.664,
          0.643,
          0.801,
          0.353,
          0.161,
          0.775,
          0.863,
          0.703,
          0.86,
          0.663,
          0.375,
          0.393,
          0.469,
          0.79,
          0.235,
          0.184,
          0.574,
          0.585,
          0.356,
          0.843,
          0.236,
          0.282,
          0.356,
          0.512,
          0.441,
          0.387,
          0.878,
          0.455,
          0.867,
          0.353,
          0.125,
          0.862,
          0.337,
          0.679,
          0.484,
          0.349,
          0.643,
          0.357,
          0.79,
          0.156,
          0.487,
          0.176,
          0.272,
          0.438,
          0.393,
          0.824,
          0.766,
          0.937,
          0.861,
          0.579,
          0.573,
          0.287,
          0.331,
          0.542,
          0.738,
          0.613,
          0.464,
          0.567,
          0.662,
          0.526,
          0.356,
          0.582,
          0.151,
          0.322,
          0.86,
          0.475,
          0.144,
          0.502,
          0.395,
          0.461,
          0.552,
          0.574,
          0.749,
          0.58,
          0.801,
          0.392,
          0.447,
          0.649,
          0.501,
          0.428,
          0.477,
          0.763,
          0.417,
          0.517,
          0.684,
          0.513,
          0.414,
          0.39,
          0.668,
          0.558,
          0.546,
          0.486,
          0.407,
          0.365,
          0.505,
          0.875,
          0.189,
          0.582,
          0.965,
          0.12,
          0.235,
          0.629,
          0.248,
          0.654,
          0.391,
          0.748,
          0.506,
          0.0663,
          0.3,
          0.96,
          0.607,
          0.758,
          0.243,
          0.769,
          0.704,
          0.765,
          0.962,
          0.353,
          0.331,
          0.377,
          0.477,
          0.759,
          0.925,
          0.961,
          0.625,
          0.184,
          0.788,
          0.571,
          0.943,
          0.328,
          0.163,
          0.624,
          0.0765,
          0.416,
          0.243,
          0.337,
          0.371,
          0.643,
          0.428,
          0.286,
          0.572,
          0.519,
          0.751,
          0.544,
          0.879,
          0.616,
          0.538,
          0.347,
          0.743,
          0.576,
          0.401,
          0.646,
          0.284,
          0.961,
          0.329,
          0.721,
          0.549,
          0.386,
          0.665,
          0.349,
          0.109,
          0.455,
          0.673,
          0.488,
          0.723,
          0.756,
          0.162,
          0.849,
          0.235,
          0.186,
          0.287,
          0.939,
          0.236,
          0.678,
          0.786,
          0.458,
          0.639,
          0.328,
          0.64,
          0.595,
          0.431,
          0.592,
          0.738,
          0.545,
          0.121,
          0.551,
          0.0386,
          0.471,
          0.849,
          0.758,
          0.398,
          0.838,
          0.446,
          0.847,
          0.66,
          0.843,
          0.654,
          0.262,
          0.843,
          0.534,
          0.824,
          0.108,
          0.178,
          0.728,
          0.196,
          0.319,
          0.709,
          0.356,
          0.441,
          0.461,
          0.174,
          0.58,
          0.504,
          0.19,
          0.484,
          0.201,
          0.928,
          0.591,
          0.283,
          0.817,
          0.884,
          0.619,
          0.583,
          0.962,
          0.406,
          0.137,
          0.594,
          0.583,
          0.275,
          0.437,
          0.295,
          0.274,
          0.656,
          0.943,
          0.197,
          0.33,
          0.603,
          0.95,
          0.594,
          0.701,
          0.595,
          0.493,
          0.215,
          0.961,
          0.456,
          0.552,
          0.525,
          0.473,
          0.759,
          0.201,
          0.288,
          0.54,
          0.114,
          0.451,
          0.724,
          0.55,
          0.735,
          0.641,
          0.56,
          0.537,
          0.483,
          0.328,
          0.366,
          0.395,
          0.891,
          0.412,
          0.255,
          0.499,
          0.336,
          0.528,
          0.457,
          0.593,
          0.467,
          0.184,
          0.163,
          0.676,
          0.56,
          0.621,
          0.355,
          0.291,
          0.595,
          0.491,
          0.104,
          0.121,
          0.251,
          0.239,
          0.51,
          0.585,
          0.446,
          0.832,
          0.815,
          0.417,
          0.347,
          0.145,
          0.178,
          0.751,
          0.326,
          0.472,
          0.625,
          0.356,
          0.859,
          0.581,
          0.818,
          0.15,
          0.389,
          0.572,
          0.479,
          0.849,
          0.468,
          0.331,
          0.45,
          0.884,
          0.574,
          0.37,
          0.382,
          0.743,
          0.576,
          0.438,
          0.37,
          0.558,
          0.648,
          0.266,
          0.288,
          0.422,
          0.7,
          0.661,
          0.732,
          0.34,
          0.296,
          0.74,
          0.71,
          0.593,
          0.465,
          0.896,
          0.245,
          0.566,
          0.548,
          0.438,
          0.54,
          0.552,
          0.501,
          0.567,
          0.343,
          0.747,
          0.397,
          0.102,
          0.759,
          0.137,
          0.523,
          0.708,
          0.189,
          0.289,
          0.1,
          0.18,
          0.331,
          0.438,
          0.349,
          0.417,
          0.47,
          0.246,
          0.657,
          0.276,
          0.163,
          0.69,
          0.564,
          0.352,
          0.37,
          0.408,
          0.276,
          0.603,
          0.604,
          0.466,
          0.554,
          0.486,
          0.498,
          0.296,
          0.539,
          0.833,
          0.446,
          0.4,
          0.309,
          0.401,
          0.199,
          0.912,
          0.324,
          0.252,
          0.356,
          0.583,
          0.427,
          0.247,
          0.131,
          0.348,
          0.613,
          0.543,
          0.467,
          0.224,
          0.743,
          0.0594,
          0.265,
          0.464,
          0.274,
          0.549,
          0.962,
          0.721,
          0.282,
          0.231,
          0.278,
          0.755,
          0.742,
          0.53,
          0.137,
          0.205,
          0.304,
          0.283,
          0.396,
          0.931,
          0.839,
          0.86,
          0.421,
          0.661,
          0.175,
          0.661,
          0.661,
          0.666,
          0.492,
          0.494,
          0.817,
          0.401,
          0.281,
          0.733,
          0.632,
          0.437,
          0.619,
          0.355,
          0.486,
          0.326,
          0.797,
          0.969,
          0.546,
          0.572,
          0.672,
          0.455,
          0.451,
          0.357,
          0.848,
          0.378,
          0.585,
          0.273,
          0.542,
          0.613,
          0.418,
          0.506,
          0.471,
          0.719,
          0.251,
          0.613,
          0.742,
          0.754,
          0.163,
          0.885,
          0.376,
          0.7,
          0.393,
          0.288,
          0.486,
          0.53,
          0.356,
          0.231,
          0.129,
          0.434,
          0.548,
          0.447,
          0.707,
          0.682,
          0.422,
          0.78,
          0.166,
          0.364,
          0.419,
          0.303,
          0.808,
          0.412,
          0.708,
          0.511,
          0.687,
          0.471,
          0.872,
          0.505,
          0.515,
          0.476,
          0.394,
          0.443,
          0.409,
          0.814,
          0.742,
          0.344,
          0.193,
          0.782,
          0.741,
          0.222,
          0.538,
          0.343,
          0.0661,
          0.58,
          0.747,
          0.425,
          0.673,
          0.589,
          0.394,
          0.419,
          0.17,
          0.349,
          0.761,
          0.357,
          0.168,
          0.579,
          0.394,
          0.129,
          0.459,
          0.65,
          0.437,
          0.35,
          0.474,
          0.758,
          0.218,
          0.341,
          0.719,
          0.235,
          0.608,
          0.473,
          0.243,
          0.12,
          0.354,
          0.717,
          0.288,
          0.595,
          0.0499,
          0.1,
          0.535,
          0.612,
          0.342,
          0.464,
          0.405,
          0.376,
          0.494,
          0.754,
          0.188,
          0.419,
          0.152,
          0.556,
          0.671,
          0.291,
          0.593,
          0.508,
          0.446,
          0.395,
          0.699,
          0.512,
          0.487,
          0.421,
          0.508,
          0.476,
          0.779,
          0.549,
          0.423,
          0.521,
          0.546,
          0.755,
          0.635,
          0.158,
          0.452,
          0.535,
          0.109,
          0.268,
          0.112,
          0.885,
          0.811,
          0.594,
          0.394,
          0.743,
          0.22,
          0.406,
          0.931,
          0.425,
          0.639,
          0.52,
          0.183,
          0.474,
          0.319,
          0.175,
          0.376,
          0.535,
          0.442,
          0.864,
          0.201,
          0.357,
          0.372,
          0.492,
          0.35,
          0.711,
          0.419,
          0.694,
          0.0585,
          0.358,
          0.838,
          0.52,
          0.219,
          0.527,
          0.123,
          0.51,
          0.393,
          0.666,
          0.639,
          0.553,
          0.533,
          0.562,
          0.388,
          0.535,
          0.327,
          0.346,
          0.446,
          0.952,
          0.681,
          0.412,
          0.412,
          0.184,
          0.549,
          0.168,
          0.319,
          0.544,
          0.714,
          0.112,
          0.136,
          0.474,
          0.62,
          0.844,
          0.463,
          0.1,
          0.446,
          0.864,
          0.163,
          0.504,
          0.341,
          0.152,
          0.101,
          0.386,
          0.335,
          0.819,
          0.219,
          0.714,
          0.496,
          0.536,
          0.274,
          0.728,
          0.158,
          0.261,
          0.382,
          0.391,
          0.218,
          0.261,
          0.548,
          0.707,
          0.217,
          0.443,
          0.244,
          0.811,
          0.617,
          0.584,
          0.0797,
          0.58,
          0.553,
          0.637,
          0.179,
          0.835,
          0.74,
          0.198,
          0.313,
          0.65,
          0.537,
          0.742,
          0.364,
          0.196,
          0.698,
          0.777,
          0.587,
          0.459,
          0.874,
          0.634,
          0.358,
          0.599,
          0.434,
          0.345,
          0.1,
          0.883,
          0.769,
          0.424,
          0.12,
          0.535,
          0.549,
          0.494,
          0.568,
          0.57,
          0.558,
          0.249,
          0.476,
          0.565,
          0.593,
          0.578
         ],
         "y": [
          0.785,
          0.6,
          0.97,
          0.479,
          0.824,
          0.8,
          0.741,
          0.799,
          0.583,
          0.796,
          0.705,
          0.514,
          0.729,
          0.454,
          0.821,
          0.482,
          0.574,
          0.577,
          0.671,
          0.83,
          0.916,
          0.609,
          0.913,
          0.757,
          0.62,
          0.674,
          0.743,
          0.391,
          0.592,
          0.736,
          0.976,
          0.742,
          0.961,
          0.696,
          0.598,
          0.62,
          0.761,
          0.876,
          0.584,
          0.54,
          0.368,
          0.682,
          0.819,
          0.612,
          0.888,
          0.439,
          0.81,
          0.954,
          0.815,
          0.543,
          0.516,
          0.484,
          0.797,
          0.728,
          0.486,
          0.67,
          0.786,
          0.892,
          0.518,
          0.599,
          0.68,
          0.643,
          0.511,
          0.624,
          0.589,
          0.742,
          0.652,
          0.842,
          0.572,
          0.368,
          0.885,
          0.821,
          0.551,
          0.806,
          0.746,
          0.952,
          0.883,
          0.518,
          0.408,
          0.595,
          0.803,
          0.691,
          0.427,
          0.745,
          0.625,
          0.502,
          0.756,
          0.483,
          0.931,
          0.745,
          0.647,
          0.881,
          0.519,
          0.548,
          0.772,
          0.886,
          0.705,
          0.327,
          0.524,
          0.539,
          0.694,
          0.829,
          0.77,
          0.641,
          0.549,
          0.749,
          0.291,
          0.454,
          0.872,
          0.755,
          0.443,
          0.959,
          0.851,
          0.92,
          0.742,
          0.6,
          0.919,
          0.807,
          0.584,
          0.74,
          0.711,
          0.723,
          0.744,
          0.743,
          0.853,
          0.68,
          0.717,
          0.799,
          0.891,
          0.777,
          0.661,
          0.887,
          0.391,
          0.644,
          0.721,
          0.91,
          0.891,
          0.93,
          0.591,
          0.876,
          0.487,
          0.849,
          0.697,
          0.599,
          0.731,
          0.736,
          0.756,
          0.351,
          0.85,
          0.905,
          0.932,
          0.438,
          0.642,
          0.636,
          0.668,
          0.538,
          0.71,
          0.905,
          0.708,
          0.592,
          0.743,
          0.583,
          0.786,
          0.721,
          0.609,
          0.474,
          0.724,
          0.958,
          0.91,
          0.629,
          0.606,
          0.86,
          0.558,
          0.715,
          0.549,
          0.94,
          0.797,
          0.585,
          0.751,
          0.608,
          0.854,
          0.906,
          0.725,
          0.925,
          0.952,
          0.782,
          0.59,
          0.417,
          0.826,
          0.9,
          0.598,
          0.658,
          0.797,
          0.667,
          0.681,
          0.682,
          0.939,
          0.619,
          0.609,
          0.656,
          0.549,
          0.428,
          0.609,
          0.501,
          0.786,
          0.712,
          0.693,
          0.82,
          0.686,
          0.467,
          0.617,
          0.76,
          0.629,
          0.813,
          0.669,
          0.88,
          0.658,
          0.753,
          0.474,
          0.665,
          0.931,
          0.87,
          0.939,
          0.563,
          0.457,
          0.71,
          0.79,
          0.766,
          0.911,
          0.955,
          0.859,
          0.921,
          0.848,
          0.841,
          0.862,
          0.548,
          0.729,
          0.661,
          0.672,
          0.653,
          0.695,
          0.773,
          0.431,
          0.515,
          0.657,
          0.417,
          0.685,
          0.829,
          0.641,
          0.935,
          0.7,
          0.74,
          0.393,
          0.744,
          0.683,
          0.442,
          0.746,
          0.723,
          0.692,
          0.73,
          0.822,
          0.445,
          0.783,
          0.751,
          0.594,
          0.77,
          0.578,
          0.946,
          0.725,
          0.791,
          0.954,
          0.524,
          0.322,
          0.664,
          0.571,
          0.641,
          0.808,
          0.695,
          0.792,
          0.795,
          0.638,
          0.842,
          0.864,
          0.699,
          0.906,
          0.766,
          0.736,
          0.628,
          0.553,
          0.903,
          0.665,
          0.632,
          0.903,
          0.807,
          0.864,
          0.844,
          0.742,
          0.745,
          0.857,
          0.806,
          0.739,
          0.766,
          0.792,
          0.672,
          0.457,
          0.584,
          0.647,
          0.691,
          0.773,
          0.746,
          0.803,
          0.715,
          0.877,
          0.614,
          0.733,
          0.862,
          0.712,
          0.68,
          0.588,
          0.922,
          0.882,
          0.72,
          0.841,
          0.796,
          0.733,
          0.44,
          0.698,
          0.629,
          0.829,
          0.783,
          0.804,
          0.711,
          0.678,
          0.878,
          0.522,
          0.797,
          0.695,
          0.629,
          0.468,
          0.649,
          0.874,
          0.524,
          0.87,
          0.629,
          0.432,
          0.518,
          0.602,
          0.612,
          0.89,
          0.845,
          0.692,
          0.948,
          0.617,
          0.87,
          0.634,
          0.868,
          0.683,
          0.662,
          0.808,
          0.956,
          0.823,
          0.69,
          0.517,
          0.825,
          0.73,
          0.834,
          0.783,
          0.911,
          0.55,
          0.976,
          0.826,
          0.587,
          0.59,
          0.517,
          0.813,
          0.742,
          0.712,
          0.616,
          0.713,
          0.551,
          0.751,
          0.643,
          0.924,
          0.878,
          0.709,
          0.926,
          0.853,
          0.786,
          0.938,
          0.882,
          0.699,
          0.576,
          0.872,
          0.82,
          0.902,
          0.656,
          0.402,
          0.492,
          0.837,
          0.622,
          0.886,
          0.754,
          0.745,
          0.867,
          0.925,
          0.921,
          0.804,
          0.899,
          0.853,
          0.94,
          0.664,
          0.748,
          0.75,
          0.832,
          0.798,
          0.843,
          0.82,
          0.517,
          0.956,
          0.861,
          0.673,
          0.954,
          0.751,
          0.562,
          0.699,
          0.612,
          0.766,
          0.662,
          0.87,
          0.614,
          0.799,
          0.83,
          0.752,
          0.498,
          0.837,
          0.574,
          0.733,
          0.869,
          0.68,
          0.882,
          0.711,
          0.842,
          0.683,
          0.757,
          0.706,
          0.893,
          0.746,
          0.69,
          0.836,
          0.601,
          0.674,
          0.948,
          0.917,
          0.723,
          0.773,
          0.629,
          0.675,
          0.845,
          0.833,
          0.81,
          0.687,
          0.692,
          0.787,
          0.52,
          0.698,
          0.736,
          0.709,
          0.624,
          0.926,
          0.702,
          0.889,
          0.872,
          0.907,
          0.764,
          0.544,
          0.505,
          0.781,
          0.944,
          0.795,
          0.698,
          0.52,
          0.779,
          0.713,
          0.825,
          0.715,
          0.84,
          0.661,
          0.841,
          0.3,
          0.497,
          0.563,
          0.684,
          0.762,
          0.796,
          0.812,
          0.438,
          0.821,
          0.567,
          0.769,
          0.727,
          0.826,
          0.869,
          0.939,
          0.558,
          0.86,
          0.758,
          0.628,
          0.686,
          0.684,
          0.71,
          0.812,
          0.843,
          0.63,
          0.709,
          0.835,
          0.914,
          0.784,
          0.677,
          0.598,
          0.661,
          0.319,
          0.69,
          0.804,
          0.705,
          0.889,
          0.772,
          0.817,
          0.834,
          0.783,
          0.729,
          0.695,
          0.497,
          0.795,
          0.813,
          0.839,
          0.912,
          0.706,
          0.751,
          0.639,
          0.741,
          0.804,
          0.595,
          0.546,
          0.807,
          0.857,
          0.882,
          0.882,
          0.946,
          0.752,
          0.679,
          0.736,
          0.348,
          0.805,
          0.861,
          0.845,
          0.803,
          0.722,
          0.893,
          0.926,
          0.945,
          0.601,
          0.861,
          0.629,
          0.849,
          0.631,
          0.766,
          0.87,
          0.709,
          0.837,
          0.614,
          0.67,
          0.798,
          0.651,
          0.912,
          0.544,
          0.807,
          0.584,
          0.904,
          0.78,
          0.823,
          0.923,
          0.566,
          0.649,
          0.808,
          0.872,
          0.716,
          0.856,
          0.882,
          0.607,
          0.831,
          0.844,
          0.841,
          0.701,
          0.833,
          0.454,
          0.381,
          0.773,
          0.495,
          0.58,
          0.638,
          0.756,
          0.789,
          0.841,
          0.939,
          0.766,
          0.716,
          0.787,
          0.86,
          0.67,
          0.861,
          0.738,
          0.683,
          0.89,
          0.937,
          0.82,
          0.837,
          0.442,
          0.847,
          0.924,
          0.515,
          0.788,
          0.303,
          0.835,
          0.496,
          0.55,
          0.727,
          0.712,
          0.918,
          0.879,
          0.676,
          0.873,
          0.794,
          0.758,
          0.919,
          0.662,
          0.695,
          0.858,
          0.792,
          0.924,
          0.319,
          0.862,
          0.339,
          0.547,
          0.937,
          0.855,
          0.826,
          0.614,
          0.838,
          0.476,
          0.872,
          0.665,
          0.891,
          0.691,
          0.73,
          0.809,
          0.765,
          0.894,
          0.795,
          0.911,
          0.427,
          0.749,
          0.882,
          0.839,
          0.819,
          0.466,
          0.585,
          0.843,
          0.769,
          0.478,
          0.666,
          0.677,
          0.858,
          0.704,
          0.863,
          0.632,
          0.826,
          0.771,
          0.935,
          0.56,
          0.544,
          0.841,
          0.7,
          0.742,
          0.407,
          0.866,
          0.715,
          0.861,
          0.884,
          0.665,
          0.728,
          0.71,
          0.722,
          0.794,
          0.576,
          0.736,
          0.527,
          0.972,
          0.794,
          0.599,
          0.784,
          0.794,
          0.794,
          0.512,
          0.547,
          0.28,
          0.948,
          0.772,
          0.698,
          0.466,
          0.31,
          0.811,
          0.428,
          0.469,
          0.622,
          0.422,
          0.783,
          0.596,
          0.455,
          0.534,
          0.939,
          0.781,
          0.436,
          0.84,
          0.71,
          0.906,
          0.819,
          0.692,
          0.877,
          0.524,
          0.787,
          0.414,
          0.679,
          0.758,
          0.78,
          0.82,
          0.608,
          0.924,
          0.693,
          0.843,
          0.794,
          0.929,
          0.416,
          0.826,
          0.884,
          0.608,
          0.706,
          0.785,
          0.792,
          0.481,
          0.628,
          0.66,
          0.937,
          0.869,
          0.7,
          0.738,
          0.702,
          0.688,
          0.642,
          0.71,
          0.705,
          0.822,
          0.757,
          0.836,
          0.872,
          0.908,
          0.816,
          0.478,
          0.729,
          0.878,
          0.867,
          0.877,
          0.289,
          0.694,
          0.791,
          0.751,
          0.447,
          0.726,
          0.863,
          0.576,
          0.576,
          0.873,
          0.677,
          0.641,
          0.81,
          0.809,
          0.837,
          0.592,
          0.476,
          0.825,
          0.927,
          0.836,
          0.545,
          0.801,
          0.702,
          0.923,
          0.822,
          0.585,
          0.264,
          0.716,
          0.705,
          0.652,
          0.758,
          0.887,
          0.805,
          0.42,
          0.963,
          0.715,
          0.785,
          0.602,
          0.716,
          0.853,
          0.147,
          0.578,
          0.545,
          0.428,
          0.485,
          0.783,
          0.71,
          0.663,
          0.787,
          0.72,
          0.786,
          0.735,
          0.713,
          0.522,
          0.902,
          0.65,
          0.856,
          0.911,
          0.621,
          0.605,
          0.702,
          0.777,
          0.777,
          0.621,
          0.586,
          0.527,
          0.508,
          0.422,
          0.563,
          0.772,
          0.893,
          0.769,
          0.931,
          0.791,
          0.675,
          0.608,
          0.476,
          0.5,
          0.414,
          0.67,
          0.784,
          0.504,
          0.671,
          0.78,
          0.703,
          0.742,
          0.795,
          0.886,
          0.595,
          0.878,
          0.935,
          0.857,
          0.529,
          0.783,
          0.866,
          0.667,
          0.589,
          0.836,
          0.807,
          0.951,
          0.629,
          0.654,
          0.73,
          0.674,
          0.937,
          0.65,
          0.599,
          0.801,
          0.81,
          0.499,
          0.45,
          0.726,
          0.491,
          0.599,
          0.902,
          0.794,
          0.951,
          0.738,
          0.441,
          0.589,
          0.716,
          0.559,
          0.888,
          0.655,
          0.609,
          0.445,
          0.481,
          0.873,
          0.788,
          0.866,
          0.678,
          0.759,
          0.291,
          0.564,
          0.68,
          0.769,
          0.606,
          0.664,
          0.802,
          0.809,
          0.68,
          0.785,
          0.781,
          0.714,
          0.717,
          0.825,
          0.765,
          0.676,
          0.775,
          0.485,
          0.673,
          0.887,
          0.786,
          0.628,
          0.73,
          0.869,
          0.358,
          0.379,
          0.43,
          0.721,
          0.761,
          0.71,
          0.802,
          0.671,
          0.52,
          0.925,
          0.858,
          0.741,
          0.719,
          0.742,
          0.724,
          0.728,
          0.607,
          0.472,
          0.495,
          0.791,
          0.61,
          0.862,
          0.464,
          0.825,
          0.664,
          0.42,
          0.716,
          0.962,
          0.705,
          0.789,
          0.225,
          0.408,
          0.703,
          0.673,
          0.593,
          0.611,
          0.658,
          0.486,
          0.731,
          0.585,
          0.921,
          0.782,
          0.616,
          0.53,
          0.65,
          0.0743,
          0.628,
          0.786,
          0.19,
          0.664,
          0.488,
          0.794,
          0.861,
          0.578,
          0.86,
          0.621,
          0.455,
          0.787,
          0.798,
          0.608,
          0.84,
          0.821,
          0.51,
          0.801,
          0.572,
          0.52,
          0.48,
          0.856,
          0.401,
          0.748,
          0.625,
          0.534,
          0.637,
          0.731,
          0.43,
          0.869,
          0.832,
          0.524,
          0.698,
          0.473,
          0.314,
          0.702,
          0.714,
          0.585,
          0.927,
          0.753,
          0.543,
          0.713,
          0.396,
          0.7,
          0.721,
          0.628,
          0.798,
          0.533,
          0.802,
          0.819,
          0.653,
          0.331,
          0.358,
          0.564,
          0.702,
          0.525,
          0.356,
          0.602,
          0.449,
          0.275,
          0.821,
          0.593,
          0.468,
          0.53,
          0.613,
          0.311,
          0.803,
          0.732,
          0.716,
          0.771,
          0.666,
          0.563,
          0.734,
          0.412,
          0.433,
          0.717,
          0.724,
          0.499,
          0.681,
          0.587,
          0.571,
          0.557,
          0.68,
          0.694,
          0.921,
          0.389,
          0.562,
          0.623,
          0.665,
          0.791,
          0.662,
          0.528,
          0.598,
          0.769,
          0.849,
          0.529,
          0.526,
          0.0565,
          0.736,
          0.74,
          0.664,
          0.695,
          0.705,
          0.462,
          0.595,
          0.8,
          0.809,
          0.383,
          0.759,
          0.646,
          0.523,
          0.673,
          0.666,
          0.791,
          0.708,
          0.924,
          0.48,
          0.679,
          0.725,
          0.481,
          0.823,
          0.652,
          0.797,
          0.56,
          0.621,
          0.524,
          0.665,
          0.524,
          0.458,
          0.78,
          0.804,
          0.557,
          0.667,
          0.75,
          0.434,
          0.769,
          0.803,
          0.657,
          0.681,
          0.632,
          0.587,
          0.449,
          0.613,
          0.813,
          0.574,
          0.347,
          0.653,
          0.415,
          0.739,
          0.574,
          0.425,
          0.637,
          0.819,
          0.575,
          0.497,
          0.481,
          0.61,
          0.709,
          0.834,
          0.297,
          0.644,
          0.736,
          0.763,
          0.795,
          0.716,
          0.643,
          0.346,
          0.832,
          0.693,
          0.822,
          0.687,
          0.444,
          0.662,
          0.489,
          0.52,
          0.536,
          0.396,
          0.585,
          0.335,
          0.563,
          0.523,
          0.887,
          0.314,
          0.463,
          0.535,
          0.39,
          0.593,
          0.717,
          0.525,
          0.795,
          0.799,
          0.8,
          0.745,
          0.567,
          0.813,
          0.372,
          0.539,
          0.582,
          0.594,
          0.81,
          0.708,
          0.405,
          0.588,
          0.817,
          0.674,
          0.595,
          0.833,
          0.781,
          0.357,
          0.619,
          0.819,
          0.633,
          0.743,
          0.646,
          0.523,
          0.597,
          0.593,
          0.726,
          0.845,
          0.449,
          0.448,
          0.783,
          0.523,
          0.52,
          0.56,
          0.726,
          0.657,
          0.626,
          0.529,
          0.909,
          0.566,
          0.578,
          0.616,
          0.779,
          0.7,
          0.613,
          0.713,
          0.296,
          0.713,
          0.789,
          0.822,
          0.581,
          0.404,
          0.449,
          0.814,
          0.751,
          0.559,
          0.714,
          0.771,
          0.387,
          0.581,
          0.795,
          0.518,
          0.505,
          0.854,
          0.655,
          0.575,
          0.538,
          0.825,
          0.724,
          0.73,
          0.633,
          0.523,
          0.642,
          0.712,
          0.621,
          0.816,
          0.372,
          0.585,
          0.463,
          0.412,
          0.556,
          0.574,
          0.599,
          0.775,
          0.519,
          0.603,
          0.568,
          0.524,
          0.658,
          0.346,
          0.643,
          0.561,
          0.493,
          0.539,
          0.856,
          0.611,
          0.574,
          0.652,
          0.633,
          0.76,
          0.844,
          0.506,
          0.412,
          0.68,
          0.593,
          0.705,
          0.814,
          0.675,
          0.882,
          0.727,
          0.574,
          0.632,
          0.586,
          0.804,
          0.537,
          0.597,
          0.749,
          0.666,
          0.61,
          0.84,
          0.308,
          0.367,
          0.781,
          0.564,
          0.544,
          0.693,
          0.78,
          0.619,
          0.762,
          0.488,
          0.425,
          0.539,
          0.814,
          0.317,
          0.4,
          0.73,
          0.734,
          0.904,
          0.653,
          0.624,
          0.42,
          0.383,
          0.448,
          0.68,
          0.496,
          0.921,
          0.552,
          0.454,
          0.529,
          0.706,
          0.662,
          0.364,
          0.449,
          0.405,
          0.809,
          0.653,
          0.603,
          0.578,
          0.854,
          0.502,
          0.438,
          0.554,
          0.795,
          0.59,
          0.671,
          0.598,
          0.587,
          0.636,
          0.83,
          0.539,
          0.639,
          0.402,
          0.382,
          0.566,
          0.625,
          0.648,
          0.68,
          0.752,
          0.586,
          0.545,
          0.678,
          0.801,
          0.488,
          0.632,
          0.833,
          0.762,
          0.863,
          0.586,
          0.771,
          0.73,
          0.111,
          0.638,
          0.726,
          0.412,
          0.743,
          0.656,
          0.389,
          0.578,
          0.886,
          0.811,
          0.535,
          0.496,
          0.682,
          0.61,
          0.56,
          0.662,
          0.682,
          0.449,
          0.85,
          0.516,
          0.622,
          0.296,
          0.814,
          0.635,
          0.581,
          0.511,
          0.814,
          0.708,
          0.717,
          0.652,
          0.781,
          0.825,
          0.692
         ]
        }
       ],
       "layout": {
        "shapes": [
         {
          "line": {
           "color": "Red"
          },
          "type": "line",
          "x0": 0,
          "x1": 1,
          "xref": "x",
          "y0": 0.5,
          "y1": 0.5,
          "yref": "y"
         },
         {
          "line": {
           "color": "Red"
          },
          "type": "line",
          "x0": 0.5,
          "x1": 0.5,
          "xref": "x",
          "y0": 0,
          "y1": 1,
          "yref": "y"
         }
        ],
        "template": {
         "data": {
          "bar": [
           {
            "error_x": {
             "color": "#2a3f5f"
            },
            "error_y": {
             "color": "#2a3f5f"
            },
            "marker": {
             "line": {
              "color": "#E5ECF6",
              "width": 0.5
             }
            },
            "type": "bar"
           }
          ],
          "barpolar": [
           {
            "marker": {
             "line": {
              "color": "#E5ECF6",
              "width": 0.5
             }
            },
            "type": "barpolar"
           }
          ],
          "carpet": [
           {
            "aaxis": {
             "endlinecolor": "#2a3f5f",
             "gridcolor": "white",
             "linecolor": "white",
             "minorgridcolor": "white",
             "startlinecolor": "#2a3f5f"
            },
            "baxis": {
             "endlinecolor": "#2a3f5f",
             "gridcolor": "white",
             "linecolor": "white",
             "minorgridcolor": "white",
             "startlinecolor": "#2a3f5f"
            },
            "type": "carpet"
           }
          ],
          "choropleth": [
           {
            "colorbar": {
             "outlinewidth": 0,
             "ticks": ""
            },
            "type": "choropleth"
           }
          ],
          "contour": [
           {
            "colorbar": {
             "outlinewidth": 0,
             "ticks": ""
            },
            "colorscale": [
             [
              0,
              "#0d0887"
             ],
             [
              0.1111111111111111,
              "#46039f"
             ],
             [
              0.2222222222222222,
              "#7201a8"
             ],
             [
              0.3333333333333333,
              "#9c179e"
             ],
             [
              0.4444444444444444,
              "#bd3786"
             ],
             [
              0.5555555555555556,
              "#d8576b"
             ],
             [
              0.6666666666666666,
              "#ed7953"
             ],
             [
              0.7777777777777778,
              "#fb9f3a"
             ],
             [
              0.8888888888888888,
              "#fdca26"
             ],
             [
              1,
              "#f0f921"
             ]
            ],
            "type": "contour"
           }
          ],
          "contourcarpet": [
           {
            "colorbar": {
             "outlinewidth": 0,
             "ticks": ""
            },
            "type": "contourcarpet"
           }
          ],
          "heatmap": [
           {
            "colorbar": {
             "outlinewidth": 0,
             "ticks": ""
            },
            "colorscale": [
             [
              0,
              "#0d0887"
             ],
             [
              0.1111111111111111,
              "#46039f"
             ],
             [
              0.2222222222222222,
              "#7201a8"
             ],
             [
              0.3333333333333333,
              "#9c179e"
             ],
             [
              0.4444444444444444,
              "#bd3786"
             ],
             [
              0.5555555555555556,
              "#d8576b"
             ],
             [
              0.6666666666666666,
              "#ed7953"
             ],
             [
              0.7777777777777778,
              "#fb9f3a"
             ],
             [
              0.8888888888888888,
              "#fdca26"
             ],
             [
              1,
              "#f0f921"
             ]
            ],
            "type": "heatmap"
           }
          ],
          "heatmapgl": [
           {
            "colorbar": {
             "outlinewidth": 0,
             "ticks": ""
            },
            "colorscale": [
             [
              0,
              "#0d0887"
             ],
             [
              0.1111111111111111,
              "#46039f"
             ],
             [
              0.2222222222222222,
              "#7201a8"
             ],
             [
              0.3333333333333333,
              "#9c179e"
             ],
             [
              0.4444444444444444,
              "#bd3786"
             ],
             [
              0.5555555555555556,
              "#d8576b"
             ],
             [
              0.6666666666666666,
              "#ed7953"
             ],
             [
              0.7777777777777778,
              "#fb9f3a"
             ],
             [
              0.8888888888888888,
              "#fdca26"
             ],
             [
              1,
              "#f0f921"
             ]
            ],
            "type": "heatmapgl"
           }
          ],
          "histogram": [
           {
            "marker": {
             "colorbar": {
              "outlinewidth": 0,
              "ticks": ""
             }
            },
            "type": "histogram"
           }
          ],
          "histogram2d": [
           {
            "colorbar": {
             "outlinewidth": 0,
             "ticks": ""
            },
            "colorscale": [
             [
              0,
              "#0d0887"
             ],
             [
              0.1111111111111111,
              "#46039f"
             ],
             [
              0.2222222222222222,
              "#7201a8"
             ],
             [
              0.3333333333333333,
              "#9c179e"
             ],
             [
              0.4444444444444444,
              "#bd3786"
             ],
             [
              0.5555555555555556,
              "#d8576b"
             ],
             [
              0.6666666666666666,
              "#ed7953"
             ],
             [
              0.7777777777777778,
              "#fb9f3a"
             ],
             [
              0.8888888888888888,
              "#fdca26"
             ],
             [
              1,
              "#f0f921"
             ]
            ],
            "type": "histogram2d"
           }
          ],
          "histogram2dcontour": [
           {
            "colorbar": {
             "outlinewidth": 0,
             "ticks": ""
            },
            "colorscale": [
             [
              0,
              "#0d0887"
             ],
             [
              0.1111111111111111,
              "#46039f"
             ],
             [
              0.2222222222222222,
              "#7201a8"
             ],
             [
              0.3333333333333333,
              "#9c179e"
             ],
             [
              0.4444444444444444,
              "#bd3786"
             ],
             [
              0.5555555555555556,
              "#d8576b"
             ],
             [
              0.6666666666666666,
              "#ed7953"
             ],
             [
              0.7777777777777778,
              "#fb9f3a"
             ],
             [
              0.8888888888888888,
              "#fdca26"
             ],
             [
              1,
              "#f0f921"
             ]
            ],
            "type": "histogram2dcontour"
           }
          ],
          "mesh3d": [
           {
            "colorbar": {
             "outlinewidth": 0,
             "ticks": ""
            },
            "type": "mesh3d"
           }
          ],
          "parcoords": [
           {
            "line": {
             "colorbar": {
              "outlinewidth": 0,
              "ticks": ""
             }
            },
            "type": "parcoords"
           }
          ],
          "pie": [
           {
            "automargin": true,
            "type": "pie"
           }
          ],
          "scatter": [
           {
            "marker": {
             "colorbar": {
              "outlinewidth": 0,
              "ticks": ""
             }
            },
            "type": "scatter"
           }
          ],
          "scatter3d": [
           {
            "line": {
             "colorbar": {
              "outlinewidth": 0,
              "ticks": ""
             }
            },
            "marker": {
             "colorbar": {
              "outlinewidth": 0,
              "ticks": ""
             }
            },
            "type": "scatter3d"
           }
          ],
          "scattercarpet": [
           {
            "marker": {
             "colorbar": {
              "outlinewidth": 0,
              "ticks": ""
             }
            },
            "type": "scattercarpet"
           }
          ],
          "scattergeo": [
           {
            "marker": {
             "colorbar": {
              "outlinewidth": 0,
              "ticks": ""
             }
            },
            "type": "scattergeo"
           }
          ],
          "scattergl": [
           {
            "marker": {
             "colorbar": {
              "outlinewidth": 0,
              "ticks": ""
             }
            },
            "type": "scattergl"
           }
          ],
          "scattermapbox": [
           {
            "marker": {
             "colorbar": {
              "outlinewidth": 0,
              "ticks": ""
             }
            },
            "type": "scattermapbox"
           }
          ],
          "scatterpolar": [
           {
            "marker": {
             "colorbar": {
              "outlinewidth": 0,
              "ticks": ""
             }
            },
            "type": "scatterpolar"
           }
          ],
          "scatterpolargl": [
           {
            "marker": {
             "colorbar": {
              "outlinewidth": 0,
              "ticks": ""
             }
            },
            "type": "scatterpolargl"
           }
          ],
          "scatterternary": [
           {
            "marker": {
             "colorbar": {
              "outlinewidth": 0,
              "ticks": ""
             }
            },
            "type": "scatterternary"
           }
          ],
          "surface": [
           {
            "colorbar": {
             "outlinewidth": 0,
             "ticks": ""
            },
            "colorscale": [
             [
              0,
              "#0d0887"
             ],
             [
              0.1111111111111111,
              "#46039f"
             ],
             [
              0.2222222222222222,
              "#7201a8"
             ],
             [
              0.3333333333333333,
              "#9c179e"
             ],
             [
              0.4444444444444444,
              "#bd3786"
             ],
             [
              0.5555555555555556,
              "#d8576b"
             ],
             [
              0.6666666666666666,
              "#ed7953"
             ],
             [
              0.7777777777777778,
              "#fb9f3a"
             ],
             [
              0.8888888888888888,
              "#fdca26"
             ],
             [
              1,
              "#f0f921"
             ]
            ],
            "type": "surface"
           }
          ],
          "table": [
           {
            "cells": {
             "fill": {
              "color": "#EBF0F8"
             },
             "line": {
              "color": "white"
             }
            },
            "header": {
             "fill": {
              "color": "#C8D4E3"
             },
             "line": {
              "color": "white"
             }
            },
            "type": "table"
           }
          ]
         },
         "layout": {
          "annotationdefaults": {
           "arrowcolor": "#2a3f5f",
           "arrowhead": 0,
           "arrowwidth": 1
          },
          "coloraxis": {
           "colorbar": {
            "outlinewidth": 0,
            "ticks": ""
           }
          },
          "colorscale": {
           "diverging": [
            [
             0,
             "#8e0152"
            ],
            [
             0.1,
             "#c51b7d"
            ],
            [
             0.2,
             "#de77ae"
            ],
            [
             0.3,
             "#f1b6da"
            ],
            [
             0.4,
             "#fde0ef"
            ],
            [
             0.5,
             "#f7f7f7"
            ],
            [
             0.6,
             "#e6f5d0"
            ],
            [
             0.7,
             "#b8e186"
            ],
            [
             0.8,
             "#7fbc41"
            ],
            [
             0.9,
             "#4d9221"
            ],
            [
             1,
             "#276419"
            ]
           ],
           "sequential": [
            [
             0,
             "#0d0887"
            ],
            [
             0.1111111111111111,
             "#46039f"
            ],
            [
             0.2222222222222222,
             "#7201a8"
            ],
            [
             0.3333333333333333,
             "#9c179e"
            ],
            [
             0.4444444444444444,
             "#bd3786"
            ],
            [
             0.5555555555555556,
             "#d8576b"
            ],
            [
             0.6666666666666666,
             "#ed7953"
            ],
            [
             0.7777777777777778,
             "#fb9f3a"
            ],
            [
             0.8888888888888888,
             "#fdca26"
            ],
            [
             1,
             "#f0f921"
            ]
           ],
           "sequentialminus": [
            [
             0,
             "#0d0887"
            ],
            [
             0.1111111111111111,
             "#46039f"
            ],
            [
             0.2222222222222222,
             "#7201a8"
            ],
            [
             0.3333333333333333,
             "#9c179e"
            ],
            [
             0.4444444444444444,
             "#bd3786"
            ],
            [
             0.5555555555555556,
             "#d8576b"
            ],
            [
             0.6666666666666666,
             "#ed7953"
            ],
            [
             0.7777777777777778,
             "#fb9f3a"
            ],
            [
             0.8888888888888888,
             "#fdca26"
            ],
            [
             1,
             "#f0f921"
            ]
           ]
          },
          "colorway": [
           "#636efa",
           "#EF553B",
           "#00cc96",
           "#ab63fa",
           "#FFA15A",
           "#19d3f3",
           "#FF6692",
           "#B6E880",
           "#FF97FF",
           "#FECB52"
          ],
          "font": {
           "color": "#2a3f5f"
          },
          "geo": {
           "bgcolor": "white",
           "lakecolor": "white",
           "landcolor": "#E5ECF6",
           "showlakes": true,
           "showland": true,
           "subunitcolor": "white"
          },
          "hoverlabel": {
           "align": "left"
          },
          "hovermode": "closest",
          "mapbox": {
           "style": "light"
          },
          "paper_bgcolor": "white",
          "plot_bgcolor": "#E5ECF6",
          "polar": {
           "angularaxis": {
            "gridcolor": "white",
            "linecolor": "white",
            "ticks": ""
           },
           "bgcolor": "#E5ECF6",
           "radialaxis": {
            "gridcolor": "white",
            "linecolor": "white",
            "ticks": ""
           }
          },
          "scene": {
           "xaxis": {
            "backgroundcolor": "#E5ECF6",
            "gridcolor": "white",
            "gridwidth": 2,
            "linecolor": "white",
            "showbackground": true,
            "ticks": "",
            "zerolinecolor": "white"
           },
           "yaxis": {
            "backgroundcolor": "#E5ECF6",
            "gridcolor": "white",
            "gridwidth": 2,
            "linecolor": "white",
            "showbackground": true,
            "ticks": "",
            "zerolinecolor": "white"
           },
           "zaxis": {
            "backgroundcolor": "#E5ECF6",
            "gridcolor": "white",
            "gridwidth": 2,
            "linecolor": "white",
            "showbackground": true,
            "ticks": "",
            "zerolinecolor": "white"
           }
          },
          "shapedefaults": {
           "line": {
            "color": "#2a3f5f"
           }
          },
          "ternary": {
           "aaxis": {
            "gridcolor": "white",
            "linecolor": "white",
            "ticks": ""
           },
           "baxis": {
            "gridcolor": "white",
            "linecolor": "white",
            "ticks": ""
           },
           "bgcolor": "#E5ECF6",
           "caxis": {
            "gridcolor": "white",
            "linecolor": "white",
            "ticks": ""
           }
          },
          "title": {
           "x": 0.05
          },
          "xaxis": {
           "automargin": true,
           "gridcolor": "white",
           "linecolor": "white",
           "ticks": "",
           "title": {
            "standoff": 15
           },
           "zerolinecolor": "white",
           "zerolinewidth": 2
          },
          "yaxis": {
           "automargin": true,
           "gridcolor": "white",
           "linecolor": "white",
           "ticks": "",
           "title": {
            "standoff": 15
           },
           "zerolinecolor": "white",
           "zerolinewidth": 2
          }
         }
        }
       }
      },
      "text/html": [
       "<div>                            <div id=\"ab49940e-70e3-4f60-a210-5335b594f84a\" class=\"plotly-graph-div\" style=\"height:525px; width:100%;\"></div>            <script type=\"text/javascript\">                require([\"plotly\"], function(Plotly) {                    window.PLOTLYENV=window.PLOTLYENV || {};                                    if (document.getElementById(\"ab49940e-70e3-4f60-a210-5335b594f84a\")) {                    Plotly.newPlot(                        \"ab49940e-70e3-4f60-a210-5335b594f84a\",                        [{\"mode\": \"markers\", \"name\": \"markers\", \"type\": \"scatter\", \"x\": [0.52, 0.822, 0.868, 0.454, 0.756, 0.629, 0.612, 0.835, 0.964, 0.864, 0.662, 0.843, 0.709, 0.739, 0.408, 0.212, 0.58, 0.609, 0.527, 0.609, 0.646, 0.633, 0.73, 0.626, 0.6, 0.33, 0.361, 0.349, 0.136, 0.251, 0.493, 0.511, 0.449, 0.623, 0.612, 0.609, 0.718, 0.385, 0.136, 0.43, 0.467, 0.586, 0.25, 0.57, 0.935, 0.622, 0.332, 0.458, 0.522, 0.431, 0.494, 0.329, 0.293, 0.311, 0.896, 0.794, 0.917, 0.595, 0.542, 0.772, 0.808, 0.534, 0.587, 0.775, 0.778, 0.924, 0.602, 0.574, 0.444, 0.391, 0.802, 0.509, 0.442, 0.534, 0.355, 0.655, 0.328, 0.135, 0.465, 0.629, 0.86, 0.201, 0.354, 0.518, 0.679, 0.388, 0.663, 0.108, 0.744, 0.725, 0.405, 0.647, 0.318, 0.436, 0.654, 0.566, 0.772, 0.195, 0.308, 0.0772, 0.509, 0.575, 0.73, 0.253, 0.605, 0.29, 0.298, 0.368, 0.809, 0.623, 0.354, 0.669, 0.881, 0.784, 0.924, 0.485, 0.294, 0.765, 0.831, 0.803, 0.815, 0.432, 0.619, 0.361, 0.338, 0.808, 0.49, 0.461, 0.886, 0.706, 0.769, 0.408, 0.436, 0.645, 0.815, 0.693, 0.588, 0.287, 0.477, 0.703, 0.352, 0.974, 0.767, 0.562, 0.821, 0.251, 0.663, 0.816, 0.211, 0.674, 0.464, 0.714, 0.701, 0.313, 0.702, 0.828, 0.378, 0.236, 0.26, 0.136, 0.636, 0.964, 0.138, 0.781, 0.0893, 0.249, 0.425, 0.269, 0.472, 0.439, 0.723, 0.433, 0.777, 0.539, 0.167, 0.505, 0.645, 0.834, 0.438, 0.794, 0.688, 0.944, 0.584, 0.641, 0.505, 0.418, 0.743, 0.289, 0.74, 0.599, 0.612, 0.551, 0.293, 0.707, 0.852, 0.254, 0.861, 0.733, 0.304, 0.225, 0.167, 0.45, 0.0893, 0.371, 0.573, 0.346, 0.655, 0.438, 0.926, 0.572, 0.417, 0.696, 0.789, 0.722, 0.542, 0.655, 0.551, 0.588, 0.249, 0.842, 0.767, 0.462, 0.861, 0.452, 0.718, 0.886, 0.807, 0.547, 0.8, 0.79, 0.251, 0.634, 0.485, 0.861, 0.478, 0.927, 0.512, 0.702, 0.539, 0.818, 0.773, 0.381, 0.199, 0.0766, 0.266, 0.289, 0.368, 0.504, 0.305, 0.309, 0.549, 0.803, 0.0641, 0.529, 0.713, 0.382, 0.646, 0.541, 0.691, 0.732, 0.472, 0.447, 0.434, 0.653, 0.192, 0.272, 0.281, 0.872, 0.584, 0.902, 0.807, 0.112, 0.0406, 0.487, 0.617, 0.253, 0.487, 0.235, 0.415, 0.588, 0.782, 0.611, 0.887, 0.611, 0.687, 0.382, 0.303, 0.43, 0.947, 0.542, 0.32, 0.109, 0.318, 0.765, 0.527, 0.603, 0.407, 0.269, 0.402, 0.787, 0.745, 0.61, 0.415, 0.705, 0.718, 0.272, 0.654, 0.552, 0.474, 0.47, 0.4, 0.173, 0.645, 0.362, 0.833, 0.478, 0.795, 0.728, 0.329, 0.558, 0.424, 0.472, 0.861, 0.182, 0.761, 0.799, 0.47, 0.711, 0.575, 0.434, 0.888, 0.711, 0.844, 0.59, 0.445, 0.374, 0.235, 0.789, 0.369, 0.669, 0.628, 0.112, 0.462, 0.789, 0.389, 0.427, 0.092, 0.452, 0.205, 0.745, 0.397, 0.614, 0.417, 0.566, 0.37, 0.199, 0.713, 0.472, 0.38, 0.811, 0.152, 0.868, 0.475, 0.788, 0.762, 0.593, 0.442, 0.568, 0.696, 0.412, 0.664, 0.544, 0.579, 0.366, 0.722, 0.416, 0.489, 0.63, 0.807, 0.861, 0.195, 0.3, 0.865, 0.557, 0.787, 0.542, 0.762, 0.378, 0.35, 0.762, 0.36, 0.72, 0.294, 0.651, 0.704, 0.329, 0.2, 0.262, 0.714, 0.231, 0.795, 0.425, 0.326, 0.377, 0.641, 0.714, 0.818, 0.629, 0.743, 0.704, 0.557, 0.851, 0.812, 0.713, 0.591, 0.434, 0.625, 0.412, 0.811, 0.654, 0.659, 0.668, 0.195, 0.798, 0.535, 0.756, 0.61, 0.472, 0.81, 0.758, 0.369, 0.578, 0.103, 0.418, 0.778, 0.272, 0.796, 0.473, 0.728, 0.682, 0.711, 0.473, 0.445, 0.658, 0.638, 0.94, 0.163, 0.103, 0.519, 0.331, 0.818, 0.65, 0.552, 0.757, 0.474, 0.4, 0.74, 0.45, 0.74, 0.726, 0.403, 0.397, 0.38, 0.184, 0.47, 0.217, 0.787, 0.539, 0.542, 0.25, 0.827, 0.294, 0.841, 0.376, 0.664, 0.335, 0.277, 0.574, 0.836, 0.352, 0.257, 0.328, 0.725, 0.788, 0.173, 0.648, 0.769, 0.463, 0.206, 0.362, 0.209, 0.121, 0.81, 0.362, 0.607, 0.512, 0.549, 0.948, 0.507, 0.359, 0.649, 0.76, 0.53, 0.227, 0.667, 0.62, 0.262, 0.444, 0.835, 0.965, 0.72, 0.434, 0.935, 0.624, 0.492, 0.366, 0.561, 0.538, 0.594, 0.272, 0.294, 0.645, 0.949, 0.45, 0.65, 0.361, 0.653, 0.538, 0.814, 0.812, 0.144, 0.362, 0.796, 0.436, 0.232, 0.762, 0.638, 0.604, 0.332, 0.635, 0.818, 0.361, 0.787, 0.438, 0.748, 0.7, 0.369, 0.397, 0.103, 0.264, 0.212, 0.0886, 0.602, 0.795, 0.357, 0.221, 0.389, 0.794, 0.877, 0.573, 0.331, 0.654, 0.358, 0.723, 0.152, 0.6, 0.9, 0.514, 0.778, 0.402, 0.286, 0.591, 0.257, 0.727, 0.664, 0.812, 0.609, 0.671, 0.311, 0.442, 0.782, 0.425, 0.297, 0.637, 0.555, 0.619, 0.918, 0.657, 0.498, 0.685, 0.543, 0.0837, 0.613, 0.74, 0.35, 0.199, 0.368, 0.72, 0.66, 0.735, 0.523, 0.809, 0.431, 0.684, 0.6, 0.751, 0.888, 0.437, 0.446, 0.795, 0.392, 0.575, 0.684, 0.739, 0.613, 0.721, 0.39, 0.444, 0.725, 0.299, 0.301, 0.142, 0.476, 0.426, 0.332, 0.359, 0.286, 0.769, 0.657, 0.75, 0.613, 0.412, 0.62, 0.729, 0.472, 0.569, 0.775, 0.864, 0.919, 0.294, 0.569, 0.273, 0.793, 0.749, 0.648, 0.322, 0.402, 0.646, 0.3, 0.472, 0.611, 0.563, 0.206, 0.739, 0.927, 0.886, 0.364, 0.796, 0.74, 0.216, 0.574, 0.875, 0.741, 0.867, 0.353, 0.212, 0.392, 0.507, 0.333, 0.485, 0.248, 0.591, 0.481, 0.476, 0.234, 0.329, 0.482, 0.736, 0.785, 0.664, 0.643, 0.801, 0.353, 0.161, 0.775, 0.863, 0.703, 0.86, 0.663, 0.375, 0.393, 0.469, 0.79, 0.235, 0.184, 0.574, 0.585, 0.356, 0.843, 0.236, 0.282, 0.356, 0.512, 0.441, 0.387, 0.878, 0.455, 0.867, 0.353, 0.125, 0.862, 0.337, 0.679, 0.484, 0.349, 0.643, 0.357, 0.79, 0.156, 0.487, 0.176, 0.272, 0.438, 0.393, 0.824, 0.766, 0.937, 0.861, 0.579, 0.573, 0.287, 0.331, 0.542, 0.738, 0.613, 0.464, 0.567, 0.662, 0.526, 0.356, 0.582, 0.151, 0.322, 0.86, 0.475, 0.144, 0.502, 0.395, 0.461, 0.552, 0.574, 0.749, 0.58, 0.801, 0.392, 0.447, 0.649, 0.501, 0.428, 0.477, 0.763, 0.417, 0.517, 0.684, 0.513, 0.414, 0.39, 0.668, 0.558, 0.546, 0.486, 0.407, 0.365, 0.505, 0.875, 0.189, 0.582, 0.965, 0.12, 0.235, 0.629, 0.248, 0.654, 0.391, 0.748, 0.506, 0.0663, 0.3, 0.96, 0.607, 0.758, 0.243, 0.769, 0.704, 0.765, 0.962, 0.353, 0.331, 0.377, 0.477, 0.759, 0.925, 0.961, 0.625, 0.184, 0.788, 0.571, 0.943, 0.328, 0.163, 0.624, 0.0765, 0.416, 0.243, 0.337, 0.371, 0.643, 0.428, 0.286, 0.572, 0.519, 0.751, 0.544, 0.879, 0.616, 0.538, 0.347, 0.743, 0.576, 0.401, 0.646, 0.284, 0.961, 0.329, 0.721, 0.549, 0.386, 0.665, 0.349, 0.109, 0.455, 0.673, 0.488, 0.723, 0.756, 0.162, 0.849, 0.235, 0.186, 0.287, 0.939, 0.236, 0.678, 0.786, 0.458, 0.639, 0.328, 0.64, 0.595, 0.431, 0.592, 0.738, 0.545, 0.121, 0.551, 0.0386, 0.471, 0.849, 0.758, 0.398, 0.838, 0.446, 0.847, 0.66, 0.843, 0.654, 0.262, 0.843, 0.534, 0.824, 0.108, 0.178, 0.728, 0.196, 0.319, 0.709, 0.356, 0.441, 0.461, 0.174, 0.58, 0.504, 0.19, 0.484, 0.201, 0.928, 0.591, 0.283, 0.817, 0.884, 0.619, 0.583, 0.962, 0.406, 0.137, 0.594, 0.583, 0.275, 0.437, 0.295, 0.274, 0.656, 0.943, 0.197, 0.33, 0.603, 0.95, 0.594, 0.701, 0.595, 0.493, 0.215, 0.961, 0.456, 0.552, 0.525, 0.473, 0.759, 0.201, 0.288, 0.54, 0.114, 0.451, 0.724, 0.55, 0.735, 0.641, 0.56, 0.537, 0.483, 0.328, 0.366, 0.395, 0.891, 0.412, 0.255, 0.499, 0.336, 0.528, 0.457, 0.593, 0.467, 0.184, 0.163, 0.676, 0.56, 0.621, 0.355, 0.291, 0.595, 0.491, 0.104, 0.121, 0.251, 0.239, 0.51, 0.585, 0.446, 0.832, 0.815, 0.417, 0.347, 0.145, 0.178, 0.751, 0.326, 0.472, 0.625, 0.356, 0.859, 0.581, 0.818, 0.15, 0.389, 0.572, 0.479, 0.849, 0.468, 0.331, 0.45, 0.884, 0.574, 0.37, 0.382, 0.743, 0.576, 0.438, 0.37, 0.558, 0.648, 0.266, 0.288, 0.422, 0.7, 0.661, 0.732, 0.34, 0.296, 0.74, 0.71, 0.593, 0.465, 0.896, 0.245, 0.566, 0.548, 0.438, 0.54, 0.552, 0.501, 0.567, 0.343, 0.747, 0.397, 0.102, 0.759, 0.137, 0.523, 0.708, 0.189, 0.289, 0.1, 0.18, 0.331, 0.438, 0.349, 0.417, 0.47, 0.246, 0.657, 0.276, 0.163, 0.69, 0.564, 0.352, 0.37, 0.408, 0.276, 0.603, 0.604, 0.466, 0.554, 0.486, 0.498, 0.296, 0.539, 0.833, 0.446, 0.4, 0.309, 0.401, 0.199, 0.912, 0.324, 0.252, 0.356, 0.583, 0.427, 0.247, 0.131, 0.348, 0.613, 0.543, 0.467, 0.224, 0.743, 0.0594, 0.265, 0.464, 0.274, 0.549, 0.962, 0.721, 0.282, 0.231, 0.278, 0.755, 0.742, 0.53, 0.137, 0.205, 0.304, 0.283, 0.396, 0.931, 0.839, 0.86, 0.421, 0.661, 0.175, 0.661, 0.661, 0.666, 0.492, 0.494, 0.817, 0.401, 0.281, 0.733, 0.632, 0.437, 0.619, 0.355, 0.486, 0.326, 0.797, 0.969, 0.546, 0.572, 0.672, 0.455, 0.451, 0.357, 0.848, 0.378, 0.585, 0.273, 0.542, 0.613, 0.418, 0.506, 0.471, 0.719, 0.251, 0.613, 0.742, 0.754, 0.163, 0.885, 0.376, 0.7, 0.393, 0.288, 0.486, 0.53, 0.356, 0.231, 0.129, 0.434, 0.548, 0.447, 0.707, 0.682, 0.422, 0.78, 0.166, 0.364, 0.419, 0.303, 0.808, 0.412, 0.708, 0.511, 0.687, 0.471, 0.872, 0.505, 0.515, 0.476, 0.394, 0.443, 0.409, 0.814, 0.742, 0.344, 0.193, 0.782, 0.741, 0.222, 0.538, 0.343, 0.0661, 0.58, 0.747, 0.425, 0.673, 0.589, 0.394, 0.419, 0.17, 0.349, 0.761, 0.357, 0.168, 0.579, 0.394, 0.129, 0.459, 0.65, 0.437, 0.35, 0.474, 0.758, 0.218, 0.341, 0.719, 0.235, 0.608, 0.473, 0.243, 0.12, 0.354, 0.717, 0.288, 0.595, 0.0499, 0.1, 0.535, 0.612, 0.342, 0.464, 0.405, 0.376, 0.494, 0.754, 0.188, 0.419, 0.152, 0.556, 0.671, 0.291, 0.593, 0.508, 0.446, 0.395, 0.699, 0.512, 0.487, 0.421, 0.508, 0.476, 0.779, 0.549, 0.423, 0.521, 0.546, 0.755, 0.635, 0.158, 0.452, 0.535, 0.109, 0.268, 0.112, 0.885, 0.811, 0.594, 0.394, 0.743, 0.22, 0.406, 0.931, 0.425, 0.639, 0.52, 0.183, 0.474, 0.319, 0.175, 0.376, 0.535, 0.442, 0.864, 0.201, 0.357, 0.372, 0.492, 0.35, 0.711, 0.419, 0.694, 0.0585, 0.358, 0.838, 0.52, 0.219, 0.527, 0.123, 0.51, 0.393, 0.666, 0.639, 0.553, 0.533, 0.562, 0.388, 0.535, 0.327, 0.346, 0.446, 0.952, 0.681, 0.412, 0.412, 0.184, 0.549, 0.168, 0.319, 0.544, 0.714, 0.112, 0.136, 0.474, 0.62, 0.844, 0.463, 0.1, 0.446, 0.864, 0.163, 0.504, 0.341, 0.152, 0.101, 0.386, 0.335, 0.819, 0.219, 0.714, 0.496, 0.536, 0.274, 0.728, 0.158, 0.261, 0.382, 0.391, 0.218, 0.261, 0.548, 0.707, 0.217, 0.443, 0.244, 0.811, 0.617, 0.584, 0.0797, 0.58, 0.553, 0.637, 0.179, 0.835, 0.74, 0.198, 0.313, 0.65, 0.537, 0.742, 0.364, 0.196, 0.698, 0.777, 0.587, 0.459, 0.874, 0.634, 0.358, 0.599, 0.434, 0.345, 0.1, 0.883, 0.769, 0.424, 0.12, 0.535, 0.549, 0.494, 0.568, 0.57, 0.558, 0.249, 0.476, 0.565, 0.593, 0.578], \"y\": [0.785, 0.6, 0.97, 0.479, 0.824, 0.8, 0.741, 0.799, 0.583, 0.796, 0.705, 0.514, 0.729, 0.454, 0.821, 0.482, 0.574, 0.577, 0.671, 0.83, 0.916, 0.609, 0.913, 0.757, 0.62, 0.674, 0.743, 0.391, 0.592, 0.736, 0.976, 0.742, 0.961, 0.696, 0.598, 0.62, 0.761, 0.876, 0.584, 0.54, 0.368, 0.682, 0.819, 0.612, 0.888, 0.439, 0.81, 0.954, 0.815, 0.543, 0.516, 0.484, 0.797, 0.728, 0.486, 0.67, 0.786, 0.892, 0.518, 0.599, 0.68, 0.643, 0.511, 0.624, 0.589, 0.742, 0.652, 0.842, 0.572, 0.368, 0.885, 0.821, 0.551, 0.806, 0.746, 0.952, 0.883, 0.518, 0.408, 0.595, 0.803, 0.691, 0.427, 0.745, 0.625, 0.502, 0.756, 0.483, 0.931, 0.745, 0.647, 0.881, 0.519, 0.548, 0.772, 0.886, 0.705, 0.327, 0.524, 0.539, 0.694, 0.829, 0.77, 0.641, 0.549, 0.749, 0.291, 0.454, 0.872, 0.755, 0.443, 0.959, 0.851, 0.92, 0.742, 0.6, 0.919, 0.807, 0.584, 0.74, 0.711, 0.723, 0.744, 0.743, 0.853, 0.68, 0.717, 0.799, 0.891, 0.777, 0.661, 0.887, 0.391, 0.644, 0.721, 0.91, 0.891, 0.93, 0.591, 0.876, 0.487, 0.849, 0.697, 0.599, 0.731, 0.736, 0.756, 0.351, 0.85, 0.905, 0.932, 0.438, 0.642, 0.636, 0.668, 0.538, 0.71, 0.905, 0.708, 0.592, 0.743, 0.583, 0.786, 0.721, 0.609, 0.474, 0.724, 0.958, 0.91, 0.629, 0.606, 0.86, 0.558, 0.715, 0.549, 0.94, 0.797, 0.585, 0.751, 0.608, 0.854, 0.906, 0.725, 0.925, 0.952, 0.782, 0.59, 0.417, 0.826, 0.9, 0.598, 0.658, 0.797, 0.667, 0.681, 0.682, 0.939, 0.619, 0.609, 0.656, 0.549, 0.428, 0.609, 0.501, 0.786, 0.712, 0.693, 0.82, 0.686, 0.467, 0.617, 0.76, 0.629, 0.813, 0.669, 0.88, 0.658, 0.753, 0.474, 0.665, 0.931, 0.87, 0.939, 0.563, 0.457, 0.71, 0.79, 0.766, 0.911, 0.955, 0.859, 0.921, 0.848, 0.841, 0.862, 0.548, 0.729, 0.661, 0.672, 0.653, 0.695, 0.773, 0.431, 0.515, 0.657, 0.417, 0.685, 0.829, 0.641, 0.935, 0.7, 0.74, 0.393, 0.744, 0.683, 0.442, 0.746, 0.723, 0.692, 0.73, 0.822, 0.445, 0.783, 0.751, 0.594, 0.77, 0.578, 0.946, 0.725, 0.791, 0.954, 0.524, 0.322, 0.664, 0.571, 0.641, 0.808, 0.695, 0.792, 0.795, 0.638, 0.842, 0.864, 0.699, 0.906, 0.766, 0.736, 0.628, 0.553, 0.903, 0.665, 0.632, 0.903, 0.807, 0.864, 0.844, 0.742, 0.745, 0.857, 0.806, 0.739, 0.766, 0.792, 0.672, 0.457, 0.584, 0.647, 0.691, 0.773, 0.746, 0.803, 0.715, 0.877, 0.614, 0.733, 0.862, 0.712, 0.68, 0.588, 0.922, 0.882, 0.72, 0.841, 0.796, 0.733, 0.44, 0.698, 0.629, 0.829, 0.783, 0.804, 0.711, 0.678, 0.878, 0.522, 0.797, 0.695, 0.629, 0.468, 0.649, 0.874, 0.524, 0.87, 0.629, 0.432, 0.518, 0.602, 0.612, 0.89, 0.845, 0.692, 0.948, 0.617, 0.87, 0.634, 0.868, 0.683, 0.662, 0.808, 0.956, 0.823, 0.69, 0.517, 0.825, 0.73, 0.834, 0.783, 0.911, 0.55, 0.976, 0.826, 0.587, 0.59, 0.517, 0.813, 0.742, 0.712, 0.616, 0.713, 0.551, 0.751, 0.643, 0.924, 0.878, 0.709, 0.926, 0.853, 0.786, 0.938, 0.882, 0.699, 0.576, 0.872, 0.82, 0.902, 0.656, 0.402, 0.492, 0.837, 0.622, 0.886, 0.754, 0.745, 0.867, 0.925, 0.921, 0.804, 0.899, 0.853, 0.94, 0.664, 0.748, 0.75, 0.832, 0.798, 0.843, 0.82, 0.517, 0.956, 0.861, 0.673, 0.954, 0.751, 0.562, 0.699, 0.612, 0.766, 0.662, 0.87, 0.614, 0.799, 0.83, 0.752, 0.498, 0.837, 0.574, 0.733, 0.869, 0.68, 0.882, 0.711, 0.842, 0.683, 0.757, 0.706, 0.893, 0.746, 0.69, 0.836, 0.601, 0.674, 0.948, 0.917, 0.723, 0.773, 0.629, 0.675, 0.845, 0.833, 0.81, 0.687, 0.692, 0.787, 0.52, 0.698, 0.736, 0.709, 0.624, 0.926, 0.702, 0.889, 0.872, 0.907, 0.764, 0.544, 0.505, 0.781, 0.944, 0.795, 0.698, 0.52, 0.779, 0.713, 0.825, 0.715, 0.84, 0.661, 0.841, 0.3, 0.497, 0.563, 0.684, 0.762, 0.796, 0.812, 0.438, 0.821, 0.567, 0.769, 0.727, 0.826, 0.869, 0.939, 0.558, 0.86, 0.758, 0.628, 0.686, 0.684, 0.71, 0.812, 0.843, 0.63, 0.709, 0.835, 0.914, 0.784, 0.677, 0.598, 0.661, 0.319, 0.69, 0.804, 0.705, 0.889, 0.772, 0.817, 0.834, 0.783, 0.729, 0.695, 0.497, 0.795, 0.813, 0.839, 0.912, 0.706, 0.751, 0.639, 0.741, 0.804, 0.595, 0.546, 0.807, 0.857, 0.882, 0.882, 0.946, 0.752, 0.679, 0.736, 0.348, 0.805, 0.861, 0.845, 0.803, 0.722, 0.893, 0.926, 0.945, 0.601, 0.861, 0.629, 0.849, 0.631, 0.766, 0.87, 0.709, 0.837, 0.614, 0.67, 0.798, 0.651, 0.912, 0.544, 0.807, 0.584, 0.904, 0.78, 0.823, 0.923, 0.566, 0.649, 0.808, 0.872, 0.716, 0.856, 0.882, 0.607, 0.831, 0.844, 0.841, 0.701, 0.833, 0.454, 0.381, 0.773, 0.495, 0.58, 0.638, 0.756, 0.789, 0.841, 0.939, 0.766, 0.716, 0.787, 0.86, 0.67, 0.861, 0.738, 0.683, 0.89, 0.937, 0.82, 0.837, 0.442, 0.847, 0.924, 0.515, 0.788, 0.303, 0.835, 0.496, 0.55, 0.727, 0.712, 0.918, 0.879, 0.676, 0.873, 0.794, 0.758, 0.919, 0.662, 0.695, 0.858, 0.792, 0.924, 0.319, 0.862, 0.339, 0.547, 0.937, 0.855, 0.826, 0.614, 0.838, 0.476, 0.872, 0.665, 0.891, 0.691, 0.73, 0.809, 0.765, 0.894, 0.795, 0.911, 0.427, 0.749, 0.882, 0.839, 0.819, 0.466, 0.585, 0.843, 0.769, 0.478, 0.666, 0.677, 0.858, 0.704, 0.863, 0.632, 0.826, 0.771, 0.935, 0.56, 0.544, 0.841, 0.7, 0.742, 0.407, 0.866, 0.715, 0.861, 0.884, 0.665, 0.728, 0.71, 0.722, 0.794, 0.576, 0.736, 0.527, 0.972, 0.794, 0.599, 0.784, 0.794, 0.794, 0.512, 0.547, 0.28, 0.948, 0.772, 0.698, 0.466, 0.31, 0.811, 0.428, 0.469, 0.622, 0.422, 0.783, 0.596, 0.455, 0.534, 0.939, 0.781, 0.436, 0.84, 0.71, 0.906, 0.819, 0.692, 0.877, 0.524, 0.787, 0.414, 0.679, 0.758, 0.78, 0.82, 0.608, 0.924, 0.693, 0.843, 0.794, 0.929, 0.416, 0.826, 0.884, 0.608, 0.706, 0.785, 0.792, 0.481, 0.628, 0.66, 0.937, 0.869, 0.7, 0.738, 0.702, 0.688, 0.642, 0.71, 0.705, 0.822, 0.757, 0.836, 0.872, 0.908, 0.816, 0.478, 0.729, 0.878, 0.867, 0.877, 0.289, 0.694, 0.791, 0.751, 0.447, 0.726, 0.863, 0.576, 0.576, 0.873, 0.677, 0.641, 0.81, 0.809, 0.837, 0.592, 0.476, 0.825, 0.927, 0.836, 0.545, 0.801, 0.702, 0.923, 0.822, 0.585, 0.264, 0.716, 0.705, 0.652, 0.758, 0.887, 0.805, 0.42, 0.963, 0.715, 0.785, 0.602, 0.716, 0.853, 0.147, 0.578, 0.545, 0.428, 0.485, 0.783, 0.71, 0.663, 0.787, 0.72, 0.786, 0.735, 0.713, 0.522, 0.902, 0.65, 0.856, 0.911, 0.621, 0.605, 0.702, 0.777, 0.777, 0.621, 0.586, 0.527, 0.508, 0.422, 0.563, 0.772, 0.893, 0.769, 0.931, 0.791, 0.675, 0.608, 0.476, 0.5, 0.414, 0.67, 0.784, 0.504, 0.671, 0.78, 0.703, 0.742, 0.795, 0.886, 0.595, 0.878, 0.935, 0.857, 0.529, 0.783, 0.866, 0.667, 0.589, 0.836, 0.807, 0.951, 0.629, 0.654, 0.73, 0.674, 0.937, 0.65, 0.599, 0.801, 0.81, 0.499, 0.45, 0.726, 0.491, 0.599, 0.902, 0.794, 0.951, 0.738, 0.441, 0.589, 0.716, 0.559, 0.888, 0.655, 0.609, 0.445, 0.481, 0.873, 0.788, 0.866, 0.678, 0.759, 0.291, 0.564, 0.68, 0.769, 0.606, 0.664, 0.802, 0.809, 0.68, 0.785, 0.781, 0.714, 0.717, 0.825, 0.765, 0.676, 0.775, 0.485, 0.673, 0.887, 0.786, 0.628, 0.73, 0.869, 0.358, 0.379, 0.43, 0.721, 0.761, 0.71, 0.802, 0.671, 0.52, 0.925, 0.858, 0.741, 0.719, 0.742, 0.724, 0.728, 0.607, 0.472, 0.495, 0.791, 0.61, 0.862, 0.464, 0.825, 0.664, 0.42, 0.716, 0.962, 0.705, 0.789, 0.225, 0.408, 0.703, 0.673, 0.593, 0.611, 0.658, 0.486, 0.731, 0.585, 0.921, 0.782, 0.616, 0.53, 0.65, 0.0743, 0.628, 0.786, 0.19, 0.664, 0.488, 0.794, 0.861, 0.578, 0.86, 0.621, 0.455, 0.787, 0.798, 0.608, 0.84, 0.821, 0.51, 0.801, 0.572, 0.52, 0.48, 0.856, 0.401, 0.748, 0.625, 0.534, 0.637, 0.731, 0.43, 0.869, 0.832, 0.524, 0.698, 0.473, 0.314, 0.702, 0.714, 0.585, 0.927, 0.753, 0.543, 0.713, 0.396, 0.7, 0.721, 0.628, 0.798, 0.533, 0.802, 0.819, 0.653, 0.331, 0.358, 0.564, 0.702, 0.525, 0.356, 0.602, 0.449, 0.275, 0.821, 0.593, 0.468, 0.53, 0.613, 0.311, 0.803, 0.732, 0.716, 0.771, 0.666, 0.563, 0.734, 0.412, 0.433, 0.717, 0.724, 0.499, 0.681, 0.587, 0.571, 0.557, 0.68, 0.694, 0.921, 0.389, 0.562, 0.623, 0.665, 0.791, 0.662, 0.528, 0.598, 0.769, 0.849, 0.529, 0.526, 0.0565, 0.736, 0.74, 0.664, 0.695, 0.705, 0.462, 0.595, 0.8, 0.809, 0.383, 0.759, 0.646, 0.523, 0.673, 0.666, 0.791, 0.708, 0.924, 0.48, 0.679, 0.725, 0.481, 0.823, 0.652, 0.797, 0.56, 0.621, 0.524, 0.665, 0.524, 0.458, 0.78, 0.804, 0.557, 0.667, 0.75, 0.434, 0.769, 0.803, 0.657, 0.681, 0.632, 0.587, 0.449, 0.613, 0.813, 0.574, 0.347, 0.653, 0.415, 0.739, 0.574, 0.425, 0.637, 0.819, 0.575, 0.497, 0.481, 0.61, 0.709, 0.834, 0.297, 0.644, 0.736, 0.763, 0.795, 0.716, 0.643, 0.346, 0.832, 0.693, 0.822, 0.687, 0.444, 0.662, 0.489, 0.52, 0.536, 0.396, 0.585, 0.335, 0.563, 0.523, 0.887, 0.314, 0.463, 0.535, 0.39, 0.593, 0.717, 0.525, 0.795, 0.799, 0.8, 0.745, 0.567, 0.813, 0.372, 0.539, 0.582, 0.594, 0.81, 0.708, 0.405, 0.588, 0.817, 0.674, 0.595, 0.833, 0.781, 0.357, 0.619, 0.819, 0.633, 0.743, 0.646, 0.523, 0.597, 0.593, 0.726, 0.845, 0.449, 0.448, 0.783, 0.523, 0.52, 0.56, 0.726, 0.657, 0.626, 0.529, 0.909, 0.566, 0.578, 0.616, 0.779, 0.7, 0.613, 0.713, 0.296, 0.713, 0.789, 0.822, 0.581, 0.404, 0.449, 0.814, 0.751, 0.559, 0.714, 0.771, 0.387, 0.581, 0.795, 0.518, 0.505, 0.854, 0.655, 0.575, 0.538, 0.825, 0.724, 0.73, 0.633, 0.523, 0.642, 0.712, 0.621, 0.816, 0.372, 0.585, 0.463, 0.412, 0.556, 0.574, 0.599, 0.775, 0.519, 0.603, 0.568, 0.524, 0.658, 0.346, 0.643, 0.561, 0.493, 0.539, 0.856, 0.611, 0.574, 0.652, 0.633, 0.76, 0.844, 0.506, 0.412, 0.68, 0.593, 0.705, 0.814, 0.675, 0.882, 0.727, 0.574, 0.632, 0.586, 0.804, 0.537, 0.597, 0.749, 0.666, 0.61, 0.84, 0.308, 0.367, 0.781, 0.564, 0.544, 0.693, 0.78, 0.619, 0.762, 0.488, 0.425, 0.539, 0.814, 0.317, 0.4, 0.73, 0.734, 0.904, 0.653, 0.624, 0.42, 0.383, 0.448, 0.68, 0.496, 0.921, 0.552, 0.454, 0.529, 0.706, 0.662, 0.364, 0.449, 0.405, 0.809, 0.653, 0.603, 0.578, 0.854, 0.502, 0.438, 0.554, 0.795, 0.59, 0.671, 0.598, 0.587, 0.636, 0.83, 0.539, 0.639, 0.402, 0.382, 0.566, 0.625, 0.648, 0.68, 0.752, 0.586, 0.545, 0.678, 0.801, 0.488, 0.632, 0.833, 0.762, 0.863, 0.586, 0.771, 0.73, 0.111, 0.638, 0.726, 0.412, 0.743, 0.656, 0.389, 0.578, 0.886, 0.811, 0.535, 0.496, 0.682, 0.61, 0.56, 0.662, 0.682, 0.449, 0.85, 0.516, 0.622, 0.296, 0.814, 0.635, 0.581, 0.511, 0.814, 0.708, 0.717, 0.652, 0.781, 0.825, 0.692]}],                        {\"shapes\": [{\"line\": {\"color\": \"Red\"}, \"type\": \"line\", \"x0\": 0, \"x1\": 1, \"xref\": \"x\", \"y0\": 0.5, \"y1\": 0.5, \"yref\": \"y\"}, {\"line\": {\"color\": \"Red\"}, \"type\": \"line\", \"x0\": 0.5, \"x1\": 0.5, \"xref\": \"x\", \"y0\": 0, \"y1\": 1, \"yref\": \"y\"}], \"template\": {\"data\": {\"bar\": [{\"error_x\": {\"color\": \"#2a3f5f\"}, \"error_y\": {\"color\": \"#2a3f5f\"}, \"marker\": {\"line\": {\"color\": \"#E5ECF6\", \"width\": 0.5}}, \"type\": \"bar\"}], \"barpolar\": [{\"marker\": {\"line\": {\"color\": \"#E5ECF6\", \"width\": 0.5}}, \"type\": \"barpolar\"}], \"carpet\": [{\"aaxis\": {\"endlinecolor\": \"#2a3f5f\", \"gridcolor\": \"white\", \"linecolor\": \"white\", \"minorgridcolor\": \"white\", \"startlinecolor\": \"#2a3f5f\"}, \"baxis\": {\"endlinecolor\": \"#2a3f5f\", \"gridcolor\": \"white\", \"linecolor\": \"white\", \"minorgridcolor\": \"white\", \"startlinecolor\": \"#2a3f5f\"}, \"type\": \"carpet\"}], \"choropleth\": [{\"colorbar\": {\"outlinewidth\": 0, \"ticks\": \"\"}, \"type\": \"choropleth\"}], \"contour\": [{\"colorbar\": {\"outlinewidth\": 0, \"ticks\": \"\"}, \"colorscale\": [[0.0, \"#0d0887\"], [0.1111111111111111, \"#46039f\"], [0.2222222222222222, \"#7201a8\"], [0.3333333333333333, \"#9c179e\"], [0.4444444444444444, \"#bd3786\"], [0.5555555555555556, \"#d8576b\"], [0.6666666666666666, \"#ed7953\"], [0.7777777777777778, \"#fb9f3a\"], [0.8888888888888888, \"#fdca26\"], [1.0, \"#f0f921\"]], \"type\": \"contour\"}], \"contourcarpet\": [{\"colorbar\": {\"outlinewidth\": 0, \"ticks\": \"\"}, \"type\": \"contourcarpet\"}], \"heatmap\": [{\"colorbar\": {\"outlinewidth\": 0, \"ticks\": \"\"}, \"colorscale\": [[0.0, \"#0d0887\"], [0.1111111111111111, \"#46039f\"], [0.2222222222222222, \"#7201a8\"], [0.3333333333333333, \"#9c179e\"], [0.4444444444444444, \"#bd3786\"], [0.5555555555555556, \"#d8576b\"], [0.6666666666666666, \"#ed7953\"], [0.7777777777777778, \"#fb9f3a\"], [0.8888888888888888, \"#fdca26\"], [1.0, \"#f0f921\"]], \"type\": \"heatmap\"}], \"heatmapgl\": [{\"colorbar\": {\"outlinewidth\": 0, \"ticks\": \"\"}, \"colorscale\": [[0.0, \"#0d0887\"], [0.1111111111111111, \"#46039f\"], [0.2222222222222222, \"#7201a8\"], [0.3333333333333333, \"#9c179e\"], [0.4444444444444444, \"#bd3786\"], [0.5555555555555556, \"#d8576b\"], [0.6666666666666666, \"#ed7953\"], [0.7777777777777778, \"#fb9f3a\"], [0.8888888888888888, \"#fdca26\"], [1.0, \"#f0f921\"]], \"type\": \"heatmapgl\"}], \"histogram\": [{\"marker\": {\"colorbar\": {\"outlinewidth\": 0, \"ticks\": \"\"}}, \"type\": \"histogram\"}], \"histogram2d\": [{\"colorbar\": {\"outlinewidth\": 0, \"ticks\": \"\"}, \"colorscale\": [[0.0, \"#0d0887\"], [0.1111111111111111, \"#46039f\"], [0.2222222222222222, \"#7201a8\"], [0.3333333333333333, \"#9c179e\"], [0.4444444444444444, \"#bd3786\"], [0.5555555555555556, \"#d8576b\"], [0.6666666666666666, \"#ed7953\"], [0.7777777777777778, \"#fb9f3a\"], [0.8888888888888888, \"#fdca26\"], [1.0, \"#f0f921\"]], \"type\": \"histogram2d\"}], \"histogram2dcontour\": [{\"colorbar\": {\"outlinewidth\": 0, \"ticks\": \"\"}, \"colorscale\": [[0.0, \"#0d0887\"], [0.1111111111111111, \"#46039f\"], [0.2222222222222222, \"#7201a8\"], [0.3333333333333333, \"#9c179e\"], [0.4444444444444444, \"#bd3786\"], [0.5555555555555556, \"#d8576b\"], [0.6666666666666666, \"#ed7953\"], [0.7777777777777778, \"#fb9f3a\"], [0.8888888888888888, \"#fdca26\"], [1.0, \"#f0f921\"]], \"type\": \"histogram2dcontour\"}], \"mesh3d\": [{\"colorbar\": {\"outlinewidth\": 0, \"ticks\": \"\"}, \"type\": \"mesh3d\"}], \"parcoords\": [{\"line\": {\"colorbar\": {\"outlinewidth\": 0, \"ticks\": \"\"}}, \"type\": \"parcoords\"}], \"pie\": [{\"automargin\": true, \"type\": \"pie\"}], \"scatter\": [{\"marker\": {\"colorbar\": {\"outlinewidth\": 0, \"ticks\": \"\"}}, \"type\": \"scatter\"}], \"scatter3d\": [{\"line\": {\"colorbar\": {\"outlinewidth\": 0, \"ticks\": \"\"}}, \"marker\": {\"colorbar\": {\"outlinewidth\": 0, \"ticks\": \"\"}}, \"type\": \"scatter3d\"}], \"scattercarpet\": [{\"marker\": {\"colorbar\": {\"outlinewidth\": 0, \"ticks\": \"\"}}, \"type\": \"scattercarpet\"}], \"scattergeo\": [{\"marker\": {\"colorbar\": {\"outlinewidth\": 0, \"ticks\": \"\"}}, \"type\": \"scattergeo\"}], \"scattergl\": [{\"marker\": {\"colorbar\": {\"outlinewidth\": 0, \"ticks\": \"\"}}, \"type\": \"scattergl\"}], \"scattermapbox\": [{\"marker\": {\"colorbar\": {\"outlinewidth\": 0, \"ticks\": \"\"}}, \"type\": \"scattermapbox\"}], \"scatterpolar\": [{\"marker\": {\"colorbar\": {\"outlinewidth\": 0, \"ticks\": \"\"}}, \"type\": \"scatterpolar\"}], \"scatterpolargl\": [{\"marker\": {\"colorbar\": {\"outlinewidth\": 0, \"ticks\": \"\"}}, \"type\": \"scatterpolargl\"}], \"scatterternary\": [{\"marker\": {\"colorbar\": {\"outlinewidth\": 0, \"ticks\": \"\"}}, \"type\": \"scatterternary\"}], \"surface\": [{\"colorbar\": {\"outlinewidth\": 0, \"ticks\": \"\"}, \"colorscale\": [[0.0, \"#0d0887\"], [0.1111111111111111, \"#46039f\"], [0.2222222222222222, \"#7201a8\"], [0.3333333333333333, \"#9c179e\"], [0.4444444444444444, \"#bd3786\"], [0.5555555555555556, \"#d8576b\"], [0.6666666666666666, \"#ed7953\"], [0.7777777777777778, \"#fb9f3a\"], [0.8888888888888888, \"#fdca26\"], [1.0, \"#f0f921\"]], \"type\": \"surface\"}], \"table\": [{\"cells\": {\"fill\": {\"color\": \"#EBF0F8\"}, \"line\": {\"color\": \"white\"}}, \"header\": {\"fill\": {\"color\": \"#C8D4E3\"}, \"line\": {\"color\": \"white\"}}, \"type\": \"table\"}]}, \"layout\": {\"annotationdefaults\": {\"arrowcolor\": \"#2a3f5f\", \"arrowhead\": 0, \"arrowwidth\": 1}, \"coloraxis\": {\"colorbar\": {\"outlinewidth\": 0, \"ticks\": \"\"}}, \"colorscale\": {\"diverging\": [[0, \"#8e0152\"], [0.1, \"#c51b7d\"], [0.2, \"#de77ae\"], [0.3, \"#f1b6da\"], [0.4, \"#fde0ef\"], [0.5, \"#f7f7f7\"], [0.6, \"#e6f5d0\"], [0.7, \"#b8e186\"], [0.8, \"#7fbc41\"], [0.9, \"#4d9221\"], [1, \"#276419\"]], \"sequential\": [[0.0, \"#0d0887\"], [0.1111111111111111, \"#46039f\"], [0.2222222222222222, \"#7201a8\"], [0.3333333333333333, \"#9c179e\"], [0.4444444444444444, \"#bd3786\"], [0.5555555555555556, \"#d8576b\"], [0.6666666666666666, \"#ed7953\"], [0.7777777777777778, \"#fb9f3a\"], [0.8888888888888888, \"#fdca26\"], [1.0, \"#f0f921\"]], \"sequentialminus\": [[0.0, \"#0d0887\"], [0.1111111111111111, \"#46039f\"], [0.2222222222222222, \"#7201a8\"], [0.3333333333333333, \"#9c179e\"], [0.4444444444444444, \"#bd3786\"], [0.5555555555555556, \"#d8576b\"], [0.6666666666666666, \"#ed7953\"], [0.7777777777777778, \"#fb9f3a\"], [0.8888888888888888, \"#fdca26\"], [1.0, \"#f0f921\"]]}, \"colorway\": [\"#636efa\", \"#EF553B\", \"#00cc96\", \"#ab63fa\", \"#FFA15A\", \"#19d3f3\", \"#FF6692\", \"#B6E880\", \"#FF97FF\", \"#FECB52\"], \"font\": {\"color\": \"#2a3f5f\"}, \"geo\": {\"bgcolor\": \"white\", \"lakecolor\": \"white\", \"landcolor\": \"#E5ECF6\", \"showlakes\": true, \"showland\": true, \"subunitcolor\": \"white\"}, \"hoverlabel\": {\"align\": \"left\"}, \"hovermode\": \"closest\", \"mapbox\": {\"style\": \"light\"}, \"paper_bgcolor\": \"white\", \"plot_bgcolor\": \"#E5ECF6\", \"polar\": {\"angularaxis\": {\"gridcolor\": \"white\", \"linecolor\": \"white\", \"ticks\": \"\"}, \"bgcolor\": \"#E5ECF6\", \"radialaxis\": {\"gridcolor\": \"white\", \"linecolor\": \"white\", \"ticks\": \"\"}}, \"scene\": {\"xaxis\": {\"backgroundcolor\": \"#E5ECF6\", \"gridcolor\": \"white\", \"gridwidth\": 2, \"linecolor\": \"white\", \"showbackground\": true, \"ticks\": \"\", \"zerolinecolor\": \"white\"}, \"yaxis\": {\"backgroundcolor\": \"#E5ECF6\", \"gridcolor\": \"white\", \"gridwidth\": 2, \"linecolor\": \"white\", \"showbackground\": true, \"ticks\": \"\", \"zerolinecolor\": \"white\"}, \"zaxis\": {\"backgroundcolor\": \"#E5ECF6\", \"gridcolor\": \"white\", \"gridwidth\": 2, \"linecolor\": \"white\", \"showbackground\": true, \"ticks\": \"\", \"zerolinecolor\": \"white\"}}, \"shapedefaults\": {\"line\": {\"color\": \"#2a3f5f\"}}, \"ternary\": {\"aaxis\": {\"gridcolor\": \"white\", \"linecolor\": \"white\", \"ticks\": \"\"}, \"baxis\": {\"gridcolor\": \"white\", \"linecolor\": \"white\", \"ticks\": \"\"}, \"bgcolor\": \"#E5ECF6\", \"caxis\": {\"gridcolor\": \"white\", \"linecolor\": \"white\", \"ticks\": \"\"}}, \"title\": {\"x\": 0.05}, \"xaxis\": {\"automargin\": true, \"gridcolor\": \"white\", \"linecolor\": \"white\", \"ticks\": \"\", \"title\": {\"standoff\": 15}, \"zerolinecolor\": \"white\", \"zerolinewidth\": 2}, \"yaxis\": {\"automargin\": true, \"gridcolor\": \"white\", \"linecolor\": \"white\", \"ticks\": \"\", \"title\": {\"standoff\": 15}, \"zerolinecolor\": \"white\", \"zerolinewidth\": 2}}}},                        {\"responsive\": true}                    ).then(function(){\n",
       "                            \n",
       "var gd = document.getElementById('ab49940e-70e3-4f60-a210-5335b594f84a');\n",
       "var x = new MutationObserver(function (mutations, observer) {{\n",
       "        var display = window.getComputedStyle(gd).display;\n",
       "        if (!display || display === 'none') {{\n",
       "            console.log([gd, 'removed!']);\n",
       "            Plotly.purge(gd);\n",
       "            observer.disconnect();\n",
       "        }}\n",
       "}});\n",
       "\n",
       "// Listen for the removal of the full notebook cells\n",
       "var notebookContainer = gd.closest('#notebook-container');\n",
       "if (notebookContainer) {{\n",
       "    x.observe(notebookContainer, {childList: true});\n",
       "}}\n",
       "\n",
       "// Listen for the clearing of the current output cell\n",
       "var outputEl = gd.closest('.output');\n",
       "if (outputEl) {{\n",
       "    x.observe(outputEl, {childList: true});\n",
       "}}\n",
       "\n",
       "                        })                };                });            </script>        </div>"
      ]
     },
     "metadata": {},
     "output_type": "display_data"
    }
   ],
   "source": [
    "import plotly.graph_objects as go\n",
    "\n",
    "fig = go.Figure()\n",
    "\n",
    "# Add traces\n",
    "fig.add_trace(go.Scatter(x=af.valence, y=af.energy,\n",
    "                    mode='markers',\n",
    "                    name='markers'))\n",
    "fig.add_shape(type='line',\n",
    "                x0=0,\n",
    "                y0=0.5,\n",
    "                x1=1,\n",
    "                y1=0.5,\n",
    "                line=dict(color='Red',),\n",
    "                xref='x',\n",
    "                yref='y'\n",
    ")\n",
    "\n",
    "fig.add_shape(type='line',\n",
    "                x0=0.5,\n",
    "                y0=0,\n",
    "                x1=0.5,\n",
    "                y1=1,\n",
    "                line=dict(color='Red',),\n",
    "                xref='x',\n",
    "                yref='y'\n",
    ")\n",
    "\n",
    "fig.show() #hit songs have no chill"
   ]
  },
  {
   "cell_type": "markdown",
   "metadata": {},
   "source": [
    "### Composition"
   ]
  },
  {
   "cell_type": "markdown",
   "metadata": {},
   "source": [
    "Might make a graphic of the following below in PhotoShop"
   ]
  },
  {
   "cell_type": "code",
   "execution_count": 50,
   "metadata": {},
   "outputs": [
    {
     "data": {
      "text/plain": [
       "1    887\n",
       "0    500\n",
       "Name: mode, dtype: int64"
      ]
     },
     "execution_count": 50,
     "metadata": {},
     "output_type": "execute_result"
    }
   ],
   "source": [
    "af['mode'].value_counts() #1 is major key, 0 is minor key"
   ]
  },
  {
   "cell_type": "code",
   "execution_count": 53,
   "metadata": {},
   "outputs": [
    {
     "data": {
      "text/plain": [
       "<matplotlib.axes._subplots.AxesSubplot at 0x17cd36c56d0>"
      ]
     },
     "execution_count": 53,
     "metadata": {},
     "output_type": "execute_result"
    },
    {
     "data": {
      "image/png": "[encoded data removed]",
      "text/plain": [
       "<Figure size 432x288 with 1 Axes>"
      ]
     },
     "metadata": {
      "needs_background": "light"
     },
     "output_type": "display_data"
    }
   ],
   "source": [
    "af.key.hist() # 0 is C, 11 is B"
   ]
  },
  {
   "cell_type": "code",
   "execution_count": 55,
   "metadata": {},
   "outputs": [
    {
     "data": {
      "text/plain": [
       "<matplotlib.axes._subplots.AxesSubplot at 0x17cd6b683d0>"
      ]
     },
     "execution_count": 55,
     "metadata": {},
     "output_type": "execute_result"
    },
    {
     "data": {
      "image/png": "[encoded data removed]",
      "text/plain": [
       "<Figure size 432x288 with 1 Axes>"
      ]
     },
     "metadata": {
      "needs_background": "light"
     },
     "output_type": "display_data"
    }
   ],
   "source": [
    "af.time_signature.hist() #okay it's almost always in 4/4 time"
   ]
  },
  {
   "cell_type": "code",
   "execution_count": 58,
   "metadata": {},
   "outputs": [
    {
     "data": {
      "text/plain": [
       "count      1387.000000\n",
       "mean     226931.108147\n",
       "std       39016.111806\n",
       "min       78200.000000\n",
       "25%      203573.500000\n",
       "50%      223190.000000\n",
       "75%      243653.500000\n",
       "max      688453.000000\n",
       "Name: duration_ms, dtype: float64"
      ]
     },
     "execution_count": 58,
     "metadata": {},
     "output_type": "execute_result"
    }
   ],
   "source": [
    "af.duration_ms.describe() #3.5 to 4 minutes is the sweet spot"
   ]
  },
  {
   "cell_type": "code",
   "execution_count": 76,
   "metadata": {
    "scrolled": true
   },
   "outputs": [
    {
     "data": {
      "text/plain": [
       "2.235039653929344"
      ]
     },
     "execution_count": 76,
     "metadata": {},
     "output_type": "execute_result"
    }
   ],
   "source": [
    "ac = af[af.acousticness >= 0.7].sort_values(by='acousticness')#tried various cut off points and 0.7 seems to be the most accurate\n",
    "len(ac)/len(af)*100 # only 2% are acoustic"
   ]
  },
  {
   "cell_type": "code",
   "execution_count": 83,
   "metadata": {},
   "outputs": [
    {
     "data": {
      "text/plain": [
       "0.3604902667627974"
      ]
     },
     "execution_count": 83,
     "metadata": {},
     "output_type": "execute_result"
    }
   ],
   "source": [
    "ins = af[af.instrumentalness > 0.5].sort_values(by='instrumentalness') #it seems anything above 0.5 is mostly instrumental\n",
    "len(ins)/len(af)*100 # only 0.4% are mostly instrumental"
   ]
  }
 ],
 "metadata": {
  "kernelspec": {
   "display_name": "Python 3",
   "language": "python",
   "name": "python3"
  },
  "language_info": {
   "codemirror_mode": {
    "name": "ipython",
    "version": 3
   },
   "file_extension": ".py",
   "mimetype": "text/x-python",
   "name": "python",
   "nbconvert_exporter": "python",
   "pygments_lexer": "ipython3",
   "version": "3.8.3"
  }
 },
 "nbformat": 4,
 "nbformat_minor": 4
}
