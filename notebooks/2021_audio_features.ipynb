{
 "cells": [
  {
   "cell_type": "code",
   "execution_count": 1,
   "metadata": {},
   "outputs": [],
   "source": [
    "import pandas as pd"
   ]
  },
  {
   "cell_type": "code",
   "execution_count": 2,
   "metadata": {},
   "outputs": [],
   "source": [
    "import pandas as pd\n",
    "import spotipy"
   ]
  },
  {
   "cell_type": "code",
   "execution_count": 45,
   "metadata": {},
   "outputs": [],
   "source": []
  },
  {
   "cell_type": "code",
   "execution_count": 3,
   "metadata": {},
   "outputs": [],
   "source": [
    "## Spotify secrets"
   ]
  },
  {
   "cell_type": "code",
   "execution_count": 4,
   "metadata": {},
   "outputs": [
    {
     "data": {
      "text/plain": [
       "True"
      ]
     },
     "execution_count": 4,
     "metadata": {},
     "output_type": "execute_result"
    }
   ],
   "source": [
    "from dotenv import load_dotenv\n",
    "import os\n",
    "load_dotenv()\n",
    "# did this work? commenting out so secrets are safe\n",
    "# print(os.getenv('SPOTIFY_CLIENT_ID'))\n",
    "# print(os.getenv('SPOTIFY_CLIENT_SECRET'))"
   ]
  },
  {
   "cell_type": "code",
   "execution_count": 5,
   "metadata": {},
   "outputs": [],
   "source": [
    "client_id  = os.getenv('SPOTIFY_CLIENT_ID')\n",
    "client_secret  = os.getenv('SPOTIFY_CLIENT_SECRET')"
   ]
  },
  {
   "cell_type": "code",
   "execution_count": 6,
   "metadata": {},
   "outputs": [],
   "source": [
    "import spotipy\n",
    "from spotipy.oauth2 import SpotifyClientCredentials\n",
    "\n",
    "auth_manager = SpotifyClientCredentials(client_id,client_secret)\n",
    "spotify = spotipy.Spotify(auth_manager = auth_manager)"
   ]
  },
  {
   "cell_type": "code",
   "execution_count": 7,
   "metadata": {},
   "outputs": [],
   "source": [
    "## Full 2021 dataset of audio features\n"
   ]
  },
  {
   "cell_type": "code",
   "execution_count": 8,
   "metadata": {},
   "outputs": [],
   "source": [
    "with open('../spotifyids21.txt') as f:\n",
    "    links = f.readlines()"
   ]
  },
  {
   "cell_type": "code",
   "execution_count": 9,
   "metadata": {},
   "outputs": [],
   "source": [
    "#let's chunk it into 100s at a time due to Spotify API limitation\n",
    "def chunks_gen(list,n):\n",
    "    for i in range(0, len(list), n):\n",
    "        yield list[i:i+n]"
   ]
  },
  {
   "cell_type": "code",
   "execution_count": 10,
   "metadata": {},
   "outputs": [],
   "source": [
    "chunks = list(chunks_gen(links,100))\n",
    "\n",
    "for i in range(len(chunks)):\n",
    "    chunks[i] = [x.replace('\\n','') for x in chunks[i]]"
   ]
  },
  {
   "cell_type": "code",
   "execution_count": 11,
   "metadata": {},
   "outputs": [],
   "source": [
    "af = pd.concat([pd.DataFrame([x for x in spotify.audio_features(tracks=chunks[i]) if x is not None]) \n",
    "                for i in range(0,len(chunks))],ignore_index=True).drop_duplicates() #have to drop duplicates since this is a weekly chart"
   ]
  },
  {
   "cell_type": "code",
   "execution_count": 12,
   "metadata": {},
   "outputs": [
    {
     "data": {
      "text/plain": [
       "['danceability',\n",
       " 'energy',\n",
       " 'key',\n",
       " 'loudness',\n",
       " 'mode',\n",
       " 'speechiness',\n",
       " 'acousticness',\n",
       " 'instrumentalness',\n",
       " 'liveness',\n",
       " 'valence',\n",
       " 'tempo',\n",
       " 'type',\n",
       " 'id',\n",
       " 'uri',\n",
       " 'track_href',\n",
       " 'analysis_url',\n",
       " 'duration_ms',\n",
       " 'time_signature']"
      ]
     },
     "execution_count": 12,
     "metadata": {},
     "output_type": "execute_result"
    }
   ],
   "source": [
    "af.columns.tolist()"
   ]
  },
  {
   "cell_type": "code",
   "execution_count": 13,
   "metadata": {},
   "outputs": [
    {
     "data": {
      "text/html": [
       "<div>\n",
       "<style scoped>\n",
       "    .dataframe tbody tr th:only-of-type {\n",
       "        vertical-align: middle;\n",
       "    }\n",
       "\n",
       "    .dataframe tbody tr th {\n",
       "        vertical-align: top;\n",
       "    }\n",
       "\n",
       "    .dataframe thead th {\n",
       "        text-align: right;\n",
       "    }\n",
       "</style>\n",
       "<table border=\"1\" class=\"dataframe\">\n",
       "  <thead>\n",
       "    <tr style=\"text-align: right;\">\n",
       "      <th></th>\n",
       "      <th>danceability</th>\n",
       "      <th>energy</th>\n",
       "      <th>key</th>\n",
       "      <th>loudness</th>\n",
       "      <th>mode</th>\n",
       "      <th>speechiness</th>\n",
       "      <th>acousticness</th>\n",
       "      <th>instrumentalness</th>\n",
       "      <th>liveness</th>\n",
       "      <th>valence</th>\n",
       "      <th>tempo</th>\n",
       "      <th>type</th>\n",
       "      <th>id</th>\n",
       "      <th>uri</th>\n",
       "      <th>track_href</th>\n",
       "      <th>analysis_url</th>\n",
       "      <th>duration_ms</th>\n",
       "      <th>time_signature</th>\n",
       "    </tr>\n",
       "  </thead>\n",
       "  <tbody>\n",
       "    <tr>\n",
       "      <th>1197</th>\n",
       "      <td>0.582</td>\n",
       "      <td>0.537</td>\n",
       "      <td>0</td>\n",
       "      <td>-9.229</td>\n",
       "      <td>1</td>\n",
       "      <td>0.619</td>\n",
       "      <td>0.129</td>\n",
       "      <td>0.0</td>\n",
       "      <td>0.0749</td>\n",
       "      <td>0.771</td>\n",
       "      <td>82.103</td>\n",
       "      <td>audio_features</td>\n",
       "      <td>0nqhKXDjsyBMvbeWmgijD0</td>\n",
       "      <td>spotify:track:0nqhKXDjsyBMvbeWmgijD0</td>\n",
       "      <td>https://api.spotify.com/v1/tracks/0nqhKXDjsyBM...</td>\n",
       "      <td>https://api.spotify.com/v1/audio-analysis/0nqh...</td>\n",
       "      <td>180930</td>\n",
       "      <td>4</td>\n",
       "    </tr>\n",
       "  </tbody>\n",
       "</table>\n",
       "</div>"
      ],
      "text/plain": [
       "      danceability  energy  key  loudness  mode  speechiness  acousticness  \\\n",
       "1197         0.582   0.537    0    -9.229     1        0.619         0.129   \n",
       "\n",
       "      instrumentalness  liveness  valence   tempo            type  \\\n",
       "1197               0.0    0.0749    0.771  82.103  audio_features   \n",
       "\n",
       "                          id                                   uri  \\\n",
       "1197  0nqhKXDjsyBMvbeWmgijD0  spotify:track:0nqhKXDjsyBMvbeWmgijD0   \n",
       "\n",
       "                                             track_href  \\\n",
       "1197  https://api.spotify.com/v1/tracks/0nqhKXDjsyBM...   \n",
       "\n",
       "                                           analysis_url  duration_ms  \\\n",
       "1197  https://api.spotify.com/v1/audio-analysis/0nqh...       180930   \n",
       "\n",
       "      time_signature  \n",
       "1197               4  "
      ]
     },
     "execution_count": 13,
     "metadata": {},
     "output_type": "execute_result"
    }
   ],
   "source": [
    "af[af.speechiness == af.speechiness.max()] \n",
    "#anything above a 0.66 is considered to be a podcast or some sort of speaking rather than music so this seems right"
   ]
  },
  {
   "cell_type": "code",
   "execution_count": 14,
   "metadata": {},
   "outputs": [
    {
     "data": {
      "text/plain": [
       "array([[<matplotlib.axes._subplots.AxesSubplot object at 0x000001F59DDE0520>]],\n",
       "      dtype=object)"
      ]
     },
     "execution_count": 14,
     "metadata": {},
     "output_type": "execute_result"
    },
    {
     "data": {
      "image/png": "[encoded data removed]",
      "text/plain": [
       "<Figure size 432x288 with 1 Axes>"
      ]
     },
     "metadata": {
      "needs_background": "light"
     },
     "output_type": "display_data"
    }
   ],
   "source": [
    "# af.speechiness.mean()\n",
    "af.hist(column='speechiness')"
   ]
  },
  {
   "cell_type": "code",
   "execution_count": 15,
   "metadata": {},
   "outputs": [],
   "source": [
    "# from pandas_profiling import ProfileReport\n",
    "\n",
    "# profile = ProfileReport(af)\n",
    "# profile"
   ]
  },
  {
   "cell_type": "code",
   "execution_count": 16,
   "metadata": {},
   "outputs": [
    {
     "data": {
      "text/html": [
       "<div>\n",
       "<style scoped>\n",
       "    .dataframe tbody tr th:only-of-type {\n",
       "        vertical-align: middle;\n",
       "    }\n",
       "\n",
       "    .dataframe tbody tr th {\n",
       "        vertical-align: top;\n",
       "    }\n",
       "\n",
       "    .dataframe thead th {\n",
       "        text-align: right;\n",
       "    }\n",
       "</style>\n",
       "<table border=\"1\" class=\"dataframe\">\n",
       "  <thead>\n",
       "    <tr style=\"text-align: right;\">\n",
       "      <th></th>\n",
       "      <th>danceability</th>\n",
       "      <th>energy</th>\n",
       "      <th>key</th>\n",
       "      <th>loudness</th>\n",
       "      <th>mode</th>\n",
       "      <th>speechiness</th>\n",
       "      <th>acousticness</th>\n",
       "      <th>instrumentalness</th>\n",
       "      <th>liveness</th>\n",
       "      <th>valence</th>\n",
       "      <th>tempo</th>\n",
       "      <th>type</th>\n",
       "      <th>id</th>\n",
       "      <th>uri</th>\n",
       "      <th>track_href</th>\n",
       "      <th>analysis_url</th>\n",
       "      <th>duration_ms</th>\n",
       "      <th>time_signature</th>\n",
       "    </tr>\n",
       "  </thead>\n",
       "  <tbody>\n",
       "    <tr>\n",
       "      <th>1737</th>\n",
       "      <td>0.521</td>\n",
       "      <td>0.285</td>\n",
       "      <td>5</td>\n",
       "      <td>-14.619</td>\n",
       "      <td>0</td>\n",
       "      <td>0.105</td>\n",
       "      <td>0.936</td>\n",
       "      <td>0.000168</td>\n",
       "      <td>0.115</td>\n",
       "      <td>0.157</td>\n",
       "      <td>64.825</td>\n",
       "      <td>audio_features</td>\n",
       "      <td>2NJu5JtZLPmmuZF7Lr4Arr</td>\n",
       "      <td>spotify:track:2NJu5JtZLPmmuZF7Lr4Arr</td>\n",
       "      <td>https://api.spotify.com/v1/tracks/2NJu5JtZLPmm...</td>\n",
       "      <td>https://api.spotify.com/v1/audio-analysis/2NJu...</td>\n",
       "      <td>99680</td>\n",
       "      <td>3</td>\n",
       "    </tr>\n",
       "  </tbody>\n",
       "</table>\n",
       "</div>"
      ],
      "text/plain": [
       "      danceability  energy  key  loudness  mode  speechiness  acousticness  \\\n",
       "1737         0.521   0.285    5   -14.619     0        0.105         0.936   \n",
       "\n",
       "      instrumentalness  liveness  valence   tempo            type  \\\n",
       "1737          0.000168     0.115    0.157  64.825  audio_features   \n",
       "\n",
       "                          id                                   uri  \\\n",
       "1737  2NJu5JtZLPmmuZF7Lr4Arr  spotify:track:2NJu5JtZLPmmuZF7Lr4Arr   \n",
       "\n",
       "                                             track_href  \\\n",
       "1737  https://api.spotify.com/v1/tracks/2NJu5JtZLPmm...   \n",
       "\n",
       "                                           analysis_url  duration_ms  \\\n",
       "1737  https://api.spotify.com/v1/audio-analysis/2NJu...        99680   \n",
       "\n",
       "      time_signature  \n",
       "1737               3  "
      ]
     },
     "execution_count": 16,
     "metadata": {},
     "output_type": "execute_result"
    }
   ],
   "source": [
    "af[af.loudness == af.loudness.min()] \n",
    "#okay so 0 is the loudest and -60 is quietest"
   ]
  },
  {
   "cell_type": "markdown",
   "metadata": {},
   "source": [
    "### Vibe\n",
    "        what's our vibe? a bop, upbeat, lots of bass, with some rap? (danceability, energy/tempo, loudness, speechiness)\n",
    "tutorial here: https://www.python-graph-gallery.com/390-basic-radar-chart"
   ]
  },
  {
   "cell_type": "code",
   "execution_count": 17,
   "metadata": {},
   "outputs": [],
   "source": [
    "#set up dataframe for radar chart\n",
    "rdf = af.get(['danceability', 'energy', 'speechiness', 'tempo', 'loudness'])"
   ]
  },
  {
   "cell_type": "code",
   "execution_count": 18,
   "metadata": {},
   "outputs": [
    {
     "data": {
      "text/plain": [
       "danceability     0.2010\n",
       "energy           0.2030\n",
       "speechiness      0.0236\n",
       "tempo           64.8250\n",
       "loudness       -14.6190\n",
       "dtype: float64"
      ]
     },
     "execution_count": 18,
     "metadata": {},
     "output_type": "execute_result"
    }
   ],
   "source": [
    "# y axes need to be somewhat normalized\n",
    "rdf.min(axis=0)\n",
    "# rdf.max(axis=0)"
   ]
  },
  {
   "cell_type": "code",
   "execution_count": 19,
   "metadata": {},
   "outputs": [
    {
     "name": "stdout",
     "output_type": "stream",
     "text": [
      "MinMaxScaler()\n"
     ]
    }
   ],
   "source": [
    "from sklearn.preprocessing import MinMaxScaler\n",
    "# scales each feature to fit a 0-1 scale\n",
    "data = (rdf.get(['tempo','loudness','speechiness']))\n",
    "scaler = MinMaxScaler(clip=False)\n",
    "print(scaler.fit(data))"
   ]
  },
  {
   "cell_type": "code",
   "execution_count": 20,
   "metadata": {},
   "outputs": [
    {
     "name": "stdout",
     "output_type": "stream",
     "text": [
      "[203.903  -2.491   0.619]\n"
     ]
    }
   ],
   "source": [
    "print(scaler.data_max_)"
   ]
  },
  {
   "cell_type": "code",
   "execution_count": 21,
   "metadata": {},
   "outputs": [],
   "source": [
    "scaledy = pd.DataFrame(scaler.transform(data).tolist())"
   ]
  },
  {
   "cell_type": "code",
   "execution_count": 22,
   "metadata": {},
   "outputs": [],
   "source": [
    "rdf = pd.concat([scaledy,rdf],axis=1,join='outer').drop(['tempo','loudness','speechiness'],axis=1).rename({0:'tempo',1:'loudness',2:'speechiness'},axis=1)"
   ]
  },
  {
   "cell_type": "markdown",
   "metadata": {},
   "source": [
    "### Trying radar chart with plotly instead"
   ]
  },
  {
   "cell_type": "code",
   "execution_count": 23,
   "metadata": {},
   "outputs": [],
   "source": [
    "import plotly.express as px\n",
    "categories = list(rdf)\n",
    "mean = rdf.mean()"
   ]
  },
  {
   "cell_type": "code",
   "execution_count": 199,
   "metadata": {
    "scrolled": false
   },
   "outputs": [
    {
     "data": {
      "application/vnd.plotly.v1+json": {
       "config": {
        "plotlyServerURL": "https://plotly.com"
       },
       "data": [
        {
         "connectgaps": true,
         "fill": "toself",
         "fillcolor": "#d2e174",
         "line": {
          "color": "#afdfdd",
          "dash": "solid",
          "width": 3
         },
         "marker": {
          "color": "#afdfdd",
          "size": 10
         },
         "opacity": 0.8,
         "r": [
          0.41011951100354727,
          0.6610370574235183,
          0.1744046700378578,
          0.6586554054054051,
          0.616503378378378
         ],
         "theta": [
          "tempo",
          "loudness",
          "speechiness",
          "danceability",
          "energy"
         ],
         "type": "scatterpolar"
        }
       ],
       "layout": {
        "polar": {
         "radialaxis": {
          "color": "#181818",
          "dtick": 0.2,
          "gridcolor": "#181818",
          "gridwidth": 1,
          "layer": "below traces",
          "linecolor": "#181818",
          "range": [
           0,
           0.8
          ],
          "showline": false,
          "visible": true
         }
        },
        "showlegend": false,
        "template": {
         "data": {
          "bar": [
           {
            "error_x": {
             "color": "#2a3f5f"
            },
            "error_y": {
             "color": "#2a3f5f"
            },
            "marker": {
             "line": {
              "color": "#E5ECF6",
              "width": 0.5
             }
            },
            "type": "bar"
           }
          ],
          "barpolar": [
           {
            "marker": {
             "line": {
              "color": "#E5ECF6",
              "width": 0.5
             }
            },
            "type": "barpolar"
           }
          ],
          "carpet": [
           {
            "aaxis": {
             "endlinecolor": "#2a3f5f",
             "gridcolor": "white",
             "linecolor": "white",
             "minorgridcolor": "white",
             "startlinecolor": "#2a3f5f"
            },
            "baxis": {
             "endlinecolor": "#2a3f5f",
             "gridcolor": "white",
             "linecolor": "white",
             "minorgridcolor": "white",
             "startlinecolor": "#2a3f5f"
            },
            "type": "carpet"
           }
          ],
          "choropleth": [
           {
            "colorbar": {
             "outlinewidth": 0,
             "ticks": ""
            },
            "type": "choropleth"
           }
          ],
          "contour": [
           {
            "colorbar": {
             "outlinewidth": 0,
             "ticks": ""
            },
            "colorscale": [
             [
              0,
              "#0d0887"
             ],
             [
              0.1111111111111111,
              "#46039f"
             ],
             [
              0.2222222222222222,
              "#7201a8"
             ],
             [
              0.3333333333333333,
              "#9c179e"
             ],
             [
              0.4444444444444444,
              "#bd3786"
             ],
             [
              0.5555555555555556,
              "#d8576b"
             ],
             [
              0.6666666666666666,
              "#ed7953"
             ],
             [
              0.7777777777777778,
              "#fb9f3a"
             ],
             [
              0.8888888888888888,
              "#fdca26"
             ],
             [
              1,
              "#f0f921"
             ]
            ],
            "type": "contour"
           }
          ],
          "contourcarpet": [
           {
            "colorbar": {
             "outlinewidth": 0,
             "ticks": ""
            },
            "type": "contourcarpet"
           }
          ],
          "heatmap": [
           {
            "colorbar": {
             "outlinewidth": 0,
             "ticks": ""
            },
            "colorscale": [
             [
              0,
              "#0d0887"
             ],
             [
              0.1111111111111111,
              "#46039f"
             ],
             [
              0.2222222222222222,
              "#7201a8"
             ],
             [
              0.3333333333333333,
              "#9c179e"
             ],
             [
              0.4444444444444444,
              "#bd3786"
             ],
             [
              0.5555555555555556,
              "#d8576b"
             ],
             [
              0.6666666666666666,
              "#ed7953"
             ],
             [
              0.7777777777777778,
              "#fb9f3a"
             ],
             [
              0.8888888888888888,
              "#fdca26"
             ],
             [
              1,
              "#f0f921"
             ]
            ],
            "type": "heatmap"
           }
          ],
          "heatmapgl": [
           {
            "colorbar": {
             "outlinewidth": 0,
             "ticks": ""
            },
            "colorscale": [
             [
              0,
              "#0d0887"
             ],
             [
              0.1111111111111111,
              "#46039f"
             ],
             [
              0.2222222222222222,
              "#7201a8"
             ],
             [
              0.3333333333333333,
              "#9c179e"
             ],
             [
              0.4444444444444444,
              "#bd3786"
             ],
             [
              0.5555555555555556,
              "#d8576b"
             ],
             [
              0.6666666666666666,
              "#ed7953"
             ],
             [
              0.7777777777777778,
              "#fb9f3a"
             ],
             [
              0.8888888888888888,
              "#fdca26"
             ],
             [
              1,
              "#f0f921"
             ]
            ],
            "type": "heatmapgl"
           }
          ],
          "histogram": [
           {
            "marker": {
             "colorbar": {
              "outlinewidth": 0,
              "ticks": ""
             }
            },
            "type": "histogram"
           }
          ],
          "histogram2d": [
           {
            "colorbar": {
             "outlinewidth": 0,
             "ticks": ""
            },
            "colorscale": [
             [
              0,
              "#0d0887"
             ],
             [
              0.1111111111111111,
              "#46039f"
             ],
             [
              0.2222222222222222,
              "#7201a8"
             ],
             [
              0.3333333333333333,
              "#9c179e"
             ],
             [
              0.4444444444444444,
              "#bd3786"
             ],
             [
              0.5555555555555556,
              "#d8576b"
             ],
             [
              0.6666666666666666,
              "#ed7953"
             ],
             [
              0.7777777777777778,
              "#fb9f3a"
             ],
             [
              0.8888888888888888,
              "#fdca26"
             ],
             [
              1,
              "#f0f921"
             ]
            ],
            "type": "histogram2d"
           }
          ],
          "histogram2dcontour": [
           {
            "colorbar": {
             "outlinewidth": 0,
             "ticks": ""
            },
            "colorscale": [
             [
              0,
              "#0d0887"
             ],
             [
              0.1111111111111111,
              "#46039f"
             ],
             [
              0.2222222222222222,
              "#7201a8"
             ],
             [
              0.3333333333333333,
              "#9c179e"
             ],
             [
              0.4444444444444444,
              "#bd3786"
             ],
             [
              0.5555555555555556,
              "#d8576b"
             ],
             [
              0.6666666666666666,
              "#ed7953"
             ],
             [
              0.7777777777777778,
              "#fb9f3a"
             ],
             [
              0.8888888888888888,
              "#fdca26"
             ],
             [
              1,
              "#f0f921"
             ]
            ],
            "type": "histogram2dcontour"
           }
          ],
          "mesh3d": [
           {
            "colorbar": {
             "outlinewidth": 0,
             "ticks": ""
            },
            "type": "mesh3d"
           }
          ],
          "parcoords": [
           {
            "line": {
             "colorbar": {
              "outlinewidth": 0,
              "ticks": ""
             }
            },
            "type": "parcoords"
           }
          ],
          "pie": [
           {
            "automargin": true,
            "type": "pie"
           }
          ],
          "scatter": [
           {
            "marker": {
             "colorbar": {
              "outlinewidth": 0,
              "ticks": ""
             }
            },
            "type": "scatter"
           }
          ],
          "scatter3d": [
           {
            "line": {
             "colorbar": {
              "outlinewidth": 0,
              "ticks": ""
             }
            },
            "marker": {
             "colorbar": {
              "outlinewidth": 0,
              "ticks": ""
             }
            },
            "type": "scatter3d"
           }
          ],
          "scattercarpet": [
           {
            "marker": {
             "colorbar": {
              "outlinewidth": 0,
              "ticks": ""
             }
            },
            "type": "scattercarpet"
           }
          ],
          "scattergeo": [
           {
            "marker": {
             "colorbar": {
              "outlinewidth": 0,
              "ticks": ""
             }
            },
            "type": "scattergeo"
           }
          ],
          "scattergl": [
           {
            "marker": {
             "colorbar": {
              "outlinewidth": 0,
              "ticks": ""
             }
            },
            "type": "scattergl"
           }
          ],
          "scattermapbox": [
           {
            "marker": {
             "colorbar": {
              "outlinewidth": 0,
              "ticks": ""
             }
            },
            "type": "scattermapbox"
           }
          ],
          "scatterpolar": [
           {
            "marker": {
             "colorbar": {
              "outlinewidth": 0,
              "ticks": ""
             }
            },
            "type": "scatterpolar"
           }
          ],
          "scatterpolargl": [
           {
            "marker": {
             "colorbar": {
              "outlinewidth": 0,
              "ticks": ""
             }
            },
            "type": "scatterpolargl"
           }
          ],
          "scatterternary": [
           {
            "marker": {
             "colorbar": {
              "outlinewidth": 0,
              "ticks": ""
             }
            },
            "type": "scatterternary"
           }
          ],
          "surface": [
           {
            "colorbar": {
             "outlinewidth": 0,
             "ticks": ""
            },
            "colorscale": [
             [
              0,
              "#0d0887"
             ],
             [
              0.1111111111111111,
              "#46039f"
             ],
             [
              0.2222222222222222,
              "#7201a8"
             ],
             [
              0.3333333333333333,
              "#9c179e"
             ],
             [
              0.4444444444444444,
              "#bd3786"
             ],
             [
              0.5555555555555556,
              "#d8576b"
             ],
             [
              0.6666666666666666,
              "#ed7953"
             ],
             [
              0.7777777777777778,
              "#fb9f3a"
             ],
             [
              0.8888888888888888,
              "#fdca26"
             ],
             [
              1,
              "#f0f921"
             ]
            ],
            "type": "surface"
           }
          ],
          "table": [
           {
            "cells": {
             "fill": {
              "color": "#EBF0F8"
             },
             "line": {
              "color": "white"
             }
            },
            "header": {
             "fill": {
              "color": "#C8D4E3"
             },
             "line": {
              "color": "white"
             }
            },
            "type": "table"
           }
          ]
         },
         "layout": {
          "annotationdefaults": {
           "arrowcolor": "#2a3f5f",
           "arrowhead": 0,
           "arrowwidth": 1
          },
          "coloraxis": {
           "colorbar": {
            "outlinewidth": 0,
            "ticks": ""
           }
          },
          "colorscale": {
           "diverging": [
            [
             0,
             "#8e0152"
            ],
            [
             0.1,
             "#c51b7d"
            ],
            [
             0.2,
             "#de77ae"
            ],
            [
             0.3,
             "#f1b6da"
            ],
            [
             0.4,
             "#fde0ef"
            ],
            [
             0.5,
             "#f7f7f7"
            ],
            [
             0.6,
             "#e6f5d0"
            ],
            [
             0.7,
             "#b8e186"
            ],
            [
             0.8,
             "#7fbc41"
            ],
            [
             0.9,
             "#4d9221"
            ],
            [
             1,
             "#276419"
            ]
           ],
           "sequential": [
            [
             0,
             "#0d0887"
            ],
            [
             0.1111111111111111,
             "#46039f"
            ],
            [
             0.2222222222222222,
             "#7201a8"
            ],
            [
             0.3333333333333333,
             "#9c179e"
            ],
            [
             0.4444444444444444,
             "#bd3786"
            ],
            [
             0.5555555555555556,
             "#d8576b"
            ],
            [
             0.6666666666666666,
             "#ed7953"
            ],
            [
             0.7777777777777778,
             "#fb9f3a"
            ],
            [
             0.8888888888888888,
             "#fdca26"
            ],
            [
             1,
             "#f0f921"
            ]
           ],
           "sequentialminus": [
            [
             0,
             "#0d0887"
            ],
            [
             0.1111111111111111,
             "#46039f"
            ],
            [
             0.2222222222222222,
             "#7201a8"
            ],
            [
             0.3333333333333333,
             "#9c179e"
            ],
            [
             0.4444444444444444,
             "#bd3786"
            ],
            [
             0.5555555555555556,
             "#d8576b"
            ],
            [
             0.6666666666666666,
             "#ed7953"
            ],
            [
             0.7777777777777778,
             "#fb9f3a"
            ],
            [
             0.8888888888888888,
             "#fdca26"
            ],
            [
             1,
             "#f0f921"
            ]
           ]
          },
          "colorway": [
           "#636efa",
           "#EF553B",
           "#00cc96",
           "#ab63fa",
           "#FFA15A",
           "#19d3f3",
           "#FF6692",
           "#B6E880",
           "#FF97FF",
           "#FECB52"
          ],
          "font": {
           "color": "#2a3f5f"
          },
          "geo": {
           "bgcolor": "white",
           "lakecolor": "white",
           "landcolor": "#E5ECF6",
           "showlakes": true,
           "showland": true,
           "subunitcolor": "white"
          },
          "hoverlabel": {
           "align": "left"
          },
          "hovermode": "closest",
          "mapbox": {
           "style": "light"
          },
          "paper_bgcolor": "white",
          "plot_bgcolor": "#E5ECF6",
          "polar": {
           "angularaxis": {
            "gridcolor": "white",
            "linecolor": "white",
            "ticks": ""
           },
           "bgcolor": "#E5ECF6",
           "radialaxis": {
            "gridcolor": "white",
            "linecolor": "white",
            "ticks": ""
           }
          },
          "scene": {
           "xaxis": {
            "backgroundcolor": "#E5ECF6",
            "gridcolor": "white",
            "gridwidth": 2,
            "linecolor": "white",
            "showbackground": true,
            "ticks": "",
            "zerolinecolor": "white"
           },
           "yaxis": {
            "backgroundcolor": "#E5ECF6",
            "gridcolor": "white",
            "gridwidth": 2,
            "linecolor": "white",
            "showbackground": true,
            "ticks": "",
            "zerolinecolor": "white"
           },
           "zaxis": {
            "backgroundcolor": "#E5ECF6",
            "gridcolor": "white",
            "gridwidth": 2,
            "linecolor": "white",
            "showbackground": true,
            "ticks": "",
            "zerolinecolor": "white"
           }
          },
          "shapedefaults": {
           "line": {
            "color": "#2a3f5f"
           }
          },
          "ternary": {
           "aaxis": {
            "gridcolor": "white",
            "linecolor": "white",
            "ticks": ""
           },
           "baxis": {
            "gridcolor": "white",
            "linecolor": "white",
            "ticks": ""
           },
           "bgcolor": "#E5ECF6",
           "caxis": {
            "gridcolor": "white",
            "linecolor": "white",
            "ticks": ""
           }
          },
          "title": {
           "x": 0.05
          },
          "xaxis": {
           "automargin": true,
           "gridcolor": "white",
           "linecolor": "white",
           "ticks": "",
           "title": {
            "standoff": 15
           },
           "zerolinecolor": "white",
           "zerolinewidth": 2
          },
          "yaxis": {
           "automargin": true,
           "gridcolor": "white",
           "linecolor": "white",
           "ticks": "",
           "title": {
            "standoff": 15
           },
           "zerolinecolor": "white",
           "zerolinewidth": 2
          }
         }
        }
       }
      },
      "text/html": [
       "<div>                            <div id=\"b9a57697-2fb6-4f38-bf8e-4eae5f1dc60c\" class=\"plotly-graph-div\" style=\"height:525px; width:100%;\"></div>            <script type=\"text/javascript\">                require([\"plotly\"], function(Plotly) {                    window.PLOTLYENV=window.PLOTLYENV || {};                                    if (document.getElementById(\"b9a57697-2fb6-4f38-bf8e-4eae5f1dc60c\")) {                    Plotly.newPlot(                        \"b9a57697-2fb6-4f38-bf8e-4eae5f1dc60c\",                        [{\"connectgaps\": true, \"fill\": \"toself\", \"fillcolor\": \"#d2e174\", \"line\": {\"color\": \"#afdfdd\", \"dash\": \"solid\", \"width\": 3}, \"marker\": {\"color\": \"#afdfdd\", \"size\": 10}, \"opacity\": 0.8, \"r\": [0.41011951100354727, 0.6610370574235183, 0.1744046700378578, 0.6586554054054051, 0.616503378378378], \"theta\": [\"tempo\", \"loudness\", \"speechiness\", \"danceability\", \"energy\"], \"type\": \"scatterpolar\"}],                        {\"polar\": {\"radialaxis\": {\"color\": \"#181818\", \"dtick\": 0.2, \"gridcolor\": \"#181818\", \"gridwidth\": 1, \"layer\": \"below traces\", \"linecolor\": \"#181818\", \"range\": [0, 0.8], \"showline\": false, \"visible\": true}}, \"showlegend\": false, \"template\": {\"data\": {\"bar\": [{\"error_x\": {\"color\": \"#2a3f5f\"}, \"error_y\": {\"color\": \"#2a3f5f\"}, \"marker\": {\"line\": {\"color\": \"#E5ECF6\", \"width\": 0.5}}, \"type\": \"bar\"}], \"barpolar\": [{\"marker\": {\"line\": {\"color\": \"#E5ECF6\", \"width\": 0.5}}, \"type\": \"barpolar\"}], \"carpet\": [{\"aaxis\": {\"endlinecolor\": \"#2a3f5f\", \"gridcolor\": \"white\", \"linecolor\": \"white\", \"minorgridcolor\": \"white\", \"startlinecolor\": \"#2a3f5f\"}, \"baxis\": {\"endlinecolor\": \"#2a3f5f\", \"gridcolor\": \"white\", \"linecolor\": \"white\", \"minorgridcolor\": \"white\", \"startlinecolor\": \"#2a3f5f\"}, \"type\": \"carpet\"}], \"choropleth\": [{\"colorbar\": {\"outlinewidth\": 0, \"ticks\": \"\"}, \"type\": \"choropleth\"}], \"contour\": [{\"colorbar\": {\"outlinewidth\": 0, \"ticks\": \"\"}, \"colorscale\": [[0.0, \"#0d0887\"], [0.1111111111111111, \"#46039f\"], [0.2222222222222222, \"#7201a8\"], [0.3333333333333333, \"#9c179e\"], [0.4444444444444444, \"#bd3786\"], [0.5555555555555556, \"#d8576b\"], [0.6666666666666666, \"#ed7953\"], [0.7777777777777778, \"#fb9f3a\"], [0.8888888888888888, \"#fdca26\"], [1.0, \"#f0f921\"]], \"type\": \"contour\"}], \"contourcarpet\": [{\"colorbar\": {\"outlinewidth\": 0, \"ticks\": \"\"}, \"type\": \"contourcarpet\"}], \"heatmap\": [{\"colorbar\": {\"outlinewidth\": 0, \"ticks\": \"\"}, \"colorscale\": [[0.0, \"#0d0887\"], [0.1111111111111111, \"#46039f\"], [0.2222222222222222, \"#7201a8\"], [0.3333333333333333, \"#9c179e\"], [0.4444444444444444, \"#bd3786\"], [0.5555555555555556, \"#d8576b\"], [0.6666666666666666, \"#ed7953\"], [0.7777777777777778, \"#fb9f3a\"], [0.8888888888888888, \"#fdca26\"], [1.0, \"#f0f921\"]], \"type\": \"heatmap\"}], \"heatmapgl\": [{\"colorbar\": {\"outlinewidth\": 0, \"ticks\": \"\"}, \"colorscale\": [[0.0, \"#0d0887\"], [0.1111111111111111, \"#46039f\"], [0.2222222222222222, \"#7201a8\"], [0.3333333333333333, \"#9c179e\"], [0.4444444444444444, \"#bd3786\"], [0.5555555555555556, \"#d8576b\"], [0.6666666666666666, \"#ed7953\"], [0.7777777777777778, \"#fb9f3a\"], [0.8888888888888888, \"#fdca26\"], [1.0, \"#f0f921\"]], \"type\": \"heatmapgl\"}], \"histogram\": [{\"marker\": {\"colorbar\": {\"outlinewidth\": 0, \"ticks\": \"\"}}, \"type\": \"histogram\"}], \"histogram2d\": [{\"colorbar\": {\"outlinewidth\": 0, \"ticks\": \"\"}, \"colorscale\": [[0.0, \"#0d0887\"], [0.1111111111111111, \"#46039f\"], [0.2222222222222222, \"#7201a8\"], [0.3333333333333333, \"#9c179e\"], [0.4444444444444444, \"#bd3786\"], [0.5555555555555556, \"#d8576b\"], [0.6666666666666666, \"#ed7953\"], [0.7777777777777778, \"#fb9f3a\"], [0.8888888888888888, \"#fdca26\"], [1.0, \"#f0f921\"]], \"type\": \"histogram2d\"}], \"histogram2dcontour\": [{\"colorbar\": {\"outlinewidth\": 0, \"ticks\": \"\"}, \"colorscale\": [[0.0, \"#0d0887\"], [0.1111111111111111, \"#46039f\"], [0.2222222222222222, \"#7201a8\"], [0.3333333333333333, \"#9c179e\"], [0.4444444444444444, \"#bd3786\"], [0.5555555555555556, \"#d8576b\"], [0.6666666666666666, \"#ed7953\"], [0.7777777777777778, \"#fb9f3a\"], [0.8888888888888888, \"#fdca26\"], [1.0, \"#f0f921\"]], \"type\": \"histogram2dcontour\"}], \"mesh3d\": [{\"colorbar\": {\"outlinewidth\": 0, \"ticks\": \"\"}, \"type\": \"mesh3d\"}], \"parcoords\": [{\"line\": {\"colorbar\": {\"outlinewidth\": 0, \"ticks\": \"\"}}, \"type\": \"parcoords\"}], \"pie\": [{\"automargin\": true, \"type\": \"pie\"}], \"scatter\": [{\"marker\": {\"colorbar\": {\"outlinewidth\": 0, \"ticks\": \"\"}}, \"type\": \"scatter\"}], \"scatter3d\": [{\"line\": {\"colorbar\": {\"outlinewidth\": 0, \"ticks\": \"\"}}, \"marker\": {\"colorbar\": {\"outlinewidth\": 0, \"ticks\": \"\"}}, \"type\": \"scatter3d\"}], \"scattercarpet\": [{\"marker\": {\"colorbar\": {\"outlinewidth\": 0, \"ticks\": \"\"}}, \"type\": \"scattercarpet\"}], \"scattergeo\": [{\"marker\": {\"colorbar\": {\"outlinewidth\": 0, \"ticks\": \"\"}}, \"type\": \"scattergeo\"}], \"scattergl\": [{\"marker\": {\"colorbar\": {\"outlinewidth\": 0, \"ticks\": \"\"}}, \"type\": \"scattergl\"}], \"scattermapbox\": [{\"marker\": {\"colorbar\": {\"outlinewidth\": 0, \"ticks\": \"\"}}, \"type\": \"scattermapbox\"}], \"scatterpolar\": [{\"marker\": {\"colorbar\": {\"outlinewidth\": 0, \"ticks\": \"\"}}, \"type\": \"scatterpolar\"}], \"scatterpolargl\": [{\"marker\": {\"colorbar\": {\"outlinewidth\": 0, \"ticks\": \"\"}}, \"type\": \"scatterpolargl\"}], \"scatterternary\": [{\"marker\": {\"colorbar\": {\"outlinewidth\": 0, \"ticks\": \"\"}}, \"type\": \"scatterternary\"}], \"surface\": [{\"colorbar\": {\"outlinewidth\": 0, \"ticks\": \"\"}, \"colorscale\": [[0.0, \"#0d0887\"], [0.1111111111111111, \"#46039f\"], [0.2222222222222222, \"#7201a8\"], [0.3333333333333333, \"#9c179e\"], [0.4444444444444444, \"#bd3786\"], [0.5555555555555556, \"#d8576b\"], [0.6666666666666666, \"#ed7953\"], [0.7777777777777778, \"#fb9f3a\"], [0.8888888888888888, \"#fdca26\"], [1.0, \"#f0f921\"]], \"type\": \"surface\"}], \"table\": [{\"cells\": {\"fill\": {\"color\": \"#EBF0F8\"}, \"line\": {\"color\": \"white\"}}, \"header\": {\"fill\": {\"color\": \"#C8D4E3\"}, \"line\": {\"color\": \"white\"}}, \"type\": \"table\"}]}, \"layout\": {\"annotationdefaults\": {\"arrowcolor\": \"#2a3f5f\", \"arrowhead\": 0, \"arrowwidth\": 1}, \"coloraxis\": {\"colorbar\": {\"outlinewidth\": 0, \"ticks\": \"\"}}, \"colorscale\": {\"diverging\": [[0, \"#8e0152\"], [0.1, \"#c51b7d\"], [0.2, \"#de77ae\"], [0.3, \"#f1b6da\"], [0.4, \"#fde0ef\"], [0.5, \"#f7f7f7\"], [0.6, \"#e6f5d0\"], [0.7, \"#b8e186\"], [0.8, \"#7fbc41\"], [0.9, \"#4d9221\"], [1, \"#276419\"]], \"sequential\": [[0.0, \"#0d0887\"], [0.1111111111111111, \"#46039f\"], [0.2222222222222222, \"#7201a8\"], [0.3333333333333333, \"#9c179e\"], [0.4444444444444444, \"#bd3786\"], [0.5555555555555556, \"#d8576b\"], [0.6666666666666666, \"#ed7953\"], [0.7777777777777778, \"#fb9f3a\"], [0.8888888888888888, \"#fdca26\"], [1.0, \"#f0f921\"]], \"sequentialminus\": [[0.0, \"#0d0887\"], [0.1111111111111111, \"#46039f\"], [0.2222222222222222, \"#7201a8\"], [0.3333333333333333, \"#9c179e\"], [0.4444444444444444, \"#bd3786\"], [0.5555555555555556, \"#d8576b\"], [0.6666666666666666, \"#ed7953\"], [0.7777777777777778, \"#fb9f3a\"], [0.8888888888888888, \"#fdca26\"], [1.0, \"#f0f921\"]]}, \"colorway\": [\"#636efa\", \"#EF553B\", \"#00cc96\", \"#ab63fa\", \"#FFA15A\", \"#19d3f3\", \"#FF6692\", \"#B6E880\", \"#FF97FF\", \"#FECB52\"], \"font\": {\"color\": \"#2a3f5f\"}, \"geo\": {\"bgcolor\": \"white\", \"lakecolor\": \"white\", \"landcolor\": \"#E5ECF6\", \"showlakes\": true, \"showland\": true, \"subunitcolor\": \"white\"}, \"hoverlabel\": {\"align\": \"left\"}, \"hovermode\": \"closest\", \"mapbox\": {\"style\": \"light\"}, \"paper_bgcolor\": \"white\", \"plot_bgcolor\": \"#E5ECF6\", \"polar\": {\"angularaxis\": {\"gridcolor\": \"white\", \"linecolor\": \"white\", \"ticks\": \"\"}, \"bgcolor\": \"#E5ECF6\", \"radialaxis\": {\"gridcolor\": \"white\", \"linecolor\": \"white\", \"ticks\": \"\"}}, \"scene\": {\"xaxis\": {\"backgroundcolor\": \"#E5ECF6\", \"gridcolor\": \"white\", \"gridwidth\": 2, \"linecolor\": \"white\", \"showbackground\": true, \"ticks\": \"\", \"zerolinecolor\": \"white\"}, \"yaxis\": {\"backgroundcolor\": \"#E5ECF6\", \"gridcolor\": \"white\", \"gridwidth\": 2, \"linecolor\": \"white\", \"showbackground\": true, \"ticks\": \"\", \"zerolinecolor\": \"white\"}, \"zaxis\": {\"backgroundcolor\": \"#E5ECF6\", \"gridcolor\": \"white\", \"gridwidth\": 2, \"linecolor\": \"white\", \"showbackground\": true, \"ticks\": \"\", \"zerolinecolor\": \"white\"}}, \"shapedefaults\": {\"line\": {\"color\": \"#2a3f5f\"}}, \"ternary\": {\"aaxis\": {\"gridcolor\": \"white\", \"linecolor\": \"white\", \"ticks\": \"\"}, \"baxis\": {\"gridcolor\": \"white\", \"linecolor\": \"white\", \"ticks\": \"\"}, \"bgcolor\": \"#E5ECF6\", \"caxis\": {\"gridcolor\": \"white\", \"linecolor\": \"white\", \"ticks\": \"\"}}, \"title\": {\"x\": 0.05}, \"xaxis\": {\"automargin\": true, \"gridcolor\": \"white\", \"linecolor\": \"white\", \"ticks\": \"\", \"title\": {\"standoff\": 15}, \"zerolinecolor\": \"white\", \"zerolinewidth\": 2}, \"yaxis\": {\"automargin\": true, \"gridcolor\": \"white\", \"linecolor\": \"white\", \"ticks\": \"\", \"title\": {\"standoff\": 15}, \"zerolinecolor\": \"white\", \"zerolinewidth\": 2}}}},                        {\"responsive\": true}                    ).then(function(){\n",
       "                            \n",
       "var gd = document.getElementById('b9a57697-2fb6-4f38-bf8e-4eae5f1dc60c');\n",
       "var x = new MutationObserver(function (mutations, observer) {{\n",
       "        var display = window.getComputedStyle(gd).display;\n",
       "        if (!display || display === 'none') {{\n",
       "            console.log([gd, 'removed!']);\n",
       "            Plotly.purge(gd);\n",
       "            observer.disconnect();\n",
       "        }}\n",
       "}});\n",
       "\n",
       "// Listen for the removal of the full notebook cells\n",
       "var notebookContainer = gd.closest('#notebook-container');\n",
       "if (notebookContainer) {{\n",
       "    x.observe(notebookContainer, {childList: true});\n",
       "}}\n",
       "\n",
       "// Listen for the clearing of the current output cell\n",
       "var outputEl = gd.closest('.output');\n",
       "if (outputEl) {{\n",
       "    x.observe(outputEl, {childList: true});\n",
       "}}\n",
       "\n",
       "                        })                };                });            </script>        </div>"
      ]
     },
     "metadata": {},
     "output_type": "display_data"
    },
    {
     "data": {
      "text/plain": [
       "'https://plotly.com/~zylstraa/27/'"
      ]
     },
     "execution_count": 199,
     "metadata": {},
     "output_type": "execute_result"
    }
   ],
   "source": [
    "import plotly.graph_objects as go\n",
    "\n",
    "fig = go.Figure()\n",
    "\n",
    "\n",
    "fig.add_trace(go.Scatterpolar(\n",
    "  r=mean,\n",
    "  theta=categories,\n",
    "    line=dict(color='#afdfdd',dash='solid',width=3),\n",
    "  fill='toself',\n",
    "    fillcolor='#d2e174',\n",
    "    opacity=0.8,\n",
    "    marker=dict(color='#afdfdd',size=10),\n",
    "#     blarg=1,\n",
    "    connectgaps=True,\n",
    "))\n",
    "\n",
    "fig.update_layout(\n",
    "  polar=dict(\n",
    "    radialaxis=dict(\n",
    "      visible=True,\n",
    "        range=[0,0.8],\n",
    "        color='#181818',\n",
    "        gridcolor='#181818',\n",
    "        showline=False,\n",
    "        gridwidth=1,\n",
    "        layer='below traces',\n",
    "        linecolor='#181818',\n",
    "        dtick=0.2\n",
    "    ),\n",
    "  ),\n",
    "  showlegend=False\n",
    ")\n",
    "\n",
    "# fig.add_trace(go.Scatterpolar(\n",
    "#     r=[0.8,0.8,0.8,0.8,0.8],\n",
    "#     theta=categories,\n",
    "#     mode='text',\n",
    "#     text=['Tempo','Loudness','Speechiness','Danceability','Energy'],\n",
    "#     textposition='top center',\n",
    "#     textfont=dict(\n",
    "#         size=20),\n",
    "#     showlegend=False\n",
    "# ))\n",
    "\n",
    "fig.show()\n",
    "\n",
    "# import chart_studio.plotly as py\n",
    "# py.plot(fig, filename = '2021_spider', auto_open=True)"
   ]
  },
  {
   "cell_type": "code",
   "execution_count": 25,
   "metadata": {},
   "outputs": [],
   "source": [
    "import matplotlib.pyplot as plt\n",
    "import pandas as pd\n",
    "from math import pi"
   ]
  },
  {
   "cell_type": "code",
   "execution_count": 26,
   "metadata": {},
   "outputs": [],
   "source": [
    "# number of variables\n",
    "categories = list(rdf)\n",
    "N = len(categories)"
   ]
  },
  {
   "cell_type": "code",
   "execution_count": 27,
   "metadata": {},
   "outputs": [
    {
     "data": {
      "text/plain": [
       "[0.18825407325385762,\n",
       " 0.9027044854881268,\n",
       " 0.020994289553241514,\n",
       " 0.701,\n",
       " 0.716,\n",
       " 0.18825407325385762]"
      ]
     },
     "execution_count": 27,
     "metadata": {},
     "output_type": "execute_result"
    }
   ],
   "source": [
    "# We are going to plot the first line of the data frame.\n",
    "# But we need to repeat the first value to close the circular graph:\n",
    "values=rdf.loc[0].values.flatten().tolist()\n",
    "values += values[:1]\n",
    "values"
   ]
  },
  {
   "cell_type": "code",
   "execution_count": 28,
   "metadata": {},
   "outputs": [],
   "source": [
    "# What will be the angle of each axis in the plot? (we divide the plot / number of variable)\n",
    "angles = [n / float(N) * 2 * pi for n in range(N)]\n",
    "angles += angles[:1]"
   ]
  },
  {
   "cell_type": "code",
   "execution_count": 29,
   "metadata": {},
   "outputs": [
    {
     "data": {
      "image/png": "[encoded data removed]",
      "text/plain": [
       "<Figure size 432x288 with 1 Axes>"
      ]
     },
     "metadata": {
      "needs_background": "dark"
     },
     "output_type": "display_data"
    }
   ],
   "source": [
    "# Initialise the spider plot\n",
    "ax = plt.subplot(111, polar=True)\n",
    " \n",
    "# Draw one axe per variable + add labels\n",
    "plt.xticks(angles[:-1], categories, color='grey', size=8)\n",
    " \n",
    "# Draw ylabels\n",
    "ax.set_rlabel_position(0)\n",
    "plt.yticks( color=\"grey\", size=3)\n",
    "plt.ylim(0,1)\n",
    " \n",
    "# Plot data\n",
    "ax.plot(angles, values, linewidth=1, linestyle='solid')\n",
    " \n",
    "# Fill area\n",
    "ax.fill(angles, values, 'b', alpha=0.1)\n",
    "\n",
    "# Show the graph\n",
    "plt.show()"
   ]
  },
  {
   "cell_type": "markdown",
   "metadata": {},
   "source": [
    "### Mood \n",
    "        plotting energy vs valence\n",
    "        high energy, valence = happy\n",
    "        low energy, valence = sad\n",
    "        high energy, low valence = angsty\n",
    "        low energy, high valence = chill"
   ]
  },
  {
   "cell_type": "code",
   "execution_count": 47,
   "metadata": {
    "scrolled": false
   },
   "outputs": [
    {
     "data": {
      "application/vnd.plotly.v1+json": {
       "config": {
        "plotlyServerURL": "https://plotly.com"
       },
       "data": [
        {
         "marker": {
          "color": "#d2e174"
         },
         "mode": "markers",
         "name": "markers",
         "showlegend": false,
         "type": "scatter",
         "x": [
          0.732,
          0.682,
          0.334,
          0.372,
          0.581,
          0.584,
          0.915,
          0.522,
          0.698,
          0.377,
          0.347,
          0.471,
          0.485,
          0.716,
          0.457,
          0.469,
          0.145,
          0.464,
          0.67,
          0.543,
          0.66,
          0.529,
          0.412,
          0.183,
          0.737,
          0.497,
          0.597,
          0.309,
          0.273,
          0.318,
          0.669,
          0.939,
          0.835,
          0.357,
          0.747,
          0.385,
          0.483,
          0.556,
          0.0823,
          0.557,
          0.609,
          0.616,
          0.739,
          0.593,
          0.837,
          0.641,
          0.4,
          0.61,
          0.456,
          0.377,
          0.571,
          0.467,
          0.0753,
          0.342,
          0.753,
          0.397,
          0.595,
          0.775,
          0.716,
          0.562,
          0.677,
          0.254,
          0.18,
          0.151,
          0.479,
          0.597,
          0.782,
          0.259,
          0.551,
          0.838,
          0.229,
          0.551,
          0.331,
          0.677,
          0.544,
          0.303,
          0.625,
          0.745,
          0.907,
          0.676,
          0.348,
          0.4,
          0.541,
          0.773,
          0.132,
          0.831,
          0.883,
          0.555,
          0.309,
          0.428,
          0.718,
          0.531,
          0.137,
          0.252,
          0.414,
          0.402,
          0.268,
          0.367,
          0.214,
          0.948,
          0.628,
          0.433,
          0.441,
          0.323,
          0.442,
          0.247,
          0.451,
          0.19,
          0.248,
          0.395,
          0.565,
          0.698,
          0.795,
          0.203,
          0.436,
          0.425,
          0.201,
          0.808,
          0.0395,
          0.498,
          0.508,
          0.58,
          0.328,
          0.203,
          0.394,
          0.312,
          0.701,
          0.49,
          0.487,
          0.439,
          0.664,
          0.366,
          0.158,
          0.819,
          0.327,
          0.805,
          0.459,
          0.66,
          0.661,
          0.518,
          0.436,
          0.715,
          0.808,
          0.711,
          0.599,
          0.202,
          0.155,
          0.59,
          0.239,
          0.472,
          0.543,
          0.438,
          0.498,
          0.809,
          0.553,
          0.322,
          0.123,
          0.568,
          0.698,
          0.337,
          0.235,
          0.367,
          0.285,
          0.634,
          0.247,
          0.626,
          0.376,
          0.645,
          0.473,
          0.0636,
          0.1,
          0.431,
          0.674,
          0.29,
          0.196,
          0.721,
          0.599,
          0.701,
          0.41,
          0.433,
          0.286,
          0.451,
          0.489,
          0.298,
          0.934,
          0.395,
          0.108,
          0.37,
          0.586,
          0.441,
          0.167,
          0.409,
          0.71,
          0.535,
          0.374,
          0.642,
          0.359,
          0.64,
          0.758,
          0.734,
          0.771,
          0.44,
          0.405,
          0.384,
          0.882,
          0.712,
          0.38,
          0.682,
          0.696,
          0.631,
          0.184,
          0.649,
          0.535,
          0.587,
          0.172,
          0.671,
          0.149,
          0.12,
          0.722,
          0.314,
          0.714,
          0.266,
          0.437,
          0.742,
          0.74,
          0.234,
          0.673,
          0.673,
          0.43,
          0.474,
          0.346,
          0.635,
          0.289,
          0.472,
          0.328,
          0.223,
          0.554,
          0.173,
          0.479,
          0.556,
          0.961,
          0.798,
          0.69,
          0.185,
          0.437,
          0.324,
          0.594,
          0.4,
          0.17,
          0.227,
          0.301,
          0.364,
          0.658,
          0.165,
          0.248,
          0.335,
          0.316,
          0.505,
          0.88,
          0.694,
          0.742,
          0.653,
          0.157,
          0.369,
          0.489,
          0.438,
          0.296,
          0.13,
          0.775,
          0.668,
          0.971,
          0.38,
          0.237,
          0.11,
          0.663,
          0.109,
          0.144,
          0.866,
          0.408,
          0.738,
          0.798,
          0.397,
          0.231,
          0.695,
          0.0849,
          0.28,
          0.269,
          0.338,
          0.218,
          0.419,
          0.699,
          0.172,
          0.076,
          0.148,
          0.121,
          0.146
         ],
         "y": [
          0.716,
          0.802,
          0.73,
          0.704,
          0.578,
          0.538,
          0.825,
          0.518,
          0.516,
          0.536,
          0.586,
          0.66,
          0.585,
          0.34,
          0.69,
          0.732,
          0.573,
          0.696,
          0.225,
          0.548,
          0.648,
          0.574,
          0.655,
          0.575,
          0.765,
          0.69,
          0.869,
          0.277,
          0.324,
          0.538,
          0.745,
          0.927,
          0.723,
          0.454,
          0.819,
          0.683,
          0.564,
          0.667,
          0.373,
          0.816,
          0.788,
          0.437,
          0.873,
          0.825,
          0.511,
          0.646,
          0.58,
          0.788,
          0.65,
          0.525,
          0.786,
          0.413,
          0.587,
          0.615,
          0.711,
          0.475,
          0.67,
          0.756,
          0.516,
          0.792,
          0.645,
          0.838,
          0.696,
          0.491,
          0.706,
          0.665,
          0.845,
          0.814,
          0.776,
          0.666,
          0.549,
          0.837,
          0.552,
          0.718,
          0.846,
          0.598,
          0.54,
          0.341,
          0.582,
          0.57,
          0.831,
          0.592,
          0.858,
          0.607,
          0.637,
          0.538,
          0.582,
          0.868,
          0.722,
          0.523,
          0.751,
          0.525,
          0.431,
          0.657,
          0.537,
          0.766,
          0.664,
          0.584,
          0.44,
          0.772,
          0.843,
          0.748,
          0.754,
          0.518,
          0.771,
          0.63,
          0.803,
          0.463,
          0.884,
          0.715,
          0.414,
          0.638,
          0.502,
          0.529,
          0.726,
          0.491,
          0.426,
          0.593,
          0.479,
          0.453,
          0.609,
          0.798,
          0.457,
          0.285,
          0.433,
          0.343,
          0.771,
          0.885,
          0.654,
          0.267,
          0.544,
          0.582,
          0.603,
          0.795,
          0.608,
          0.623,
          0.659,
          0.551,
          0.803,
          0.605,
          0.934,
          0.394,
          0.622,
          0.674,
          0.656,
          0.393,
          0.56,
          0.588,
          0.436,
          0.695,
          0.465,
          0.355,
          0.8,
          0.65,
          0.524,
          0.708,
          0.72,
          0.689,
          0.725,
          0.441,
          0.62,
          0.647,
          0.598,
          0.744,
          0.709,
          0.884,
          0.649,
          0.747,
          0.746,
          0.58,
          0.449,
          0.637,
          0.553,
          0.634,
          0.705,
          0.676,
          0.672,
          0.37,
          0.689,
          0.61,
          0.607,
          0.912,
          0.732,
          0.675,
          0.756,
          0.639,
          0.547,
          0.333,
          0.228,
          0.741,
          0.444,
          0.633,
          0.629,
          0.637,
          0.584,
          0.724,
          0.756,
          0.855,
          0.508,
          0.411,
          0.537,
          0.494,
          0.517,
          0.537,
          0.641,
          0.684,
          0.412,
          0.509,
          0.548,
          0.727,
          0.523,
          0.359,
          0.53,
          0.561,
          0.61,
          0.575,
          0.64,
          0.512,
          0.545,
          0.709,
          0.817,
          0.329,
          0.536,
          0.701,
          0.577,
          0.834,
          0.899,
          0.821,
          0.741,
          0.773,
          0.574,
          0.856,
          0.646,
          0.732,
          0.485,
          0.451,
          0.817,
          0.534,
          0.679,
          0.63,
          0.463,
          0.611,
          0.546,
          0.422,
          0.627,
          0.576,
          0.783,
          0.547,
          0.583,
          0.727,
          0.545,
          0.721,
          0.444,
          0.571,
          0.481,
          0.687,
          0.638,
          0.701,
          0.912,
          0.79,
          0.408,
          0.758,
          0.285,
          0.859,
          0.828,
          0.659,
          0.639,
          0.655,
          0.934,
          0.661,
          0.458,
          0.608,
          0.594,
          0.607,
          0.46,
          0.629,
          0.523,
          0.463,
          0.707,
          0.66,
          0.722,
          0.683,
          0.867,
          0.459,
          0.339,
          0.526,
          0.259,
          0.443,
          0.272,
          0.203,
          0.575,
          0.298,
          0.469,
          0.636,
          0.446,
          0.474
         ]
        },
        {
         "marker": {
          "color": "#ec5b68"
         },
         "mode": "markers+text",
         "showlegend": false,
         "text": [
          "Champagne Night <br> Lady A",
          "Sour <br> Olivia Rodrigo",
          "Hit Bout It <br> Lil Yachty<br> Kodak Black",
          "Better Together <br>Luke Combs"
         ],
         "textposition": [
          "top center",
          "bottom center",
          "top center",
          "bottom center"
         ],
         "type": "scatter",
         "x": [
          0.939,
          0.0849,
          0.123,
          0.67
         ],
         "y": [
          0.927,
          0.339,
          0.72,
          0.225
         ]
        },
        {
         "mode": "text",
         "showlegend": false,
         "text": [
          "Happy",
          "Sad",
          "Angry/Angsty",
          "Peaceful"
         ],
         "textfont": {
          "size": 16
         },
         "textposition": "top center",
         "type": "scatter",
         "x": [
          0.8,
          0.2,
          0.2,
          0.8
         ],
         "y": [
          1,
          0,
          1,
          0
         ]
        }
       ],
       "layout": {
        "shapes": [
         {
          "line": {
           "color": "#afdfdd"
          },
          "type": "line",
          "x0": 0,
          "x1": 1,
          "xref": "x",
          "y0": 0.5,
          "y1": 0.5,
          "yref": "y"
         },
         {
          "line": {
           "color": "#afdfdd"
          },
          "type": "line",
          "x0": 0.5,
          "x1": 0.5,
          "xref": "x",
          "y0": 0,
          "y1": 1,
          "yref": "y"
         }
        ],
        "template": {
         "data": {
          "bar": [
           {
            "error_x": {
             "color": "#2a3f5f"
            },
            "error_y": {
             "color": "#2a3f5f"
            },
            "marker": {
             "line": {
              "color": "#E5ECF6",
              "width": 0.5
             }
            },
            "type": "bar"
           }
          ],
          "barpolar": [
           {
            "marker": {
             "line": {
              "color": "#E5ECF6",
              "width": 0.5
             }
            },
            "type": "barpolar"
           }
          ],
          "carpet": [
           {
            "aaxis": {
             "endlinecolor": "#2a3f5f",
             "gridcolor": "white",
             "linecolor": "white",
             "minorgridcolor": "white",
             "startlinecolor": "#2a3f5f"
            },
            "baxis": {
             "endlinecolor": "#2a3f5f",
             "gridcolor": "white",
             "linecolor": "white",
             "minorgridcolor": "white",
             "startlinecolor": "#2a3f5f"
            },
            "type": "carpet"
           }
          ],
          "choropleth": [
           {
            "colorbar": {
             "outlinewidth": 0,
             "ticks": ""
            },
            "type": "choropleth"
           }
          ],
          "contour": [
           {
            "colorbar": {
             "outlinewidth": 0,
             "ticks": ""
            },
            "colorscale": [
             [
              0,
              "#0d0887"
             ],
             [
              0.1111111111111111,
              "#46039f"
             ],
             [
              0.2222222222222222,
              "#7201a8"
             ],
             [
              0.3333333333333333,
              "#9c179e"
             ],
             [
              0.4444444444444444,
              "#bd3786"
             ],
             [
              0.5555555555555556,
              "#d8576b"
             ],
             [
              0.6666666666666666,
              "#ed7953"
             ],
             [
              0.7777777777777778,
              "#fb9f3a"
             ],
             [
              0.8888888888888888,
              "#fdca26"
             ],
             [
              1,
              "#f0f921"
             ]
            ],
            "type": "contour"
           }
          ],
          "contourcarpet": [
           {
            "colorbar": {
             "outlinewidth": 0,
             "ticks": ""
            },
            "type": "contourcarpet"
           }
          ],
          "heatmap": [
           {
            "colorbar": {
             "outlinewidth": 0,
             "ticks": ""
            },
            "colorscale": [
             [
              0,
              "#0d0887"
             ],
             [
              0.1111111111111111,
              "#46039f"
             ],
             [
              0.2222222222222222,
              "#7201a8"
             ],
             [
              0.3333333333333333,
              "#9c179e"
             ],
             [
              0.4444444444444444,
              "#bd3786"
             ],
             [
              0.5555555555555556,
              "#d8576b"
             ],
             [
              0.6666666666666666,
              "#ed7953"
             ],
             [
              0.7777777777777778,
              "#fb9f3a"
             ],
             [
              0.8888888888888888,
              "#fdca26"
             ],
             [
              1,
              "#f0f921"
             ]
            ],
            "type": "heatmap"
           }
          ],
          "heatmapgl": [
           {
            "colorbar": {
             "outlinewidth": 0,
             "ticks": ""
            },
            "colorscale": [
             [
              0,
              "#0d0887"
             ],
             [
              0.1111111111111111,
              "#46039f"
             ],
             [
              0.2222222222222222,
              "#7201a8"
             ],
             [
              0.3333333333333333,
              "#9c179e"
             ],
             [
              0.4444444444444444,
              "#bd3786"
             ],
             [
              0.5555555555555556,
              "#d8576b"
             ],
             [
              0.6666666666666666,
              "#ed7953"
             ],
             [
              0.7777777777777778,
              "#fb9f3a"
             ],
             [
              0.8888888888888888,
              "#fdca26"
             ],
             [
              1,
              "#f0f921"
             ]
            ],
            "type": "heatmapgl"
           }
          ],
          "histogram": [
           {
            "marker": {
             "colorbar": {
              "outlinewidth": 0,
              "ticks": ""
             }
            },
            "type": "histogram"
           }
          ],
          "histogram2d": [
           {
            "colorbar": {
             "outlinewidth": 0,
             "ticks": ""
            },
            "colorscale": [
             [
              0,
              "#0d0887"
             ],
             [
              0.1111111111111111,
              "#46039f"
             ],
             [
              0.2222222222222222,
              "#7201a8"
             ],
             [
              0.3333333333333333,
              "#9c179e"
             ],
             [
              0.4444444444444444,
              "#bd3786"
             ],
             [
              0.5555555555555556,
              "#d8576b"
             ],
             [
              0.6666666666666666,
              "#ed7953"
             ],
             [
              0.7777777777777778,
              "#fb9f3a"
             ],
             [
              0.8888888888888888,
              "#fdca26"
             ],
             [
              1,
              "#f0f921"
             ]
            ],
            "type": "histogram2d"
           }
          ],
          "histogram2dcontour": [
           {
            "colorbar": {
             "outlinewidth": 0,
             "ticks": ""
            },
            "colorscale": [
             [
              0,
              "#0d0887"
             ],
             [
              0.1111111111111111,
              "#46039f"
             ],
             [
              0.2222222222222222,
              "#7201a8"
             ],
             [
              0.3333333333333333,
              "#9c179e"
             ],
             [
              0.4444444444444444,
              "#bd3786"
             ],
             [
              0.5555555555555556,
              "#d8576b"
             ],
             [
              0.6666666666666666,
              "#ed7953"
             ],
             [
              0.7777777777777778,
              "#fb9f3a"
             ],
             [
              0.8888888888888888,
              "#fdca26"
             ],
             [
              1,
              "#f0f921"
             ]
            ],
            "type": "histogram2dcontour"
           }
          ],
          "mesh3d": [
           {
            "colorbar": {
             "outlinewidth": 0,
             "ticks": ""
            },
            "type": "mesh3d"
           }
          ],
          "parcoords": [
           {
            "line": {
             "colorbar": {
              "outlinewidth": 0,
              "ticks": ""
             }
            },
            "type": "parcoords"
           }
          ],
          "pie": [
           {
            "automargin": true,
            "type": "pie"
           }
          ],
          "scatter": [
           {
            "marker": {
             "colorbar": {
              "outlinewidth": 0,
              "ticks": ""
             }
            },
            "type": "scatter"
           }
          ],
          "scatter3d": [
           {
            "line": {
             "colorbar": {
              "outlinewidth": 0,
              "ticks": ""
             }
            },
            "marker": {
             "colorbar": {
              "outlinewidth": 0,
              "ticks": ""
             }
            },
            "type": "scatter3d"
           }
          ],
          "scattercarpet": [
           {
            "marker": {
             "colorbar": {
              "outlinewidth": 0,
              "ticks": ""
             }
            },
            "type": "scattercarpet"
           }
          ],
          "scattergeo": [
           {
            "marker": {
             "colorbar": {
              "outlinewidth": 0,
              "ticks": ""
             }
            },
            "type": "scattergeo"
           }
          ],
          "scattergl": [
           {
            "marker": {
             "colorbar": {
              "outlinewidth": 0,
              "ticks": ""
             }
            },
            "type": "scattergl"
           }
          ],
          "scattermapbox": [
           {
            "marker": {
             "colorbar": {
              "outlinewidth": 0,
              "ticks": ""
             }
            },
            "type": "scattermapbox"
           }
          ],
          "scatterpolar": [
           {
            "marker": {
             "colorbar": {
              "outlinewidth": 0,
              "ticks": ""
             }
            },
            "type": "scatterpolar"
           }
          ],
          "scatterpolargl": [
           {
            "marker": {
             "colorbar": {
              "outlinewidth": 0,
              "ticks": ""
             }
            },
            "type": "scatterpolargl"
           }
          ],
          "scatterternary": [
           {
            "marker": {
             "colorbar": {
              "outlinewidth": 0,
              "ticks": ""
             }
            },
            "type": "scatterternary"
           }
          ],
          "surface": [
           {
            "colorbar": {
             "outlinewidth": 0,
             "ticks": ""
            },
            "colorscale": [
             [
              0,
              "#0d0887"
             ],
             [
              0.1111111111111111,
              "#46039f"
             ],
             [
              0.2222222222222222,
              "#7201a8"
             ],
             [
              0.3333333333333333,
              "#9c179e"
             ],
             [
              0.4444444444444444,
              "#bd3786"
             ],
             [
              0.5555555555555556,
              "#d8576b"
             ],
             [
              0.6666666666666666,
              "#ed7953"
             ],
             [
              0.7777777777777778,
              "#fb9f3a"
             ],
             [
              0.8888888888888888,
              "#fdca26"
             ],
             [
              1,
              "#f0f921"
             ]
            ],
            "type": "surface"
           }
          ],
          "table": [
           {
            "cells": {
             "fill": {
              "color": "#EBF0F8"
             },
             "line": {
              "color": "white"
             }
            },
            "header": {
             "fill": {
              "color": "#C8D4E3"
             },
             "line": {
              "color": "white"
             }
            },
            "type": "table"
           }
          ]
         },
         "layout": {
          "annotationdefaults": {
           "arrowcolor": "#2a3f5f",
           "arrowhead": 0,
           "arrowwidth": 1
          },
          "coloraxis": {
           "colorbar": {
            "outlinewidth": 0,
            "ticks": ""
           }
          },
          "colorscale": {
           "diverging": [
            [
             0,
             "#8e0152"
            ],
            [
             0.1,
             "#c51b7d"
            ],
            [
             0.2,
             "#de77ae"
            ],
            [
             0.3,
             "#f1b6da"
            ],
            [
             0.4,
             "#fde0ef"
            ],
            [
             0.5,
             "#f7f7f7"
            ],
            [
             0.6,
             "#e6f5d0"
            ],
            [
             0.7,
             "#b8e186"
            ],
            [
             0.8,
             "#7fbc41"
            ],
            [
             0.9,
             "#4d9221"
            ],
            [
             1,
             "#276419"
            ]
           ],
           "sequential": [
            [
             0,
             "#0d0887"
            ],
            [
             0.1111111111111111,
             "#46039f"
            ],
            [
             0.2222222222222222,
             "#7201a8"
            ],
            [
             0.3333333333333333,
             "#9c179e"
            ],
            [
             0.4444444444444444,
             "#bd3786"
            ],
            [
             0.5555555555555556,
             "#d8576b"
            ],
            [
             0.6666666666666666,
             "#ed7953"
            ],
            [
             0.7777777777777778,
             "#fb9f3a"
            ],
            [
             0.8888888888888888,
             "#fdca26"
            ],
            [
             1,
             "#f0f921"
            ]
           ],
           "sequentialminus": [
            [
             0,
             "#0d0887"
            ],
            [
             0.1111111111111111,
             "#46039f"
            ],
            [
             0.2222222222222222,
             "#7201a8"
            ],
            [
             0.3333333333333333,
             "#9c179e"
            ],
            [
             0.4444444444444444,
             "#bd3786"
            ],
            [
             0.5555555555555556,
             "#d8576b"
            ],
            [
             0.6666666666666666,
             "#ed7953"
            ],
            [
             0.7777777777777778,
             "#fb9f3a"
            ],
            [
             0.8888888888888888,
             "#fdca26"
            ],
            [
             1,
             "#f0f921"
            ]
           ]
          },
          "colorway": [
           "#636efa",
           "#EF553B",
           "#00cc96",
           "#ab63fa",
           "#FFA15A",
           "#19d3f3",
           "#FF6692",
           "#B6E880",
           "#FF97FF",
           "#FECB52"
          ],
          "font": {
           "color": "#2a3f5f"
          },
          "geo": {
           "bgcolor": "white",
           "lakecolor": "white",
           "landcolor": "#E5ECF6",
           "showlakes": true,
           "showland": true,
           "subunitcolor": "white"
          },
          "hoverlabel": {
           "align": "left"
          },
          "hovermode": "closest",
          "mapbox": {
           "style": "light"
          },
          "paper_bgcolor": "white",
          "plot_bgcolor": "#E5ECF6",
          "polar": {
           "angularaxis": {
            "gridcolor": "white",
            "linecolor": "white",
            "ticks": ""
           },
           "bgcolor": "#E5ECF6",
           "radialaxis": {
            "gridcolor": "white",
            "linecolor": "white",
            "ticks": ""
           }
          },
          "scene": {
           "xaxis": {
            "backgroundcolor": "#E5ECF6",
            "gridcolor": "white",
            "gridwidth": 2,
            "linecolor": "white",
            "showbackground": true,
            "ticks": "",
            "zerolinecolor": "white"
           },
           "yaxis": {
            "backgroundcolor": "#E5ECF6",
            "gridcolor": "white",
            "gridwidth": 2,
            "linecolor": "white",
            "showbackground": true,
            "ticks": "",
            "zerolinecolor": "white"
           },
           "zaxis": {
            "backgroundcolor": "#E5ECF6",
            "gridcolor": "white",
            "gridwidth": 2,
            "linecolor": "white",
            "showbackground": true,
            "ticks": "",
            "zerolinecolor": "white"
           }
          },
          "shapedefaults": {
           "line": {
            "color": "#2a3f5f"
           }
          },
          "ternary": {
           "aaxis": {
            "gridcolor": "white",
            "linecolor": "white",
            "ticks": ""
           },
           "baxis": {
            "gridcolor": "white",
            "linecolor": "white",
            "ticks": ""
           },
           "bgcolor": "#E5ECF6",
           "caxis": {
            "gridcolor": "white",
            "linecolor": "white",
            "ticks": ""
           }
          },
          "title": {
           "x": 0.05
          },
          "xaxis": {
           "automargin": true,
           "gridcolor": "white",
           "linecolor": "white",
           "ticks": "",
           "title": {
            "standoff": 15
           },
           "zerolinecolor": "white",
           "zerolinewidth": 2
          },
          "yaxis": {
           "automargin": true,
           "gridcolor": "white",
           "linecolor": "white",
           "ticks": "",
           "title": {
            "standoff": 15
           },
           "zerolinecolor": "white",
           "zerolinewidth": 2
          }
         }
        }
       }
      },
      "text/html": [
       "<div>                            <div id=\"0a7e35b2-30b9-412f-85ac-0e5fb4d0dcf5\" class=\"plotly-graph-div\" style=\"height:525px; width:100%;\"></div>            <script type=\"text/javascript\">                require([\"plotly\"], function(Plotly) {                    window.PLOTLYENV=window.PLOTLYENV || {};                                    if (document.getElementById(\"0a7e35b2-30b9-412f-85ac-0e5fb4d0dcf5\")) {                    Plotly.newPlot(                        \"0a7e35b2-30b9-412f-85ac-0e5fb4d0dcf5\",                        [{\"marker\": {\"color\": \"#d2e174\"}, \"mode\": \"markers\", \"name\": \"markers\", \"showlegend\": false, \"type\": \"scatter\", \"x\": [0.732, 0.682, 0.334, 0.372, 0.581, 0.584, 0.915, 0.522, 0.698, 0.377, 0.347, 0.471, 0.485, 0.716, 0.457, 0.469, 0.145, 0.464, 0.67, 0.543, 0.66, 0.529, 0.412, 0.183, 0.737, 0.497, 0.597, 0.309, 0.273, 0.318, 0.669, 0.939, 0.835, 0.357, 0.747, 0.385, 0.483, 0.556, 0.0823, 0.557, 0.609, 0.616, 0.739, 0.593, 0.837, 0.641, 0.4, 0.61, 0.456, 0.377, 0.571, 0.467, 0.0753, 0.342, 0.753, 0.397, 0.595, 0.775, 0.716, 0.562, 0.677, 0.254, 0.18, 0.151, 0.479, 0.597, 0.782, 0.259, 0.551, 0.838, 0.229, 0.551, 0.331, 0.677, 0.544, 0.303, 0.625, 0.745, 0.907, 0.676, 0.348, 0.4, 0.541, 0.773, 0.132, 0.831, 0.883, 0.555, 0.309, 0.428, 0.718, 0.531, 0.137, 0.252, 0.414, 0.402, 0.268, 0.367, 0.214, 0.948, 0.628, 0.433, 0.441, 0.323, 0.442, 0.247, 0.451, 0.19, 0.248, 0.395, 0.565, 0.698, 0.795, 0.203, 0.436, 0.425, 0.201, 0.808, 0.0395, 0.498, 0.508, 0.58, 0.328, 0.203, 0.394, 0.312, 0.701, 0.49, 0.487, 0.439, 0.664, 0.366, 0.158, 0.819, 0.327, 0.805, 0.459, 0.66, 0.661, 0.518, 0.436, 0.715, 0.808, 0.711, 0.599, 0.202, 0.155, 0.59, 0.239, 0.472, 0.543, 0.438, 0.498, 0.809, 0.553, 0.322, 0.123, 0.568, 0.698, 0.337, 0.235, 0.367, 0.285, 0.634, 0.247, 0.626, 0.376, 0.645, 0.473, 0.0636, 0.1, 0.431, 0.674, 0.29, 0.196, 0.721, 0.599, 0.701, 0.41, 0.433, 0.286, 0.451, 0.489, 0.298, 0.934, 0.395, 0.108, 0.37, 0.586, 0.441, 0.167, 0.409, 0.71, 0.535, 0.374, 0.642, 0.359, 0.64, 0.758, 0.734, 0.771, 0.44, 0.405, 0.384, 0.882, 0.712, 0.38, 0.682, 0.696, 0.631, 0.184, 0.649, 0.535, 0.587, 0.172, 0.671, 0.149, 0.12, 0.722, 0.314, 0.714, 0.266, 0.437, 0.742, 0.74, 0.234, 0.673, 0.673, 0.43, 0.474, 0.346, 0.635, 0.289, 0.472, 0.328, 0.223, 0.554, 0.173, 0.479, 0.556, 0.961, 0.798, 0.69, 0.185, 0.437, 0.324, 0.594, 0.4, 0.17, 0.227, 0.301, 0.364, 0.658, 0.165, 0.248, 0.335, 0.316, 0.505, 0.88, 0.694, 0.742, 0.653, 0.157, 0.369, 0.489, 0.438, 0.296, 0.13, 0.775, 0.668, 0.971, 0.38, 0.237, 0.11, 0.663, 0.109, 0.144, 0.866, 0.408, 0.738, 0.798, 0.397, 0.231, 0.695, 0.0849, 0.28, 0.269, 0.338, 0.218, 0.419, 0.699, 0.172, 0.076, 0.148, 0.121, 0.146], \"y\": [0.716, 0.802, 0.73, 0.704, 0.578, 0.538, 0.825, 0.518, 0.516, 0.536, 0.586, 0.66, 0.585, 0.34, 0.69, 0.732, 0.573, 0.696, 0.225, 0.548, 0.648, 0.574, 0.655, 0.575, 0.765, 0.69, 0.869, 0.277, 0.324, 0.538, 0.745, 0.927, 0.723, 0.454, 0.819, 0.683, 0.564, 0.667, 0.373, 0.816, 0.788, 0.437, 0.873, 0.825, 0.511, 0.646, 0.58, 0.788, 0.65, 0.525, 0.786, 0.413, 0.587, 0.615, 0.711, 0.475, 0.67, 0.756, 0.516, 0.792, 0.645, 0.838, 0.696, 0.491, 0.706, 0.665, 0.845, 0.814, 0.776, 0.666, 0.549, 0.837, 0.552, 0.718, 0.846, 0.598, 0.54, 0.341, 0.582, 0.57, 0.831, 0.592, 0.858, 0.607, 0.637, 0.538, 0.582, 0.868, 0.722, 0.523, 0.751, 0.525, 0.431, 0.657, 0.537, 0.766, 0.664, 0.584, 0.44, 0.772, 0.843, 0.748, 0.754, 0.518, 0.771, 0.63, 0.803, 0.463, 0.884, 0.715, 0.414, 0.638, 0.502, 0.529, 0.726, 0.491, 0.426, 0.593, 0.479, 0.453, 0.609, 0.798, 0.457, 0.285, 0.433, 0.343, 0.771, 0.885, 0.654, 0.267, 0.544, 0.582, 0.603, 0.795, 0.608, 0.623, 0.659, 0.551, 0.803, 0.605, 0.934, 0.394, 0.622, 0.674, 0.656, 0.393, 0.56, 0.588, 0.436, 0.695, 0.465, 0.355, 0.8, 0.65, 0.524, 0.708, 0.72, 0.689, 0.725, 0.441, 0.62, 0.647, 0.598, 0.744, 0.709, 0.884, 0.649, 0.747, 0.746, 0.58, 0.449, 0.637, 0.553, 0.634, 0.705, 0.676, 0.672, 0.37, 0.689, 0.61, 0.607, 0.912, 0.732, 0.675, 0.756, 0.639, 0.547, 0.333, 0.228, 0.741, 0.444, 0.633, 0.629, 0.637, 0.584, 0.724, 0.756, 0.855, 0.508, 0.411, 0.537, 0.494, 0.517, 0.537, 0.641, 0.684, 0.412, 0.509, 0.548, 0.727, 0.523, 0.359, 0.53, 0.561, 0.61, 0.575, 0.64, 0.512, 0.545, 0.709, 0.817, 0.329, 0.536, 0.701, 0.577, 0.834, 0.899, 0.821, 0.741, 0.773, 0.574, 0.856, 0.646, 0.732, 0.485, 0.451, 0.817, 0.534, 0.679, 0.63, 0.463, 0.611, 0.546, 0.422, 0.627, 0.576, 0.783, 0.547, 0.583, 0.727, 0.545, 0.721, 0.444, 0.571, 0.481, 0.687, 0.638, 0.701, 0.912, 0.79, 0.408, 0.758, 0.285, 0.859, 0.828, 0.659, 0.639, 0.655, 0.934, 0.661, 0.458, 0.608, 0.594, 0.607, 0.46, 0.629, 0.523, 0.463, 0.707, 0.66, 0.722, 0.683, 0.867, 0.459, 0.339, 0.526, 0.259, 0.443, 0.272, 0.203, 0.575, 0.298, 0.469, 0.636, 0.446, 0.474]}, {\"marker\": {\"color\": \"#ec5b68\"}, \"mode\": \"markers+text\", \"showlegend\": false, \"text\": [\"Champagne Night <br> Lady A\", \"Sour <br> Olivia Rodrigo\", \"Hit Bout It <br> Lil Yachty<br> Kodak Black\", \"Better Together <br>Luke Combs\"], \"textposition\": [\"top center\", \"bottom center\", \"top center\", \"bottom center\"], \"type\": \"scatter\", \"x\": [0.939, 0.0849, 0.123, 0.67], \"y\": [0.927, 0.339, 0.72, 0.225]}, {\"mode\": \"text\", \"showlegend\": false, \"text\": [\"Happy\", \"Sad\", \"Angry/Angsty\", \"Peaceful\"], \"textfont\": {\"size\": 16}, \"textposition\": \"top center\", \"type\": \"scatter\", \"x\": [0.8, 0.2, 0.2, 0.8], \"y\": [1, 0, 1, 0]}],                        {\"shapes\": [{\"line\": {\"color\": \"#afdfdd\"}, \"type\": \"line\", \"x0\": 0, \"x1\": 1, \"xref\": \"x\", \"y0\": 0.5, \"y1\": 0.5, \"yref\": \"y\"}, {\"line\": {\"color\": \"#afdfdd\"}, \"type\": \"line\", \"x0\": 0.5, \"x1\": 0.5, \"xref\": \"x\", \"y0\": 0, \"y1\": 1, \"yref\": \"y\"}], \"template\": {\"data\": {\"bar\": [{\"error_x\": {\"color\": \"#2a3f5f\"}, \"error_y\": {\"color\": \"#2a3f5f\"}, \"marker\": {\"line\": {\"color\": \"#E5ECF6\", \"width\": 0.5}}, \"type\": \"bar\"}], \"barpolar\": [{\"marker\": {\"line\": {\"color\": \"#E5ECF6\", \"width\": 0.5}}, \"type\": \"barpolar\"}], \"carpet\": [{\"aaxis\": {\"endlinecolor\": \"#2a3f5f\", \"gridcolor\": \"white\", \"linecolor\": \"white\", \"minorgridcolor\": \"white\", \"startlinecolor\": \"#2a3f5f\"}, \"baxis\": {\"endlinecolor\": \"#2a3f5f\", \"gridcolor\": \"white\", \"linecolor\": \"white\", \"minorgridcolor\": \"white\", \"startlinecolor\": \"#2a3f5f\"}, \"type\": \"carpet\"}], \"choropleth\": [{\"colorbar\": {\"outlinewidth\": 0, \"ticks\": \"\"}, \"type\": \"choropleth\"}], \"contour\": [{\"colorbar\": {\"outlinewidth\": 0, \"ticks\": \"\"}, \"colorscale\": [[0.0, \"#0d0887\"], [0.1111111111111111, \"#46039f\"], [0.2222222222222222, \"#7201a8\"], [0.3333333333333333, \"#9c179e\"], [0.4444444444444444, \"#bd3786\"], [0.5555555555555556, \"#d8576b\"], [0.6666666666666666, \"#ed7953\"], [0.7777777777777778, \"#fb9f3a\"], [0.8888888888888888, \"#fdca26\"], [1.0, \"#f0f921\"]], \"type\": \"contour\"}], \"contourcarpet\": [{\"colorbar\": {\"outlinewidth\": 0, \"ticks\": \"\"}, \"type\": \"contourcarpet\"}], \"heatmap\": [{\"colorbar\": {\"outlinewidth\": 0, \"ticks\": \"\"}, \"colorscale\": [[0.0, \"#0d0887\"], [0.1111111111111111, \"#46039f\"], [0.2222222222222222, \"#7201a8\"], [0.3333333333333333, \"#9c179e\"], [0.4444444444444444, \"#bd3786\"], [0.5555555555555556, \"#d8576b\"], [0.6666666666666666, \"#ed7953\"], [0.7777777777777778, \"#fb9f3a\"], [0.8888888888888888, \"#fdca26\"], [1.0, \"#f0f921\"]], \"type\": \"heatmap\"}], \"heatmapgl\": [{\"colorbar\": {\"outlinewidth\": 0, \"ticks\": \"\"}, \"colorscale\": [[0.0, \"#0d0887\"], [0.1111111111111111, \"#46039f\"], [0.2222222222222222, \"#7201a8\"], [0.3333333333333333, \"#9c179e\"], [0.4444444444444444, \"#bd3786\"], [0.5555555555555556, \"#d8576b\"], [0.6666666666666666, \"#ed7953\"], [0.7777777777777778, \"#fb9f3a\"], [0.8888888888888888, \"#fdca26\"], [1.0, \"#f0f921\"]], \"type\": \"heatmapgl\"}], \"histogram\": [{\"marker\": {\"colorbar\": {\"outlinewidth\": 0, \"ticks\": \"\"}}, \"type\": \"histogram\"}], \"histogram2d\": [{\"colorbar\": {\"outlinewidth\": 0, \"ticks\": \"\"}, \"colorscale\": [[0.0, \"#0d0887\"], [0.1111111111111111, \"#46039f\"], [0.2222222222222222, \"#7201a8\"], [0.3333333333333333, \"#9c179e\"], [0.4444444444444444, \"#bd3786\"], [0.5555555555555556, \"#d8576b\"], [0.6666666666666666, \"#ed7953\"], [0.7777777777777778, \"#fb9f3a\"], [0.8888888888888888, \"#fdca26\"], [1.0, \"#f0f921\"]], \"type\": \"histogram2d\"}], \"histogram2dcontour\": [{\"colorbar\": {\"outlinewidth\": 0, \"ticks\": \"\"}, \"colorscale\": [[0.0, \"#0d0887\"], [0.1111111111111111, \"#46039f\"], [0.2222222222222222, \"#7201a8\"], [0.3333333333333333, \"#9c179e\"], [0.4444444444444444, \"#bd3786\"], [0.5555555555555556, \"#d8576b\"], [0.6666666666666666, \"#ed7953\"], [0.7777777777777778, \"#fb9f3a\"], [0.8888888888888888, \"#fdca26\"], [1.0, \"#f0f921\"]], \"type\": \"histogram2dcontour\"}], \"mesh3d\": [{\"colorbar\": {\"outlinewidth\": 0, \"ticks\": \"\"}, \"type\": \"mesh3d\"}], \"parcoords\": [{\"line\": {\"colorbar\": {\"outlinewidth\": 0, \"ticks\": \"\"}}, \"type\": \"parcoords\"}], \"pie\": [{\"automargin\": true, \"type\": \"pie\"}], \"scatter\": [{\"marker\": {\"colorbar\": {\"outlinewidth\": 0, \"ticks\": \"\"}}, \"type\": \"scatter\"}], \"scatter3d\": [{\"line\": {\"colorbar\": {\"outlinewidth\": 0, \"ticks\": \"\"}}, \"marker\": {\"colorbar\": {\"outlinewidth\": 0, \"ticks\": \"\"}}, \"type\": \"scatter3d\"}], \"scattercarpet\": [{\"marker\": {\"colorbar\": {\"outlinewidth\": 0, \"ticks\": \"\"}}, \"type\": \"scattercarpet\"}], \"scattergeo\": [{\"marker\": {\"colorbar\": {\"outlinewidth\": 0, \"ticks\": \"\"}}, \"type\": \"scattergeo\"}], \"scattergl\": [{\"marker\": {\"colorbar\": {\"outlinewidth\": 0, \"ticks\": \"\"}}, \"type\": \"scattergl\"}], \"scattermapbox\": [{\"marker\": {\"colorbar\": {\"outlinewidth\": 0, \"ticks\": \"\"}}, \"type\": \"scattermapbox\"}], \"scatterpolar\": [{\"marker\": {\"colorbar\": {\"outlinewidth\": 0, \"ticks\": \"\"}}, \"type\": \"scatterpolar\"}], \"scatterpolargl\": [{\"marker\": {\"colorbar\": {\"outlinewidth\": 0, \"ticks\": \"\"}}, \"type\": \"scatterpolargl\"}], \"scatterternary\": [{\"marker\": {\"colorbar\": {\"outlinewidth\": 0, \"ticks\": \"\"}}, \"type\": \"scatterternary\"}], \"surface\": [{\"colorbar\": {\"outlinewidth\": 0, \"ticks\": \"\"}, \"colorscale\": [[0.0, \"#0d0887\"], [0.1111111111111111, \"#46039f\"], [0.2222222222222222, \"#7201a8\"], [0.3333333333333333, \"#9c179e\"], [0.4444444444444444, \"#bd3786\"], [0.5555555555555556, \"#d8576b\"], [0.6666666666666666, \"#ed7953\"], [0.7777777777777778, \"#fb9f3a\"], [0.8888888888888888, \"#fdca26\"], [1.0, \"#f0f921\"]], \"type\": \"surface\"}], \"table\": [{\"cells\": {\"fill\": {\"color\": \"#EBF0F8\"}, \"line\": {\"color\": \"white\"}}, \"header\": {\"fill\": {\"color\": \"#C8D4E3\"}, \"line\": {\"color\": \"white\"}}, \"type\": \"table\"}]}, \"layout\": {\"annotationdefaults\": {\"arrowcolor\": \"#2a3f5f\", \"arrowhead\": 0, \"arrowwidth\": 1}, \"coloraxis\": {\"colorbar\": {\"outlinewidth\": 0, \"ticks\": \"\"}}, \"colorscale\": {\"diverging\": [[0, \"#8e0152\"], [0.1, \"#c51b7d\"], [0.2, \"#de77ae\"], [0.3, \"#f1b6da\"], [0.4, \"#fde0ef\"], [0.5, \"#f7f7f7\"], [0.6, \"#e6f5d0\"], [0.7, \"#b8e186\"], [0.8, \"#7fbc41\"], [0.9, \"#4d9221\"], [1, \"#276419\"]], \"sequential\": [[0.0, \"#0d0887\"], [0.1111111111111111, \"#46039f\"], [0.2222222222222222, \"#7201a8\"], [0.3333333333333333, \"#9c179e\"], [0.4444444444444444, \"#bd3786\"], [0.5555555555555556, \"#d8576b\"], [0.6666666666666666, \"#ed7953\"], [0.7777777777777778, \"#fb9f3a\"], [0.8888888888888888, \"#fdca26\"], [1.0, \"#f0f921\"]], \"sequentialminus\": [[0.0, \"#0d0887\"], [0.1111111111111111, \"#46039f\"], [0.2222222222222222, \"#7201a8\"], [0.3333333333333333, \"#9c179e\"], [0.4444444444444444, \"#bd3786\"], [0.5555555555555556, \"#d8576b\"], [0.6666666666666666, \"#ed7953\"], [0.7777777777777778, \"#fb9f3a\"], [0.8888888888888888, \"#fdca26\"], [1.0, \"#f0f921\"]]}, \"colorway\": [\"#636efa\", \"#EF553B\", \"#00cc96\", \"#ab63fa\", \"#FFA15A\", \"#19d3f3\", \"#FF6692\", \"#B6E880\", \"#FF97FF\", \"#FECB52\"], \"font\": {\"color\": \"#2a3f5f\"}, \"geo\": {\"bgcolor\": \"white\", \"lakecolor\": \"white\", \"landcolor\": \"#E5ECF6\", \"showlakes\": true, \"showland\": true, \"subunitcolor\": \"white\"}, \"hoverlabel\": {\"align\": \"left\"}, \"hovermode\": \"closest\", \"mapbox\": {\"style\": \"light\"}, \"paper_bgcolor\": \"white\", \"plot_bgcolor\": \"#E5ECF6\", \"polar\": {\"angularaxis\": {\"gridcolor\": \"white\", \"linecolor\": \"white\", \"ticks\": \"\"}, \"bgcolor\": \"#E5ECF6\", \"radialaxis\": {\"gridcolor\": \"white\", \"linecolor\": \"white\", \"ticks\": \"\"}}, \"scene\": {\"xaxis\": {\"backgroundcolor\": \"#E5ECF6\", \"gridcolor\": \"white\", \"gridwidth\": 2, \"linecolor\": \"white\", \"showbackground\": true, \"ticks\": \"\", \"zerolinecolor\": \"white\"}, \"yaxis\": {\"backgroundcolor\": \"#E5ECF6\", \"gridcolor\": \"white\", \"gridwidth\": 2, \"linecolor\": \"white\", \"showbackground\": true, \"ticks\": \"\", \"zerolinecolor\": \"white\"}, \"zaxis\": {\"backgroundcolor\": \"#E5ECF6\", \"gridcolor\": \"white\", \"gridwidth\": 2, \"linecolor\": \"white\", \"showbackground\": true, \"ticks\": \"\", \"zerolinecolor\": \"white\"}}, \"shapedefaults\": {\"line\": {\"color\": \"#2a3f5f\"}}, \"ternary\": {\"aaxis\": {\"gridcolor\": \"white\", \"linecolor\": \"white\", \"ticks\": \"\"}, \"baxis\": {\"gridcolor\": \"white\", \"linecolor\": \"white\", \"ticks\": \"\"}, \"bgcolor\": \"#E5ECF6\", \"caxis\": {\"gridcolor\": \"white\", \"linecolor\": \"white\", \"ticks\": \"\"}}, \"title\": {\"x\": 0.05}, \"xaxis\": {\"automargin\": true, \"gridcolor\": \"white\", \"linecolor\": \"white\", \"ticks\": \"\", \"title\": {\"standoff\": 15}, \"zerolinecolor\": \"white\", \"zerolinewidth\": 2}, \"yaxis\": {\"automargin\": true, \"gridcolor\": \"white\", \"linecolor\": \"white\", \"ticks\": \"\", \"title\": {\"standoff\": 15}, \"zerolinecolor\": \"white\", \"zerolinewidth\": 2}}}},                        {\"responsive\": true}                    ).then(function(){\n",
       "                            \n",
       "var gd = document.getElementById('0a7e35b2-30b9-412f-85ac-0e5fb4d0dcf5');\n",
       "var x = new MutationObserver(function (mutations, observer) {{\n",
       "        var display = window.getComputedStyle(gd).display;\n",
       "        if (!display || display === 'none') {{\n",
       "            console.log([gd, 'removed!']);\n",
       "            Plotly.purge(gd);\n",
       "            observer.disconnect();\n",
       "        }}\n",
       "}});\n",
       "\n",
       "// Listen for the removal of the full notebook cells\n",
       "var notebookContainer = gd.closest('#notebook-container');\n",
       "if (notebookContainer) {{\n",
       "    x.observe(notebookContainer, {childList: true});\n",
       "}}\n",
       "\n",
       "// Listen for the clearing of the current output cell\n",
       "var outputEl = gd.closest('.output');\n",
       "if (outputEl) {{\n",
       "    x.observe(outputEl, {childList: true});\n",
       "}}\n",
       "\n",
       "                        })                };                });            </script>        </div>"
      ]
     },
     "metadata": {},
     "output_type": "display_data"
    },
    {
     "data": {
      "text/plain": [
       "'https://plotly.com/~zylstraa/19/'"
      ]
     },
     "execution_count": 47,
     "metadata": {},
     "output_type": "execute_result"
    }
   ],
   "source": [
    "import plotly.graph_objects as go\n",
    "\n",
    "fig = go.Figure()\n",
    "\n",
    "# Add traces\n",
    "fig.add_trace(go.Scatter(x=af.valence, y=af.energy,\n",
    "                    mode='markers',\n",
    "                    name='markers',\n",
    "                        showlegend=False,\n",
    "                        marker = dict(color='#d2e174')\n",
    "                        ))\n",
    "fig.add_shape(type='line',\n",
    "                x0=0,\n",
    "                y0=0.5,\n",
    "                x1=1,\n",
    "                y1=0.5,\n",
    "                line=dict(color='#afdfdd',),\n",
    "                xref='x',\n",
    "                yref='y'\n",
    ")\n",
    "\n",
    "fig.add_shape(type='line',\n",
    "                x0=0.5,\n",
    "                y0=0,\n",
    "                x1=0.5,\n",
    "                y1=1,\n",
    "                line=dict(color='#afdfdd',),\n",
    "                xref='x',\n",
    "                yref='y'\n",
    ")\n",
    "\n",
    "#Add 4 song annotations\n",
    "fig.add_trace(go.Scatter(\n",
    "    x=[0.939, 0.0849, 0.123,0.67],\n",
    "    y=[.927,0.339,0.72,0.225],\n",
    "    mode='markers+text',\n",
    "    text=['Champagne Night <br> Lady A','Sour <br> Olivia Rodrigo',\n",
    "         'Hit Bout It <br> Lil Yachty<br> Kodak Black','Better Together <br>Luke Combs'],\n",
    "    textposition=['top center', 'bottom center','top center','bottom center'],\n",
    "    showlegend = False,\n",
    "    marker = dict(color = '#ec5b68',)\n",
    "\n",
    "))\n",
    "\n",
    "fig.add_trace(go.Scatter(\n",
    "    x=[.8,0.2,0.2,0.8],\n",
    "    y=[1,0,1,0],\n",
    "    mode='text',\n",
    "    text=['Happy','Sad','Angry/Angsty','Peaceful'],\n",
    "    textposition='top center',\n",
    "    textfont=dict(\n",
    "        size=16),\n",
    "    showlegend=False\n",
    "))\n",
    "\n",
    "fig.show()\n",
    "\n",
    "import chart_studio.plotly as py\n",
    "py.plot(fig, filename = '2021_audiofeatures', auto_open=True)\n"
   ]
  },
  {
   "cell_type": "code",
   "execution_count": 41,
   "metadata": {},
   "outputs": [
    {
     "data": {
      "text/html": [
       "<div>\n",
       "<style scoped>\n",
       "    .dataframe tbody tr th:only-of-type {\n",
       "        vertical-align: middle;\n",
       "    }\n",
       "\n",
       "    .dataframe tbody tr th {\n",
       "        vertical-align: top;\n",
       "    }\n",
       "\n",
       "    .dataframe thead th {\n",
       "        text-align: right;\n",
       "    }\n",
       "</style>\n",
       "<table border=\"1\" class=\"dataframe\">\n",
       "  <thead>\n",
       "    <tr style=\"text-align: right;\">\n",
       "      <th></th>\n",
       "      <th>danceability</th>\n",
       "      <th>energy</th>\n",
       "      <th>key</th>\n",
       "      <th>loudness</th>\n",
       "      <th>mode</th>\n",
       "      <th>speechiness</th>\n",
       "      <th>acousticness</th>\n",
       "      <th>instrumentalness</th>\n",
       "      <th>liveness</th>\n",
       "      <th>valence</th>\n",
       "      <th>tempo</th>\n",
       "      <th>type</th>\n",
       "      <th>id</th>\n",
       "      <th>uri</th>\n",
       "      <th>track_href</th>\n",
       "      <th>analysis_url</th>\n",
       "      <th>duration_ms</th>\n",
       "      <th>time_signature</th>\n",
       "    </tr>\n",
       "  </thead>\n",
       "  <tbody>\n",
       "    <tr>\n",
       "      <th>18</th>\n",
       "      <td>0.552</td>\n",
       "      <td>0.225</td>\n",
       "      <td>0</td>\n",
       "      <td>-11.501</td>\n",
       "      <td>1</td>\n",
       "      <td>0.0477</td>\n",
       "      <td>0.827</td>\n",
       "      <td>0.0</td>\n",
       "      <td>0.111</td>\n",
       "      <td>0.67</td>\n",
       "      <td>138.002</td>\n",
       "      <td>audio_features</td>\n",
       "      <td>6gdLyYNuhWBzqwlOFSsXC7</td>\n",
       "      <td>spotify:track:6gdLyYNuhWBzqwlOFSsXC7</td>\n",
       "      <td>https://api.spotify.com/v1/tracks/6gdLyYNuhWBz...</td>\n",
       "      <td>https://api.spotify.com/v1/audio-analysis/6gdL...</td>\n",
       "      <td>219573</td>\n",
       "      <td>4</td>\n",
       "    </tr>\n",
       "  </tbody>\n",
       "</table>\n",
       "</div>"
      ],
      "text/plain": [
       "    danceability  energy  key  loudness  mode  speechiness  acousticness  \\\n",
       "18         0.552   0.225    0   -11.501     1       0.0477         0.827   \n",
       "\n",
       "    instrumentalness  liveness  valence    tempo            type  \\\n",
       "18               0.0     0.111     0.67  138.002  audio_features   \n",
       "\n",
       "                        id                                   uri  \\\n",
       "18  6gdLyYNuhWBzqwlOFSsXC7  spotify:track:6gdLyYNuhWBzqwlOFSsXC7   \n",
       "\n",
       "                                           track_href  \\\n",
       "18  https://api.spotify.com/v1/tracks/6gdLyYNuhWBz...   \n",
       "\n",
       "                                         analysis_url  duration_ms  \\\n",
       "18  https://api.spotify.com/v1/audio-analysis/6gdL...       219573   \n",
       "\n",
       "    time_signature  \n",
       "18               4  "
      ]
     },
     "execution_count": 41,
     "metadata": {},
     "output_type": "execute_result"
    }
   ],
   "source": [
    "# af[(af.valence ==0.939) & (af.energy==0.927)] #happy Champagne Night Lady A spotify:track:48F2xnWq3LuzYWML327Z2r\n",
    "# af[(af.valence ==0.0849) & (af.energy==0.339)] #sad Sour Olivia Rodrigo spotify:track:5CZ40GBx1sQ9agT82CLQCT\n",
    "# af[(af.valence ==0.123) & (af.energy==0.72)] #angry/angsty Hit Bout It by Lil Yachty, Kodak Black spotify:track:6SN1H9p6A0UbsNpfkxEEX6\n",
    "# af[(af.valence ==0.67) & (af.energy==0.225)] #peaceful Better Together Luke Combs spotify:track:6gdLyYNuhWBzqwlOFSsXC7"
   ]
  },
  {
   "cell_type": "markdown",
   "metadata": {},
   "source": [
    "### Composition"
   ]
  },
  {
   "cell_type": "markdown",
   "metadata": {},
   "source": [
    "Might make a graphic of the following below in PhotoShop"
   ]
  },
  {
   "cell_type": "code",
   "execution_count": 31,
   "metadata": {},
   "outputs": [
    {
     "data": {
      "text/plain": [
       "1    178\n",
       "0    118\n",
       "Name: mode, dtype: int64"
      ]
     },
     "execution_count": 31,
     "metadata": {},
     "output_type": "execute_result"
    }
   ],
   "source": [
    "af['mode'].value_counts() #1 is major key, 0 is minor key"
   ]
  },
  {
   "cell_type": "code",
   "execution_count": 32,
   "metadata": {},
   "outputs": [
    {
     "data": {
      "text/plain": [
       "<matplotlib.axes._subplots.AxesSubplot at 0x1f5a2653880>"
      ]
     },
     "execution_count": 32,
     "metadata": {},
     "output_type": "execute_result"
    },
    {
     "data": {
      "image/png": "[encoded data removed]",
      "text/plain": [
       "<Figure size 432x288 with 1 Axes>"
      ]
     },
     "metadata": {
      "needs_background": "light"
     },
     "output_type": "display_data"
    }
   ],
   "source": [
    "af.key.hist() # 0 is C, 11 is B"
   ]
  },
  {
   "cell_type": "code",
   "execution_count": 33,
   "metadata": {},
   "outputs": [
    {
     "data": {
      "text/plain": [
       "<matplotlib.axes._subplots.AxesSubplot at 0x1f5a26ebca0>"
      ]
     },
     "execution_count": 33,
     "metadata": {},
     "output_type": "execute_result"
    },
    {
     "data": {
      "image/png": "[encoded data removed]",
      "text/plain": [
       "<Figure size 432x288 with 1 Axes>"
      ]
     },
     "metadata": {
      "needs_background": "light"
     },
     "output_type": "display_data"
    }
   ],
   "source": [
    "af.time_signature.hist() #okay it's almost always in 4/4 time"
   ]
  },
  {
   "cell_type": "code",
   "execution_count": 34,
   "metadata": {},
   "outputs": [
    {
     "data": {
      "text/plain": [
       "count       296.000000\n",
       "mean     194899.834459\n",
       "std       42428.678257\n",
       "min       63060.000000\n",
       "25%      169176.000000\n",
       "50%      190505.000000\n",
       "75%      216093.000000\n",
       "max      383037.000000\n",
       "Name: duration_ms, dtype: float64"
      ]
     },
     "execution_count": 34,
     "metadata": {},
     "output_type": "execute_result"
    }
   ],
   "source": [
    "af.duration_ms.describe() #3.5 to 4 minutes is the sweet spot"
   ]
  },
  {
   "cell_type": "code",
   "execution_count": 35,
   "metadata": {
    "scrolled": true
   },
   "outputs": [
    {
     "data": {
      "text/plain": [
       "6.756756756756757"
      ]
     },
     "execution_count": 35,
     "metadata": {},
     "output_type": "execute_result"
    }
   ],
   "source": [
    "ac = af[af.acousticness >= 0.7].sort_values(by='acousticness')#tried various cut off points and 0.7 seems to be the most accurate\n",
    "len(ac)/len(af)*100 # only 2% are acoustic"
   ]
  },
  {
   "cell_type": "code",
   "execution_count": 36,
   "metadata": {},
   "outputs": [
    {
     "data": {
      "text/plain": [
       "0.33783783783783783"
      ]
     },
     "execution_count": 36,
     "metadata": {},
     "output_type": "execute_result"
    }
   ],
   "source": [
    "ins = af[af.instrumentalness > 0.5].sort_values(by='instrumentalness') #it seems anything above 0.5 is mostly instrumental\n",
    "len(ins)/len(af)*100 # only 0.4% are mostly instrumental"
   ]
  }
 ],
 "metadata": {
  "kernelspec": {
   "display_name": "Python 3",
   "language": "python",
   "name": "python3"
  },
  "language_info": {
   "codemirror_mode": {
    "name": "ipython",
    "version": 3
   },
   "file_extension": ".py",
   "mimetype": "text/x-python",
   "name": "python",
   "nbconvert_exporter": "python",
   "pygments_lexer": "ipython3",
   "version": "3.8.3"
  }
 },
 "nbformat": 4,
 "nbformat_minor": 4
}
