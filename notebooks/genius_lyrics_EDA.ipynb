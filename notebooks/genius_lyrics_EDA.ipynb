{
 "cells": [
  {
   "cell_type": "code",
   "execution_count": 23,
   "metadata": {},
   "outputs": [],
   "source": [
    "import billboard as bb\n",
    "import pandas as pd"
   ]
  },
  {
   "cell_type": "markdown",
   "metadata": {},
   "source": [
    "## Spotify secrets"
   ]
  },
  {
   "cell_type": "code",
   "execution_count": 24,
   "metadata": {},
   "outputs": [
    {
     "data": {
      "text/plain": [
       "True"
      ]
     },
     "execution_count": 24,
     "metadata": {},
     "output_type": "execute_result"
    }
   ],
   "source": [
    "from dotenv import load_dotenv\n",
    "import os\n",
    "load_dotenv()\n",
    "# did this work? commenting out so secrets are safe\n",
    "# print(os.getenv('SPOTIFY_CLIENT_ID'))\n",
    "# print(os.getenv('SPOTIFY_CLIENT_SECRET'))"
   ]
  },
  {
   "cell_type": "code",
   "execution_count": 25,
   "metadata": {},
   "outputs": [],
   "source": [
    "spotify_client_id  = os.getenv('SPOTIFY_CLIENT_ID')\n",
    "spotify_client_secret  = os.getenv('SPOTIFY_CLIENT_SECRET')\n",
    "genius_client_id = os.getenv('GENIUS_CLIENT_SECRET')\n",
    "genius_client_secret = os.getenv('GENIUS_CLIENT_SECRET')\n",
    "genius_access_token = os.getenv('GENIUS_ACCESS_TOKEN')"
   ]
  },
  {
   "cell_type": "markdown",
   "metadata": {},
   "source": [
    "# Billboard test dataset"
   ]
  },
  {
   "cell_type": "code",
   "execution_count": 26,
   "metadata": {},
   "outputs": [],
   "source": [
    "# bb.charts(year_end=True)"
   ]
  },
  {
   "cell_type": "code",
   "execution_count": 27,
   "metadata": {},
   "outputs": [],
   "source": [
    "track = []\n",
    "artist = []\n",
    "chart_type = 'hot-100-songs' # year end charts\n",
    "year = 2006 #year end charts started in 2006\n",
    "\n",
    "chart = bb.ChartData(chart_type,year=year)\n",
    "    \n",
    "\n",
    "for year in range(year,2020):    \n",
    "    for i in range(len(chart)):\n",
    "        t = chart[i].title\n",
    "        a = chart[i].artist\n",
    "        track.append(t)\n",
    "        artist.append(a)\n",
    "    \n",
    "    chart = bb.ChartData(chart_type, year=chart.nextYear) #errors out because it keeps iterating until it gets to a year there isn't a chart for\n",
    "\n",
    "        \n",
    "    \n",
    "#i don't want this to error out for the i in range(0,99) bit\n",
    "#i don't want it to error out when it hits a year there's no chart for    "
   ]
  },
  {
   "cell_type": "markdown",
   "metadata": {},
   "source": [
    "## lyricsgenius search_song method\n",
    "https://pypi.org/project/lyricsgenius/"
   ]
  },
  {
   "cell_type": "code",
   "execution_count": 28,
   "metadata": {},
   "outputs": [],
   "source": [
    "import lyricsgenius\n",
    "genius = lyricsgenius.Genius(genius_access_token, skip_non_songs=True, remove_section_headers=True)\n",
    "genius.verbose = False"
   ]
  },
  {
   "cell_type": "code",
   "execution_count": 29,
   "metadata": {},
   "outputs": [],
   "source": [
    "#Genius search doesn't utilize an artist featuring another artist, so I want to drop everything after 'Featuring'\n",
    "sep = 'Featuring'\n",
    "artist = [x.split(sep,1)[0] for x in artist]\n",
    "#spotify also don't like artists like H.E.R. but prefers 'her'\n",
    "artist = [x.replace('.','') for x in artist]"
   ]
  },
  {
   "cell_type": "code",
   "execution_count": 30,
   "metadata": {},
   "outputs": [],
   "source": [
    "d = {'song':song,'artist':artist}"
   ]
  },
  {
   "cell_type": "code",
   "execution_count": 31,
   "metadata": {
    "scrolled": true
   },
   "outputs": [],
   "source": [
    "search = []\n",
    "\n",
    "for i in range(len(track)):\n",
    "    hit = track[i]+ ' ' + artist[i]\n",
    "    search.append(hit)"
   ]
  },
  {
   "cell_type": "code",
   "execution_count": 32,
   "metadata": {},
   "outputs": [
    {
     "data": {
      "text/plain": [
       "\"You're Beautiful James Blunt\""
      ]
     },
     "execution_count": 32,
     "metadata": {},
     "output_type": "execute_result"
    }
   ],
   "source": [
    "search[3]"
   ]
  },
  {
   "cell_type": "code",
   "execution_count": 17,
   "metadata": {},
   "outputs": [
    {
     "data": {
      "text/plain": [
       "Song(id, artist, ...)"
      ]
     },
     "execution_count": 17,
     "metadata": {},
     "output_type": "execute_result"
    }
   ],
   "source": [
    "genius.search_song(search[0])"
   ]
  },
  {
   "cell_type": "code",
   "execution_count": 33,
   "metadata": {
    "scrolled": true
   },
   "outputs": [],
   "source": [
    "genius_lyrics = []\n",
    "errored_songs = []\n",
    "\n",
    "for i in range(len(search)):\n",
    "    try:\n",
    "        test_song = genius.search_song(search[i])\n",
    "        words = test_song.lyrics\n",
    "    except: \n",
    "        errored_songs.append(search[i])\n",
    "    else:\n",
    "        genius_lyrics.append(words)\n",
    "\n"
   ]
  },
  {
   "cell_type": "code",
   "execution_count": 34,
   "metadata": {},
   "outputs": [
    {
     "data": {
      "text/plain": [
       "[\"Where is the moment we needed the most?\\nYou kick up the leaves and the magic is lost\\nThey tell me your blue skies fade to gray\\nThey tell me your passion's gone away\\nAnd I don't need no carryin' on\\n\\nYou stand in the line just to hit a new low\\nYou're faking a smile with the coffee to go\\nYou tell me your life's been way off line\\nYou're falling to pieces every time\\nAnd I don't need no carryin' on\\n\\nBecause you had a bad day\\nYou're taking one down\\nYou sing a sad song just to turn it around\\nYou say you don't know\\nYou tell me, don't lie\\nYou work at a smile and you go for a ride\\nYou had a bad day\\nThe camera don't lie\\nYou're coming back down and you really don't mind\\nYou had a bad day\\nYou had a bad day\\nWill you need a blue sky holiday?\\nThe point is they laugh at what you say\\nAnd I don't need no carryin' on\\n\\nYou had a bad day\\nYou're taking one down\\nYou sing a sad song just to turn it around\\nYou say you don't know\\nYou tell me, don't lie\\nYou work at a smile and you go for a ride\\nYou had a bad day\\nThe camera don't lie\\nYou're coming back down and you really don't mind\\nYou had a bad day\\n(Ooh, a holiday)\\n\\nSometimes the system goes on the blink\\nAnd the whole thing turns out wrong\\nYou might not make it back and you know\\nThat you could be well, oh, that strong\\nAnd I'm not wrong\\n(Yeah, yeah, yeah)\\nSo where is the passion when you need it the most?\\nOh, you and I\\nYou kick up the leaves and the magic is lost\\n\\n'Cause you had a bad day\\nYou're taking one down\\nYou sing a sad song just to turn it around\\nYou say you don't know\\nYou tell me don't lie\\nYou work at a smile and you go for a ride\\nYou had a bad day\\nYou've seen what you're like\\nAnd how does it feel?\\nOne more time\\nYou had a bad day\\nYou had a bad day\\n\\nAh, yeah, yeah, yeah\\nHad a bad day (Ah)\\nHad a bad day (ah, yeah, yeah, yeah)\\nHad a bad day (Ah)\",\n",
       " \"The gyal dem Schillaci, Sean da Paul\\nSo me give it to, so me give to, so me give it to, to all girls\\nFive million and forty naughty shorty\\nBaby girl, all my girls, all my girls, Sean da Paul say\\n\\nWell, woman the way the time cold, I wanna be keepin' you warm\\nI got the right temperature fi shelter you from the storm\\nOh Lord, gyal, I got the right tactics to turn you on\\nAnd girl, I wanna be the Papa, you can be the Mom, oh, oh!\\n\\nMake I see di gyal dem breakout 'pon di floor\\nFrom you don't want no worthless performer\\nFrom you don't want no man weh can't turn you on\\nGyal, make I see your hand dem up on ya\\nCan't tan 'pon it long, nah eat no yam\\nNo steam fish, nor no green banana\\nBut down in Jamaica, we give it to you hot like a sauna\\n\\nWell, woman the way the time cold, I wanna be keepin' you warm\\nI got the right temperature fi shelter you from the storm\\nOh Lord, gyal, I got the right tactics to turn you on\\nAnd girl, I wanna be the Papa, you can be the Mom, oh, oh!\\nBumper exposed and gyal, ya got your chest out\\nBut you no wasters 'cause, gyal, ya impress out\\nAnd if ya diss out a me, ya fi test out\\n'Cause I got the remedy fi make ya de-stress out\\nMe haffi flaunt it, become a God bless out\\nAnd girl, if you want it, you haffi confess out\\nI no lie, weh we need, set speed, haffi test the mattress out\\n\\nWell, woman the way the time cold, I wanna be keepin' you warm\\nI got the right temperature fi shelter you from the storm\\nOh Lord, gyal, I got the right tactics to turn you on\\nAnd girl, I wanna be the Papa, you can be the Mom, oh, oh\\n\\nGyal, don't say me crazy now\\nThis strange love it a no Brigitte and Flavor show\\nTime fi we make baby now\\nSo stop, gwaan like you a actin' shady, yo\\nWoman, don't play me now\\n'Cause I no Fred Sanford, not Grady, yo\\nMy lovin' is the way to go, my lovin' is the way to go\\n\\nWell, woman the way the time cold, I wanna be keepin' you warm\\nI got the right temperature fi shelter you from the storm\\nOh Lord, gyal, I got the right tactics to turn you on\\nAnd girl, I wanna be the Papa, you can be the Mom, oh, oh!\\nWhen you roll with a player like me\\nWith a bredda like me, gyal, there is no other\\nNo need to talk it right here\\nJust park it right here, keep it undercover\\nFrom me love how you fit inna your blouse\\nAnd you fat inna your jeans and mi wann' discover\\nEverything 'bout you, baby girl, can't you hear when me utter?\\n\\nWell, woman the way the time cold, I wanna be keepin' you warm\\nI got the right temperature fi shelter you from the storm\\nOh Lord, gyal, I got the right tactics to turn you on\\nAnd girl, I wanna be the Papa, you can be the Mom, oh, oh!\\n\\nCallin' all wild out squadron, come report to duty\\nSexy ladies with the beauty come shake dat booty! JA girls\\nBreakout, breakout, bruk wine\\nBreakout, breakout (Miami ladies)\\nBreakout, breakout, bruk wine\\nBreakout, breakout (NYC girls)\\nBreakout, breakout, bruk wine\\nBreakout, breakout (L.A. ladies)\\nBreakout, breakout, breakout\\nBreakout, breakout, bruk wine (Yo, yo)\\nPass mi di nitro, mek mi get hype, yo\\nGyal, de ya nuff, gimme one fi di night, yo\\nDJ, keep the mix dem tight, yo\\nHennessy and Red Bull mek mi get psycho\\nDirty dancin' cah we no polite, yo\\nFeel it a bounce on mi left and mi right, yo\\nMek di girls get high like a kite, yo\\nOne thing mi waan you do right now\\nGyal move, what you waitin' for?\\nWaan fi see ten ton of phat gyal 'pon the dancefloor\\nDo your thing cah yuh know you're secure\\nGyal just bruk out cah you hard to the core\\nYo, move, what you waitin' for?\\nWaan fi see ten ton of phat gyal 'pon the dancefloor\\nDo your thing cah yuh know you're secure\\nGyal just bruk out cah you hard to the core, yo!\\nBreakout, breakout\",\n",
       " \"Am I throwin' you off?\\nNope\\nDidn't think so\\n\\nHow you doin', young lady?\\nThat feeling that you giving really drives me crazy\\nYou don't, have a player 'bout to choke\\nI was at a loss for words first time that we spoke\\nYou lookin' for a girl that'll treat you right?\\nHow you lookin' for her in the daytime with the light?\\nYou might be the type if I play my cards right\\nI'll find out by the end of the night\\nYou expect me to just let you hit it?\\nBut will you still respect me if you get it?\\nAll I can do is try, gimme one chance (Chance)\\nWhat's the problem? I don't see no ring on your hand (Hand)\\nI'll be the first to admit it\\nI'm curious about you, you seem so innocent\\nYou wanna get in my world, get lost in it?\\nBoy, I'm tired of runnin', let's walk for a minute\\n\\nPromiscuous girl, wherever you are\\nI'm all alone, and it's you that I want\\nPromiscuous boy, you already know\\nThat I'm all yours, what you waiting for?\\nPromiscuous girl, you're teasin' me\\nYou know what I want, and I got what you need\\nPromiscuous boy, let's get to the point\\n'Cause we're on a roll, you ready?\\nRoses are red, some diamonds are blue\\nChivalry is dead, but you're still kinda cute\\nHey, I can't keep my mind off you\\nWhere you at? Do you mind if I come through?\\nI'm out of this world, come with me to my planet\\nGet you on my level, do you think that you can handle it?\\nThey call me Thomas, last name Crown\\nRecognize game, I'ma lay mine's down\\nI'm a big girl, I can handle myself\\nBut if I get lonely, I'ma need your help\\nPay attention to me, I don't talk for my health\\nI want you on my team\\nSo does everybody else\\nShh, baby, we can keep it on the low (Low)\\nLet your guard down, ain't nobody gotta know (Know)\\nIf you with it, girl, I know a place we can go\\nWhat kind of girl do you take me for?\\n\\nPromiscuous girl, wherever you are\\nI'm all alone, and it's you that I want\\nPromiscuous boy, you already know\\nThat I'm all yours, what you waiting for?\\nPromiscuous girl, you're teasin' me\\nYou know what I want, and I got what you need\\nPromiscuous boy, let's get to the point\\n'Cause we're on a roll, you ready?\\nDon't be mad, don't get mean\\nDon't get mad, don't be mean\\nHey, don't be mad, don't get mean\\nDon't get mad, don't be mean\\n\\nWait, I don't mean no harm\\nI can see you with my t-shirt on\\nI can see you with nothin' on\\nFeelin' on me before you bring that on\\nBring that on?!\\nYou know what I mean\\nGirl, I'm a freak, you shouldn't say those things\\nI'm only trying to get inside of your brain\\nTo see if you can work me the way you say\\nIt's okay, it's alright\\nI got something that you gon' like\\nHey, is that the truth or are you talking trash?\\nIs your game M.V.P like Steve Nash?\\n\\nPromiscuous girl, wherever you are\\nI'm all alone, and it's you that I want\\nPromiscuous boy, I'm callin' ya name\\nBut you're drivin' me crazy the way you're makin' me wait\\nPromiscuous girl, you're teasin' me\\nYou know what I want, and I got what you need\\nPromiscuous boy, we're one in the same\\nSo we don't gotta play games no more\",\n",
       " \"My life is brilliant\\nMy life is brilliant, my love is pure\\nI saw an angel, of that I'm sure\\nShe smiled at me on the subway\\nShe was with another man\\nBut I won't lose no sleep on that\\n'Cause I've got a plan\\nYou're beautiful, you're beautiful\\nYou're beautiful, it's true\\nI saw your face, in a crowded place\\nAnd I don't know what to do\\n'Cause I'll never be with you\\n\\nYeah, she caught my eye, as I walked on by\\nShe could see from my face that I was, fucking high\\nAnd I don't think that I'll see her again\\nBut we shared a moment that will last 'til the end\\n\\nYou're beautiful, you're beautiful\\nYou're beautiful, it's true\\nI saw your face, in a crowded place\\nAnd I don't know what to do\\n'Cause I'll never be with you\\nNa na na na\\nNa na na na\\nNa na na na, na\\n\\nYou're beautiful, you're beautiful\\nYou're beautiful, it's true\\nThere must be an angel, with a smile on her face\\nWhen she thought up that I should be with you\\nBut it's time to face the truth\\nI will never be with you\"]"
      ]
     },
     "execution_count": 34,
     "metadata": {},
     "output_type": "execute_result"
    }
   ],
   "source": [
    "genius_lyrics[0:4]"
   ]
  },
  {
   "cell_type": "code",
   "execution_count": 88,
   "metadata": {
    "scrolled": false
   },
   "outputs": [],
   "source": [
    "genius_lyrics = pd.Series((genius_lyrics[x] for x in range(0,497)))"
   ]
  },
  {
   "cell_type": "code",
   "execution_count": 89,
   "metadata": {},
   "outputs": [],
   "source": [
    "track_artist = [search[x] for x in range(0,499) if search[x] not in errored_songs]"
   ]
  },
  {
   "cell_type": "code",
   "execution_count": null,
   "metadata": {},
   "outputs": [],
   "source": []
  },
  {
   "cell_type": "code",
   "execution_count": null,
   "metadata": {},
   "outputs": [],
   "source": []
  },
  {
   "cell_type": "code",
   "execution_count": null,
   "metadata": {},
   "outputs": [],
   "source": []
  },
  {
   "cell_type": "code",
   "execution_count": null,
   "metadata": {},
   "outputs": [],
   "source": []
  },
  {
   "cell_type": "code",
   "execution_count": 33,
   "metadata": {
    "scrolled": true
   },
   "outputs": [],
   "source": [
    "genius_lyrics.to_csv('../genius_lyrics.csv') #commenting out so i don't accidentally rerun"
   ]
  }
 ],
 "metadata": {
  "kernelspec": {
   "display_name": "Python 3",
   "language": "python",
   "name": "python3"
  },
  "language_info": {
   "codemirror_mode": {
    "name": "ipython",
    "version": 3
   },
   "file_extension": ".py",
   "mimetype": "text/x-python",
   "name": "python",
   "nbconvert_exporter": "python",
   "pygments_lexer": "ipython3",
   "version": "3.8.3"
  }
 },
 "nbformat": 4,
 "nbformat_minor": 4
}
