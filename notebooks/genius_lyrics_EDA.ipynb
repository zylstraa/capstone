{
 "cells": [
  {
   "cell_type": "code",
   "execution_count": 12,
   "metadata": {},
   "outputs": [],
   "source": [
    "import billboard as bb\n",
    "import pandas as pd"
   ]
  },
  {
   "cell_type": "markdown",
   "metadata": {},
   "source": [
    "## Spotify secrets"
   ]
  },
  {
   "cell_type": "code",
   "execution_count": 13,
   "metadata": {},
   "outputs": [
    {
     "data": {
      "text/plain": [
       "True"
      ]
     },
     "execution_count": 13,
     "metadata": {},
     "output_type": "execute_result"
    }
   ],
   "source": [
    "from dotenv import load_dotenv\n",
    "import os\n",
    "load_dotenv()\n",
    "# did this work? commenting out so secrets are safe\n",
    "# print(os.getenv('SPOTIFY_CLIENT_ID'))\n",
    "# print(os.getenv('SPOTIFY_CLIENT_SECRET'))"
   ]
  },
  {
   "cell_type": "code",
   "execution_count": 14,
   "metadata": {},
   "outputs": [],
   "source": [
    "spotify_client_id  = os.getenv('SPOTIFY_CLIENT_ID')\n",
    "spotify_client_secret  = os.getenv('SPOTIFY_CLIENT_SECRET')\n",
    "genius_client_id = os.getenv('GENIUS_CLIENT_SECRET')\n",
    "genius_client_secret = os.getenv('GENIUS_CLIENT_SECRET')\n",
    "genius_access_token = os.getenv('GENIUS_ACCESS_TOKEN')"
   ]
  },
  {
   "cell_type": "markdown",
   "metadata": {},
   "source": [
    "# Billboard test dataset"
   ]
  },
  {
   "cell_type": "code",
   "execution_count": 15,
   "metadata": {},
   "outputs": [],
   "source": [
    "# bb.charts(year_end=True)"
   ]
  },
  {
   "cell_type": "code",
   "execution_count": 16,
   "metadata": {},
   "outputs": [
    {
     "data": {
      "text/plain": [
       "billboard.ChartData('hot-100-songs', year='2020')"
      ]
     },
     "execution_count": 16,
     "metadata": {},
     "output_type": "execute_result"
    }
   ],
   "source": [
    "yearend2020 = bb.ChartData('hot-100-songs',year=2020)\n",
    "yearend2020"
   ]
  },
  {
   "cell_type": "code",
   "execution_count": 17,
   "metadata": {
    "scrolled": true
   },
   "outputs": [],
   "source": [
    "# print(yearend2020)"
   ]
  },
  {
   "cell_type": "markdown",
   "metadata": {},
   "source": [
    "Billboard 2020 Year End Hot 100 playlist:\n",
    "https://open.spotify.com/playlist/1WBljFutuk7uLQtfqfmjWV?si=421973dd4721421f"
   ]
  },
  {
   "cell_type": "markdown",
   "metadata": {},
   "source": [
    "### From Spotipy documentation:"
   ]
  },
  {
   "cell_type": "code",
   "execution_count": 18,
   "metadata": {},
   "outputs": [],
   "source": [
    "import spotipy\n",
    "from spotipy.oauth2 import SpotifyClientCredentials\n",
    "\n",
    "auth_manager = SpotifyClientCredentials(spotify_client_id,spotify_client_secret)\n",
    "spotify = spotipy.Spotify(auth_manager = auth_manager)"
   ]
  },
  {
   "cell_type": "code",
   "execution_count": 19,
   "metadata": {},
   "outputs": [],
   "source": [
    "# Example to check if it's working\n",
    "# birdy_uri = 'spotify:artist:2WX2uTcsvV5OnS0inACecP'\n",
    "\n",
    "# results = spotify.artist_albums(birdy_uri, album_type='album')\n",
    "# albums = results['items']\n",
    "# while results['next']:\n",
    "#     results = spotify.next(results)\n",
    "#     albums.extend(results['items'])\n",
    "\n",
    "# for album in albums:\n",
    "#     print(album['name'])"
   ]
  },
  {
   "cell_type": "code",
   "execution_count": 54,
   "metadata": {},
   "outputs": [],
   "source": [
    "hot100_2020_url =  'https://open.spotify.com/playlist/1WBljFutuk7uLQtfqfmjWV?si=421973dd4721421f'\n",
    "tracks = spotify.playlist_tracks(hot100_2020_url,limit=100) "
   ]
  },
  {
   "cell_type": "markdown",
   "metadata": {},
   "source": [
    "## lyricsgenius search_song method\n",
    "https://pypi.org/project/lyricsgenius/"
   ]
  },
  {
   "cell_type": "code",
   "execution_count": 55,
   "metadata": {},
   "outputs": [],
   "source": [
    "import lyricsgenius\n",
    "genius = lyricsgenius.Genius(genius_access_token)"
   ]
  },
  {
   "cell_type": "code",
   "execution_count": 56,
   "metadata": {},
   "outputs": [
    {
     "data": {
      "text/plain": [
       "billboard.ChartData"
      ]
     },
     "execution_count": 56,
     "metadata": {},
     "output_type": "execute_result"
    }
   ],
   "source": [
    "# print(yearend2020)\n",
    "type(yearend2020)"
   ]
  },
  {
   "cell_type": "code",
   "execution_count": 57,
   "metadata": {},
   "outputs": [
    {
     "data": {
      "text/plain": [
       "'Blinding Lights'"
      ]
     },
     "execution_count": 57,
     "metadata": {},
     "output_type": "execute_result"
    }
   ],
   "source": [
    "yearend2020[0].title"
   ]
  },
  {
   "cell_type": "code",
   "execution_count": 58,
   "metadata": {},
   "outputs": [
    {
     "data": {
      "text/plain": [
       "'The Weeknd'"
      ]
     },
     "execution_count": 58,
     "metadata": {},
     "output_type": "execute_result"
    }
   ],
   "source": [
    "yearend2020[0].artist"
   ]
  },
  {
   "cell_type": "code",
   "execution_count": 62,
   "metadata": {},
   "outputs": [],
   "source": [
    "song = []\n",
    "\n",
    "for i in range(0,100):\n",
    "    title = yearend2020[i].title\n",
    "    song.append(title)\n",
    "\n",
    "artist = []\n",
    "\n",
    "for i in range(0,100):\n",
    "    name = yearend2020[i].artist\n",
    "    artist.append(name)"
   ]
  },
  {
   "cell_type": "code",
   "execution_count": 63,
   "metadata": {},
   "outputs": [],
   "source": [
    "d = {'song':song,'artist':artist}"
   ]
  },
  {
   "cell_type": "code",
   "execution_count": 64,
   "metadata": {},
   "outputs": [
    {
     "data": {
      "text/html": [
       "<div>\n",
       "<style scoped>\n",
       "    .dataframe tbody tr th:only-of-type {\n",
       "        vertical-align: middle;\n",
       "    }\n",
       "\n",
       "    .dataframe tbody tr th {\n",
       "        vertical-align: top;\n",
       "    }\n",
       "\n",
       "    .dataframe thead th {\n",
       "        text-align: right;\n",
       "    }\n",
       "</style>\n",
       "<table border=\"1\" class=\"dataframe\">\n",
       "  <thead>\n",
       "    <tr style=\"text-align: right;\">\n",
       "      <th></th>\n",
       "      <th>song</th>\n",
       "      <th>artist</th>\n",
       "    </tr>\n",
       "  </thead>\n",
       "  <tbody>\n",
       "    <tr>\n",
       "      <th>0</th>\n",
       "      <td>Blinding Lights</td>\n",
       "      <td>The Weeknd</td>\n",
       "    </tr>\n",
       "    <tr>\n",
       "      <th>1</th>\n",
       "      <td>Circles</td>\n",
       "      <td>Post Malone</td>\n",
       "    </tr>\n",
       "    <tr>\n",
       "      <th>2</th>\n",
       "      <td>The Box</td>\n",
       "      <td>Roddy Ricch</td>\n",
       "    </tr>\n",
       "    <tr>\n",
       "      <th>3</th>\n",
       "      <td>Don't Start Now</td>\n",
       "      <td>Dua Lipa</td>\n",
       "    </tr>\n",
       "    <tr>\n",
       "      <th>4</th>\n",
       "      <td>Rockstar</td>\n",
       "      <td>DaBaby Featuring Roddy Ricch</td>\n",
       "    </tr>\n",
       "    <tr>\n",
       "      <th>...</th>\n",
       "      <td>...</td>\n",
       "      <td>...</td>\n",
       "    </tr>\n",
       "    <tr>\n",
       "      <th>95</th>\n",
       "      <td>More Than My Hometown</td>\n",
       "      <td>Morgan Wallen</td>\n",
       "    </tr>\n",
       "    <tr>\n",
       "      <th>96</th>\n",
       "      <td>Lovin' On You</td>\n",
       "      <td>Luke Combs</td>\n",
       "    </tr>\n",
       "    <tr>\n",
       "      <th>97</th>\n",
       "      <td>Said Sum</td>\n",
       "      <td>Moneybagg Yo</td>\n",
       "    </tr>\n",
       "    <tr>\n",
       "      <th>98</th>\n",
       "      <td>Slide</td>\n",
       "      <td>H.E.R. Featuring YG</td>\n",
       "    </tr>\n",
       "    <tr>\n",
       "      <th>99</th>\n",
       "      <td>Walk Em Down</td>\n",
       "      <td>NLE Choppa Featuring Roddy Ricch</td>\n",
       "    </tr>\n",
       "  </tbody>\n",
       "</table>\n",
       "<p>100 rows × 2 columns</p>\n",
       "</div>"
      ],
      "text/plain": [
       "                     song                            artist\n",
       "0         Blinding Lights                        The Weeknd\n",
       "1                 Circles                       Post Malone\n",
       "2                 The Box                       Roddy Ricch\n",
       "3         Don't Start Now                          Dua Lipa\n",
       "4                Rockstar      DaBaby Featuring Roddy Ricch\n",
       "..                    ...                               ...\n",
       "95  More Than My Hometown                     Morgan Wallen\n",
       "96          Lovin' On You                        Luke Combs\n",
       "97               Said Sum                      Moneybagg Yo\n",
       "98                  Slide               H.E.R. Featuring YG\n",
       "99           Walk Em Down  NLE Choppa Featuring Roddy Ricch\n",
       "\n",
       "[100 rows x 2 columns]"
      ]
     },
     "execution_count": 64,
     "metadata": {},
     "output_type": "execute_result"
    }
   ],
   "source": [
    "top_100_2020 = pd.DataFrame(d)\n",
    "top_100_2020"
   ]
  },
  {
   "cell_type": "code",
   "execution_count": 32,
   "metadata": {},
   "outputs": [],
   "source": [
    "number1 = top_100_2020.song[0]+ ' ' + top_100_2020.artist[0]"
   ]
  },
  {
   "cell_type": "code",
   "execution_count": 33,
   "metadata": {},
   "outputs": [
    {
     "name": "stdout",
     "output_type": "stream",
     "text": [
      "Searching for \"Blinding Lights The Weeknd\"...\n",
      "Done.\n"
     ]
    }
   ],
   "source": [
    "songs = genius.search_song(number1)"
   ]
  },
  {
   "cell_type": "code",
   "execution_count": 34,
   "metadata": {
    "scrolled": false
   },
   "outputs": [],
   "source": [
    "# songs.lyrics"
   ]
  },
  {
   "cell_type": "code",
   "execution_count": 35,
   "metadata": {},
   "outputs": [],
   "source": [
    "search = []\n",
    "\n",
    "for i in range(0,100):\n",
    "    hit = top_100_2020.song[i]+ ' ' + top_100_2020.artist[i]\n",
    "    search.append(hit)"
   ]
  },
  {
   "cell_type": "code",
   "execution_count": 39,
   "metadata": {},
   "outputs": [],
   "source": [
    "genius_lyrics = []\n",
    "\n",
    "for i in range(0,100):\n",
    "    song = genius.search_song(search[i])\n",
    "    words = song.lyrics\n",
    "    genius_lyrics.append(words)\n",
    "# this doesn't work for songs that the search_song isn't able to find and causes it to halt/error \n",
    "\n",
    "top_100_2020['lyrics'] = genius_lyrics"
   ]
  },
  {
   "cell_type": "code",
   "execution_count": 41,
   "metadata": {
    "collapsed": true
   },
   "outputs": [
    {
     "data": {
      "text/plain": [
       "{'hits': [{'highlights': [],\n",
       "   'index': 'song',\n",
       "   'type': 'song',\n",
       "   'result': {'annotation_count': 10,\n",
       "    'api_path': '/songs/4895345',\n",
       "    'full_title': 'BOP by\\xa0DaBaby',\n",
       "    'header_image_thumbnail_url': 'https://images.genius.com/52ae7b5d4394fde6fd91b62d51bf2b4a.300x300x1.png',\n",
       "    'header_image_url': 'https://images.genius.com/52ae7b5d4394fde6fd91b62d51bf2b4a.1000x1000x1.png',\n",
       "    'id': 4895345,\n",
       "    'lyrics_owner_id': 54639,\n",
       "    'lyrics_state': 'complete',\n",
       "    'path': '/Dababy-bop-lyrics',\n",
       "    'pyongs_count': 45,\n",
       "    'song_art_image_thumbnail_url': 'https://images.genius.com/52ae7b5d4394fde6fd91b62d51bf2b4a.300x300x1.png',\n",
       "    'song_art_image_url': 'https://images.genius.com/52ae7b5d4394fde6fd91b62d51bf2b4a.1000x1000x1.png',\n",
       "    'stats': {'unreviewed_annotations': 3, 'hot': False, 'pageviews': 547540},\n",
       "    'title': 'BOP',\n",
       "    'title_with_featured': 'BOP',\n",
       "    'url': 'https://genius.com/Dababy-bop-lyrics',\n",
       "    'song_art_primary_color': '#cb8550',\n",
       "    'song_art_secondary_color': '#653214',\n",
       "    'song_art_text_color': '#fff',\n",
       "    'primary_artist': {'api_path': '/artists/1162342',\n",
       "     'header_image_url': 'https://images.genius.com/c9e02a3b6b862685f24ffc1e8d919997.960x640x1.jpg',\n",
       "     'id': 1162342,\n",
       "     'image_url': 'https://images.genius.com/c8f10e784589ba9ae89779e5374138b1.640x640x1.jpg',\n",
       "     'is_meme_verified': False,\n",
       "     'is_verified': True,\n",
       "     'name': 'DaBaby',\n",
       "     'url': 'https://genius.com/artists/Dababy',\n",
       "     'iq': 1161}}},\n",
       "  {'highlights': [],\n",
       "   'index': 'song',\n",
       "   'type': 'song',\n",
       "   'result': {'annotation_count': 0,\n",
       "    'api_path': '/songs/5509741',\n",
       "    'full_title': 'Bop (DaBaby) by\\xa0Tre\\xa0Pierre',\n",
       "    'header_image_thumbnail_url': 'https://images.genius.com/c7342e0ca725d65bd4ce3262e3e1f332.300x300x1.jpg',\n",
       "    'header_image_url': 'https://images.genius.com/c7342e0ca725d65bd4ce3262e3e1f332.500x500x1.jpg',\n",
       "    'id': 5509741,\n",
       "    'lyrics_owner_id': 3082806,\n",
       "    'lyrics_state': 'unreleased',\n",
       "    'path': '/Tre-pierre-bop-dababy-lyrics',\n",
       "    'pyongs_count': None,\n",
       "    'song_art_image_thumbnail_url': 'https://images.genius.com/c7342e0ca725d65bd4ce3262e3e1f332.300x300x1.jpg',\n",
       "    'song_art_image_url': 'https://images.genius.com/c7342e0ca725d65bd4ce3262e3e1f332.500x500x1.jpg',\n",
       "    'stats': {'unreviewed_annotations': 0, 'hot': False},\n",
       "    'title': 'Bop (DaBaby)',\n",
       "    'title_with_featured': 'Bop (DaBaby)',\n",
       "    'url': 'https://genius.com/Tre-pierre-bop-dababy-lyrics',\n",
       "    'song_art_primary_color': '#be7c40',\n",
       "    'song_art_secondary_color': '#64432f',\n",
       "    'song_art_text_color': '#fff',\n",
       "    'primary_artist': {'api_path': '/artists/976740',\n",
       "     'header_image_url': 'https://images.genius.com/f9782bc85cc9bdbde3830a84c88dab09.736x736x1.jpg',\n",
       "     'id': 976740,\n",
       "     'image_url': 'https://images.genius.com/f9782bc85cc9bdbde3830a84c88dab09.736x736x1.jpg',\n",
       "     'is_meme_verified': False,\n",
       "     'is_verified': False,\n",
       "     'name': 'Tre Pierre',\n",
       "     'url': 'https://genius.com/artists/Tre-pierre'}}},\n",
       "  {'highlights': [],\n",
       "   'index': 'song',\n",
       "   'type': 'song',\n",
       "   'result': {'annotation_count': 177,\n",
       "    'api_path': '/songs/4604424',\n",
       "    'full_title': 'My Trash Favorite Songs of 2019 by\\xa0Oscar\\xa0-_.^0^._-',\n",
       "    'header_image_thumbnail_url': 'https://images.genius.com/b20575da7d0181e723558d4591982610.300x300x1.jpg',\n",
       "    'header_image_url': 'https://images.genius.com/b20575da7d0181e723558d4591982610.600x600x1.jpg',\n",
       "    'id': 4604424,\n",
       "    'lyrics_owner_id': 7611661,\n",
       "    'lyrics_state': 'complete',\n",
       "    'path': '/Oscar-0-my-trash-favorite-songs-of-2019-annotated',\n",
       "    'pyongs_count': 3,\n",
       "    'song_art_image_thumbnail_url': 'https://images.genius.com/b20575da7d0181e723558d4591982610.300x300x1.jpg',\n",
       "    'song_art_image_url': 'https://images.genius.com/b20575da7d0181e723558d4591982610.600x600x1.jpg',\n",
       "    'stats': {'unreviewed_annotations': 2, 'hot': False, 'pageviews': 7394},\n",
       "    'title': 'My Trash Favorite Songs of 2019',\n",
       "    'title_with_featured': 'My Trash Favorite Songs of 2019',\n",
       "    'url': 'https://genius.com/Oscar-0-my-trash-favorite-songs-of-2019-annotated',\n",
       "    'song_art_primary_color': '#7f7f7f',\n",
       "    'song_art_secondary_color': '#424242',\n",
       "    'song_art_text_color': '#fff',\n",
       "    'primary_artist': {'api_path': '/artists/1844565',\n",
       "     'header_image_url': 'https://images.genius.com/fb956621e65705d8d1463cc5764a2ca9.480x360x1.jpg',\n",
       "     'id': 1844565,\n",
       "     'image_url': 'https://images.genius.com/903813488ab44bfe5234dc99ccf5a4d5.240x240x1.jpg',\n",
       "     'is_meme_verified': False,\n",
       "     'is_verified': False,\n",
       "     'name': 'Oscar -_.^0^._-',\n",
       "     'url': 'https://genius.com/artists/Oscar-0',\n",
       "     'iq': 21860}}},\n",
       "  {'highlights': [],\n",
       "   'index': 'song',\n",
       "   'type': 'song',\n",
       "   'result': {'annotation_count': 21,\n",
       "    'api_path': '/songs/4978506',\n",
       "    'full_title': '2019 Was Pretty Cool, I Guess by\\xa0\\u200b\\u200bspigga',\n",
       "    'header_image_thumbnail_url': 'https://images.genius.com/e42a373009a3ec2456a69eb5899cd9e7.300x200x1.jpg',\n",
       "    'header_image_url': 'https://images.genius.com/e42a373009a3ec2456a69eb5899cd9e7.1000x667x1.jpg',\n",
       "    'id': 4978506,\n",
       "    'lyrics_owner_id': 7251845,\n",
       "    'lyrics_state': 'complete',\n",
       "    'path': '/Spigga-2019-was-pretty-cool-i-guess-annotated',\n",
       "    'pyongs_count': 5,\n",
       "    'song_art_image_thumbnail_url': 'https://images.genius.com/e42a373009a3ec2456a69eb5899cd9e7.300x200x1.jpg',\n",
       "    'song_art_image_url': 'https://images.genius.com/e42a373009a3ec2456a69eb5899cd9e7.1000x667x1.jpg',\n",
       "    'stats': {'unreviewed_annotations': 0, 'hot': False},\n",
       "    'title': '2019 Was Pretty Cool, I Guess',\n",
       "    'title_with_featured': '2019 Was Pretty Cool, I Guess',\n",
       "    'url': 'https://genius.com/Spigga-2019-was-pretty-cool-i-guess-annotated',\n",
       "    'song_art_primary_color': '#d4a048',\n",
       "    'song_art_secondary_color': '#fce7de',\n",
       "    'song_art_text_color': '#000',\n",
       "    'primary_artist': {'api_path': '/artists/1846251',\n",
       "     'header_image_url': 'https://images.genius.com/cf0324a918faa952740e2896180b8499.640x360x79.gif',\n",
       "     'id': 1846251,\n",
       "     'image_url': 'https://images.genius.com/60ff90dc6dbf78ce6369cb3f1a7a705b.480x270x30.gif',\n",
       "     'is_meme_verified': False,\n",
       "     'is_verified': False,\n",
       "     'name': '\\u200b\\u200bspigga',\n",
       "     'url': 'https://genius.com/artists/Spigga',\n",
       "     'iq': 26280}}},\n",
       "  {'highlights': [],\n",
       "   'index': 'song',\n",
       "   'type': 'song',\n",
       "   'result': {'annotation_count': 103,\n",
       "    'api_path': '/songs/4918757',\n",
       "    'full_title': \"Lilflexy's Favorite Rap Songs of 2019 by\\xa0Genius\\xa0Users\",\n",
       "    'header_image_thumbnail_url': 'https://images.genius.com/572b51ce3c79ecabece7c4a976ba915f.300x300x1.png',\n",
       "    'header_image_url': 'https://images.genius.com/572b51ce3c79ecabece7c4a976ba915f.1000x1000x1.png',\n",
       "    'id': 4918757,\n",
       "    'lyrics_owner_id': 8299558,\n",
       "    'lyrics_state': 'complete',\n",
       "    'path': '/Genius-users-lilflexys-favorite-rap-songs-of-2019-lyrics',\n",
       "    'pyongs_count': None,\n",
       "    'song_art_image_thumbnail_url': 'https://images.genius.com/572b51ce3c79ecabece7c4a976ba915f.300x300x1.png',\n",
       "    'song_art_image_url': 'https://images.genius.com/572b51ce3c79ecabece7c4a976ba915f.1000x1000x1.png',\n",
       "    'stats': {'unreviewed_annotations': 0, 'hot': False},\n",
       "    'title': 'Lilflexy’s Favorite Rap Songs of 2019',\n",
       "    'title_with_featured': \"Lilflexy's Favorite Rap Songs of 2019\",\n",
       "    'url': 'https://genius.com/Genius-users-lilflexys-favorite-rap-songs-of-2019-lyrics',\n",
       "    'song_art_primary_color': '#fcfc63',\n",
       "    'song_art_secondary_color': '#fcfc6c',\n",
       "    'song_art_text_color': '#000',\n",
       "    'primary_artist': {'api_path': '/artists/226635',\n",
       "     'header_image_url': 'https://images.genius.com/24d1831aec98c8a94b5006f4714dab59.1000x439x1.jpg',\n",
       "     'id': 226635,\n",
       "     'image_url': 'https://images.genius.com/572b51ce3c79ecabece7c4a976ba915f.1000x1000x1.png',\n",
       "     'is_meme_verified': False,\n",
       "     'is_verified': False,\n",
       "     'name': 'Genius Users',\n",
       "     'url': 'https://genius.com/artists/Genius-users'}}},\n",
       "  {'highlights': [],\n",
       "   'index': 'song',\n",
       "   'type': 'song',\n",
       "   'result': {'annotation_count': 44,\n",
       "    'api_path': '/songs/4930354',\n",
       "    'full_title': 'RapCaviar 10/6/2019 by\\xa0Spotify',\n",
       "    'header_image_thumbnail_url': 'https://images.genius.com/17a7421fefb9f4c9433d7a7f62ea995c.300x300x1.png',\n",
       "    'header_image_url': 'https://images.genius.com/17a7421fefb9f4c9433d7a7f62ea995c.554x554x1.png',\n",
       "    'id': 4930354,\n",
       "    'lyrics_owner_id': 9149913,\n",
       "    'lyrics_state': 'complete',\n",
       "    'path': '/Spotify-rapcaviar-10-6-2019-lyrics',\n",
       "    'pyongs_count': None,\n",
       "    'song_art_image_thumbnail_url': 'https://images.genius.com/17a7421fefb9f4c9433d7a7f62ea995c.300x300x1.png',\n",
       "    'song_art_image_url': 'https://images.genius.com/17a7421fefb9f4c9433d7a7f62ea995c.554x554x1.png',\n",
       "    'stats': {'unreviewed_annotations': 44, 'hot': False},\n",
       "    'title': 'RapCaviar 10/6/2019',\n",
       "    'title_with_featured': 'RapCaviar 10/6/2019',\n",
       "    'url': 'https://genius.com/Spotify-rapcaviar-10-6-2019-lyrics',\n",
       "    'song_art_primary_color': '#1cd464',\n",
       "    'song_art_secondary_color': '#1c723c',\n",
       "    'song_art_text_color': '#fff',\n",
       "    'primary_artist': {'api_path': '/artists/69342',\n",
       "     'header_image_url': 'https://images.genius.com/321247fa1e6f904e5b28fac3cf98c932.1000x300x1.png',\n",
       "     'id': 69342,\n",
       "     'image_url': 'https://images.genius.com/17a7421fefb9f4c9433d7a7f62ea995c.554x554x1.png',\n",
       "     'is_meme_verified': False,\n",
       "     'is_verified': False,\n",
       "     'name': 'Spotify',\n",
       "     'url': 'https://genius.com/artists/Spotify'}}},\n",
       "  {'highlights': [],\n",
       "   'index': 'song',\n",
       "   'type': 'song',\n",
       "   'result': {'annotation_count': 0,\n",
       "    'api_path': '/songs/6577680',\n",
       "    'full_title': '2021 Nominees by\\xa0Grammys',\n",
       "    'header_image_thumbnail_url': 'https://images.genius.com/25dd161e9622ac8d1d85b283d51e7955.300x300x1.jpg',\n",
       "    'header_image_url': 'https://images.genius.com/25dd161e9622ac8d1d85b283d51e7955.500x500x1.jpg',\n",
       "    'id': 6577680,\n",
       "    'lyrics_owner_id': 3565489,\n",
       "    'lyrics_state': 'complete',\n",
       "    'path': '/Grammys-2021-nominees-annotated',\n",
       "    'pyongs_count': None,\n",
       "    'song_art_image_thumbnail_url': 'https://images.genius.com/25dd161e9622ac8d1d85b283d51e7955.300x300x1.jpg',\n",
       "    'song_art_image_url': 'https://images.genius.com/25dd161e9622ac8d1d85b283d51e7955.500x500x1.jpg',\n",
       "    'stats': {'unreviewed_annotations': 0, 'hot': False},\n",
       "    'title': '2021 Nominees',\n",
       "    'title_with_featured': '2021 Nominees',\n",
       "    'url': 'https://genius.com/Grammys-2021-nominees-annotated',\n",
       "    'song_art_primary_color': '#c4945c',\n",
       "    'song_art_secondary_color': '#ddcdaf',\n",
       "    'song_art_text_color': '#000',\n",
       "    'primary_artist': {'api_path': '/artists/105740',\n",
       "     'header_image_url': 'https://images.genius.com/e5d369a9318a6b9998b2e3e8fe3295b4.675x675x1.png',\n",
       "     'id': 105740,\n",
       "     'image_url': 'https://images.genius.com/e5d369a9318a6b9998b2e3e8fe3295b4.675x675x1.png',\n",
       "     'is_meme_verified': False,\n",
       "     'is_verified': False,\n",
       "     'name': 'Grammys',\n",
       "     'url': 'https://genius.com/artists/Grammys'}}},\n",
       "  {'highlights': [],\n",
       "   'index': 'song',\n",
       "   'type': 'song',\n",
       "   'result': {'annotation_count': 0,\n",
       "    'api_path': '/songs/4907852',\n",
       "    'full_title': 'RapCaviar 9/28/19 by\\xa0Spotify',\n",
       "    'header_image_thumbnail_url': 'https://images.genius.com/17a7421fefb9f4c9433d7a7f62ea995c.300x300x1.png',\n",
       "    'header_image_url': 'https://images.genius.com/17a7421fefb9f4c9433d7a7f62ea995c.554x554x1.png',\n",
       "    'id': 4907852,\n",
       "    'lyrics_owner_id': 9149913,\n",
       "    'lyrics_state': 'complete',\n",
       "    'path': '/Spotify-rapcaviar-9-28-19-annotated',\n",
       "    'pyongs_count': None,\n",
       "    'song_art_image_thumbnail_url': 'https://images.genius.com/17a7421fefb9f4c9433d7a7f62ea995c.300x300x1.png',\n",
       "    'song_art_image_url': 'https://images.genius.com/17a7421fefb9f4c9433d7a7f62ea995c.554x554x1.png',\n",
       "    'stats': {'unreviewed_annotations': 0, 'hot': False},\n",
       "    'title': 'RapCaviar 9/28/19',\n",
       "    'title_with_featured': 'RapCaviar 9/28/19',\n",
       "    'url': 'https://genius.com/Spotify-rapcaviar-9-28-19-annotated',\n",
       "    'song_art_primary_color': '#1cd464',\n",
       "    'song_art_secondary_color': '#1c723c',\n",
       "    'song_art_text_color': '#fff',\n",
       "    'primary_artist': {'api_path': '/artists/69342',\n",
       "     'header_image_url': 'https://images.genius.com/321247fa1e6f904e5b28fac3cf98c932.1000x300x1.png',\n",
       "     'id': 69342,\n",
       "     'image_url': 'https://images.genius.com/17a7421fefb9f4c9433d7a7f62ea995c.554x554x1.png',\n",
       "     'is_meme_verified': False,\n",
       "     'is_verified': False,\n",
       "     'name': 'Spotify',\n",
       "     'url': 'https://genius.com/artists/Spotify'}}},\n",
       "  {'highlights': [],\n",
       "   'index': 'song',\n",
       "   'type': 'song',\n",
       "   'result': {'annotation_count': 0,\n",
       "    'api_path': '/songs/6837809',\n",
       "    'full_title': 'Lot of Money by\\xa0Jaks\\xa0Ali',\n",
       "    'header_image_thumbnail_url': 'https://images.genius.com/cd234880b621f6b3d7bcbf3a45680d10.300x300x1.jpg',\n",
       "    'header_image_url': 'https://images.genius.com/cd234880b621f6b3d7bcbf3a45680d10.360x360x1.jpg',\n",
       "    'id': 6837809,\n",
       "    'lyrics_owner_id': 6852779,\n",
       "    'lyrics_state': 'complete',\n",
       "    'path': '/Jaks-ali-lot-of-money-lyrics',\n",
       "    'pyongs_count': None,\n",
       "    'song_art_image_thumbnail_url': 'https://images.genius.com/cd234880b621f6b3d7bcbf3a45680d10.300x300x1.jpg',\n",
       "    'song_art_image_url': 'https://images.genius.com/cd234880b621f6b3d7bcbf3a45680d10.360x360x1.jpg',\n",
       "    'stats': {'unreviewed_annotations': 0, 'hot': False},\n",
       "    'title': 'Lot of Money',\n",
       "    'title_with_featured': 'Lot of Money',\n",
       "    'url': 'https://genius.com/Jaks-ali-lot-of-money-lyrics',\n",
       "    'song_art_primary_color': '#dc9484',\n",
       "    'song_art_secondary_color': '#f1c2c1',\n",
       "    'song_art_text_color': '#000',\n",
       "    'primary_artist': {'api_path': '/artists/152671',\n",
       "     'header_image_url': 'https://images.genius.com/b74cbd847ea7b230711cb9af3854b702.1000x1000x1.jpg',\n",
       "     'id': 152671,\n",
       "     'image_url': 'https://images.genius.com/3611a79999c40a1b863741d5890995ca.1000x1000x1.jpg',\n",
       "     'is_meme_verified': False,\n",
       "     'is_verified': True,\n",
       "     'name': 'Jaks Ali',\n",
       "     'url': 'https://genius.com/artists/Jaks-ali',\n",
       "     'iq': 2842}}},\n",
       "  {'highlights': [],\n",
       "   'index': 'song',\n",
       "   'type': 'song',\n",
       "   'result': {'annotation_count': 0,\n",
       "    'api_path': '/songs/4323250',\n",
       "    'full_title': 'Minus by\\xa0STW',\n",
       "    'header_image_thumbnail_url': 'https://images.genius.com/5fd37c113da514c88219f9012020ff6f.300x169x1.png',\n",
       "    'header_image_url': 'https://images.genius.com/5fd37c113da514c88219f9012020ff6f.1000x563x1.png',\n",
       "    'id': 4323250,\n",
       "    'lyrics_owner_id': 3659670,\n",
       "    'lyrics_state': 'complete',\n",
       "    'path': '/Stw-minus-lyrics',\n",
       "    'pyongs_count': None,\n",
       "    'song_art_image_thumbnail_url': 'https://images.genius.com/b6c427f020bdc8ca2b6b91f014f05c61.300x300x1.png',\n",
       "    'song_art_image_url': 'https://images.genius.com/b6c427f020bdc8ca2b6b91f014f05c61.800x800x1.png',\n",
       "    'stats': {'unreviewed_annotations': 0, 'hot': False},\n",
       "    'title': 'Minus',\n",
       "    'title_with_featured': 'Minus',\n",
       "    'url': 'https://genius.com/Stw-minus-lyrics',\n",
       "    'song_art_primary_color': '#3f3fbf',\n",
       "    'song_art_secondary_color': '#04040c',\n",
       "    'song_art_text_color': '#fff',\n",
       "    'primary_artist': {'api_path': '/artists/1385002',\n",
       "     'header_image_url': 'https://images.genius.com/4d8dd594322dd520e6228d4dacc06e13.1000x563x1.jpg',\n",
       "     'id': 1385002,\n",
       "     'image_url': 'https://images.genius.com/b044a50b14df401411a4baaac5519188.640x640x1.jpg',\n",
       "     'is_meme_verified': False,\n",
       "     'is_verified': True,\n",
       "     'name': 'STW',\n",
       "     'url': 'https://genius.com/artists/Stw',\n",
       "     'iq': 1155}}}]}"
      ]
     },
     "execution_count": 41,
     "metadata": {},
     "output_type": "execute_result"
    }
   ],
   "source": [
    "#the song that keeps erroring out:\n",
    "genius.search_songs('BOP DaBaby')"
   ]
  },
  {
   "cell_type": "code",
   "execution_count": 77,
   "metadata": {},
   "outputs": [],
   "source": [
    "# Maybe I can use the url instead\n",
    "\n",
    "# top_100_2020['url'] = 'https://genius.com/' + top_100_2020.song + top_100_2020.artist\n",
    "\n",
    "# title = []\n",
    "# for i in range(0,10):\n",
    "#     value1 = top_100_2020.song[i].split()\n",
    "#     title.append(value1)\n",
    "\n",
    "# name = []\n",
    "# for i in range(0,10):\n",
    "#     value2 = top_100_2020.artist[i].split()\n",
    "#     name.append(value2)\n",
    "\n",
    "# name\n",
    "\n",
    "# # def get_url(df):\n",
    "# #     title = df.song.split()\n",
    "# #     artist = df.artist.split()\n",
    "\n",
    "# Genius doesn't use apostrophes nor the featured artist when building out the URL. \n",
    "# It seems it'll be easier to use the search_songs method instead."
   ]
  },
  {
   "cell_type": "code",
   "execution_count": null,
   "metadata": {},
   "outputs": [],
   "source": []
  },
  {
   "cell_type": "code",
   "execution_count": null,
   "metadata": {},
   "outputs": [],
   "source": []
  }
 ],
 "metadata": {
  "kernelspec": {
   "display_name": "Python 3",
   "language": "python",
   "name": "python3"
  },
  "language_info": {
   "codemirror_mode": {
    "name": "ipython",
    "version": 3
   },
   "file_extension": ".py",
   "mimetype": "text/x-python",
   "name": "python",
   "nbconvert_exporter": "python",
   "pygments_lexer": "ipython3",
   "version": "3.8.3"
  }
 },
 "nbformat": 4,
 "nbformat_minor": 4
}
