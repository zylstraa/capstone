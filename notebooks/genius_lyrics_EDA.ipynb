{
 "cells": [
  {
   "cell_type": "code",
   "execution_count": 12,
   "metadata": {},
   "outputs": [],
   "source": [
    "import billboard as bb\n",
    "import pandas as pd"
   ]
  },
  {
   "cell_type": "markdown",
   "metadata": {},
   "source": [
    "## Spotify secrets"
   ]
  },
  {
   "cell_type": "code",
   "execution_count": 13,
   "metadata": {},
   "outputs": [
    {
     "data": {
      "text/plain": [
       "True"
      ]
     },
     "execution_count": 13,
     "metadata": {},
     "output_type": "execute_result"
    }
   ],
   "source": [
    "from dotenv import load_dotenv\n",
    "import os\n",
    "load_dotenv()\n",
    "# did this work? commenting out so secrets are safe\n",
    "# print(os.getenv('SPOTIFY_CLIENT_ID'))\n",
    "# print(os.getenv('SPOTIFY_CLIENT_SECRET'))"
   ]
  },
  {
   "cell_type": "code",
   "execution_count": 14,
   "metadata": {},
   "outputs": [],
   "source": [
    "spotify_client_id  = os.getenv('SPOTIFY_CLIENT_ID')\n",
    "spotify_client_secret  = os.getenv('SPOTIFY_CLIENT_SECRET')\n",
    "genius_client_id = os.getenv('GENIUS_CLIENT_SECRET')\n",
    "genius_client_secret = os.getenv('GENIUS_CLIENT_SECRET')\n",
    "genius_access_token = os.getenv('GENIUS_ACCESS_TOKEN')"
   ]
  },
  {
   "cell_type": "markdown",
   "metadata": {},
   "source": [
    "# Billboard test dataset"
   ]
  },
  {
   "cell_type": "code",
   "execution_count": 15,
   "metadata": {},
   "outputs": [],
   "source": [
    "# bb.charts(year_end=True)"
   ]
  },
  {
   "cell_type": "code",
   "execution_count": 157,
   "metadata": {},
   "outputs": [],
   "source": [
    "yearend2016 = bb.ChartData('hot-100-songs',year=2016)\n",
    "yearend2017 = bb.ChartData('hot-100-songs',year=2017)\n",
    "yearend2018 = bb.ChartData('hot-100-songs',year=2018)\n",
    "yearend2019 = bb.ChartData('hot-100-songs',year=2019)\n",
    "yearend2020 = bb.ChartData('hot-100-songs',year=2020)\n"
   ]
  },
  {
   "cell_type": "code",
   "execution_count": 17,
   "metadata": {
    "scrolled": true
   },
   "outputs": [],
   "source": [
    "# print(yearend2020)"
   ]
  },
  {
   "cell_type": "markdown",
   "metadata": {},
   "source": [
    "## lyricsgenius search_song method\n",
    "https://pypi.org/project/lyricsgenius/"
   ]
  },
  {
   "cell_type": "code",
   "execution_count": 77,
   "metadata": {},
   "outputs": [],
   "source": [
    "# Maybe I can use the url instead\n",
    "\n",
    "# top_100_2020['url'] = 'https://genius.com/' + top_100_2020.song + top_100_2020.artist\n",
    "\n",
    "# title = []\n",
    "# for i in range(0,10):\n",
    "#     value1 = top_100_2020.song[i].split()\n",
    "#     title.append(value1)\n",
    "\n",
    "# name = []\n",
    "# for i in range(0,10):\n",
    "#     value2 = top_100_2020.artist[i].split()\n",
    "#     name.append(value2)\n",
    "\n",
    "# name\n",
    "\n",
    "# # def get_url(df):\n",
    "# #     title = df.song.split()\n",
    "# #     artist = df.artist.split()\n",
    "\n",
    "# Genius doesn't use apostrophes nor the featured artist when building out the URL. \n",
    "# It seems it'll be easier to use the search_songs method instead."
   ]
  },
  {
   "cell_type": "code",
   "execution_count": 88,
   "metadata": {},
   "outputs": [],
   "source": [
    "import lyricsgenius\n",
    "genius = lyricsgenius.Genius(genius_access_token)"
   ]
  },
  {
   "cell_type": "code",
   "execution_count": 166,
   "metadata": {},
   "outputs": [
    {
     "data": {
      "text/plain": [
       "100"
      ]
     },
     "execution_count": 166,
     "metadata": {},
     "output_type": "execute_result"
    }
   ],
   "source": [
    "# print(yearend2020)\n",
    "len(yearend2020)"
   ]
  },
  {
   "cell_type": "code",
   "execution_count": 161,
   "metadata": {},
   "outputs": [
    {
     "ename": "IndexError",
     "evalue": "list index out of range",
     "output_type": "error",
     "traceback": [
      "\u001b[1;31m---------------------------------------------------------------------------\u001b[0m",
      "\u001b[1;31mIndexError\u001b[0m                                Traceback (most recent call last)",
      "\u001b[1;32m<ipython-input-161-dabd471f9e88>\u001b[0m in \u001b[0;36m<module>\u001b[1;34m\u001b[0m\n\u001b[1;32m----> 1\u001b[1;33m \u001b[0myearend2016\u001b[0m\u001b[1;33m[\u001b[0m\u001b[1;36m99\u001b[0m\u001b[1;33m]\u001b[0m\u001b[1;33m.\u001b[0m\u001b[0mtitle\u001b[0m\u001b[1;33m\u001b[0m\u001b[1;33m\u001b[0m\u001b[0m\n\u001b[0m\u001b[0;32m      2\u001b[0m \u001b[1;31m# yearend2016[0].artist\u001b[0m\u001b[1;33m\u001b[0m\u001b[1;33m\u001b[0m\u001b[1;33m\u001b[0m\u001b[0m\n",
      "\u001b[1;32m~\\anaconda3\\lib\\site-packages\\billboard.py\u001b[0m in \u001b[0;36m__getitem__\u001b[1;34m(self, key)\u001b[0m\n\u001b[0;32m    216\u001b[0m         \u001b[0mtop\u001b[0m \u001b[0mentry\u001b[0m \u001b[0mon\u001b[0m \u001b[0mthe\u001b[0m \u001b[0mchart\u001b[0m\u001b[1;33m.\u001b[0m\u001b[1;33m\u001b[0m\u001b[1;33m\u001b[0m\u001b[0m\n\u001b[0;32m    217\u001b[0m         \"\"\"\n\u001b[1;32m--> 218\u001b[1;33m         \u001b[1;32mreturn\u001b[0m \u001b[0mself\u001b[0m\u001b[1;33m.\u001b[0m\u001b[0mentries\u001b[0m\u001b[1;33m[\u001b[0m\u001b[0mkey\u001b[0m\u001b[1;33m]\u001b[0m\u001b[1;33m\u001b[0m\u001b[1;33m\u001b[0m\u001b[0m\n\u001b[0m\u001b[0;32m    219\u001b[0m \u001b[1;33m\u001b[0m\u001b[0m\n\u001b[0;32m    220\u001b[0m     \u001b[1;32mdef\u001b[0m \u001b[0m__len__\u001b[0m\u001b[1;33m(\u001b[0m\u001b[0mself\u001b[0m\u001b[1;33m)\u001b[0m\u001b[1;33m:\u001b[0m\u001b[1;33m\u001b[0m\u001b[1;33m\u001b[0m\u001b[0m\n",
      "\u001b[1;31mIndexError\u001b[0m: list index out of range"
     ]
    }
   ],
   "source": [
    "yearend2016[99].title\n",
    "# yearend2016[0].artist"
   ]
  },
  {
   "cell_type": "code",
   "execution_count": 169,
   "metadata": {},
   "outputs": [],
   "source": [
    "song = []\n",
    "\n",
    "for i in range(0,99):#for some reason 2016 only had 99 songs\n",
    "    title = yearend2016[i].title\n",
    "    song.append(title)\n",
    "    \n",
    "for i in range(0,100):\n",
    "    title = yearend2017[i].title\n",
    "    song.append(title)\n",
    "    \n",
    "for i in range(0,100):\n",
    "    title = yearend2018[i].title\n",
    "    song.append(title)\n",
    "    \n",
    "for i in range(0,100):\n",
    "    title = yearend2019[i].title\n",
    "    song.append(title)\n",
    "    \n",
    "for i in range(0,100):\n",
    "    title = yearend2020[i].title\n",
    "    song.append(title)\n",
    "\n",
    "artist = []\n",
    "\n",
    "for i in range(0,99):#for some reason 2016 only had 99 songs\n",
    "    name = yearend2016[i].artist\n",
    "    artist.append(name)\n",
    "    \n",
    "for i in range(0,100):\n",
    "    name = yearend2017[i].artist\n",
    "    artist.append(name)\n",
    "    \n",
    "for i in range(0,100):\n",
    "    name = yearend2018[i].artist\n",
    "    artist.append(name)\n",
    "    \n",
    "for i in range(0,100):\n",
    "    name = yearend2019[i].artist\n",
    "    artist.append(name)\n",
    "    \n",
    "for i in range(0,100):\n",
    "    name = yearend2020[i].artist\n",
    "    artist.append(name)\n"
   ]
  },
  {
   "cell_type": "code",
   "execution_count": 170,
   "metadata": {},
   "outputs": [],
   "source": [
    "d = {'song':song,'artist':artist}"
   ]
  },
  {
   "cell_type": "code",
   "execution_count": 171,
   "metadata": {},
   "outputs": [],
   "source": [
    "top_100_2020 = pd.DataFrame(d)"
   ]
  },
  {
   "cell_type": "code",
   "execution_count": 173,
   "metadata": {
    "scrolled": false
   },
   "outputs": [
    {
     "data": {
      "text/plain": [
       "499"
      ]
     },
     "execution_count": 173,
     "metadata": {},
     "output_type": "execute_result"
    }
   ],
   "source": [
    "len(song)"
   ]
  },
  {
   "cell_type": "code",
   "execution_count": 174,
   "metadata": {
    "scrolled": true
   },
   "outputs": [],
   "source": [
    "search = []\n",
    "\n",
    "for i in range(0,499):\n",
    "    hit = song[i]+ ' ' + artist[i]\n",
    "    search.append(hit)"
   ]
  },
  {
   "cell_type": "code",
   "execution_count": null,
   "metadata": {},
   "outputs": [
    {
     "name": "stdout",
     "output_type": "stream",
     "text": [
      "Searching for \"Love Yourself Justin Bieber\"...\n",
      "Done.\n",
      "Searching for \"Sorry Justin Bieber\"...\n",
      "Done.\n",
      "Searching for \"One Dance Drake Featuring WizKid & Kyla\"...\n",
      "Done.\n",
      "Searching for \"Work Rihanna Featuring Drake\"...\n",
      "Done.\n",
      "Searching for \"Stressed Out twenty one pilots\"...\n",
      "Done.\n",
      "Searching for \"Panda Desiigner\"...\n",
      "Done.\n",
      "Searching for \"Hello Adele\"...\n",
      "Done.\n",
      "Searching for \"Don't Let Me Down The Chainsmokers Featuring Daya\"...\n",
      "Done.\n",
      "Searching for \"Can't Stop The Feeling! Justin Timberlake\"...\n",
      "Done.\n",
      "Searching for \"Closer The Chainsmokers Featuring Halsey\"...\n",
      "Done.\n",
      "Searching for \"Cheap Thrills Sia Featuring Sean Paul\"...\n",
      "Done.\n",
      "Searching for \"7 Years Lukas Graham\"...\n",
      "Done.\n",
      "Searching for \"Needed Me Rihanna\"...\n",
      "Done.\n",
      "Searching for \"My House Flo Rida\"...\n",
      "Done.\n",
      "Searching for \"I Took A Pill In Ibiza Mike Posner\"...\n",
      "Done.\n",
      "Searching for \"Work From Home Fifth Harmony Featuring Ty Dolla $ign\"...\n",
      "Done.\n",
      "Searching for \"This Is What You Came For Calvin Harris Featuring Rihanna\"...\n",
      "Done.\n",
      "Searching for \"Cake By The Ocean DNCE\"...\n",
      "Done.\n",
      "Searching for \"Me, Myself & I G-Eazy x Bebe Rexha\"...\n",
      "Done.\n",
      "Searching for \"Ride twenty one pilots\"...\n",
      "Done.\n",
      "Searching for \"Heathens twenty one pilots\"...\n",
      "Done.\n",
      "Searching for \"Pillowtalk Zayn\"...\n",
      "Done.\n",
      "Searching for \"Stitches Shawn Mendes\"...\n",
      "Done.\n",
      "Searching for \"Hotline Bling Drake\"...\n",
      "Done.\n",
      "Searching for \"Cold Water Major Lazer Featuring Justin Bieber & MO\"...\n",
      "Done.\n",
      "Searching for \"Send My Love (To Your New Lover) Adele\"...\n",
      "Done.\n",
      "Searching for \"Roses The Chainsmokers Featuring Rozes\"...\n",
      "Done.\n",
      "Searching for \"Treat You Better Shawn Mendes\"...\n",
      "Done.\n",
      "Searching for \"Too Good Drake Featuring Rihanna\"...\n",
      "Done.\n",
      "Searching for \"Low Life Future Featuring The Weeknd\"...\n",
      "Done.\n",
      "Searching for \"What Do You Mean? Justin Bieber\"...\n",
      "Done.\n",
      "Searching for \"The Hills The Weeknd\"...\n",
      "Done.\n",
      "Searching for \"Just Like Fire P!nk\"...\n",
      "Done.\n",
      "Searching for \"Broccoli D.R.A.M. Featuring Lil Yachty\"...\n",
      "Done.\n",
      "Searching for \"Don't Bryson Tiller\"...\n",
      "Done.\n",
      "Searching for \"Dangerous Woman Ariana Grande\"...\n",
      "Done.\n",
      "Searching for \"Jumpman Drake & Future\"...\n",
      "Done.\n",
      "Searching for \"I Hate U I Love U gnash Featuring Olivia O'Brien\"...\n",
      "Done.\n",
      "Searching for \"Here Alessia Cara\"...\n",
      "Done.\n",
      "Searching for \"Same Old Love Selena Gomez\"...\n",
      "Done.\n",
      "Searching for \"Controlla Drake\"...\n"
     ]
    }
   ],
   "source": [
    "genius_lyrics = []\n",
    "\n",
    "for i in range(0,499):\n",
    "    try:\n",
    "        test_song = genius.search_song(search[i])\n",
    "        words = test_song.lyrics\n",
    "    except: \n",
    "        print('Errored song: ' + search[i])\n",
    "    else:\n",
    "        genius_lyrics.append(words)\n",
    "\n",
    "# this doesn't work for songs that the search_song isn't able to find and causes it to halt/error \n",
    "# try and except/catch and throw out the problem children"
   ]
  },
  {
   "cell_type": "code",
   "execution_count": 149,
   "metadata": {},
   "outputs": [
    {
     "data": {
      "text/plain": [
       "99"
      ]
     },
     "execution_count": 149,
     "metadata": {},
     "output_type": "execute_result"
    }
   ],
   "source": [
    "len(genius_lyrics)"
   ]
  }
 ],
 "metadata": {
  "kernelspec": {
   "display_name": "Python 3",
   "language": "python",
   "name": "python3"
  },
  "language_info": {
   "codemirror_mode": {
    "name": "ipython",
    "version": 3
   },
   "file_extension": ".py",
   "mimetype": "text/x-python",
   "name": "python",
   "nbconvert_exporter": "python",
   "pygments_lexer": "ipython3",
   "version": "3.8.3"
  }
 },
 "nbformat": 4,
 "nbformat_minor": 4
}
