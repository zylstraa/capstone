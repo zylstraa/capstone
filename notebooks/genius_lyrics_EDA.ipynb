{
 "cells": [
  {
   "cell_type": "code",
   "execution_count": 12,
   "metadata": {},
   "outputs": [],
   "source": [
    "import billboard as bb\n",
    "import pandas as pd"
   ]
  },
  {
   "cell_type": "markdown",
   "metadata": {},
   "source": [
    "## Spotify secrets"
   ]
  },
  {
   "cell_type": "code",
   "execution_count": 13,
   "metadata": {},
   "outputs": [
    {
     "data": {
      "text/plain": [
       "True"
      ]
     },
     "execution_count": 13,
     "metadata": {},
     "output_type": "execute_result"
    }
   ],
   "source": [
    "from dotenv import load_dotenv\n",
    "import os\n",
    "load_dotenv()\n",
    "# did this work? commenting out so secrets are safe\n",
    "# print(os.getenv('SPOTIFY_CLIENT_ID'))\n",
    "# print(os.getenv('SPOTIFY_CLIENT_SECRET'))"
   ]
  },
  {
   "cell_type": "code",
   "execution_count": 14,
   "metadata": {},
   "outputs": [],
   "source": [
    "spotify_client_id  = os.getenv('SPOTIFY_CLIENT_ID')\n",
    "spotify_client_secret  = os.getenv('SPOTIFY_CLIENT_SECRET')\n",
    "genius_client_id = os.getenv('GENIUS_CLIENT_SECRET')\n",
    "genius_client_secret = os.getenv('GENIUS_CLIENT_SECRET')\n",
    "genius_access_token = os.getenv('GENIUS_ACCESS_TOKEN')"
   ]
  },
  {
   "cell_type": "markdown",
   "metadata": {},
   "source": [
    "# Billboard test dataset"
   ]
  },
  {
   "cell_type": "code",
   "execution_count": 15,
   "metadata": {},
   "outputs": [],
   "source": [
    "# bb.charts(year_end=True)"
   ]
  },
  {
   "cell_type": "code",
   "execution_count": 16,
   "metadata": {},
   "outputs": [
    {
     "data": {
      "text/plain": [
       "billboard.ChartData('hot-100-songs', year='2020')"
      ]
     },
     "execution_count": 16,
     "metadata": {},
     "output_type": "execute_result"
    }
   ],
   "source": [
    "yearend2020 = bb.ChartData('hot-100-songs',year=2020)\n",
    "yearend2020"
   ]
  },
  {
   "cell_type": "code",
   "execution_count": 17,
   "metadata": {
    "scrolled": true
   },
   "outputs": [],
   "source": [
    "# print(yearend2020)"
   ]
  },
  {
   "cell_type": "markdown",
   "metadata": {},
   "source": [
    "Billboard 2020 Year End Hot 100 playlist:\n",
    "https://open.spotify.com/playlist/1WBljFutuk7uLQtfqfmjWV?si=421973dd4721421f"
   ]
  },
  {
   "cell_type": "markdown",
   "metadata": {},
   "source": [
    "### From Spotipy documentation:"
   ]
  },
  {
   "cell_type": "code",
   "execution_count": 18,
   "metadata": {},
   "outputs": [],
   "source": [
    "import spotipy\n",
    "from spotipy.oauth2 import SpotifyClientCredentials\n",
    "\n",
    "auth_manager = SpotifyClientCredentials(spotify_client_id,spotify_client_secret)\n",
    "spotify = spotipy.Spotify(auth_manager = auth_manager)"
   ]
  },
  {
   "cell_type": "code",
   "execution_count": 19,
   "metadata": {},
   "outputs": [],
   "source": [
    "# Example to check if it's working\n",
    "# birdy_uri = 'spotify:artist:2WX2uTcsvV5OnS0inACecP'\n",
    "\n",
    "# results = spotify.artist_albums(birdy_uri, album_type='album')\n",
    "# albums = results['items']\n",
    "# while results['next']:\n",
    "#     results = spotify.next(results)\n",
    "#     albums.extend(results['items'])\n",
    "\n",
    "# for album in albums:\n",
    "#     print(album['name'])"
   ]
  },
  {
   "cell_type": "code",
   "execution_count": 54,
   "metadata": {},
   "outputs": [],
   "source": [
    "hot100_2020_url =  'https://open.spotify.com/playlist/1WBljFutuk7uLQtfqfmjWV?si=421973dd4721421f'\n",
    "tracks = spotify.playlist_tracks(hot100_2020_url,limit=100) "
   ]
  },
  {
   "cell_type": "markdown",
   "metadata": {},
   "source": [
    "## lyricsgenius search_song method\n",
    "https://pypi.org/project/lyricsgenius/"
   ]
  },
  {
   "cell_type": "code",
   "execution_count": 77,
   "metadata": {},
   "outputs": [],
   "source": [
    "# Maybe I can use the url instead\n",
    "\n",
    "# top_100_2020['url'] = 'https://genius.com/' + top_100_2020.song + top_100_2020.artist\n",
    "\n",
    "# title = []\n",
    "# for i in range(0,10):\n",
    "#     value1 = top_100_2020.song[i].split()\n",
    "#     title.append(value1)\n",
    "\n",
    "# name = []\n",
    "# for i in range(0,10):\n",
    "#     value2 = top_100_2020.artist[i].split()\n",
    "#     name.append(value2)\n",
    "\n",
    "# name\n",
    "\n",
    "# # def get_url(df):\n",
    "# #     title = df.song.split()\n",
    "# #     artist = df.artist.split()\n",
    "\n",
    "# Genius doesn't use apostrophes nor the featured artist when building out the URL. \n",
    "# It seems it'll be easier to use the search_songs method instead."
   ]
  },
  {
   "cell_type": "code",
   "execution_count": 88,
   "metadata": {},
   "outputs": [],
   "source": [
    "import lyricsgenius\n",
    "genius = lyricsgenius.Genius(genius_access_token)"
   ]
  },
  {
   "cell_type": "code",
   "execution_count": 89,
   "metadata": {},
   "outputs": [
    {
     "data": {
      "text/plain": [
       "billboard.ChartData"
      ]
     },
     "execution_count": 89,
     "metadata": {},
     "output_type": "execute_result"
    }
   ],
   "source": [
    "# print(yearend2020)\n",
    "type(yearend2020)"
   ]
  },
  {
   "cell_type": "code",
   "execution_count": 90,
   "metadata": {},
   "outputs": [
    {
     "data": {
      "text/plain": [
       "'Blinding Lights'"
      ]
     },
     "execution_count": 90,
     "metadata": {},
     "output_type": "execute_result"
    }
   ],
   "source": [
    "yearend2020[0].title"
   ]
  },
  {
   "cell_type": "code",
   "execution_count": 91,
   "metadata": {},
   "outputs": [
    {
     "data": {
      "text/plain": [
       "'The Weeknd'"
      ]
     },
     "execution_count": 91,
     "metadata": {},
     "output_type": "execute_result"
    }
   ],
   "source": [
    "yearend2020[0].artist"
   ]
  },
  {
   "cell_type": "code",
   "execution_count": 137,
   "metadata": {},
   "outputs": [],
   "source": [
    "song = []\n",
    "\n",
    "for i in range(0,100):\n",
    "    title = yearend2020[i].title\n",
    "    song.append(title)\n",
    "\n",
    "artist = []\n",
    "\n",
    "for i in range(0,100):\n",
    "    name = yearend2020[i].artist\n",
    "    artist.append(name)"
   ]
  },
  {
   "cell_type": "code",
   "execution_count": 138,
   "metadata": {},
   "outputs": [],
   "source": [
    "d = {'song':song,'artist':artist}"
   ]
  },
  {
   "cell_type": "code",
   "execution_count": 139,
   "metadata": {},
   "outputs": [],
   "source": [
    "top_100_2020 = pd.DataFrame(d)"
   ]
  },
  {
   "cell_type": "code",
   "execution_count": 140,
   "metadata": {
    "scrolled": false
   },
   "outputs": [
    {
     "data": {
      "text/plain": [
       "'Blinding LightsThe Weeknd'"
      ]
     },
     "execution_count": 140,
     "metadata": {},
     "output_type": "execute_result"
    }
   ],
   "source": [
    "song[0] + artist[0]"
   ]
  },
  {
   "cell_type": "code",
   "execution_count": 141,
   "metadata": {
    "scrolled": true
   },
   "outputs": [],
   "source": [
    "search = []\n",
    "\n",
    "for i in range(0,100):\n",
    "    hit = song[i]+ ' ' + artist[i]\n",
    "    search.append(hit)"
   ]
  },
  {
   "cell_type": "code",
   "execution_count": 152,
   "metadata": {},
   "outputs": [
    {
     "name": "stdout",
     "output_type": "stream",
     "text": [
      "Searching for \"Blinding Lights The Weeknd\"...\n",
      "Done.\n",
      "Searching for \"Circles Post Malone\"...\n",
      "Done.\n",
      "Searching for \"The Box Roddy Ricch\"...\n",
      "Done.\n",
      "Searching for \"Don't Start Now Dua Lipa\"...\n",
      "Done.\n",
      "Searching for \"Rockstar DaBaby Featuring Roddy Ricch\"...\n",
      "Done.\n",
      "Searching for \"Adore You Harry Styles\"...\n",
      "Done.\n",
      "Searching for \"Life Is Good Future Featuring Drake\"...\n",
      "Done.\n",
      "Searching for \"Memories Maroon 5\"...\n",
      "Done.\n",
      "Searching for \"The Bones Maren Morris\"...\n",
      "Done.\n",
      "Searching for \"Someone You Loved Lewis Capaldi\"...\n",
      "Done.\n",
      "Searching for \"Say So Doja Cat\"...\n",
      "Done.\n",
      "Searching for \"I Hope Gabby Barrett Featuring Charlie Puth\"...\n",
      "Done.\n",
      "Searching for \"Whats Poppin Jack Harlow Featuring DaBaby, Tory Lanez & Lil Wayne\"...\n",
      "Done.\n",
      "Searching for \"Dance Monkey Tones And I\"...\n",
      "Done.\n",
      "Searching for \"Savage Megan Thee Stallion\"...\n",
      "Done.\n",
      "Searching for \"Roxanne Arizona Zervas\"...\n",
      "Done.\n",
      "Searching for \"Intentions Justin Bieber Featuring Quavo\"...\n",
      "Done.\n",
      "Searching for \"Everything I Wanted Billie Eilish\"...\n",
      "Done.\n",
      "Searching for \"Roses SAINt JHN\"...\n",
      "Done.\n",
      "Searching for \"Watermelon Sugar Harry Styles\"...\n",
      "Done.\n",
      "Searching for \"Before You Go Lewis Capaldi\"...\n",
      "Done.\n",
      "Searching for \"Falling Trevor Daniel\"...\n",
      "Done.\n",
      "Searching for \"10,000 Hours Dan + Shay & Justin Bieber\"...\n",
      "Done.\n",
      "Searching for \"WAP Cardi B Featuring Megan Thee Stallion\"...\n",
      "Done.\n",
      "Searching for \"Ballin' Mustard & Roddy Ricch\"...\n",
      "Done.\n",
      "Searching for \"Hot Girl Bummer blackbear\"...\n",
      "Done.\n",
      "Searching for \"Blueberry Faygo Lil Mosey\"...\n",
      "Done.\n",
      "Searching for \"Heartless The Weeknd\"...\n",
      "Done.\n",
      "Searching for \"BOP DaBaby\"...\n",
      "Specified song does not contain lyrics. Rejecting.\n",
      "Errored song: BOP DaBaby\n",
      "Searching for \"Lose You To Love Me Selena Gomez\"...\n",
      "Done.\n",
      "Searching for \"Good As Hell Lizzo\"...\n",
      "Done.\n",
      "Searching for \"Toosie Slide Drake\"...\n",
      "Done.\n",
      "Searching for \"Break My Heart Dua Lipa\"...\n",
      "Done.\n",
      "Searching for \"Chasin' You Morgan Wallen\"...\n",
      "Done.\n",
      "Searching for \"Savage Love (Laxed - Siren Beat) Jawsh 685 x Jason Derulo\"...\n",
      "Done.\n",
      "Searching for \"No Guidance Chris Brown Featuring Drake\"...\n",
      "Done.\n",
      "Searching for \"My Oh My Camila Cabello Featuring DaBaby\"...\n",
      "Done.\n",
      "Searching for \"Dynamite BTS\"...\n",
      "Done.\n",
      "Searching for \"Go Crazy Chris Brown & Young Thug\"...\n",
      "Done.\n",
      "Searching for \"High Fashion Roddy Ricch Featuring Mustard\"...\n",
      "Done.\n",
      "Searching for \"Laugh Now Cry Later Drake Featuring Lil Durk\"...\n",
      "Done.\n",
      "Searching for \"Woah Lil Baby\"...\n",
      "Done.\n",
      "Searching for \"Death Bed Powfu Featuring beabadoobee\"...\n",
      "Done.\n",
      "Searching for \"Senorita Shawn Mendes & Camila Cabello\"...\n",
      "Done.\n",
      "Searching for \"HIGHEST IN THE ROOM Travis Scott\"...\n",
      "Done.\n",
      "Searching for \"Bad Guy Billie Eilish\"...\n",
      "Done.\n",
      "Searching for \"Mood 24kGoldn Featuring iann dior\"...\n",
      "Done.\n",
      "Searching for \"Rain On Me Lady Gaga & Ariana Grande\"...\n",
      "Done.\n",
      "Searching for \"For The Night Pop Smoke Featuring Lil Baby & DaBaby\"...\n",
      "Done.\n",
      "Searching for \"RITMO (Bad Boys For Life) Black Eyed Peas X J Balvin\"...\n",
      "Done.\n",
      "Searching for \"Heart On Ice Rod Wave\"...\n",
      "Done.\n",
      "Searching for \"Nobody But You Blake Shelton Duet With Gwen Stefani\"...\n",
      "Done.\n",
      "Searching for \"Trampoline SHAED\"...\n",
      "Done.\n",
      "Searching for \"Come & Go Juice WRLD x Marshmello\"...\n",
      "Done.\n",
      "Searching for \"Truth Hurts Lizzo\"...\n",
      "Done.\n",
      "Searching for \"If The World Was Ending JP Saxe Featuring Julia Michaels\"...\n",
      "Done.\n",
      "Searching for \"We Paid Lil Baby & 42 Dugg\"...\n",
      "Done.\n",
      "Searching for \"Yummy Justin Bieber\"...\n",
      "Done.\n",
      "Searching for \"One Man Band Old Dominion\"...\n",
      "Done.\n",
      "Searching for \"Got What I Got Jason Aldean\"...\n",
      "Done.\n",
      "Searching for \"Sunday Best Surfaces\"...\n",
      "Done.\n",
      "Searching for \"Godzilla Eminem Featuring Juice WRLD\"...\n",
      "Done.\n",
      "Searching for \"Bandit Juice WRLD & YoungBoy Never Broke Again\"...\n",
      "Done.\n",
      "Searching for \"Party Girl StaySolidRocky\"...\n",
      "Done.\n",
      "Searching for \"Die From A Broken Heart Maddie & Tae\"...\n",
      "Done.\n",
      "Searching for \"Popstar DJ Khaled Featuring Drake\"...\n",
      "Done.\n",
      "Searching for \"All I Want For Christmas Is You Mariah Carey\"...\n",
      "Done.\n",
      "Searching for \"One Of Them Girls Lee Brice\"...\n",
      "Done.\n",
      "Searching for \"Hard To Forget Sam Hunt\"...\n",
      "Done.\n",
      "Searching for \"One Margarita Luke Bryan\"...\n",
      "Done.\n",
      "Searching for \"Panini Lil Nas X\"...\n",
      "Done.\n",
      "Searching for \"Hot Young Thug Featuring Gunna\"...\n",
      "Done.\n",
      "Searching for \"I Hope You're Happy Now Carly Pearce & Lee Brice\"...\n",
      "Done.\n",
      "Searching for \"Emotionally Scarred Lil Baby\"...\n",
      "Done.\n",
      "Searching for \"Suicidal YNW Melly & Juice WRLD\"...\n",
      "Done.\n",
      "Searching for \"The Bigger Picture Lil Baby\"...\n",
      "Done.\n",
      "Searching for \"Only Human Jonas Brothers\"...\n",
      "Done.\n",
      "Searching for \"The Woo Pop Smoke Featuring 50 Cent & Roddy Ricch\"...\n",
      "Done.\n",
      "Searching for \"Sum 2 Prove Lil Baby\"...\n",
      "Done.\n",
      "Searching for \"Stuck With U Ariana Grande & Justin Bieber\"...\n",
      "Done.\n",
      "Searching for \"Mood Swings Pop Smoke Featuring Lil Tjay\"...\n",
      "Done.\n",
      "Searching for \"You Should Be Sad Halsey\"...\n",
      "Done.\n",
      "Searching for \"Dior Pop Smoke\"...\n",
      "Done.\n",
      "Searching for \"Supalonely BENEE Featuring Gus Dapperton\"...\n",
      "Done.\n",
      "Searching for \"Even Though I'm Leaving Luke Combs\"...\n",
      "Done.\n",
      "Searching for \"The Scotts THE SCOTTS, Travis Scott & Kid Cudi\"...\n",
      "Done.\n",
      "Searching for \"Juicy Doja Cat & Tyga\"...\n",
      "Done.\n",
      "Searching for \"Be Like That Kane Brown With Swae Lee & Khalid\"...\n",
      "Done.\n",
      "Searching for \"Homesick Kane Brown\"...\n",
      "Done.\n",
      "Searching for \"Rags2Riches Rod Wave Featuring ATR Son Son\"...\n",
      "Done.\n",
      "Searching for \"Bluebird Miranda Lambert\"...\n",
      "Done.\n",
      "Searching for \"Wishing Well Juice WRLD\"...\n",
      "Done.\n",
      "Searching for \"Does To Me Luke Combs Featuring Eric Church\"...\n",
      "Done.\n",
      "Searching for \"P*$$y Fairy (OTW) Jhene Aiko\"...\n",
      "Done.\n",
      "Searching for \"ily Surf Mesa Featuring Emilee\"...\n",
      "Done.\n",
      "Searching for \"More Than My Hometown Morgan Wallen\"...\n",
      "Done.\n",
      "Searching for \"Lovin' On You Luke Combs\"...\n",
      "Done.\n",
      "Searching for \"Said Sum Moneybagg Yo\"...\n",
      "Done.\n",
      "Searching for \"Slide H.E.R. Featuring YG\"...\n",
      "Done.\n",
      "Searching for \"Walk Em Down NLE Choppa Featuring Roddy Ricch\"...\n",
      "Done.\n"
     ]
    }
   ],
   "source": [
    "genius_lyrics = []\n",
    "\n",
    "for i in range(0,100):\n",
    "    try:\n",
    "        test_song = genius.search_song(search[i])\n",
    "        words = test_song.lyrics\n",
    "    except: \n",
    "        print('Errored song: ' + search[i])\n",
    "    else:\n",
    "        genius_lyrics.append(words)\n",
    "\n",
    "# this doesn't work for songs that the search_song isn't able to find and causes it to halt/error \n",
    "# try and except/catch and throw out the problem children"
   ]
  },
  {
   "cell_type": "code",
   "execution_count": 149,
   "metadata": {},
   "outputs": [
    {
     "data": {
      "text/plain": [
       "99"
      ]
     },
     "execution_count": 149,
     "metadata": {},
     "output_type": "execute_result"
    }
   ],
   "source": [
    "len(genius_lyrics)"
   ]
  }
 ],
 "metadata": {
  "kernelspec": {
   "display_name": "Python 3",
   "language": "python",
   "name": "python3"
  },
  "language_info": {
   "codemirror_mode": {
    "name": "ipython",
    "version": 3
   },
   "file_extension": ".py",
   "mimetype": "text/x-python",
   "name": "python",
   "nbconvert_exporter": "python",
   "pygments_lexer": "ipython3",
   "version": "3.8.3"
  }
 },
 "nbformat": 4,
 "nbformat_minor": 4
}
