{
 "cells": [
  {
   "cell_type": "code",
   "execution_count": 1,
   "metadata": {},
   "outputs": [],
   "source": [
    "import billboard as bb\n",
    "import pandas as pd"
   ]
  },
  {
   "cell_type": "markdown",
   "metadata": {},
   "source": [
    "## Spotify secrets"
   ]
  },
  {
   "cell_type": "code",
   "execution_count": 2,
   "metadata": {},
   "outputs": [
    {
     "data": {
      "text/plain": [
       "True"
      ]
     },
     "execution_count": 2,
     "metadata": {},
     "output_type": "execute_result"
    }
   ],
   "source": [
    "from dotenv import load_dotenv\n",
    "import os\n",
    "load_dotenv()\n",
    "# did this work? commenting out so secrets are safe\n",
    "# print(os.getenv('SPOTIFY_CLIENT_ID'))\n",
    "# print(os.getenv('SPOTIFY_CLIENT_SECRET'))"
   ]
  },
  {
   "cell_type": "code",
   "execution_count": 3,
   "metadata": {},
   "outputs": [],
   "source": [
    "spotify_client_id  = os.getenv('SPOTIFY_CLIENT_ID')\n",
    "spotify_client_secret  = os.getenv('SPOTIFY_CLIENT_SECRET')\n",
    "genius_client_id = os.getenv('GENIUS_CLIENT_SECRET')\n",
    "genius_client_secret = os.getenv('GENIUS_CLIENT_SECRET')\n",
    "genius_access_token = os.getenv('GENIUS_ACCESS_TOKEN')"
   ]
  },
  {
   "cell_type": "markdown",
   "metadata": {},
   "source": [
    "# Billboard test dataset"
   ]
  },
  {
   "cell_type": "code",
   "execution_count": 4,
   "metadata": {},
   "outputs": [],
   "source": [
    "# bb.charts(year_end=True)"
   ]
  },
  {
   "cell_type": "code",
   "execution_count": 5,
   "metadata": {},
   "outputs": [],
   "source": [
    "track = []\n",
    "artist = []\n",
    "chart_type = 'hot-100-songs' # year end charts\n",
    "year = 2006 #year end charts started in 2006\n",
    "\n",
    "chart = bb.ChartData(chart_type,year=year)\n",
    "    \n",
    "\n",
    "for year in range(year,2020):    \n",
    "    for i in range(len(chart)):\n",
    "        t = chart[i].title\n",
    "        a = chart[i].artist\n",
    "        track.append(t)\n",
    "        artist.append(a)\n",
    "    \n",
    "    chart = bb.ChartData(chart_type, year=chart.nextYear) #errors out because it keeps iterating until it gets to a year there isn't a chart for\n",
    "\n",
    "        \n",
    "    \n",
    "#i don't want this to error out for the i in range(0,99) bit\n",
    "#i don't want it to error out when it hits a year there's no chart for    "
   ]
  },
  {
   "cell_type": "markdown",
   "metadata": {},
   "source": [
    "## lyricsgenius search_song method\n",
    "https://pypi.org/project/lyricsgenius/"
   ]
  },
  {
   "cell_type": "code",
   "execution_count": 6,
   "metadata": {},
   "outputs": [],
   "source": [
    "import lyricsgenius\n",
    "genius = lyricsgenius.Genius(genius_access_token, skip_non_songs=True, remove_section_headers=True)\n",
    "genius.verbose = False"
   ]
  },
  {
   "cell_type": "code",
   "execution_count": 7,
   "metadata": {},
   "outputs": [],
   "source": [
    "#Genius search doesn't utilize an artist featuring another artist, so I want to drop everything after 'Featuring'\n",
    "sep = 'Featuring'\n",
    "artist = [x.split(sep,1)[0] for x in artist]\n",
    "#spotify also don't like artists like H.E.R. but prefers 'her'\n",
    "artist = [x.replace('.','') for x in artist]"
   ]
  },
  {
   "cell_type": "code",
   "execution_count": 9,
   "metadata": {},
   "outputs": [],
   "source": [
    "d = {'track':track,'artist':artist}"
   ]
  },
  {
   "cell_type": "code",
   "execution_count": 10,
   "metadata": {
    "scrolled": true
   },
   "outputs": [],
   "source": [
    "search = []\n",
    "\n",
    "for i in range(len(track)):\n",
    "    hit = track[i]+ ' ' + artist[i]\n",
    "    search.append(hit)"
   ]
  },
  {
   "cell_type": "code",
   "execution_count": 11,
   "metadata": {},
   "outputs": [
    {
     "data": {
      "text/plain": [
       "\"You're Beautiful James Blunt\""
      ]
     },
     "execution_count": 11,
     "metadata": {},
     "output_type": "execute_result"
    }
   ],
   "source": [
    "search[3]"
   ]
  },
  {
   "cell_type": "code",
   "execution_count": 12,
   "metadata": {},
   "outputs": [
    {
     "data": {
      "text/plain": [
       "Song(id, artist, ...)"
      ]
     },
     "execution_count": 12,
     "metadata": {},
     "output_type": "execute_result"
    }
   ],
   "source": [
    "genius.search_song(search[0])"
   ]
  },
  {
   "cell_type": "code",
   "execution_count": null,
   "metadata": {
    "scrolled": true
   },
   "outputs": [
    {
     "name": "stdout",
     "output_type": "stream",
     "text": [
      "womp womp\n"
     ]
    }
   ],
   "source": [
    "genius_lyrics = []\n",
    "errored_songs = []\n",
    "track_artist = []\n",
    "\n",
    "for i in range(len(search)):\n",
    "    try:\n",
    "        test_song = genius.search_song(search[i])\n",
    "        words = test_song.lyrics\n",
    "        ta = search[i]\n",
    "    except: \n",
    "        errored_songs.append(search[i])\n",
    "        print('womp womp')\n",
    "    else:\n",
    "        genius_lyrics.append(words)\n",
    "        track_artist.append(ta)\n",
    "\n"
   ]
  },
  {
   "cell_type": "code",
   "execution_count": 29,
   "metadata": {
    "scrolled": true
   },
   "outputs": [
    {
     "data": {
      "text/plain": [
       "3"
      ]
     },
     "execution_count": 29,
     "metadata": {},
     "output_type": "execute_result"
    }
   ],
   "source": [
    "type(genius_lyrics)\n",
    "len(genius_lyrics)"
   ]
  },
  {
   "cell_type": "code",
   "execution_count": 31,
   "metadata": {},
   "outputs": [
    {
     "data": {
      "text/plain": [
       "3"
      ]
     },
     "execution_count": 31,
     "metadata": {},
     "output_type": "execute_result"
    }
   ],
   "source": [
    "type(track_artist)\n",
    "len(track_artist)"
   ]
  },
  {
   "cell_type": "code",
   "execution_count": null,
   "metadata": {
    "scrolled": false
   },
   "outputs": [],
   "source": [
    "genius_lyrics = pd.Series((genius_lyrics[x] for x in range(0,len(genius_lyrics))))\n",
    "\n",
    "track_artist = pd.Series((track_artist[x] for x in range(0,len(track_artist))))"
   ]
  },
  {
   "cell_type": "code",
   "execution_count": 33,
   "metadata": {},
   "outputs": [
    {
     "data": {
      "text/plain": [
       "0         Bad Day Daniel Powter\n",
       "1         Temperature Sean Paul\n",
       "2    Promiscuous Nelly Furtado \n",
       "dtype: object"
      ]
     },
     "execution_count": 33,
     "metadata": {},
     "output_type": "execute_result"
    }
   ],
   "source": [
    "track_artist"
   ]
  },
  {
   "cell_type": "code",
   "execution_count": 34,
   "metadata": {},
   "outputs": [
    {
     "data": {
      "text/plain": [
       "0    Where is the moment we needed the most?\\nYou k...\n",
       "1    The gyal dem Schillaci, Sean da Paul\\nSo me gi...\n",
       "2    Am I throwin' you off?\\nNope\\nDidn't think so\\...\n",
       "dtype: object"
      ]
     },
     "execution_count": 34,
     "metadata": {},
     "output_type": "execute_result"
    }
   ],
   "source": [
    "genius_lyrics"
   ]
  },
  {
   "cell_type": "code",
   "execution_count": null,
   "metadata": {},
   "outputs": [],
   "source": []
  },
  {
   "cell_type": "code",
   "execution_count": 33,
   "metadata": {
    "scrolled": true
   },
   "outputs": [],
   "source": [
    "genius_lyrics.to_csv('../genius_lyrics.csv') #commenting out so i don't accidentally rerun"
   ]
  }
 ],
 "metadata": {
  "kernelspec": {
   "display_name": "Python 3",
   "language": "python",
   "name": "python3"
  },
  "language_info": {
   "codemirror_mode": {
    "name": "ipython",
    "version": 3
   },
   "file_extension": ".py",
   "mimetype": "text/x-python",
   "name": "python",
   "nbconvert_exporter": "python",
   "pygments_lexer": "ipython3",
   "version": "3.8.3"
  }
 },
 "nbformat": 4,
 "nbformat_minor": 4
}
