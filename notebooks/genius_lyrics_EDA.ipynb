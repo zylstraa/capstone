{
 "cells": [
  {
   "cell_type": "code",
   "execution_count": 1,
   "metadata": {},
   "outputs": [],
   "source": [
    "import billboard as bb\n",
    "import pandas as pd"
   ]
  },
  {
   "cell_type": "markdown",
   "metadata": {},
   "source": [
    "## Spotify secrets"
   ]
  },
  {
   "cell_type": "code",
   "execution_count": 2,
   "metadata": {},
   "outputs": [
    {
     "data": {
      "text/plain": [
       "True"
      ]
     },
     "execution_count": 2,
     "metadata": {},
     "output_type": "execute_result"
    }
   ],
   "source": [
    "from dotenv import load_dotenv\n",
    "import os\n",
    "load_dotenv()\n",
    "# did this work? commenting out so secrets are safe\n",
    "# print(os.getenv('SPOTIFY_CLIENT_ID'))\n",
    "# print(os.getenv('SPOTIFY_CLIENT_SECRET'))"
   ]
  },
  {
   "cell_type": "code",
   "execution_count": 3,
   "metadata": {},
   "outputs": [],
   "source": [
    "spotify_client_id  = os.getenv('SPOTIFY_CLIENT_ID')\n",
    "spotify_client_secret  = os.getenv('SPOTIFY_CLIENT_SECRET')\n",
    "genius_client_id = os.getenv('GENIUS_CLIENT_SECRET')\n",
    "genius_client_secret = os.getenv('GENIUS_CLIENT_SECRET')\n",
    "genius_access_token = os.getenv('GENIUS_ACCESS_TOKEN')"
   ]
  },
  {
   "cell_type": "markdown",
   "metadata": {},
   "source": [
    "# Billboard test dataset"
   ]
  },
  {
   "cell_type": "code",
   "execution_count": 4,
   "metadata": {},
   "outputs": [],
   "source": [
    "# bb.charts(year_end=True)"
   ]
  },
  {
   "cell_type": "code",
   "execution_count": 5,
   "metadata": {},
   "outputs": [],
   "source": [
    "yearend2016 = bb.ChartData('hot-100-songs',year=2016)\n",
    "yearend2017 = bb.ChartData('hot-100-songs',year=2017)\n",
    "yearend2018 = bb.ChartData('hot-100-songs',year=2018)\n",
    "yearend2019 = bb.ChartData('hot-100-songs',year=2019)\n",
    "yearend2020 = bb.ChartData('hot-100-songs',year=2020)\n"
   ]
  },
  {
   "cell_type": "code",
   "execution_count": 6,
   "metadata": {
    "scrolled": true
   },
   "outputs": [],
   "source": [
    "# print(yearend2020)"
   ]
  },
  {
   "cell_type": "markdown",
   "metadata": {},
   "source": [
    "## lyricsgenius search_song method\n",
    "https://pypi.org/project/lyricsgenius/"
   ]
  },
  {
   "cell_type": "code",
   "execution_count": 7,
   "metadata": {},
   "outputs": [],
   "source": [
    "# Maybe I can use the url instead\n",
    "\n",
    "# top_100_2020['url'] = 'https://genius.com/' + top_100_2020.song + top_100_2020.artist\n",
    "\n",
    "# title = []\n",
    "# for i in range(0,10):\n",
    "#     value1 = top_100_2020.song[i].split()\n",
    "#     title.append(value1)\n",
    "\n",
    "# name = []\n",
    "# for i in range(0,10):\n",
    "#     value2 = top_100_2020.artist[i].split()\n",
    "#     name.append(value2)\n",
    "\n",
    "# name\n",
    "\n",
    "# # def get_url(df):\n",
    "# #     title = df.song.split()\n",
    "# #     artist = df.artist.split()\n",
    "\n",
    "# Genius doesn't use apostrophes nor the featured artist when building out the URL. \n",
    "# It seems it'll be easier to use the search_songs method instead."
   ]
  },
  {
   "cell_type": "code",
   "execution_count": 44,
   "metadata": {},
   "outputs": [],
   "source": [
    "import lyricsgenius\n",
    "genius = lyricsgenius.Genius(genius_access_token, skip_non_songs=True, remove_section_headers=True)\n",
    "genius.verbose = False"
   ]
  },
  {
   "cell_type": "code",
   "execution_count": 45,
   "metadata": {},
   "outputs": [
    {
     "data": {
      "text/plain": [
       "100"
      ]
     },
     "execution_count": 45,
     "metadata": {},
     "output_type": "execute_result"
    }
   ],
   "source": [
    "# print(yearend2020)\n",
    "len(yearend2020)"
   ]
  },
  {
   "cell_type": "code",
   "execution_count": 46,
   "metadata": {},
   "outputs": [],
   "source": [
    "# yearend2016[99].title\n",
    "# yearend2016[0].artist"
   ]
  },
  {
   "cell_type": "code",
   "execution_count": 47,
   "metadata": {},
   "outputs": [],
   "source": [
    "song = []\n",
    "\n",
    "for i in range(0,99):#for some reason 2016 only had 99 songs\n",
    "    title = yearend2016[i].title\n",
    "    song.append(title)\n",
    "    \n",
    "for i in range(0,100):\n",
    "    title = yearend2017[i].title\n",
    "    song.append(title)\n",
    "    \n",
    "for i in range(0,100):\n",
    "    title = yearend2018[i].title\n",
    "    song.append(title)\n",
    "    \n",
    "for i in range(0,100):\n",
    "    title = yearend2019[i].title\n",
    "    song.append(title)\n",
    "    \n",
    "for i in range(0,100):\n",
    "    title = yearend2020[i].title\n",
    "    song.append(title)\n",
    "\n",
    "artist = []\n",
    "\n",
    "for i in range(0,99):#for some reason 2016 only had 99 songs\n",
    "    name = yearend2016[i].artist\n",
    "    artist.append(name)\n",
    "    \n",
    "for i in range(0,100):\n",
    "    name = yearend2017[i].artist\n",
    "    artist.append(name)\n",
    "    \n",
    "for i in range(0,100):\n",
    "    name = yearend2018[i].artist\n",
    "    artist.append(name)\n",
    "    \n",
    "for i in range(0,100):\n",
    "    name = yearend2019[i].artist\n",
    "    artist.append(name)\n",
    "    \n",
    "for i in range(0,100):\n",
    "    name = yearend2020[i].artist\n",
    "    artist.append(name)\n"
   ]
  },
  {
   "cell_type": "code",
   "execution_count": 48,
   "metadata": {},
   "outputs": [],
   "source": [
    "d = {'song':song,'artist':artist}"
   ]
  },
  {
   "cell_type": "code",
   "execution_count": 49,
   "metadata": {},
   "outputs": [],
   "source": [
    "top_100_2020 = pd.DataFrame(d)"
   ]
  },
  {
   "cell_type": "code",
   "execution_count": 50,
   "metadata": {
    "scrolled": false
   },
   "outputs": [
    {
     "data": {
      "text/plain": [
       "499"
      ]
     },
     "execution_count": 50,
     "metadata": {},
     "output_type": "execute_result"
    }
   ],
   "source": [
    "len(song)"
   ]
  },
  {
   "cell_type": "code",
   "execution_count": 83,
   "metadata": {
    "scrolled": true
   },
   "outputs": [],
   "source": [
    "search = []\n",
    "\n",
    "for i in range(0,499):\n",
    "    hit = song[i]+ ' ' + artist[i]\n",
    "    search.append(hit)"
   ]
  },
  {
   "cell_type": "code",
   "execution_count": 84,
   "metadata": {},
   "outputs": [
    {
     "data": {
      "text/plain": [
       "Song(id, artist, ...)"
      ]
     },
     "execution_count": 84,
     "metadata": {},
     "output_type": "execute_result"
    }
   ],
   "source": [
    "genius.search_song(search[0])"
   ]
  },
  {
   "cell_type": "code",
   "execution_count": null,
   "metadata": {
    "scrolled": true
   },
   "outputs": [],
   "source": [
    "genius_lyrics = []\n",
    "errored_songs = []\n",
    "\n",
    "for i in range(0,499):\n",
    "    try:\n",
    "        test_song = genius.search_song(search[i])\n",
    "        words = test_song.lyrics\n",
    "    except: \n",
    "        errored_songs.append(search[i])\n",
    "    else:\n",
    "        genius_lyrics.append(words)\n",
    "\n"
   ]
  },
  {
   "cell_type": "code",
   "execution_count": null,
   "metadata": {
    "scrolled": false
   },
   "outputs": [],
   "source": [
    "genius_lyrics = pd.Series((genius_lyrics[x] for x in range(0,497)))"
   ]
  },
  {
   "cell_type": "code",
   "execution_count": null,
   "metadata": {},
   "outputs": [],
   "source": [
    "track_artist = [search[x] for x in range(0,499) if search[x] not in errored_songs]"
   ]
  },
  {
   "cell_type": "code",
   "execution_count": null,
   "metadata": {},
   "outputs": [],
   "source": []
  },
  {
   "cell_type": "code",
   "execution_count": null,
   "metadata": {},
   "outputs": [],
   "source": []
  },
  {
   "cell_type": "code",
   "execution_count": null,
   "metadata": {},
   "outputs": [],
   "source": []
  },
  {
   "cell_type": "code",
   "execution_count": null,
   "metadata": {},
   "outputs": [],
   "source": []
  },
  {
   "cell_type": "code",
   "execution_count": null,
   "metadata": {},
   "outputs": [],
   "source": []
  },
  {
   "cell_type": "code",
   "execution_count": 33,
   "metadata": {
    "scrolled": true
   },
   "outputs": [],
   "source": [
    "# genius_lyrics.to_csv('../genius_lyrics.csv') #commenting out so i don't accidentally rerun"
   ]
  }
 ],
 "metadata": {
  "kernelspec": {
   "display_name": "Python 3",
   "language": "python",
   "name": "python3"
  },
  "language_info": {
   "codemirror_mode": {
    "name": "ipython",
    "version": 3
   },
   "file_extension": ".py",
   "mimetype": "text/x-python",
   "name": "python",
   "nbconvert_exporter": "python",
   "pygments_lexer": "ipython3",
   "version": "3.8.3"
  }
 },
 "nbformat": 4,
 "nbformat_minor": 4
}
