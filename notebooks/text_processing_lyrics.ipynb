{
 "cells": [
  {
   "cell_type": "code",
   "execution_count": 3,
   "metadata": {},
   "outputs": [],
   "source": [
    "import pandas as pd"
   ]
  },
  {
   "cell_type": "code",
   "execution_count": 4,
   "metadata": {},
   "outputs": [],
   "source": [
    "lyrics = pd.read_csv('../genius_lyrics.csv')"
   ]
  },
  {
   "cell_type": "code",
   "execution_count": 10,
   "metadata": {
    "scrolled": false
   },
   "outputs": [
    {
     "data": {
      "text/plain": [
       "'Song of the Year“Formation”— Beyoncé\\n“Hello” — Adele\\n“I Took A Pill In Ibiza” — Mike Posner\\n“Love Yourself” —Justin Bieber\\n“7 Years” — Lukas GrahamRecord of the Year“Hello”— Adele\\n“Formation” — Beyoncé\\n“7 Years” — Lukas Graham\\n“Work” — Rihanna Featuring Drake\\n“Stressed Out” — Twenty One PilotsAlbum of the Year25 — Adele\\nLemonade — Beyoncé\\nPurpose — Justin Bieber\\nViews — Drake\\nA Sailor’s Guide To Earth — Sturgill SimpsonBest New ArtistKelsea Ballerini\\nThe Chainsmokers\\nChance The Rapper\\nMaren Morris\\nAnderson .PaakBest Rap/Sung Performance:“Freedom” — Beyoncé Featuring Kendrick Lamar\\n“Hotline Bling” — Drake\\n“Broccoli” — D.R.A.M. Featuring Lil Yachty\\n“Ultralight Beam” — Kanye West Featuring Chance The Rapper, Kelly Price, Kirk Franklin & The-Dream\\n“Famous” — Kanye West Featuring RihannaBest Rap Performance:“All The Way Up” — Fat Joe & Remy Ma Featuring French Montana & Infared\\n\"Panda\" — Desiigner\\n“No Problem” — Chance The Rapper Featuring Lil Wayne & 2 Chainz\\n“Pop Style” — Drake Featuring The Throne\\n\"That Part\" — Schoolboy Q Featuring Kanye WestBest Rap Song:“All The Way Up” — Fat Joe & Remy Ma Featuring French Montana & Infared\\n“Famous” — Kanye West Featuring Rihanna\\n“Hotline Bling” — Drake\\n“No Problem” — Chance The Rapper Featuring Lil Wayne & 2 Chainz\\n“Ultralight Beam” — Kanye West Featuring Chance The Rapper, Kelly Price, Kirk Franklin & The-DreamBest Rap Album:Coloring Book — Chance The Rapper\\nAnd The Anonymous Nobody — De La Soul\\nMajor Key — DJ Khaled\\nViews — Drake\\nBlank Face LP — ScHoolboy Q\\nThe Life Of Pablo — Kanye WestBest Pop Solo Performance:“Hello” — Adele\\n“Hold Up” — Beyoncé\\n“Love Yourself” — Justin Bieber\\n“Piece By Piece” (Idol Version) — Kelly Clarkson\\n“Dangerous Woman” — Ariana GrandeBest Pop Duo/Group Performance:“Closer” —  The Chainsmokers Featuring Halsey\\n“7 Years” — Lukas Graham\\n“Work” — Rihanna Featuring Drake\\n“Cheap Thrills” — Sia Featuring Sean Paul\\n“Stressed Out” — Twenty One PilotsBest Traditional Pop Vocal Album:Cinema — Andrea Bocelli\\nFallen Angels — Bob Dylan\\nStages Live — Josh Groban\\nSummertime: Willie Nelson Sings Gershwin — Willie Nelson\\nEncore: Movie Partners Sing BroadwayBest Pop Vocal Album:25 — Adele\\nPurpose  — Justin Bieber\\nDangerous Woman  — Ariana Grande\\nConfident — Demi Lovato\\nThis Is Acting — SiaBest Dance Recording:“Tearing Me Up” — Bob Moses\\n“Don’t Let Me Down” — The Chainsmokers Featuring Daya\\n“Never Be Like You” — Flume Featuring Kai\\n“Rinse & Repeat” — Riton Featuring Kah-Lo\\n“Drinkee” — Sofi TukkerBest Dance/Electronic Album:Skin — Flume\\nElectronica 1: The Time Machine — Jean-Michel Jarre\\nEpoch — Tycho\\nBarbara Barbara, We Face A Shining Future — Underworld\\nLouie Vega Starring…XXVIII — Louie VegaBest Rock Performance:“Joe” (Live From Austin City Limits) — Alabama Shakes\\n“Don’t Hurt Yourself” — Beyoncé Featuring Jack White\\n“Blackstar” — David Bowie\\n“The Sound Of Silence” (Live On Conan) — Disturbed\\n“Heathens” —  Twenty One PilotsBest Metal Performance:“Shock Me” —  Baroness\\n“Silvera” — Gojira\\n“Rotting In Vain” — Korn\\n“Dystopia” — Megadeth\\n“The Price Is Wrong” — PeripheryBest Rock Song:“Blackstar” — David Bowie\\n“Burn The Witch” — Radiohead\\n“Hardwired” — Metallica\\n“Heathens” — Twenty One Pilots\\n“My Name Is Human” — Highly SuspectBest Rock Album:California —  Blink-182\\nTell Me I’m Pretty — Cage The Elephant\\nMagma —  Gojira\\nDeath Of A Bachelor — Panic! At The Disco\\nWeezer — WeezerBest Alternative Music Album:22, A Million — Bon Iver\\nBlackstar — David Bowie\\nThe Hope Six Demolition Project — PJ Harvey\\nPost Pop Depression — Iggy Pop\\nA Moon Shaped Pool — RadioheadBest  R&B Performance:“Turnin’ Me Up” — BJ The Chicago Kid\\n“Permission” — Ro James\\n“I Do” — Musiq Soulchild\\n“Needed Me” — Rihanna\\n“Cranes In The Sky” — SolangeBest Traditional R&B Performance:“The Three Of Me” — William Bell\\n“Woman’s World” — BJ The Chicago Kid\\n“Sleeping With The One I Love” — Fantasia\\n“Angel” — Lalah Hathaway\\n“Can’t Wait” — Jill ScottBest R&B Song:“Come And See Me” — PartyNextDoor Featuring Drake\\n“Exchange” — Bryson Tiller\\n“Kiss It Better” — Rihanna\\n“Lake By The Ocean” — Maxwell\\n“Luv” — Tory LanezBest Urban Contemporary Album:Lemonade — Beyoncé\\nOlogy — Gallant\\nWe Are King — KING\\nMalibu — Anderson .Paak\\nAnti — RihannaBest R&B Album:In My Mind — BJ The Chicago Kid\\nLalah Hathaway Live — Lalah Hathaway\\nVelvet Portraits — Terrace Martin\\nHealing Season — Mint Condition\\nSmoove Jones — MyaBest Country Solo Performance:“Love Can Go To Hell” — Brandy Clark\\n“Vice” — Miranda Lambert\\n“My Church” — Maren Morris\\n“Church Bells” — Carrie Underwood\\n“Blue Ain’t Your Color” — Keith UrbanBest Country Duo/Group Performance:“Different For Girls” — Dierks Bentley Featuring Elle King\\n“21 Summer” — Brothers Osborne\\n“Setting The World On Fire” — Kenny Chesney & P!nk\\n“Jolene” — Pentatonix Featuring Dolly Parton\\n“Think Of You” — Chris Young With Cassadee PopeBest Country Song:“Blue Ain’t Your Color” —  Keith Urban\\n“Die A Happy Man” — Thomas Rhett\\n“Humble And Kind” — Tim McGraw\\n“My Church” — Maren Morris\\n“Vice” — Miranda LambertBest Country Album:Big Day In A Small Town — Brandy Clark\\nFull Circle — Loretta Lynn\\nHero — Maren Morris\\nA Sailor’s Guide To Earth — Sturgill Simpson\\nRipcord — Keith UrbanBest Reggae Album:Sly & Robbie Presents… Reggae For Her —  Devin Di Dakta & J.L\\nRose Petals —  J Boog\\nZiggy Marley —  Ziggy Marley\\nEverlasting —  Raging Fyah\\nFalling Into Place —  Rebelution\\nSOJA: Live In Virginia —  SOJABest Compilation Soundtrack For Visual Media:“Amy” — (Various Artists)\\n“Miles Ahead” — (Miles Davis & Various Artists)\\n“Straight Outta Compton” —  (Various Artists)\\n“Suicide Squad” (Collector’s Edition) — (Various Artists)\\n“Vinyl: The Essentials Season 1” —  (Various Artists)Best Music Video:Formation — Beyoncé\\nRiver — Leon Bridges\\nUp & Up — Coldplay\\nGosh — Jamie XX\\nUpside Down & Inside Out — OK GoBest Jazz Instrumental AlbumBook Of Intuition — Kenny Barron Trio\\nDr. Um — Peter Erskine\\nSunday Night At The Vanguard — The Fred Hersch Trio\\nNearness — Joshua Redman & Brad Mehldau\\nCountry For Old Men —  John ScofieldBest Gospel Performance/Song“It’s Alright, It’s Ok” — Shirley Caesar Featuring Anthony Hamilton\\n“You’re Bigger” [Live] — Jekalyn Carr\\n“Made A Way” [Live] — Travis Greene\\n“God Provides” — Tamela Mann\\n“Better” — Hezekiah WalkerBest Contemporary Christian Music Performance/Song“Trust In You — Lauren Daigle\\n“Priceless” — For King & Country\\n“King Of The World” — Natalie Grant\\n“Thy Will” — Hillary Scott & The Scott Family\\n“Chain Breaker” — Zach WilliamsBest Gospel AlbumListen —  Tim Bowman Jr\\nFill This House — Shirley Caesar\\nA Worshipper’s Heart [Live] — Todd Dulaney\\nLosing My Religion — Kirk Franklin\\nDemonstrate [Live] — William MurphyBest Contemporary Christian Music AlbumPoets & Saints — All Sons & Daughters\\nAmerican Prodigal — Crowder\\nBe One — Natalie Grant\\nYouth Revival [Live] — Hillsong Young & Free\\nLove Remains — Hillary Scott &The Scott FamilyProducer of the Year:Benny Blanco\\nGreg Kurstin\\nMax Martin\\nNineteen85\\nRicky Reed'"
      ]
     },
     "execution_count": 10,
     "metadata": {},
     "output_type": "execute_result"
    }
   ],
   "source": [
    "# lyrics['0'][7] #problem child song\n",
    "lyrics['0'][3]"
   ]
  },
  {
   "cell_type": "markdown",
   "metadata": {},
   "source": [
    "What to clean out: \n",
    "    * \\n\n",
    "    * anything after a —"
   ]
  },
  {
   "cell_type": "code",
   "execution_count": 1,
   "metadata": {},
   "outputs": [],
   "source": [
    "import spacy\n",
    "nlp = spacy.load('en_core_web_sm')\n",
    "\n",
    "string = "
   ]
  },
  {
   "cell_type": "code",
   "execution_count": null,
   "metadata": {},
   "outputs": [],
   "source": []
  },
  {
   "cell_type": "code",
   "execution_count": null,
   "metadata": {},
   "outputs": [],
   "source": []
  },
  {
   "cell_type": "markdown",
   "metadata": {},
   "source": [
    "### I want to see how wordy/lengthy these songs are\n",
    "Could possibly run it with length of song to see just how much message is getting packed into there.<br>\n",
    "Message = not repetitive, lots of words per ms?"
   ]
  },
  {
   "cell_type": "code",
   "execution_count": 13,
   "metadata": {},
   "outputs": [],
   "source": [
    "#Character count\n",
    "char_count = []\n",
    "\n",
    "for i in range(0,496):\n",
    "    chars = len(lyrics['0'][i])\n",
    "    char_count.append(chars) "
   ]
  },
  {
   "cell_type": "code",
   "execution_count": 14,
   "metadata": {},
   "outputs": [],
   "source": [
    "# word count\n",
    "def count_words(string):\n",
    "    words = string.split()\n",
    "    return len(words)"
   ]
  },
  {
   "cell_type": "code",
   "execution_count": null,
   "metadata": {},
   "outputs": [],
   "source": []
  },
  {
   "cell_type": "code",
   "execution_count": null,
   "metadata": {},
   "outputs": [],
   "source": []
  },
  {
   "cell_type": "code",
   "execution_count": null,
   "metadata": {},
   "outputs": [],
   "source": []
  },
  {
   "cell_type": "code",
   "execution_count": null,
   "metadata": {},
   "outputs": [],
   "source": []
  },
  {
   "cell_type": "code",
   "execution_count": null,
   "metadata": {},
   "outputs": [],
   "source": []
  },
  {
   "cell_type": "code",
   "execution_count": null,
   "metadata": {},
   "outputs": [],
   "source": []
  },
  {
   "cell_type": "code",
   "execution_count": null,
   "metadata": {},
   "outputs": [],
   "source": []
  },
  {
   "cell_type": "code",
   "execution_count": null,
   "metadata": {},
   "outputs": [],
   "source": []
  }
 ],
 "metadata": {
  "kernelspec": {
   "display_name": "Python 3",
   "language": "python",
   "name": "python3"
  },
  "language_info": {
   "codemirror_mode": {
    "name": "ipython",
    "version": 3
   },
   "file_extension": ".py",
   "mimetype": "text/x-python",
   "name": "python",
   "nbconvert_exporter": "python",
   "pygments_lexer": "ipython3",
   "version": "3.8.3"
  }
 },
 "nbformat": 4,
 "nbformat_minor": 4
}
