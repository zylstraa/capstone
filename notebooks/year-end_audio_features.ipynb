{
 "cells": [
  {
   "cell_type": "code",
   "execution_count": 8,
   "metadata": {},
   "outputs": [],
   "source": [
    "import pandas as pd"
   ]
  },
  {
   "cell_type": "code",
   "execution_count": 9,
   "metadata": {},
   "outputs": [],
   "source": [
    "af = pd.read_csv('../year_end_audio_features.csv')"
   ]
  },
  {
   "cell_type": "code",
   "execution_count": 10,
   "metadata": {},
   "outputs": [
    {
     "data": {
      "text/plain": [
       "['danceability',\n",
       " 'energy',\n",
       " 'key',\n",
       " 'loudness',\n",
       " 'mode',\n",
       " 'speechiness',\n",
       " 'acousticness',\n",
       " 'instrumentalness',\n",
       " 'liveness',\n",
       " 'valence',\n",
       " 'tempo',\n",
       " 'type',\n",
       " 'id',\n",
       " 'uri',\n",
       " 'track_href',\n",
       " 'analysis_url',\n",
       " 'duration_ms',\n",
       " 'time_signature']"
      ]
     },
     "execution_count": 10,
     "metadata": {},
     "output_type": "execute_result"
    }
   ],
   "source": [
    "af.columns.tolist()"
   ]
  },
  {
   "cell_type": "code",
   "execution_count": 14,
   "metadata": {},
   "outputs": [
    {
     "data": {
      "text/html": [
       "<div>\n",
       "<style scoped>\n",
       "    .dataframe tbody tr th:only-of-type {\n",
       "        vertical-align: middle;\n",
       "    }\n",
       "\n",
       "    .dataframe tbody tr th {\n",
       "        vertical-align: top;\n",
       "    }\n",
       "\n",
       "    .dataframe thead th {\n",
       "        text-align: right;\n",
       "    }\n",
       "</style>\n",
       "<table border=\"1\" class=\"dataframe\">\n",
       "  <thead>\n",
       "    <tr style=\"text-align: right;\">\n",
       "      <th></th>\n",
       "      <th>danceability</th>\n",
       "      <th>energy</th>\n",
       "      <th>key</th>\n",
       "      <th>loudness</th>\n",
       "      <th>mode</th>\n",
       "      <th>speechiness</th>\n",
       "      <th>acousticness</th>\n",
       "      <th>instrumentalness</th>\n",
       "      <th>liveness</th>\n",
       "      <th>valence</th>\n",
       "      <th>tempo</th>\n",
       "      <th>type</th>\n",
       "      <th>id</th>\n",
       "      <th>uri</th>\n",
       "      <th>track_href</th>\n",
       "      <th>analysis_url</th>\n",
       "      <th>duration_ms</th>\n",
       "      <th>time_signature</th>\n",
       "    </tr>\n",
       "  </thead>\n",
       "  <tbody>\n",
       "    <tr>\n",
       "      <th>515</th>\n",
       "      <td>0.404</td>\n",
       "      <td>0.914</td>\n",
       "      <td>7</td>\n",
       "      <td>-3.043</td>\n",
       "      <td>1</td>\n",
       "      <td>0.096</td>\n",
       "      <td>0.0418</td>\n",
       "      <td>0.0</td>\n",
       "      <td>0.981</td>\n",
       "      <td>0.366</td>\n",
       "      <td>91.944</td>\n",
       "      <td>audio_features</td>\n",
       "      <td>5SDxsjvegCAJwfQjFmc4WY</td>\n",
       "      <td>spotify:track:5SDxsjvegCAJwfQjFmc4WY</td>\n",
       "      <td>https://api.spotify.com/v1/tracks/5SDxsjvegCAJ...</td>\n",
       "      <td>https://api.spotify.com/v1/audio-analysis/5SDx...</td>\n",
       "      <td>243333</td>\n",
       "      <td>4</td>\n",
       "    </tr>\n",
       "  </tbody>\n",
       "</table>\n",
       "</div>"
      ],
      "text/plain": [
       "     danceability  energy  key  loudness  mode  speechiness  acousticness  \\\n",
       "515         0.404   0.914    7    -3.043     1        0.096        0.0418   \n",
       "\n",
       "     instrumentalness  liveness  valence   tempo            type  \\\n",
       "515               0.0     0.981    0.366  91.944  audio_features   \n",
       "\n",
       "                         id                                   uri  \\\n",
       "515  5SDxsjvegCAJwfQjFmc4WY  spotify:track:5SDxsjvegCAJwfQjFmc4WY   \n",
       "\n",
       "                                            track_href  \\\n",
       "515  https://api.spotify.com/v1/tracks/5SDxsjvegCAJ...   \n",
       "\n",
       "                                          analysis_url  duration_ms  \\\n",
       "515  https://api.spotify.com/v1/audio-analysis/5SDx...       243333   \n",
       "\n",
       "     time_signature  \n",
       "515               4  "
      ]
     },
     "execution_count": 14,
     "metadata": {},
     "output_type": "execute_result"
    }
   ],
   "source": [
    "af[af.liveness == af['liveness'].max()] \n",
    "#it actually is a live recording so we'll keep this column"
   ]
  },
  {
   "cell_type": "code",
   "execution_count": 16,
   "metadata": {},
   "outputs": [
    {
     "data": {
      "text/html": [
       "<div>\n",
       "<style scoped>\n",
       "    .dataframe tbody tr th:only-of-type {\n",
       "        vertical-align: middle;\n",
       "    }\n",
       "\n",
       "    .dataframe tbody tr th {\n",
       "        vertical-align: top;\n",
       "    }\n",
       "\n",
       "    .dataframe thead th {\n",
       "        text-align: right;\n",
       "    }\n",
       "</style>\n",
       "<table border=\"1\" class=\"dataframe\">\n",
       "  <thead>\n",
       "    <tr style=\"text-align: right;\">\n",
       "      <th></th>\n",
       "      <th>danceability</th>\n",
       "      <th>energy</th>\n",
       "      <th>key</th>\n",
       "      <th>loudness</th>\n",
       "      <th>mode</th>\n",
       "      <th>speechiness</th>\n",
       "      <th>acousticness</th>\n",
       "      <th>instrumentalness</th>\n",
       "      <th>liveness</th>\n",
       "      <th>valence</th>\n",
       "      <th>tempo</th>\n",
       "      <th>type</th>\n",
       "      <th>id</th>\n",
       "      <th>uri</th>\n",
       "      <th>track_href</th>\n",
       "      <th>analysis_url</th>\n",
       "      <th>duration_ms</th>\n",
       "      <th>time_signature</th>\n",
       "    </tr>\n",
       "  </thead>\n",
       "  <tbody>\n",
       "    <tr>\n",
       "      <th>945</th>\n",
       "      <td>0.573</td>\n",
       "      <td>0.495</td>\n",
       "      <td>8</td>\n",
       "      <td>-7.245</td>\n",
       "      <td>0</td>\n",
       "      <td>0.592</td>\n",
       "      <td>0.405</td>\n",
       "      <td>0.0</td>\n",
       "      <td>0.0969</td>\n",
       "      <td>0.255</td>\n",
       "      <td>179.196</td>\n",
       "      <td>audio_features</td>\n",
       "      <td>4MRT0dDbhqFKl67WzhUbSw</td>\n",
       "      <td>spotify:track:4MRT0dDbhqFKl67WzhUbSw</td>\n",
       "      <td>https://api.spotify.com/v1/tracks/4MRT0dDbhqFK...</td>\n",
       "      <td>https://api.spotify.com/v1/audio-analysis/4MRT...</td>\n",
       "      <td>312027</td>\n",
       "      <td>3</td>\n",
       "    </tr>\n",
       "  </tbody>\n",
       "</table>\n",
       "</div>"
      ],
      "text/plain": [
       "     danceability  energy  key  loudness  mode  speechiness  acousticness  \\\n",
       "945         0.573   0.495    8    -7.245     0        0.592         0.405   \n",
       "\n",
       "     instrumentalness  liveness  valence    tempo            type  \\\n",
       "945               0.0    0.0969    0.255  179.196  audio_features   \n",
       "\n",
       "                         id                                   uri  \\\n",
       "945  4MRT0dDbhqFKl67WzhUbSw  spotify:track:4MRT0dDbhqFKl67WzhUbSw   \n",
       "\n",
       "                                            track_href  \\\n",
       "945  https://api.spotify.com/v1/tracks/4MRT0dDbhqFK...   \n",
       "\n",
       "                                          analysis_url  duration_ms  \\\n",
       "945  https://api.spotify.com/v1/audio-analysis/4MRT...       312027   \n",
       "\n",
       "     time_signature  \n",
       "945               3  "
      ]
     },
     "execution_count": 16,
     "metadata": {},
     "output_type": "execute_result"
    }
   ],
   "source": [
    "af[af.speechiness == af.speechiness.max()] \n",
    "#anything above a 0.66 is considered to be a podcast or some sort of speaking rather than music so this seems right"
   ]
  },
  {
   "cell_type": "code",
   "execution_count": 20,
   "metadata": {},
   "outputs": [],
   "source": [
    "# from pandas_profiling import ProfileReport\n",
    "\n",
    "# profile = ProfileReport(af)\n",
    "# profile"
   ]
  },
  {
   "cell_type": "code",
   "execution_count": 101,
   "metadata": {},
   "outputs": [
    {
     "data": {
      "text/html": [
       "<div>\n",
       "<style scoped>\n",
       "    .dataframe tbody tr th:only-of-type {\n",
       "        vertical-align: middle;\n",
       "    }\n",
       "\n",
       "    .dataframe tbody tr th {\n",
       "        vertical-align: top;\n",
       "    }\n",
       "\n",
       "    .dataframe thead th {\n",
       "        text-align: right;\n",
       "    }\n",
       "</style>\n",
       "<table border=\"1\" class=\"dataframe\">\n",
       "  <thead>\n",
       "    <tr style=\"text-align: right;\">\n",
       "      <th></th>\n",
       "      <th>danceability</th>\n",
       "      <th>energy</th>\n",
       "      <th>key</th>\n",
       "      <th>loudness</th>\n",
       "      <th>mode</th>\n",
       "      <th>speechiness</th>\n",
       "      <th>acousticness</th>\n",
       "      <th>instrumentalness</th>\n",
       "      <th>liveness</th>\n",
       "      <th>valence</th>\n",
       "      <th>tempo</th>\n",
       "      <th>type</th>\n",
       "      <th>id</th>\n",
       "      <th>uri</th>\n",
       "      <th>track_href</th>\n",
       "      <th>analysis_url</th>\n",
       "      <th>duration_ms</th>\n",
       "      <th>time_signature</th>\n",
       "    </tr>\n",
       "  </thead>\n",
       "  <tbody>\n",
       "    <tr>\n",
       "      <th>972</th>\n",
       "      <td>0.213</td>\n",
       "      <td>0.0743</td>\n",
       "      <td>9</td>\n",
       "      <td>-18.071</td>\n",
       "      <td>0</td>\n",
       "      <td>0.0408</td>\n",
       "      <td>0.344</td>\n",
       "      <td>0.000034</td>\n",
       "      <td>0.212</td>\n",
       "      <td>0.145</td>\n",
       "      <td>53.863</td>\n",
       "      <td>audio_features</td>\n",
       "      <td>416MsJxvxSKY96DCmbJIRs</td>\n",
       "      <td>spotify:track:416MsJxvxSKY96DCmbJIRs</td>\n",
       "      <td>https://api.spotify.com/v1/tracks/416MsJxvxSKY...</td>\n",
       "      <td>https://api.spotify.com/v1/audio-analysis/416M...</td>\n",
       "      <td>218507</td>\n",
       "      <td>4</td>\n",
       "    </tr>\n",
       "  </tbody>\n",
       "</table>\n",
       "</div>"
      ],
      "text/plain": [
       "     danceability  energy  key  loudness  mode  speechiness  acousticness  \\\n",
       "972         0.213  0.0743    9   -18.071     0       0.0408         0.344   \n",
       "\n",
       "     instrumentalness  liveness  valence   tempo            type  \\\n",
       "972          0.000034     0.212    0.145  53.863  audio_features   \n",
       "\n",
       "                         id                                   uri  \\\n",
       "972  416MsJxvxSKY96DCmbJIRs  spotify:track:416MsJxvxSKY96DCmbJIRs   \n",
       "\n",
       "                                            track_href  \\\n",
       "972  https://api.spotify.com/v1/tracks/416MsJxvxSKY...   \n",
       "\n",
       "                                          analysis_url  duration_ms  \\\n",
       "972  https://api.spotify.com/v1/audio-analysis/416M...       218507   \n",
       "\n",
       "     time_signature  \n",
       "972               4  "
      ]
     },
     "execution_count": 101,
     "metadata": {},
     "output_type": "execute_result"
    }
   ],
   "source": [
    "af[af.loudness == af.loudness.min()] \n",
    "#okay so 0 is the loudest and -60 is quietest"
   ]
  },
  {
   "cell_type": "markdown",
   "metadata": {},
   "source": [
    "### Basic Radar Chart\n",
    "tutorial here: https://www.python-graph-gallery.com/390-basic-radar-chart"
   ]
  },
  {
   "cell_type": "code",
   "execution_count": 179,
   "metadata": {},
   "outputs": [],
   "source": [
    "#set up dataframe for radar chart\n",
    "rdf = af.get(['danceability', 'energy', 'valence', 'tempo', 'loudness'])"
   ]
  },
  {
   "cell_type": "code",
   "execution_count": 180,
   "metadata": {},
   "outputs": [
    {
     "data": {
      "text/plain": [
       "danceability     0.1620\n",
       "energy           0.0565\n",
       "valence          0.0386\n",
       "tempo           53.8630\n",
       "loudness       -18.0710\n",
       "dtype: float64"
      ]
     },
     "execution_count": 180,
     "metadata": {},
     "output_type": "execute_result"
    }
   ],
   "source": [
    "# y axes need to be somewhat normalized\n",
    "rdf.min(axis=0)\n",
    "# rdf.max(axis=0)"
   ]
  },
  {
   "cell_type": "code",
   "execution_count": 181,
   "metadata": {},
   "outputs": [
    {
     "name": "stdout",
     "output_type": "stream",
     "text": [
      "MinMaxScaler()\n"
     ]
    }
   ],
   "source": [
    "from sklearn.preprocessing import MinMaxScaler\n",
    "# scales each feature to fit a 0-1 scale\n",
    "data = (rdf.get(['tempo','loudness']))\n",
    "scaler = MinMaxScaler(clip=False)\n",
    "print(scaler.fit(data))"
   ]
  },
  {
   "cell_type": "code",
   "execution_count": 182,
   "metadata": {},
   "outputs": [
    {
     "name": "stdout",
     "output_type": "stream",
     "text": [
      "[210.857  -1.19 ]\n"
     ]
    }
   ],
   "source": [
    "print(scaler.data_max_)"
   ]
  },
  {
   "cell_type": "code",
   "execution_count": 183,
   "metadata": {},
   "outputs": [],
   "source": [
    "scaledy = pd.DataFrame(scaler.transform(data).tolist())"
   ]
  },
  {
   "cell_type": "code",
   "execution_count": 184,
   "metadata": {},
   "outputs": [],
   "source": [
    "rdf = pd.concat([scaledy,radar],axis=1,join='outer').drop(['tempo','loudness'],axis=1).rename({0:'tempo',1:'loudness'},axis=1)"
   ]
  },
  {
   "cell_type": "code",
   "execution_count": 185,
   "metadata": {},
   "outputs": [],
   "source": [
    "import matplotlib.pyplot as plt\n",
    "import pandas as pd\n",
    "from math import pi"
   ]
  },
  {
   "cell_type": "code",
   "execution_count": 186,
   "metadata": {},
   "outputs": [],
   "source": [
    "# number of variables\n",
    "categories = list(rdf)\n",
    "N = len(categories)"
   ]
  },
  {
   "cell_type": "code",
   "execution_count": 187,
   "metadata": {},
   "outputs": [
    {
     "data": {
      "text/plain": [
       "[0.5489572849917831,\n",
       " 0.8327705704638351,\n",
       " 0.599,\n",
       " 0.785,\n",
       " 0.52,\n",
       " 0.5489572849917831]"
      ]
     },
     "execution_count": 187,
     "metadata": {},
     "output_type": "execute_result"
    }
   ],
   "source": [
    "# We are going to plot the first line of the data frame.\n",
    "# But we need to repeat the first value to close the circular graph:\n",
    "values=rdf.loc[0].values.flatten().tolist()\n",
    "values += values[:1]\n",
    "values"
   ]
  },
  {
   "cell_type": "code",
   "execution_count": 188,
   "metadata": {},
   "outputs": [
    {
     "ename": "TypeError",
     "evalue": "range() missing 1 required positional argument: 'c'",
     "output_type": "error",
     "traceback": [
      "\u001b[1;31m---------------------------------------------------------------------------\u001b[0m",
      "\u001b[1;31mTypeError\u001b[0m                                 Traceback (most recent call last)",
      "\u001b[1;32m<ipython-input-188-6a55f2d35bc1>\u001b[0m in \u001b[0;36m<module>\u001b[1;34m\u001b[0m\n\u001b[0;32m      1\u001b[0m \u001b[1;31m# What will be the angle of each axis in the plot? (we divide the plot / number of variable)\u001b[0m\u001b[1;33m\u001b[0m\u001b[1;33m\u001b[0m\u001b[1;33m\u001b[0m\u001b[0m\n\u001b[1;32m----> 2\u001b[1;33m \u001b[0mangles\u001b[0m \u001b[1;33m=\u001b[0m \u001b[1;33m[\u001b[0m\u001b[0mn\u001b[0m \u001b[1;33m/\u001b[0m \u001b[0mfloat\u001b[0m\u001b[1;33m(\u001b[0m\u001b[0mN\u001b[0m\u001b[1;33m)\u001b[0m \u001b[1;33m*\u001b[0m \u001b[1;36m2\u001b[0m \u001b[1;33m*\u001b[0m \u001b[0mpi\u001b[0m \u001b[1;32mfor\u001b[0m \u001b[0mn\u001b[0m \u001b[1;32min\u001b[0m \u001b[0mrange\u001b[0m\u001b[1;33m(\u001b[0m\u001b[0mN\u001b[0m\u001b[1;33m)\u001b[0m\u001b[1;33m]\u001b[0m\u001b[1;33m\u001b[0m\u001b[1;33m\u001b[0m\u001b[0m\n\u001b[0m\u001b[0;32m      3\u001b[0m \u001b[0mangles\u001b[0m \u001b[1;33m+=\u001b[0m \u001b[0mangles\u001b[0m\u001b[1;33m[\u001b[0m\u001b[1;33m:\u001b[0m\u001b[1;36m1\u001b[0m\u001b[1;33m]\u001b[0m\u001b[1;33m\u001b[0m\u001b[1;33m\u001b[0m\u001b[0m\n",
      "\u001b[1;31mTypeError\u001b[0m: range() missing 1 required positional argument: 'c'"
     ]
    }
   ],
   "source": [
    "# What will be the angle of each axis in the plot? (we divide the plot / number of variable)\n",
    "angles = [n / float(N) * 2 * pi for n in range(N)]\n",
    "angles += angles[:1]"
   ]
  },
  {
   "cell_type": "code",
   "execution_count": 190,
   "metadata": {},
   "outputs": [
    {
     "data": {
      "image/png": "[encoded data removed]",
      "text/plain": [
       "<Figure size 432x288 with 1 Axes>"
      ]
     },
     "metadata": {
      "needs_background": "dark"
     },
     "output_type": "display_data"
    }
   ],
   "source": [
    "# Initialise the spider plot\n",
    "ax = plt.subplot(111, polar=True)\n",
    " \n",
    "# Draw one axe per variable + add labels\n",
    "plt.xticks(angles[:-1], categories, color='grey', size=8)\n",
    " \n",
    "# Draw ylabels\n",
    "ax.set_rlabel_position(0)\n",
    "plt.yticks( color=\"grey\", size=3)\n",
    "plt.ylim(0,1)\n",
    " \n",
    "# Plot data\n",
    "ax.plot(angles, values, linewidth=1, linestyle='solid')\n",
    " \n",
    "# Fill area\n",
    "ax.fill(angles, values, 'b', alpha=0.1)\n",
    "\n",
    "# Show the graph\n",
    "plt.show()"
   ]
  },
  {
   "cell_type": "code",
   "execution_count": null,
   "metadata": {},
   "outputs": [],
   "source": []
  }
 ],
 "metadata": {
  "kernelspec": {
   "display_name": "Python 3",
   "language": "python",
   "name": "python3"
  },
  "language_info": {
   "codemirror_mode": {
    "name": "ipython",
    "version": 3
   },
   "file_extension": ".py",
   "mimetype": "text/x-python",
   "name": "python",
   "nbconvert_exporter": "python",
   "pygments_lexer": "ipython3",
   "version": "3.8.3"
  }
 },
 "nbformat": 4,
 "nbformat_minor": 4
}
